{
 "cells": [
  {
   "cell_type": "code",
   "execution_count": 1,
   "metadata": {},
   "outputs": [],
   "source": [
    "from collections import namedtuple"
   ]
  },
  {
   "cell_type": "code",
   "execution_count": 139,
   "metadata": {},
   "outputs": [],
   "source": [
    "Point2D = namedtuple('point2d',('x','y'))"
   ]
  },
  {
   "cell_type": "code",
   "execution_count": 140,
   "metadata": {},
   "outputs": [
    {
     "data": {
      "text/plain": [
       "type"
      ]
     },
     "execution_count": 140,
     "metadata": {},
     "output_type": "execute_result"
    }
   ],
   "source": [
    "type(Point2D)"
   ]
  },
  {
   "cell_type": "code",
   "execution_count": 7,
   "metadata": {},
   "outputs": [
    {
     "data": {
      "text/plain": [
       "point2d(x=10, y=20)"
      ]
     },
     "execution_count": 7,
     "metadata": {},
     "output_type": "execute_result"
    }
   ],
   "source": [
    "Point2D(10,20)"
   ]
  },
  {
   "cell_type": "code",
   "execution_count": 9,
   "metadata": {},
   "outputs": [],
   "source": [
    "a = Point2D(30,40)"
   ]
  },
  {
   "cell_type": "code",
   "execution_count": 10,
   "metadata": {},
   "outputs": [
    {
     "data": {
      "text/plain": [
       "__main__.point2d"
      ]
     },
     "execution_count": 10,
     "metadata": {},
     "output_type": "execute_result"
    }
   ],
   "source": [
    "type(a)"
   ]
  },
  {
   "cell_type": "code",
   "execution_count": 11,
   "metadata": {},
   "outputs": [
    {
     "data": {
      "text/plain": [
       "point2d(x=30, y=40)"
      ]
     },
     "execution_count": 11,
     "metadata": {},
     "output_type": "execute_result"
    }
   ],
   "source": [
    "a"
   ]
  },
  {
   "cell_type": "code",
   "execution_count": 12,
   "metadata": {},
   "outputs": [
    {
     "data": {
      "text/plain": [
       "30"
      ]
     },
     "execution_count": 12,
     "metadata": {},
     "output_type": "execute_result"
    }
   ],
   "source": [
    "a.x"
   ]
  },
  {
   "cell_type": "code",
   "execution_count": 16,
   "metadata": {},
   "outputs": [
    {
     "data": {
      "text/plain": [
       "True"
      ]
     },
     "execution_count": 16,
     "metadata": {},
     "output_type": "execute_result"
    }
   ],
   "source": [
    "isinstance(a, tuple)"
   ]
  },
  {
   "cell_type": "code",
   "execution_count": 17,
   "metadata": {},
   "outputs": [],
   "source": [
    "class Point3D:\n",
    "    def __init__(self,a,b,c):\n",
    "        self.a = a\n",
    "        self.b = b\n",
    "        self.c = c"
   ]
  },
  {
   "cell_type": "code",
   "execution_count": 19,
   "metadata": {},
   "outputs": [],
   "source": [
    "p_3d = Point3D(10,20,30)"
   ]
  },
  {
   "cell_type": "code",
   "execution_count": 23,
   "metadata": {},
   "outputs": [
    {
     "data": {
      "text/plain": [
       "(10, 20)"
      ]
     },
     "execution_count": 23,
     "metadata": {},
     "output_type": "execute_result"
    }
   ],
   "source": [
    "p_3d.a, p_3d.b"
   ]
  },
  {
   "cell_type": "code",
   "execution_count": 24,
   "metadata": {},
   "outputs": [
    {
     "data": {
      "text/plain": [
       "False"
      ]
     },
     "execution_count": 24,
     "metadata": {},
     "output_type": "execute_result"
    }
   ],
   "source": [
    "isinstance(p_3d,tuple)"
   ]
  },
  {
   "cell_type": "code",
   "execution_count": 25,
   "metadata": {},
   "outputs": [],
   "source": [
    "p1 = Point2D(10,20)\n",
    "p2 = Point2D(10,20)"
   ]
  },
  {
   "cell_type": "code",
   "execution_count": 26,
   "metadata": {},
   "outputs": [
    {
     "data": {
      "text/plain": [
       "False"
      ]
     },
     "execution_count": 26,
     "metadata": {},
     "output_type": "execute_result"
    }
   ],
   "source": [
    "p1 is p2"
   ]
  },
  {
   "cell_type": "code",
   "execution_count": 27,
   "metadata": {},
   "outputs": [
    {
     "data": {
      "text/plain": [
       "True"
      ]
     },
     "execution_count": 27,
     "metadata": {},
     "output_type": "execute_result"
    }
   ],
   "source": [
    "p1 == p2"
   ]
  },
  {
   "cell_type": "code",
   "execution_count": 28,
   "metadata": {},
   "outputs": [],
   "source": [
    "pt1 = Point3D(10,20,30)\n",
    "pt2 = Point3D(10,20,30)"
   ]
  },
  {
   "cell_type": "code",
   "execution_count": 30,
   "metadata": {},
   "outputs": [
    {
     "data": {
      "text/plain": [
       "(False, False)"
      ]
     },
     "execution_count": 30,
     "metadata": {},
     "output_type": "execute_result"
    }
   ],
   "source": [
    "pt1 is pt2, pt1 == pt2, "
   ]
  },
  {
   "cell_type": "code",
   "execution_count": 43,
   "metadata": {},
   "outputs": [],
   "source": [
    "class Point3D:\n",
    "    def __init__(self,a,b,c):\n",
    "        self.a = a\n",
    "        self.b = b\n",
    "        self.c = c\n",
    "\n",
    "    def __repr__(self):\n",
    "        return f'{self.__class__.__name__}(a={self.a}, b={self.b}, c={self.c} )'\n",
    "    \n",
    "    def __eq__(self,other):\n",
    "        if isinstance(other, Point3D):\n",
    "            return self.a == other.a and self.b == other.b and self.c == other.c\n",
    "        else:\n",
    "            return False\n",
    "\n"
   ]
  },
  {
   "cell_type": "code",
   "execution_count": 44,
   "metadata": {},
   "outputs": [
    {
     "data": {
      "text/plain": [
       "Point3D(a=10, b=20, c=30 )"
      ]
     },
     "execution_count": 44,
     "metadata": {},
     "output_type": "execute_result"
    }
   ],
   "source": [
    "pt_3d = Point3D(10,20,30)\n",
    "pt_3d"
   ]
  },
  {
   "cell_type": "code",
   "execution_count": 48,
   "metadata": {},
   "outputs": [
    {
     "data": {
      "text/plain": [
       "Point3D(a=10, b=20, c=30 )"
      ]
     },
     "execution_count": 48,
     "metadata": {},
     "output_type": "execute_result"
    }
   ],
   "source": [
    "pt_3d1 = Point3D(10,20,30)\n",
    "pt_3d1"
   ]
  },
  {
   "cell_type": "code",
   "execution_count": 49,
   "metadata": {},
   "outputs": [
    {
     "data": {
      "text/plain": [
       "True"
      ]
     },
     "execution_count": 49,
     "metadata": {},
     "output_type": "execute_result"
    }
   ],
   "source": [
    "pt_3d == pt_3d1"
   ]
  },
  {
   "cell_type": "code",
   "execution_count": 51,
   "metadata": {},
   "outputs": [
    {
     "data": {
      "text/plain": [
       "20"
      ]
     },
     "execution_count": 51,
     "metadata": {},
     "output_type": "execute_result"
    }
   ],
   "source": [
    "max(p1)"
   ]
  },
  {
   "cell_type": "code",
   "execution_count": 52,
   "metadata": {},
   "outputs": [
    {
     "ename": "TypeError",
     "evalue": "'Point3D' object is not iterable",
     "output_type": "error",
     "traceback": [
      "\u001b[1;31m---------------------------------------------------------------------------\u001b[0m",
      "\u001b[1;31mTypeError\u001b[0m                                 Traceback (most recent call last)",
      "Cell \u001b[1;32mIn[52], line 1\u001b[0m\n\u001b[1;32m----> 1\u001b[0m \u001b[38;5;28;43mmax\u001b[39;49m\u001b[43m(\u001b[49m\u001b[43mpt_3d\u001b[49m\u001b[43m)\u001b[49m\n",
      "\u001b[1;31mTypeError\u001b[0m: 'Point3D' object is not iterable"
     ]
    }
   ],
   "source": [
    "max(pt_3d)"
   ]
  },
  {
   "cell_type": "code",
   "execution_count": 55,
   "metadata": {},
   "outputs": [],
   "source": [
    "a = (1,2)\n",
    "b = (3,4)"
   ]
  },
  {
   "cell_type": "code",
   "execution_count": 57,
   "metadata": {},
   "outputs": [
    {
     "data": {
      "text/plain": [
       "[(1, 3), (2, 4)]"
      ]
     },
     "execution_count": 57,
     "metadata": {},
     "output_type": "execute_result"
    }
   ],
   "source": [
    "list(zip(a,b))"
   ]
  },
  {
   "cell_type": "code",
   "execution_count": 58,
   "metadata": {},
   "outputs": [
    {
     "data": {
      "text/plain": [
       "11"
      ]
     },
     "execution_count": 58,
     "metadata": {},
     "output_type": "execute_result"
    }
   ],
   "source": [
    "sum(e[0]*e[1] for e in zip(a,b))"
   ]
  },
  {
   "cell_type": "code",
   "execution_count": 59,
   "metadata": {},
   "outputs": [],
   "source": [
    "def dot_prd(a,b):\n",
    "    return sum(e[0]*e[1] for e in zip(a,b))\n"
   ]
  },
  {
   "cell_type": "code",
   "execution_count": 60,
   "metadata": {},
   "outputs": [
    {
     "data": {
      "text/plain": [
       "11"
      ]
     },
     "execution_count": 60,
     "metadata": {},
     "output_type": "execute_result"
    }
   ],
   "source": [
    "dot_prd(a,b)"
   ]
  },
  {
   "cell_type": "code",
   "execution_count": 61,
   "metadata": {},
   "outputs": [
    {
     "data": {
      "text/plain": [
       "18"
      ]
     },
     "execution_count": 61,
     "metadata": {},
     "output_type": "execute_result"
    }
   ],
   "source": [
    "p1 = Point2D(2,3)\n",
    "p2 = Point2D(3,4)\n",
    "dot_prd(p1,p2)"
   ]
  },
  {
   "cell_type": "code",
   "execution_count": 63,
   "metadata": {},
   "outputs": [],
   "source": [
    "Point3D_nt = namedtuple('Point3D','x y z')"
   ]
  },
  {
   "cell_type": "code",
   "execution_count": 64,
   "metadata": {},
   "outputs": [
    {
     "data": {
      "text/plain": [
       "1400"
      ]
     },
     "execution_count": 64,
     "metadata": {},
     "output_type": "execute_result"
    }
   ],
   "source": [
    "v1 = Point3D_nt(10,20,30)\n",
    "v2 = Point3D_nt(10,20,30)\n",
    "dot_prd(v1,v2)\n"
   ]
  },
  {
   "cell_type": "code",
   "execution_count": 65,
   "metadata": {},
   "outputs": [
    {
     "data": {
      "text/plain": [
       "Point3D(x=10, y=20, z=30)"
      ]
     },
     "execution_count": 65,
     "metadata": {},
     "output_type": "execute_result"
    }
   ],
   "source": [
    "v1"
   ]
  },
  {
   "cell_type": "code",
   "execution_count": 67,
   "metadata": {},
   "outputs": [
    {
     "data": {
      "text/plain": [
       "(10, 20, 30)"
      ]
     },
     "execution_count": 67,
     "metadata": {},
     "output_type": "execute_result"
    }
   ],
   "source": [
    "x,y,z = v1\n",
    "x,y,z"
   ]
  },
  {
   "cell_type": "code",
   "execution_count": 68,
   "metadata": {},
   "outputs": [
    {
     "data": {
      "text/plain": [
       "('x', 'y', 'z')"
      ]
     },
     "execution_count": 68,
     "metadata": {},
     "output_type": "execute_result"
    }
   ],
   "source": [
    "v1._fields"
   ]
  },
  {
   "cell_type": "code",
   "execution_count": 72,
   "metadata": {},
   "outputs": [
    {
     "ename": "AttributeError",
     "evalue": "type object 'point2d' has no attribute '_source'",
     "output_type": "error",
     "traceback": [
      "\u001b[1;31m---------------------------------------------------------------------------\u001b[0m",
      "\u001b[1;31mAttributeError\u001b[0m                            Traceback (most recent call last)",
      "Cell \u001b[1;32mIn[72], line 1\u001b[0m\n\u001b[1;32m----> 1\u001b[0m \u001b[38;5;28mprint\u001b[39m(\u001b[43mPoint2D\u001b[49m\u001b[38;5;241;43m.\u001b[39;49m\u001b[43m_source\u001b[49m)\n",
      "\u001b[1;31mAttributeError\u001b[0m: type object 'point2d' has no attribute '_source'"
     ]
    }
   ],
   "source": [
    "print(Point2D._source)"
   ]
  },
  {
   "cell_type": "code",
   "execution_count": 73,
   "metadata": {},
   "outputs": [],
   "source": [
    "Point3D_nt = namedtuple('Point3D','x y z')"
   ]
  },
  {
   "cell_type": "code",
   "execution_count": 75,
   "metadata": {},
   "outputs": [
    {
     "name": "stdout",
     "output_type": "stream",
     "text": [
      "Attribute not found\n"
     ]
    }
   ],
   "source": [
    "print(getattr(Point3D_nt, \"_source\", \"Attribute not found\"))\n"
   ]
  },
  {
   "cell_type": "code",
   "execution_count": 76,
   "metadata": {},
   "outputs": [
    {
     "ename": "AttributeError",
     "evalue": "type object 'Point2D' has no attribute '_source'",
     "output_type": "error",
     "traceback": [
      "\u001b[1;31m---------------------------------------------------------------------------\u001b[0m",
      "\u001b[1;31mAttributeError\u001b[0m                            Traceback (most recent call last)",
      "Cell \u001b[1;32mIn[76], line 5\u001b[0m\n\u001b[0;32m      1\u001b[0m \u001b[38;5;28;01mfrom\u001b[39;00m \u001b[38;5;21;01mcollections\u001b[39;00m \u001b[38;5;28;01mimport\u001b[39;00m namedtuple\n\u001b[0;32m      3\u001b[0m Point2D \u001b[38;5;241m=\u001b[39m namedtuple(\u001b[38;5;124m\"\u001b[39m\u001b[38;5;124mPoint2D\u001b[39m\u001b[38;5;124m\"\u001b[39m, [\u001b[38;5;124m\"\u001b[39m\u001b[38;5;124mx\u001b[39m\u001b[38;5;124m\"\u001b[39m, \u001b[38;5;124m\"\u001b[39m\u001b[38;5;124my\u001b[39m\u001b[38;5;124m\"\u001b[39m])\n\u001b[1;32m----> 5\u001b[0m \u001b[38;5;28mprint\u001b[39m(\u001b[43mPoint2D\u001b[49m\u001b[38;5;241;43m.\u001b[39;49m\u001b[43m_source\u001b[49m)  \u001b[38;5;66;03m# This should work if _source exists\u001b[39;00m\n",
      "\u001b[1;31mAttributeError\u001b[0m: type object 'Point2D' has no attribute '_source'"
     ]
    }
   ],
   "source": [
    "from collections import namedtuple\n",
    "\n",
    "Point2D = namedtuple(\"Point2D\", [\"x\", \"y\"])\n",
    "\n",
    "print(Point2D._source)  # This should work if _source exists\n"
   ]
  },
  {
   "cell_type": "code",
   "execution_count": 77,
   "metadata": {},
   "outputs": [
    {
     "name": "stdout",
     "output_type": "stream",
     "text": [
      "['__add__', '__class__', '__class_getitem__', '__contains__', '__delattr__', '__dir__', '__doc__', '__eq__', '__format__', '__ge__', '__getattribute__', '__getitem__', '__getnewargs__', '__getstate__', '__gt__', '__hash__', '__init__', '__init_subclass__', '__iter__', '__le__', '__len__', '__lt__', '__match_args__', '__module__', '__mul__', '__ne__', '__new__', '__reduce__', '__reduce_ex__', '__repr__', '__rmul__', '__setattr__', '__sizeof__', '__slots__', '__str__', '__subclasshook__', '_asdict', '_field_defaults', '_fields', '_make', '_replace', 'count', 'index', 'x', 'y']\n"
     ]
    }
   ],
   "source": [
    "print(dir(Point2D))  # Check if _source is present"
   ]
  },
  {
   "cell_type": "code",
   "execution_count": 83,
   "metadata": {},
   "outputs": [
    {
     "ename": "TypeError",
     "evalue": "Point3D._asdict() missing 1 required positional argument: 'self'",
     "output_type": "error",
     "traceback": [
      "\u001b[1;31m---------------------------------------------------------------------------\u001b[0m",
      "\u001b[1;31mTypeError\u001b[0m                                 Traceback (most recent call last)",
      "Cell \u001b[1;32mIn[83], line 1\u001b[0m\n\u001b[1;32m----> 1\u001b[0m d \u001b[38;5;241m=\u001b[39m \u001b[43mPoint3D_nt\u001b[49m\u001b[38;5;241;43m.\u001b[39;49m\u001b[43m_asdict\u001b[49m\u001b[43m(\u001b[49m\u001b[43m)\u001b[49m\n\u001b[0;32m      2\u001b[0m d\n",
      "\u001b[1;31mTypeError\u001b[0m: Point3D._asdict() missing 1 required positional argument: 'self'"
     ]
    }
   ],
   "source": [
    "d = Point3D_nt._asdict()\n",
    "d"
   ]
  },
  {
   "cell_type": "code",
   "execution_count": 84,
   "metadata": {},
   "outputs": [
    {
     "data": {
      "text/plain": [
       "Point3D(x=10, y=20, z=30)"
      ]
     },
     "execution_count": 84,
     "metadata": {},
     "output_type": "execute_result"
    }
   ],
   "source": [
    "v1"
   ]
  },
  {
   "cell_type": "code",
   "execution_count": 86,
   "metadata": {},
   "outputs": [
    {
     "ename": "TypeError",
     "evalue": "'Point3D' object does not support item assignment",
     "output_type": "error",
     "traceback": [
      "\u001b[1;31m---------------------------------------------------------------------------\u001b[0m",
      "\u001b[1;31mTypeError\u001b[0m                                 Traceback (most recent call last)",
      "Cell \u001b[1;32mIn[86], line 1\u001b[0m\n\u001b[1;32m----> 1\u001b[0m \u001b[43mv1\u001b[49m\u001b[43m[\u001b[49m\u001b[38;5;241;43m1\u001b[39;49m\u001b[43m]\u001b[49m \u001b[38;5;241m=\u001b[39m \u001b[38;5;241m200\u001b[39m\n",
      "\u001b[1;31mTypeError\u001b[0m: 'Point3D' object does not support item assignment"
     ]
    }
   ],
   "source": [
    "v1[1] = 200"
   ]
  },
  {
   "cell_type": "code",
   "execution_count": 90,
   "metadata": {},
   "outputs": [
    {
     "data": {
      "text/plain": [
       "__main__.Point3D"
      ]
     },
     "execution_count": 90,
     "metadata": {},
     "output_type": "execute_result"
    }
   ],
   "source": [
    "Point3D_nt"
   ]
  },
  {
   "cell_type": "code",
   "execution_count": 92,
   "metadata": {},
   "outputs": [
    {
     "data": {
      "text/plain": [
       "Point3D(a=(1, 2), b=(3, 4), c=300 )"
      ]
     },
     "execution_count": 92,
     "metadata": {},
     "output_type": "execute_result"
    }
   ],
   "source": [
    "v1 = Point3D(a,b,c=300)\n",
    "v1"
   ]
  },
  {
   "cell_type": "code",
   "execution_count": 96,
   "metadata": {},
   "outputs": [
    {
     "data": {
      "text/plain": [
       "(_tuplegetter(0, 'Alias for field number 0'),\n",
       " _tuplegetter(1, 'Alias for field number 1'))"
      ]
     },
     "execution_count": 96,
     "metadata": {},
     "output_type": "execute_result"
    }
   ],
   "source": [
    "Point2D.x,Point2D.y"
   ]
  },
  {
   "cell_type": "code",
   "execution_count": 99,
   "metadata": {},
   "outputs": [
    {
     "data": {
      "text/plain": [
       "Point2D(x=100, y=200)"
      ]
     },
     "execution_count": 99,
     "metadata": {},
     "output_type": "execute_result"
    }
   ],
   "source": [
    "p2 = Point2D(x=100,y=200)\n",
    "p2"
   ]
  },
  {
   "cell_type": "code",
   "execution_count": 100,
   "metadata": {},
   "outputs": [
    {
     "data": {
      "text/plain": [
       "point2d(x=2, y=3)"
      ]
     },
     "execution_count": 100,
     "metadata": {},
     "output_type": "execute_result"
    }
   ],
   "source": [
    "p1"
   ]
  },
  {
   "cell_type": "code",
   "execution_count": 101,
   "metadata": {},
   "outputs": [
    {
     "data": {
      "text/plain": [
       "2766463592576"
      ]
     },
     "execution_count": 101,
     "metadata": {},
     "output_type": "execute_result"
    }
   ],
   "source": [
    "id(p1)"
   ]
  },
  {
   "cell_type": "code",
   "execution_count": 102,
   "metadata": {},
   "outputs": [
    {
     "data": {
      "text/plain": [
       "Point2D(x=100, y=200)"
      ]
     },
     "execution_count": 102,
     "metadata": {},
     "output_type": "execute_result"
    }
   ],
   "source": [
    "p1 = Point2D(x=100,y=200)\n",
    "p1\n"
   ]
  },
  {
   "cell_type": "code",
   "execution_count": 138,
   "metadata": {},
   "outputs": [
    {
     "data": {
      "text/plain": [
       "type"
      ]
     },
     "execution_count": 138,
     "metadata": {},
     "output_type": "execute_result"
    }
   ],
   "source": [
    "type(Point2D)"
   ]
  },
  {
   "cell_type": "code",
   "execution_count": 103,
   "metadata": {},
   "outputs": [
    {
     "data": {
      "text/plain": [
       "2766463263744"
      ]
     },
     "execution_count": 103,
     "metadata": {},
     "output_type": "execute_result"
    }
   ],
   "source": [
    "id(p1)"
   ]
  },
  {
   "cell_type": "code",
   "execution_count": 104,
   "metadata": {},
   "outputs": [],
   "source": [
    "Stock = namedtuple('Stock', '''symbol\n",
    "                               year month day\n",
    "                               open high low close''')"
   ]
  },
  {
   "cell_type": "code",
   "execution_count": 105,
   "metadata": {},
   "outputs": [],
   "source": [
    "djia = Stock('DJIA', 2018, 1, 25, 26_313, 26_458, 26_260, 26_393)"
   ]
  },
  {
   "cell_type": "code",
   "execution_count": 106,
   "metadata": {},
   "outputs": [
    {
     "data": {
      "text/plain": [
       "('symbol', 'year', 'month', 'day', 'open', 'high', 'low', 'close')"
      ]
     },
     "execution_count": 106,
     "metadata": {},
     "output_type": "execute_result"
    }
   ],
   "source": [
    "djia._fields"
   ]
  },
  {
   "cell_type": "code",
   "execution_count": 107,
   "metadata": {},
   "outputs": [],
   "source": [
    "*values,_ = djia "
   ]
  },
  {
   "cell_type": "code",
   "execution_count": 109,
   "metadata": {},
   "outputs": [
    {
     "data": {
      "text/plain": [
       "26393"
      ]
     },
     "execution_count": 109,
     "metadata": {},
     "output_type": "execute_result"
    }
   ],
   "source": [
    "_"
   ]
  },
  {
   "cell_type": "code",
   "execution_count": 110,
   "metadata": {},
   "outputs": [
    {
     "data": {
      "text/plain": [
       "['DJIA', 2018, 1, 25, 26313, 26458, 26260]"
      ]
     },
     "execution_count": 110,
     "metadata": {},
     "output_type": "execute_result"
    }
   ],
   "source": [
    "values"
   ]
  },
  {
   "cell_type": "code",
   "execution_count": 111,
   "metadata": {},
   "outputs": [
    {
     "data": {
      "text/plain": [
       "list"
      ]
     },
     "execution_count": 111,
     "metadata": {},
     "output_type": "execute_result"
    }
   ],
   "source": [
    "type(values)"
   ]
  },
  {
   "cell_type": "code",
   "execution_count": 112,
   "metadata": {},
   "outputs": [],
   "source": [
    "values = djia[:7]"
   ]
  },
  {
   "cell_type": "code",
   "execution_count": 114,
   "metadata": {},
   "outputs": [
    {
     "data": {
      "text/plain": [
       "('DJIA', 2018, 1, 25, 26313, 26458, 26260)"
      ]
     },
     "execution_count": 114,
     "metadata": {},
     "output_type": "execute_result"
    }
   ],
   "source": [
    "values"
   ]
  },
  {
   "cell_type": "code",
   "execution_count": 115,
   "metadata": {},
   "outputs": [
    {
     "data": {
      "text/plain": [
       "tuple"
      ]
     },
     "execution_count": 115,
     "metadata": {},
     "output_type": "execute_result"
    }
   ],
   "source": [
    "type(values)"
   ]
  },
  {
   "cell_type": "code",
   "execution_count": 116,
   "metadata": {},
   "outputs": [
    {
     "data": {
      "text/plain": [
       "Stock(symbol='DJIA', year=2018, month=1, day=25, open=26313, high=26458, low=26260, close=26393)"
      ]
     },
     "execution_count": 116,
     "metadata": {},
     "output_type": "execute_result"
    }
   ],
   "source": [
    "djia"
   ]
  },
  {
   "cell_type": "code",
   "execution_count": 120,
   "metadata": {},
   "outputs": [],
   "source": [
    "djia  = djia._replace( year=2025, day=28)"
   ]
  },
  {
   "cell_type": "code",
   "execution_count": 121,
   "metadata": {},
   "outputs": [
    {
     "data": {
      "text/plain": [
       "Stock(symbol='DJIA', year=2025, month=1, day=28, open=26313, high=26458, low=26260, close=26393)"
      ]
     },
     "execution_count": 121,
     "metadata": {},
     "output_type": "execute_result"
    }
   ],
   "source": [
    "djia"
   ]
  },
  {
   "cell_type": "code",
   "execution_count": 122,
   "metadata": {},
   "outputs": [
    {
     "name": "stdout",
     "output_type": "stream",
     "text": [
      "Help on Stock in module __main__ object:\n",
      "\n",
      "class Stock(builtins.tuple)\n",
      " |  Stock(symbol, year, month, day, open, high, low, close)\n",
      " |  \n",
      " |  Stock(symbol, year, month, day, open, high, low, close)\n",
      " |  \n",
      " |  Method resolution order:\n",
      " |      Stock\n",
      " |      builtins.tuple\n",
      " |      builtins.object\n",
      " |  \n",
      " |  Methods defined here:\n",
      " |  \n",
      " |  __getnewargs__(self) from collections.Stock\n",
      " |      Return self as a plain tuple.  Used by copy and pickle.\n",
      " |  \n",
      " |  __repr__(self) from collections.Stock\n",
      " |      Return a nicely formatted representation string\n",
      " |  \n",
      " |  _asdict(self) from collections.Stock\n",
      " |      Return a new dict which maps field names to their values.\n",
      " |  \n",
      " |  _replace(self, /, **kwds) from collections.Stock\n",
      " |      Return a new Stock object replacing specified fields with new values\n",
      " |  \n",
      " |  ----------------------------------------------------------------------\n",
      " |  Class methods defined here:\n",
      " |  \n",
      " |  _make(iterable) from collections.Stock\n",
      " |      Make a new Stock object from a sequence or iterable\n",
      " |  \n",
      " |  ----------------------------------------------------------------------\n",
      " |  Static methods defined here:\n",
      " |  \n",
      " |  __new__(_cls, symbol, year, month, day, open, high, low, close) from namedtuple_Stock.Stock\n",
      " |      Create new instance of Stock(symbol, year, month, day, open, high, low, close)\n",
      " |  \n",
      " |  ----------------------------------------------------------------------\n",
      " |  Data descriptors defined here:\n",
      " |  \n",
      " |  symbol\n",
      " |      Alias for field number 0\n",
      " |  \n",
      " |  year\n",
      " |      Alias for field number 1\n",
      " |  \n",
      " |  month\n",
      " |      Alias for field number 2\n",
      " |  \n",
      " |  day\n",
      " |      Alias for field number 3\n",
      " |  \n",
      " |  open\n",
      " |      Alias for field number 4\n",
      " |  \n",
      " |  high\n",
      " |      Alias for field number 5\n",
      " |  \n",
      " |  low\n",
      " |      Alias for field number 6\n",
      " |  \n",
      " |  close\n",
      " |      Alias for field number 7\n",
      " |  \n",
      " |  ----------------------------------------------------------------------\n",
      " |  Data and other attributes defined here:\n",
      " |  \n",
      " |  __match_args__ = ('symbol', 'year', 'month', 'day', 'open', 'high', 'l...\n",
      " |  \n",
      " |  _field_defaults = {}\n",
      " |  \n",
      " |  _fields = ('symbol', 'year', 'month', 'day', 'open', 'high', 'low', 'c...\n",
      " |  \n",
      " |  ----------------------------------------------------------------------\n",
      " |  Methods inherited from builtins.tuple:\n",
      " |  \n",
      " |  __add__(self, value, /)\n",
      " |      Return self+value.\n",
      " |  \n",
      " |  __contains__(self, key, /)\n",
      " |      Return key in self.\n",
      " |  \n",
      " |  __eq__(self, value, /)\n",
      " |      Return self==value.\n",
      " |  \n",
      " |  __ge__(self, value, /)\n",
      " |      Return self>=value.\n",
      " |  \n",
      " |  __getattribute__(self, name, /)\n",
      " |      Return getattr(self, name).\n",
      " |  \n",
      " |  __getitem__(self, key, /)\n",
      " |      Return self[key].\n",
      " |  \n",
      " |  __gt__(self, value, /)\n",
      " |      Return self>value.\n",
      " |  \n",
      " |  __hash__(self, /)\n",
      " |      Return hash(self).\n",
      " |  \n",
      " |  __iter__(self, /)\n",
      " |      Implement iter(self).\n",
      " |  \n",
      " |  __le__(self, value, /)\n",
      " |      Return self<=value.\n",
      " |  \n",
      " |  __len__(self, /)\n",
      " |      Return len(self).\n",
      " |  \n",
      " |  __lt__(self, value, /)\n",
      " |      Return self<value.\n",
      " |  \n",
      " |  __mul__(self, value, /)\n",
      " |      Return self*value.\n",
      " |  \n",
      " |  __ne__(self, value, /)\n",
      " |      Return self!=value.\n",
      " |  \n",
      " |  __rmul__(self, value, /)\n",
      " |      Return value*self.\n",
      " |  \n",
      " |  count(self, value, /)\n",
      " |      Return number of occurrences of value.\n",
      " |  \n",
      " |  index(self, value, start=0, stop=9223372036854775807, /)\n",
      " |      Return first index of value.\n",
      " |      \n",
      " |      Raises ValueError if the value is not present.\n",
      " |  \n",
      " |  ----------------------------------------------------------------------\n",
      " |  Class methods inherited from builtins.tuple:\n",
      " |  \n",
      " |  __class_getitem__(...)\n",
      " |      See PEP 585\n",
      "\n"
     ]
    }
   ],
   "source": [
    "help(djia)"
   ]
  },
  {
   "cell_type": "code",
   "execution_count": 123,
   "metadata": {},
   "outputs": [
    {
     "data": {
      "text/plain": [
       "'Stock(symbol, year, month, day, open, high, low, close)'"
      ]
     },
     "execution_count": 123,
     "metadata": {},
     "output_type": "execute_result"
    }
   ],
   "source": [
    "djia.__doc__"
   ]
  },
  {
   "cell_type": "code",
   "execution_count": 125,
   "metadata": {},
   "outputs": [
    {
     "data": {
      "text/plain": [
       "\"int([x]) -> integer\\nint(x, base=10) -> integer\\n\\nConvert a number or string to an integer, or return 0 if no arguments\\nare given.  If x is a number, return x.__int__().  For floating point\\nnumbers, this truncates towards zero.\\n\\nIf x is not a number or if base is given, then x must be a string,\\nbytes, or bytearray instance representing an integer literal in the\\ngiven base.  The literal can be preceded by '+' or '-' and be surrounded\\nby whitespace.  The base defaults to 10.  Valid bases are 0 and 2-36.\\nBase 0 means to interpret the base from the string as an integer literal.\\n>>> int('0b100', base=0)\\n4\""
      ]
     },
     "execution_count": 125,
     "metadata": {},
     "output_type": "execute_result"
    }
   ],
   "source": [
    "djia.year.__doc__"
   ]
  },
  {
   "cell_type": "code",
   "execution_count": 126,
   "metadata": {},
   "outputs": [],
   "source": [
    "data_dict = dict(key1=100,key2=200,k3=300)"
   ]
  },
  {
   "cell_type": "code",
   "execution_count": 127,
   "metadata": {},
   "outputs": [
    {
     "data": {
      "text/plain": [
       "dict_items([('key1', 100), ('key2', 200), ('k3', 300)])"
      ]
     },
     "execution_count": 127,
     "metadata": {},
     "output_type": "execute_result"
    }
   ],
   "source": [
    "data_dict.items()"
   ]
  },
  {
   "cell_type": "code",
   "execution_count": 136,
   "metadata": {},
   "outputs": [],
   "source": [
    "Data = namedtuple('Data', data_dict.keys())"
   ]
  },
  {
   "cell_type": "code",
   "execution_count": 130,
   "metadata": {},
   "outputs": [
    {
     "data": {
      "text/plain": [
       "('key1', 'key2', 'k3')"
      ]
     },
     "execution_count": 130,
     "metadata": {},
     "output_type": "execute_result"
    }
   ],
   "source": [
    "Data._fields"
   ]
  },
  {
   "cell_type": "code",
   "execution_count": 131,
   "metadata": {},
   "outputs": [],
   "source": [
    "d1 = Data(**data_dict)"
   ]
  },
  {
   "cell_type": "code",
   "execution_count": 137,
   "metadata": {},
   "outputs": [
    {
     "data": {
      "text/plain": [
       "type"
      ]
     },
     "execution_count": 137,
     "metadata": {},
     "output_type": "execute_result"
    }
   ],
   "source": [
    "type(Data)"
   ]
  },
  {
   "cell_type": "code",
   "execution_count": 133,
   "metadata": {},
   "outputs": [
    {
     "data": {
      "text/plain": [
       "Data(key1=100, key2=200, k3=300)"
      ]
     },
     "execution_count": 133,
     "metadata": {},
     "output_type": "execute_result"
    }
   ],
   "source": [
    "d1"
   ]
  },
  {
   "cell_type": "code",
   "execution_count": 134,
   "metadata": {},
   "outputs": [
    {
     "data": {
      "text/plain": [
       "__main__.Data"
      ]
     },
     "execution_count": 134,
     "metadata": {},
     "output_type": "execute_result"
    }
   ],
   "source": [
    "type(d1)"
   ]
  },
  {
   "cell_type": "code",
   "execution_count": 142,
   "metadata": {},
   "outputs": [
    {
     "data": {
      "text/plain": [
       "'0.2999999999999999888978'"
      ]
     },
     "execution_count": 142,
     "metadata": {},
     "output_type": "execute_result"
    }
   ],
   "source": [
    "format(0.3,'.22f')"
   ]
  },
  {
   "cell_type": "code",
   "execution_count": 146,
   "metadata": {},
   "outputs": [],
   "source": [
    "t = (1, 2, 3, 4, 5)"
   ]
  },
  {
   "cell_type": "code",
   "execution_count": 147,
   "metadata": {},
   "outputs": [
    {
     "data": {
      "text/plain": [
       "2"
      ]
     },
     "execution_count": 147,
     "metadata": {},
     "output_type": "execute_result"
    }
   ],
   "source": [
    "t[1]"
   ]
  },
  {
   "cell_type": "code",
   "execution_count": 148,
   "metadata": {},
   "outputs": [
    {
     "data": {
      "text/plain": [
       "5"
      ]
     },
     "execution_count": 148,
     "metadata": {},
     "output_type": "execute_result"
    }
   ],
   "source": [
    "t[-1]"
   ]
  },
  {
   "cell_type": "code",
   "execution_count": 149,
   "metadata": {},
   "outputs": [
    {
     "data": {
      "text/plain": [
       "5"
      ]
     },
     "execution_count": 149,
     "metadata": {},
     "output_type": "execute_result"
    }
   ],
   "source": [
    "t[len(t)-1]"
   ]
  },
  {
   "cell_type": "code",
   "execution_count": 150,
   "metadata": {},
   "outputs": [],
   "source": [
    "t = ([1, 2], [3, 4])"
   ]
  },
  {
   "cell_type": "code",
   "execution_count": 153,
   "metadata": {},
   "outputs": [
    {
     "data": {
      "text/plain": [
       "([1, 20], [3, 4])"
      ]
     },
     "execution_count": 153,
     "metadata": {},
     "output_type": "execute_result"
    }
   ],
   "source": [
    "t[0][1] = 20\n",
    "t"
   ]
  },
  {
   "cell_type": "code",
   "execution_count": 154,
   "metadata": {},
   "outputs": [],
   "source": [
    "l = [1, 2, 3]"
   ]
  },
  {
   "cell_type": "code",
   "execution_count": 155,
   "metadata": {},
   "outputs": [
    {
     "data": {
      "text/plain": [
       "tuple"
      ]
     },
     "execution_count": 155,
     "metadata": {},
     "output_type": "execute_result"
    }
   ],
   "source": [
    "t = tuple(l)\n",
    "type(t)"
   ]
  },
  {
   "cell_type": "code",
   "execution_count": 156,
   "metadata": {},
   "outputs": [
    {
     "data": {
      "text/plain": [
       "[1, 2, 3]"
      ]
     },
     "execution_count": 156,
     "metadata": {},
     "output_type": "execute_result"
    }
   ],
   "source": [
    "l"
   ]
  },
  {
   "cell_type": "code",
   "execution_count": 157,
   "metadata": {},
   "outputs": [
    {
     "data": {
      "text/plain": [
       "(1, 2, 3)"
      ]
     },
     "execution_count": 157,
     "metadata": {},
     "output_type": "execute_result"
    }
   ],
   "source": [
    "t"
   ]
  },
  {
   "cell_type": "code",
   "execution_count": 158,
   "metadata": {},
   "outputs": [
    {
     "data": {
      "text/plain": [
       "[1, 2, 3]"
      ]
     },
     "execution_count": 158,
     "metadata": {},
     "output_type": "execute_result"
    }
   ],
   "source": [
    "l = list(t)\n",
    "l"
   ]
  },
  {
   "cell_type": "code",
   "execution_count": 159,
   "metadata": {},
   "outputs": [],
   "source": [
    "s = 'Python rocks!'"
   ]
  },
  {
   "cell_type": "code",
   "execution_count": 160,
   "metadata": {},
   "outputs": [
    {
     "data": {
      "text/plain": [
       "'!'"
      ]
     },
     "execution_count": 160,
     "metadata": {},
     "output_type": "execute_result"
    }
   ],
   "source": [
    "s[-1]"
   ]
  },
  {
   "cell_type": "code",
   "execution_count": 161,
   "metadata": {},
   "outputs": [
    {
     "ename": "TypeError",
     "evalue": "'str' object does not support item assignment",
     "output_type": "error",
     "traceback": [
      "\u001b[1;31m---------------------------------------------------------------------------\u001b[0m",
      "\u001b[1;31mTypeError\u001b[0m                                 Traceback (most recent call last)",
      "Cell \u001b[1;32mIn[161], line 1\u001b[0m\n\u001b[1;32m----> 1\u001b[0m \u001b[43ms\u001b[49m\u001b[43m[\u001b[49m\u001b[38;5;241;43m0\u001b[39;49m\u001b[43m]\u001b[49m \u001b[38;5;241m=\u001b[39m d\n",
      "\u001b[1;31mTypeError\u001b[0m: 'str' object does not support item assignment"
     ]
    }
   ],
   "source": [
    "s[0] = d"
   ]
  },
  {
   "cell_type": "code",
   "execution_count": 162,
   "metadata": {},
   "outputs": [],
   "source": [
    "t = 1, 2, 3"
   ]
  },
  {
   "cell_type": "code",
   "execution_count": 164,
   "metadata": {},
   "outputs": [
    {
     "data": {
      "text/plain": [
       "'(1, 2, 3)'"
      ]
     },
     "execution_count": 164,
     "metadata": {},
     "output_type": "execute_result"
    }
   ],
   "source": [
    "s = str(t)\n",
    "s"
   ]
  },
  {
   "cell_type": "code",
   "execution_count": 165,
   "metadata": {},
   "outputs": [
    {
     "data": {
      "text/plain": [
       "type"
      ]
     },
     "execution_count": 165,
     "metadata": {},
     "output_type": "execute_result"
    }
   ],
   "source": [
    "type(str)"
   ]
  },
  {
   "cell_type": "code",
   "execution_count": 171,
   "metadata": {},
   "outputs": [
    {
     "data": {
      "text/plain": [
       "('P', 'y', 't', 'h', 'o', 'n')"
      ]
     },
     "execution_count": 171,
     "metadata": {},
     "output_type": "execute_result"
    }
   ],
   "source": [
    "s = 'Python'\n",
    "t = tuple(s)\n",
    "t\n",
    "# len(t)"
   ]
  },
  {
   "cell_type": "code",
   "execution_count": 170,
   "metadata": {},
   "outputs": [
    {
     "data": {
      "text/plain": [
       "['P', 'y', 't', 'h', 'o', 'n']"
      ]
     },
     "execution_count": 170,
     "metadata": {},
     "output_type": "execute_result"
    }
   ],
   "source": [
    "l = list(s)\n",
    "l"
   ]
  },
  {
   "cell_type": "code",
   "execution_count": 173,
   "metadata": {},
   "outputs": [
    {
     "data": {
      "text/plain": [
       "['a', 'b', 'c', 'd', 'e', 'f']"
      ]
     },
     "execution_count": 173,
     "metadata": {},
     "output_type": "execute_result"
    }
   ],
   "source": [
    "l = list('abcdef')\n",
    "l"
   ]
  },
  {
   "cell_type": "code",
   "execution_count": 176,
   "metadata": {},
   "outputs": [
    {
     "data": {
      "text/plain": [
       "'=========='"
      ]
     },
     "execution_count": 176,
     "metadata": {},
     "output_type": "execute_result"
    }
   ],
   "source": [
    "s = '='*10\n",
    "s"
   ]
  },
  {
   "cell_type": "code",
   "execution_count": 177,
   "metadata": {},
   "outputs": [
    {
     "data": {
      "text/plain": [
       "(1, 2, 3, 1, 2, 3, 1, 2, 3, 1, 2, 3, 1, 2, 3)"
      ]
     },
     "execution_count": 177,
     "metadata": {},
     "output_type": "execute_result"
    }
   ],
   "source": [
    "t = (1,2,3)*5\n",
    "t"
   ]
  },
  {
   "cell_type": "code",
   "execution_count": 180,
   "metadata": {},
   "outputs": [
    {
     "data": {
      "text/plain": [
       "[[0, 0, 0], [0, 0, 0], [0, 0, 0]]"
      ]
     },
     "execution_count": 180,
     "metadata": {},
     "output_type": "execute_result"
    }
   ],
   "source": [
    "m = [\n",
    "    [0, 0 ,0],\n",
    "    [0, 0 ,0],\n",
    "    [0, 0 ,0]\n",
    "]\n",
    "m"
   ]
  },
  {
   "cell_type": "code",
   "execution_count": 181,
   "metadata": {},
   "outputs": [
    {
     "data": {
      "text/plain": [
       "3"
      ]
     },
     "execution_count": 181,
     "metadata": {},
     "output_type": "execute_result"
    }
   ],
   "source": [
    "len(m)"
   ]
  },
  {
   "cell_type": "code",
   "execution_count": 185,
   "metadata": {},
   "outputs": [
    {
     "data": {
      "text/plain": [
       "[[0, 100, 0], [0, 0, 0], [0, 0, 0]]"
      ]
     },
     "execution_count": 185,
     "metadata": {},
     "output_type": "execute_result"
    }
   ],
   "source": [
    "m[0][1] = 100\n",
    "m"
   ]
  },
  {
   "cell_type": "code",
   "execution_count": 190,
   "metadata": {},
   "outputs": [
    {
     "data": {
      "text/plain": [
       "[[0, 0, 0], [0, 0, 0], [0, 0, 0]]"
      ]
     },
     "execution_count": 190,
     "metadata": {},
     "output_type": "execute_result"
    }
   ],
   "source": [
    "m = [[0,0,0]] * 3\n",
    "m.__sizeof__()\n",
    "m"
   ]
  },
  {
   "cell_type": "code",
   "execution_count": 191,
   "metadata": {},
   "outputs": [
    {
     "data": {
      "text/plain": [
       "3"
      ]
     },
     "execution_count": 191,
     "metadata": {},
     "output_type": "execute_result"
    }
   ],
   "source": [
    "len(m)"
   ]
  },
  {
   "cell_type": "code",
   "execution_count": 195,
   "metadata": {},
   "outputs": [
    {
     "data": {
      "text/plain": [
       "[[0, 200, 0], [0, 200, 0], [0, 200, 0]]"
      ]
     },
     "execution_count": 195,
     "metadata": {},
     "output_type": "execute_result"
    }
   ],
   "source": [
    "m[0][1] = 200\n",
    "m"
   ]
  },
  {
   "cell_type": "code",
   "execution_count": 199,
   "metadata": {},
   "outputs": [
    {
     "data": {
      "text/plain": [
       "[[0, 0, 0], [0, 0, 0], [0, 0, 0]]"
      ]
     },
     "execution_count": 199,
     "metadata": {},
     "output_type": "execute_result"
    }
   ],
   "source": [
    "m = [[0]*3 for _ in range(3)]\n",
    "m"
   ]
  },
  {
   "cell_type": "code",
   "execution_count": 200,
   "metadata": {},
   "outputs": [
    {
     "data": {
      "text/plain": [
       "[[0, 200, 0], [0, 0, 0], [0, 0, 0]]"
      ]
     },
     "execution_count": 200,
     "metadata": {},
     "output_type": "execute_result"
    }
   ],
   "source": [
    "m[0][1] = 200\n",
    "m"
   ]
  },
  {
   "cell_type": "code",
   "execution_count": 201,
   "metadata": {},
   "outputs": [
    {
     "data": {
      "text/plain": [
       "'Pytho'"
      ]
     },
     "execution_count": 201,
     "metadata": {},
     "output_type": "execute_result"
    }
   ],
   "source": [
    "s = 'Python rocks!'\n",
    "s[0:5]"
   ]
  },
  {
   "cell_type": "code",
   "execution_count": 210,
   "metadata": {},
   "outputs": [
    {
     "data": {
      "text/plain": [
       "'Python'"
      ]
     },
     "execution_count": 210,
     "metadata": {},
     "output_type": "execute_result"
    }
   ],
   "source": [
    "s[0:5+1]"
   ]
  },
  {
   "cell_type": "code",
   "execution_count": 211,
   "metadata": {},
   "outputs": [
    {
     "data": {
      "text/plain": [
       "(2, 3, 4, 5)"
      ]
     },
     "execution_count": 211,
     "metadata": {},
     "output_type": "execute_result"
    }
   ],
   "source": [
    "t = (1, 2, 3, 4, 5)\n",
    "t[1:5]"
   ]
  },
  {
   "cell_type": "code",
   "execution_count": 212,
   "metadata": {},
   "outputs": [
    {
     "data": {
      "text/plain": [
       "(1, 2, 3, 4, 5)"
      ]
     },
     "execution_count": 212,
     "metadata": {},
     "output_type": "execute_result"
    }
   ],
   "source": [
    "t"
   ]
  },
  {
   "cell_type": "code",
   "execution_count": 215,
   "metadata": {},
   "outputs": [
    {
     "data": {
      "text/plain": [
       "[[0, 0, 0], [1, 1, 1]]"
      ]
     },
     "execution_count": 215,
     "metadata": {},
     "output_type": "execute_result"
    }
   ],
   "source": [
    "l = [[0, 0, 0], [1, 1, 1], [2, 2, 2]]\n",
    "s = l[0:2]\n",
    "s"
   ]
  },
  {
   "cell_type": "code",
   "execution_count": 220,
   "metadata": {},
   "outputs": [
    {
     "data": {
      "text/plain": [
       "[2, 2, 2]"
      ]
     },
     "execution_count": 220,
     "metadata": {},
     "output_type": "execute_result"
    }
   ],
   "source": [
    "l[2]"
   ]
  },
  {
   "cell_type": "code",
   "execution_count": 221,
   "metadata": {},
   "outputs": [
    {
     "data": {
      "text/plain": [
       "True"
      ]
     },
     "execution_count": 221,
     "metadata": {},
     "output_type": "execute_result"
    }
   ],
   "source": [
    "s[0] is l[0]"
   ]
  },
  {
   "cell_type": "code",
   "execution_count": 225,
   "metadata": {},
   "outputs": [
    {
     "data": {
      "text/plain": [
       "'Python r'"
      ]
     },
     "execution_count": 225,
     "metadata": {},
     "output_type": "execute_result"
    }
   ],
   "source": [
    "s = 'Python rocks!'\n",
    "s[:6+1+1]"
   ]
  },
  {
   "cell_type": "code",
   "execution_count": 229,
   "metadata": {},
   "outputs": [
    {
     "data": {
      "text/plain": [
       "False"
      ]
     },
     "execution_count": 229,
     "metadata": {},
     "output_type": "execute_result"
    }
   ],
   "source": [
    "l = [1, 2, 3, 4, 5]\n",
    "l[:] is l[:]"
   ]
  },
  {
   "cell_type": "code",
   "execution_count": 230,
   "metadata": {},
   "outputs": [
    {
     "data": {
      "text/plain": [
       "False"
      ]
     },
     "execution_count": 230,
     "metadata": {},
     "output_type": "execute_result"
    }
   ],
   "source": [
    "l2 = l[:]\n",
    "l2 is l"
   ]
  },
  {
   "cell_type": "code",
   "execution_count": 231,
   "metadata": {},
   "outputs": [
    {
     "data": {
      "text/plain": [
       "[2, 4, 6, 8]"
      ]
     },
     "execution_count": 231,
     "metadata": {},
     "output_type": "execute_result"
    }
   ],
   "source": [
    "s = [1, 2, 3, 4, 5, 6, 7, 8, 9, 10]\n",
    "s[1:8:2]\n"
   ]
  },
  {
   "cell_type": "code",
   "execution_count": 234,
   "metadata": {},
   "outputs": [
    {
     "data": {
      "text/plain": [
       "[2, 4, 6, 8, 10]"
      ]
     },
     "execution_count": 234,
     "metadata": {},
     "output_type": "execute_result"
    }
   ],
   "source": [
    "s[1::2]"
   ]
  },
  {
   "cell_type": "code",
   "execution_count": 235,
   "metadata": {},
   "outputs": [
    {
     "data": {
      "text/plain": [
       "[1, 3, 5, 7, 9]"
      ]
     },
     "execution_count": 235,
     "metadata": {},
     "output_type": "execute_result"
    }
   ],
   "source": [
    "s[0::2]"
   ]
  },
  {
   "cell_type": "code",
   "execution_count": 237,
   "metadata": {},
   "outputs": [
    {
     "data": {
      "text/plain": [
       "[1, 3, 5, 7, 9]"
      ]
     },
     "execution_count": 237,
     "metadata": {},
     "output_type": "execute_result"
    }
   ],
   "source": [
    "[i for i in s if i%2!=0]"
   ]
  },
  {
   "cell_type": "code",
   "execution_count": 238,
   "metadata": {},
   "outputs": [
    {
     "data": {
      "text/plain": [
       "[1, 3, 5, 7, 9]"
      ]
     },
     "execution_count": 238,
     "metadata": {},
     "output_type": "execute_result"
    }
   ],
   "source": [
    "s[::2]"
   ]
  },
  {
   "cell_type": "code",
   "execution_count": 239,
   "metadata": {},
   "outputs": [
    {
     "data": {
      "text/plain": [
       "'cde'"
      ]
     },
     "execution_count": 239,
     "metadata": {},
     "output_type": "execute_result"
    }
   ],
   "source": [
    "s = 'abcdef'\n",
    "s[-4:-1]"
   ]
  },
  {
   "cell_type": "code",
   "execution_count": 241,
   "metadata": {},
   "outputs": [
    {
     "data": {
      "text/plain": [
       "'fed'"
      ]
     },
     "execution_count": 241,
     "metadata": {},
     "output_type": "execute_result"
    }
   ],
   "source": [
    "s[-1:-4:-1]"
   ]
  },
  {
   "cell_type": "code",
   "execution_count": 246,
   "metadata": {},
   "outputs": [
    {
     "data": {
      "text/plain": [
       "''"
      ]
     },
     "execution_count": 246,
     "metadata": {},
     "output_type": "execute_result"
    }
   ],
   "source": [
    "s[-1:-4]"
   ]
  },
  {
   "cell_type": "code",
   "execution_count": 252,
   "metadata": {},
   "outputs": [
    {
     "data": {
      "text/plain": [
       "'cde'"
      ]
     },
     "execution_count": 252,
     "metadata": {},
     "output_type": "execute_result"
    }
   ],
   "source": [
    "s[-4:-1]"
   ]
  },
  {
   "cell_type": "code",
   "execution_count": 253,
   "metadata": {},
   "outputs": [
    {
     "data": {
      "text/plain": [
       "'fed'"
      ]
     },
     "execution_count": 253,
     "metadata": {},
     "output_type": "execute_result"
    }
   ],
   "source": [
    "s = 'abcdef'\n",
    "s[:-4:-1]"
   ]
  },
  {
   "cell_type": "code",
   "execution_count": 254,
   "metadata": {},
   "outputs": [
    {
     "data": {
      "text/plain": [
       "'cdef'"
      ]
     },
     "execution_count": 254,
     "metadata": {},
     "output_type": "execute_result"
    }
   ],
   "source": [
    "s[-4::]"
   ]
  },
  {
   "cell_type": "code",
   "execution_count": 255,
   "metadata": {},
   "outputs": [
    {
     "data": {
      "text/plain": [
       "'fb'"
      ]
     },
     "execution_count": 255,
     "metadata": {},
     "output_type": "execute_result"
    }
   ],
   "source": [
    "s[::-4]"
   ]
  },
  {
   "cell_type": "code",
   "execution_count": 258,
   "metadata": {},
   "outputs": [
    {
     "data": {
      "text/plain": [
       "'cba'"
      ]
     },
     "execution_count": 258,
     "metadata": {},
     "output_type": "execute_result"
    }
   ],
   "source": [
    "s[2::-1]"
   ]
  },
  {
   "cell_type": "code",
   "execution_count": 263,
   "metadata": {},
   "outputs": [
    {
     "data": {
      "text/plain": [
       "'cdef'"
      ]
     },
     "execution_count": 263,
     "metadata": {},
     "output_type": "execute_result"
    }
   ],
   "source": [
    "s[2::1]"
   ]
  },
  {
   "cell_type": "code",
   "execution_count": 267,
   "metadata": {},
   "outputs": [
    {
     "data": {
      "text/plain": [
       "'cb'"
      ]
     },
     "execution_count": 267,
     "metadata": {},
     "output_type": "execute_result"
    }
   ],
   "source": [
    "s[2:0:-1]"
   ]
  },
  {
   "cell_type": "code",
   "execution_count": 268,
   "metadata": {},
   "outputs": [
    {
     "data": {
      "text/plain": [
       "'dcba'"
      ]
     },
     "execution_count": 268,
     "metadata": {},
     "output_type": "execute_result"
    }
   ],
   "source": [
    "s = 'abcdef'\n",
    "s[-3::-1]"
   ]
  },
  {
   "cell_type": "code",
   "execution_count": 273,
   "metadata": {},
   "outputs": [
    {
     "data": {
      "text/plain": [
       "True"
      ]
     },
     "execution_count": 273,
     "metadata": {},
     "output_type": "execute_result"
    }
   ],
   "source": [
    "a = 'racecar'\n",
    "# a[::-1]\n",
    "a == a[::-1]"
   ]
  },
  {
   "cell_type": "code",
   "execution_count": 274,
   "metadata": {},
   "outputs": [],
   "source": [
    "l = [1,2,3,4,5,6,7,8,9,10]"
   ]
  },
  {
   "cell_type": "code",
   "execution_count": 282,
   "metadata": {},
   "outputs": [
    {
     "data": {
      "text/plain": [
       "[1, 3, 5, 7, 9]"
      ]
     },
     "execution_count": 282,
     "metadata": {},
     "output_type": "execute_result"
    }
   ],
   "source": [
    "l[::2]"
   ]
  },
  {
   "cell_type": "code",
   "execution_count": 283,
   "metadata": {},
   "outputs": [
    {
     "data": {
      "text/plain": [
       "[20, 30]"
      ]
     },
     "execution_count": 283,
     "metadata": {},
     "output_type": "execute_result"
    }
   ],
   "source": [
    "l = [1, 20, 30, 5, 6]\n",
    "l[1:3]"
   ]
  },
  {
   "cell_type": "code",
   "execution_count": 284,
   "metadata": {},
   "outputs": [
    {
     "data": {
      "text/plain": [
       "[1, 100, 200, 5, 6]"
      ]
     },
     "execution_count": 284,
     "metadata": {},
     "output_type": "execute_result"
    }
   ],
   "source": [
    "l[1:3] = [100,200]\n",
    "l"
   ]
  },
  {
   "cell_type": "code",
   "execution_count": 285,
   "metadata": {},
   "outputs": [
    {
     "data": {
      "text/plain": [
       "[1, 'p', 'y', 't', 'h', 'o', 'n', 5, 6]"
      ]
     },
     "execution_count": 285,
     "metadata": {},
     "output_type": "execute_result"
    }
   ],
   "source": [
    "l[1:3] = 'python'\n",
    "l"
   ]
  },
  {
   "cell_type": "code",
   "execution_count": 286,
   "metadata": {},
   "outputs": [
    {
     "data": {
      "text/plain": [
       "['y', 'o', 6]"
      ]
     },
     "execution_count": 286,
     "metadata": {},
     "output_type": "execute_result"
    }
   ],
   "source": [
    "l[2::3]"
   ]
  },
  {
   "cell_type": "code",
   "execution_count": 288,
   "metadata": {},
   "outputs": [
    {
     "data": {
      "text/plain": [
       "[1, 'p', 222, 't', 'h', 888, 'n', 5, 999]"
      ]
     },
     "execution_count": 288,
     "metadata": {},
     "output_type": "execute_result"
    }
   ],
   "source": [
    "l[2::3] = [222,888,999]\n",
    "l"
   ]
  },
  {
   "cell_type": "code",
   "execution_count": 295,
   "metadata": {},
   "outputs": [
    {
     "data": {
      "text/plain": [
       "[1, 2, 3, 4, 5, 6, 300, 200]"
      ]
     },
     "execution_count": 295,
     "metadata": {},
     "output_type": "execute_result"
    }
   ],
   "source": [
    "l = [1, 2, 3, 4, 5, 6, 7, 8]\n",
    "l[:-3:-1] = [200,300]\n",
    "l"
   ]
  },
  {
   "cell_type": "code",
   "execution_count": 298,
   "metadata": {},
   "outputs": [
    {
     "data": {
      "text/plain": [
       "[1, 2, 3, 4, 5]"
      ]
     },
     "execution_count": 298,
     "metadata": {},
     "output_type": "execute_result"
    }
   ],
   "source": [
    "del l[:-2:-1]\n",
    "l"
   ]
  },
  {
   "cell_type": "code",
   "execution_count": 299,
   "metadata": {},
   "outputs": [
    {
     "data": {
      "text/plain": [
       "[1, 2, 3, 4, 5]"
      ]
     },
     "execution_count": 299,
     "metadata": {},
     "output_type": "execute_result"
    }
   ],
   "source": [
    "l"
   ]
  },
  {
   "cell_type": "code",
   "execution_count": 300,
   "metadata": {},
   "outputs": [
    {
     "data": {
      "text/plain": [
       "[1, 3, 5, 7]"
      ]
     },
     "execution_count": 300,
     "metadata": {},
     "output_type": "execute_result"
    }
   ],
   "source": [
    "l = [1, 2, 3, 4, 5, 6, 7, 8]\n",
    "l[::2]"
   ]
  },
  {
   "cell_type": "code",
   "execution_count": 301,
   "metadata": {},
   "outputs": [
    {
     "data": {
      "text/plain": [
       "[2, 4, 6, 8]"
      ]
     },
     "execution_count": 301,
     "metadata": {},
     "output_type": "execute_result"
    }
   ],
   "source": [
    "del l[::2]\n",
    "l"
   ]
  },
  {
   "cell_type": "code",
   "execution_count": 302,
   "metadata": {},
   "outputs": [
    {
     "data": {
      "text/plain": [
       "[2, 4, 6, 8, 5]"
      ]
     },
     "execution_count": 302,
     "metadata": {},
     "output_type": "execute_result"
    }
   ],
   "source": [
    "l.append(5)\n",
    "l"
   ]
  },
  {
   "cell_type": "code",
   "execution_count": 305,
   "metadata": {},
   "outputs": [
    {
     "data": {
      "text/plain": [
       "[2, 4, 6, 8, 5, 6, 7, 8, 9]"
      ]
     },
     "execution_count": 305,
     "metadata": {},
     "output_type": "execute_result"
    }
   ],
   "source": [
    "l.extend((6,7,8,9))\n",
    "l"
   ]
  },
  {
   "cell_type": "code",
   "execution_count": 307,
   "metadata": {},
   "outputs": [
    {
     "data": {
      "text/plain": [
       "[2, 4, 6, 8, 5, 6, 7, 8, 9, 'a', 'b', 'c', 'a', 'b', 'c']"
      ]
     },
     "execution_count": 307,
     "metadata": {},
     "output_type": "execute_result"
    }
   ],
   "source": [
    "l.extend(('abc'))\n",
    "l"
   ]
  },
  {
   "cell_type": "code",
   "execution_count": 308,
   "metadata": {},
   "outputs": [
    {
     "data": {
      "text/plain": [
       "[2, 4, 'aaa', 6, 8, 5, 6, 7, 8, 9, 'a', 'b', 'c', 'a', 'b', 'c']"
      ]
     },
     "execution_count": 308,
     "metadata": {},
     "output_type": "execute_result"
    }
   ],
   "source": [
    "l.insert(2,'aaa')\n",
    "l"
   ]
  },
  {
   "cell_type": "code",
   "execution_count": 309,
   "metadata": {},
   "outputs": [
    {
     "name": "stdout",
     "output_type": "stream",
     "text": [
      "\u001b[1;31mSignature:\u001b[0m\n",
      "\u001b[0mtimeit\u001b[0m\u001b[1;33m(\u001b[0m\u001b[1;33m\n",
      "\u001b[0m    \u001b[0mstmt\u001b[0m\u001b[1;33m=\u001b[0m\u001b[1;34m'pass'\u001b[0m\u001b[1;33m,\u001b[0m\u001b[1;33m\n",
      "\u001b[0m    \u001b[0msetup\u001b[0m\u001b[1;33m=\u001b[0m\u001b[1;34m'pass'\u001b[0m\u001b[1;33m,\u001b[0m\u001b[1;33m\n",
      "\u001b[0m    \u001b[0mtimer\u001b[0m\u001b[1;33m=\u001b[0m\u001b[1;33m<\u001b[0m\u001b[0mbuilt\u001b[0m\u001b[1;33m-\u001b[0m\u001b[1;32min\u001b[0m \u001b[0mfunction\u001b[0m \u001b[0mperf_counter\u001b[0m\u001b[1;33m>\u001b[0m\u001b[1;33m,\u001b[0m\u001b[1;33m\n",
      "\u001b[0m    \u001b[0mnumber\u001b[0m\u001b[1;33m=\u001b[0m\u001b[1;36m1000000\u001b[0m\u001b[1;33m,\u001b[0m\u001b[1;33m\n",
      "\u001b[0m    \u001b[0mglobals\u001b[0m\u001b[1;33m=\u001b[0m\u001b[1;32mNone\u001b[0m\u001b[1;33m,\u001b[0m\u001b[1;33m\n",
      "\u001b[0m\u001b[1;33m)\u001b[0m\u001b[1;33m\u001b[0m\u001b[1;33m\u001b[0m\u001b[0m\n",
      "\u001b[1;31mDocstring:\u001b[0m Convenience function to create Timer object and call timeit method.\n",
      "\u001b[1;31mFile:\u001b[0m      c:\\program files\\windowsapps\\pythonsoftwarefoundation.python.3.11_3.11.2544.0_x64__qbz5n2kfra8p0\\lib\\timeit.py\n",
      "\u001b[1;31mType:\u001b[0m      function"
     ]
    }
   ],
   "source": [
    "from timeit import timeit\n",
    "timeit?"
   ]
  },
  {
   "cell_type": "code",
   "execution_count": 311,
   "metadata": {},
   "outputs": [],
   "source": [
    "l=[]"
   ]
  },
  {
   "cell_type": "code",
   "execution_count": 313,
   "metadata": {},
   "outputs": [
    {
     "data": {
      "text/plain": [
       "0.003491900017252192"
      ]
     },
     "execution_count": 313,
     "metadata": {},
     "output_type": "execute_result"
    }
   ],
   "source": [
    "timeit('l.append(1)',globals=globals(),number=100_000)\n",
    "# len(l)"
   ]
  },
  {
   "cell_type": "code",
   "execution_count": 314,
   "metadata": {},
   "outputs": [
    {
     "data": {
      "text/plain": [
       "200000"
      ]
     },
     "execution_count": 314,
     "metadata": {},
     "output_type": "execute_result"
    }
   ],
   "source": [
    "len(l)"
   ]
  },
  {
   "cell_type": "code",
   "execution_count": 315,
   "metadata": {},
   "outputs": [],
   "source": [
    "l = []"
   ]
  },
  {
   "cell_type": "code",
   "execution_count": 316,
   "metadata": {},
   "outputs": [
    {
     "data": {
      "text/plain": [
       "0.9892556999984663"
      ]
     },
     "execution_count": 316,
     "metadata": {},
     "output_type": "execute_result"
    }
   ],
   "source": [
    "timeit('l.insert(1,0)',globals=globals(),number=100_000)"
   ]
  },
  {
   "cell_type": "code",
   "execution_count": 317,
   "metadata": {},
   "outputs": [
    {
     "data": {
      "text/plain": [
       "[1, 2, 3]"
      ]
     },
     "execution_count": 317,
     "metadata": {},
     "output_type": "execute_result"
    }
   ],
   "source": [
    "l1 = [1, 2, 3]\n",
    "l2 = l1[:]\n",
    "l2"
   ]
  },
  {
   "cell_type": "code",
   "execution_count": 319,
   "metadata": {},
   "outputs": [
    {
     "data": {
      "text/plain": [
       "True"
      ]
     },
     "execution_count": 319,
     "metadata": {},
     "output_type": "execute_result"
    }
   ],
   "source": [
    "l1 == l2"
   ]
  },
  {
   "cell_type": "code",
   "execution_count": 320,
   "metadata": {},
   "outputs": [
    {
     "data": {
      "text/plain": [
       "[1, 2, 3]"
      ]
     },
     "execution_count": 320,
     "metadata": {},
     "output_type": "execute_result"
    }
   ],
   "source": [
    "l3 = l1.copy()\n",
    "l3"
   ]
  },
  {
   "cell_type": "code",
   "execution_count": 325,
   "metadata": {},
   "outputs": [
    {
     "data": {
      "text/plain": [
       "[1, 100, 3]"
      ]
     },
     "execution_count": 325,
     "metadata": {},
     "output_type": "execute_result"
    }
   ],
   "source": [
    "l1[1] = 100\n",
    "l1"
   ]
  },
  {
   "cell_type": "code",
   "execution_count": 326,
   "metadata": {},
   "outputs": [
    {
     "data": {
      "text/plain": [
       "[1, 2, 3]"
      ]
     },
     "execution_count": 326,
     "metadata": {},
     "output_type": "execute_result"
    }
   ],
   "source": [
    "l2"
   ]
  },
  {
   "cell_type": "code",
   "execution_count": 327,
   "metadata": {},
   "outputs": [
    {
     "data": {
      "text/plain": [
       "[[1, 0, 0], [0, 1, 0], [0, 0, 1]]"
      ]
     },
     "execution_count": 327,
     "metadata": {},
     "output_type": "execute_result"
    }
   ],
   "source": [
    "m1 = [[1, 0, 0], [0, 1, 0], [0, 0, 1]]\n",
    "m2 = m1.copy()\n",
    "m2"
   ]
  },
  {
   "cell_type": "code",
   "execution_count": 329,
   "metadata": {},
   "outputs": [
    {
     "data": {
      "text/plain": [
       "True"
      ]
     },
     "execution_count": 329,
     "metadata": {},
     "output_type": "execute_result"
    }
   ],
   "source": [
    "m1[0] is m2[0]"
   ]
  },
  {
   "cell_type": "code",
   "execution_count": 330,
   "metadata": {},
   "outputs": [
    {
     "data": {
      "text/plain": [
       "[100, [0, 1, 0], [0, 0, 1]]"
      ]
     },
     "execution_count": 330,
     "metadata": {},
     "output_type": "execute_result"
    }
   ],
   "source": [
    "m1[0] = 100\n",
    "m1"
   ]
  },
  {
   "cell_type": "code",
   "execution_count": 331,
   "metadata": {},
   "outputs": [
    {
     "data": {
      "text/plain": [
       "[[1, 0, 0], [0, 1, 0], [0, 0, 1]]"
      ]
     },
     "execution_count": 331,
     "metadata": {},
     "output_type": "execute_result"
    }
   ],
   "source": [
    "m2"
   ]
  },
  {
   "cell_type": "code",
   "execution_count": 335,
   "metadata": {},
   "outputs": [],
   "source": [
    "m2[0].append(200)"
   ]
  },
  {
   "cell_type": "code",
   "execution_count": 336,
   "metadata": {},
   "outputs": [
    {
     "data": {
      "text/plain": [
       "[[1, 0, 0, 200], [0, 1, 0], [0, 0, 1]]"
      ]
     },
     "execution_count": 336,
     "metadata": {},
     "output_type": "execute_result"
    }
   ],
   "source": [
    "m2"
   ]
  },
  {
   "cell_type": "code",
   "execution_count": 337,
   "metadata": {},
   "outputs": [
    {
     "data": {
      "text/plain": [
       "[100, [0, 1, 0], [0, 0, 1]]"
      ]
     },
     "execution_count": 337,
     "metadata": {},
     "output_type": "execute_result"
    }
   ],
   "source": [
    "m1"
   ]
  },
  {
   "cell_type": "code",
   "execution_count": 338,
   "metadata": {},
   "outputs": [],
   "source": [
    "m1 = [[1, 0, 0], [0, 1, 0], [0, 0, 1]]\n",
    "m2 = m1.copy()"
   ]
  },
  {
   "cell_type": "code",
   "execution_count": 339,
   "metadata": {},
   "outputs": [
    {
     "data": {
      "text/plain": [
       "([[1, 0, 0], [0, 1, 0], [0, 0, 1]], [[1, 0, 0], [0, 1, 0], [0, 0, 1]])"
      ]
     },
     "execution_count": 339,
     "metadata": {},
     "output_type": "execute_result"
    }
   ],
   "source": [
    "m1, m2"
   ]
  },
  {
   "cell_type": "code",
   "execution_count": 340,
   "metadata": {},
   "outputs": [
    {
     "data": {
      "text/plain": [
       "[[1, 0, 0, 100], [0, 1, 0], [0, 0, 1]]"
      ]
     },
     "execution_count": 340,
     "metadata": {},
     "output_type": "execute_result"
    }
   ],
   "source": [
    "m1[0].append(100)\n",
    "m1"
   ]
  },
  {
   "cell_type": "code",
   "execution_count": 341,
   "metadata": {},
   "outputs": [
    {
     "data": {
      "text/plain": [
       "[[1, 0, 0, 100], [0, 1, 0], [0, 0, 1]]"
      ]
     },
     "execution_count": 341,
     "metadata": {},
     "output_type": "execute_result"
    }
   ],
   "source": [
    "m2"
   ]
  },
  {
   "cell_type": "code",
   "execution_count": 342,
   "metadata": {},
   "outputs": [],
   "source": [
    "from copy import deepcopy"
   ]
  },
  {
   "cell_type": "code",
   "execution_count": 343,
   "metadata": {},
   "outputs": [],
   "source": [
    "m1 = [[1, 0, 0], [0, 1, 0], [0, 0, 1]]"
   ]
  },
  {
   "cell_type": "code",
   "execution_count": 345,
   "metadata": {},
   "outputs": [],
   "source": [
    "m2 = deepcopy(m1)"
   ]
  },
  {
   "cell_type": "code",
   "execution_count": 346,
   "metadata": {},
   "outputs": [
    {
     "data": {
      "text/plain": [
       "False"
      ]
     },
     "execution_count": 346,
     "metadata": {},
     "output_type": "execute_result"
    }
   ],
   "source": [
    "m1[0] is m2[0]"
   ]
  },
  {
   "cell_type": "code",
   "execution_count": 347,
   "metadata": {},
   "outputs": [],
   "source": [
    "m1[0].append(100)"
   ]
  },
  {
   "cell_type": "code",
   "execution_count": 348,
   "metadata": {},
   "outputs": [
    {
     "data": {
      "text/plain": [
       "[[1, 0, 0, 100], [0, 1, 0], [0, 0, 1]]"
      ]
     },
     "execution_count": 348,
     "metadata": {},
     "output_type": "execute_result"
    }
   ],
   "source": [
    "m1"
   ]
  },
  {
   "cell_type": "code",
   "execution_count": 349,
   "metadata": {},
   "outputs": [
    {
     "data": {
      "text/plain": [
       "[[1, 0, 0], [0, 1, 0], [0, 0, 1]]"
      ]
     },
     "execution_count": 349,
     "metadata": {},
     "output_type": "execute_result"
    }
   ],
   "source": [
    "m2"
   ]
  },
  {
   "cell_type": "code",
   "execution_count": 350,
   "metadata": {},
   "outputs": [
    {
     "data": {
      "text/plain": [
       "(10, [1, 2], 'abc')"
      ]
     },
     "execution_count": 350,
     "metadata": {},
     "output_type": "execute_result"
    }
   ],
   "source": [
    "t1 = (10, [1, 2], 'abc')\n",
    "t2 = t1\n",
    "t2"
   ]
  },
  {
   "cell_type": "code",
   "execution_count": 351,
   "metadata": {},
   "outputs": [
    {
     "data": {
      "text/plain": [
       "(2766486401664, 2766486401664)"
      ]
     },
     "execution_count": 351,
     "metadata": {},
     "output_type": "execute_result"
    }
   ],
   "source": [
    "id(t1), id(t2)"
   ]
  },
  {
   "cell_type": "code",
   "execution_count": 352,
   "metadata": {},
   "outputs": [],
   "source": [
    "rate = 5.0, 5.12"
   ]
  },
  {
   "cell_type": "code",
   "execution_count": 353,
   "metadata": {},
   "outputs": [],
   "source": [
    "apr, apy = rate"
   ]
  },
  {
   "cell_type": "code",
   "execution_count": 354,
   "metadata": {},
   "outputs": [
    {
     "data": {
      "text/plain": [
       "(5.0, 5.12)"
      ]
     },
     "execution_count": 354,
     "metadata": {},
     "output_type": "execute_result"
    }
   ],
   "source": [
    "apr, apy"
   ]
  },
  {
   "cell_type": "code",
   "execution_count": 355,
   "metadata": {},
   "outputs": [
    {
     "data": {
      "text/plain": [
       "(2, 'fedcba', 3.14)"
      ]
     },
     "execution_count": 355,
     "metadata": {},
     "output_type": "execute_result"
    }
   ],
   "source": [
    "s = 'abcdef'\n",
    "a,b,c = (1+1,s[::-1],3.14)\n",
    "a,b,c"
   ]
  },
  {
   "cell_type": "code",
   "execution_count": 356,
   "metadata": {},
   "outputs": [],
   "source": [
    "a = 100\n",
    "b = 3.14\n",
    "a,b = b,a"
   ]
  },
  {
   "cell_type": "code",
   "execution_count": 357,
   "metadata": {},
   "outputs": [
    {
     "data": {
      "text/plain": [
       "(3.14, 100)"
      ]
     },
     "execution_count": 357,
     "metadata": {},
     "output_type": "execute_result"
    }
   ],
   "source": [
    "a,b"
   ]
  },
  {
   "cell_type": "code",
   "execution_count": 371,
   "metadata": {},
   "outputs": [
    {
     "data": {
      "text/plain": [
       "'SOMA'"
      ]
     },
     "execution_count": 371,
     "metadata": {},
     "output_type": "execute_result"
    }
   ],
   "source": [
    "s = 'soma'\n",
    "s.upper()"
   ]
  },
  {
   "cell_type": "code",
   "execution_count": 430,
   "metadata": {},
   "outputs": [],
   "source": [
    "s = 'FfEeDdCcBbAa'"
   ]
  },
  {
   "cell_type": "code",
   "execution_count": 431,
   "metadata": {},
   "outputs": [
    {
     "data": {
      "text/plain": [
       "'aAbBcCdDeEfF'"
      ]
     },
     "execution_count": 431,
     "metadata": {},
     "output_type": "execute_result"
    }
   ],
   "source": [
    "reveresed_s = s[::-1]\n",
    "reveresed_s"
   ]
  },
  {
   "cell_type": "code",
   "execution_count": 432,
   "metadata": {},
   "outputs": [
    {
     "data": {
      "text/plain": [
       "'abcdef'"
      ]
     },
     "execution_count": 432,
     "metadata": {},
     "output_type": "execute_result"
    }
   ],
   "source": [
    "reveresed_s[::2]"
   ]
  },
  {
   "cell_type": "code",
   "execution_count": 434,
   "metadata": {},
   "outputs": [
    {
     "data": {
      "text/plain": [
       "'ABCDEF'"
      ]
     },
     "execution_count": 434,
     "metadata": {},
     "output_type": "execute_result"
    }
   ],
   "source": [
    "reveresed_s[1::2]"
   ]
  },
  {
   "cell_type": "code",
   "execution_count": 372,
   "metadata": {},
   "outputs": [
    {
     "data": {
      "text/plain": [
       "list"
      ]
     },
     "execution_count": 372,
     "metadata": {},
     "output_type": "execute_result"
    }
   ],
   "source": [
    "sU = [lambda a:a[x] in a.upper()]\n",
    "type(sU)"
   ]
  },
  {
   "cell_type": "code",
   "execution_count": 386,
   "metadata": {},
   "outputs": [
    {
     "data": {
      "text/plain": [
       "['F', 'E', 'D', 'C', 'B', 'A']"
      ]
     },
     "execution_count": 386,
     "metadata": {},
     "output_type": "execute_result"
    }
   ],
   "source": [
    "sU = [i for i in s if i in s.upper()]\n",
    "sU"
   ]
  },
  {
   "cell_type": "code",
   "execution_count": 387,
   "metadata": {},
   "outputs": [
    {
     "data": {
      "text/plain": [
       "['f', 'e', 'd', 'c', 'b', 'a']"
      ]
     },
     "execution_count": 387,
     "metadata": {},
     "output_type": "execute_result"
    }
   ],
   "source": [
    "sl = [i for i in s if i in s.lower()]\n",
    "sl"
   ]
  },
  {
   "cell_type": "code",
   "execution_count": 388,
   "metadata": {},
   "outputs": [],
   "source": [
    "t1 = 1, 2, 3, 4, 5, 6\n",
    "t2 = 7, 8, 9, 10\n",
    "t3 = 11, 12, 13, 14, 15, 16, 17"
   ]
  },
  {
   "cell_type": "code",
   "execution_count": 389,
   "metadata": {},
   "outputs": [
    {
     "data": {
      "text/plain": [
       "(1, 2, 3, 4, 5, 6, 7, 8, 9, 10, 11, 12, 13, 14, 15, 16, 17)"
      ]
     },
     "execution_count": 389,
     "metadata": {},
     "output_type": "execute_result"
    }
   ],
   "source": [
    "t = t1+t2+t3\n",
    "t"
   ]
  },
  {
   "cell_type": "code",
   "execution_count": 410,
   "metadata": {},
   "outputs": [],
   "source": [
    "# T = [i==0 if( i for i in (t1+t2+t3) if i%2==1) else i] --> wrong"
   ]
  },
  {
   "cell_type": "code",
   "execution_count": 414,
   "metadata": {},
   "outputs": [
    {
     "name": "stdout",
     "output_type": "stream",
     "text": [
      "False\n"
     ]
    }
   ],
   "source": [
    "type(T)\n",
    "for i in T:\n",
    "    print(i)"
   ]
  },
  {
   "cell_type": "code",
   "execution_count": 416,
   "metadata": {},
   "outputs": [
    {
     "data": {
      "text/plain": [
       "[0, 2, 0, 4, 0, 6, 0, 8, 0, 10, 0, 12, 0, 14, 0, 16, 0]"
      ]
     },
     "execution_count": 416,
     "metadata": {},
     "output_type": "execute_result"
    }
   ],
   "source": [
    "T = [0 if i%2==1 else i for i in (t1+t2+t3)]\n",
    "T"
   ]
  },
  {
   "cell_type": "code",
   "execution_count": 421,
   "metadata": {},
   "outputs": [],
   "source": [
    "m = [\n",
    "    [0, 0, 0],\n",
    "    [0, 0, 0],\n",
    "    [0, 0, 0]\n",
    "]"
   ]
  },
  {
   "cell_type": "code",
   "execution_count": 422,
   "metadata": {},
   "outputs": [
    {
     "data": {
      "text/plain": [
       "list"
      ]
     },
     "execution_count": 422,
     "metadata": {},
     "output_type": "execute_result"
    }
   ],
   "source": [
    "type(m)"
   ]
  },
  {
   "cell_type": "code",
   "execution_count": 428,
   "metadata": {},
   "outputs": [],
   "source": [
    "m[0][0] = 1\n",
    "m[1][1] =1\n",
    "m[2][2]=1"
   ]
  },
  {
   "cell_type": "code",
   "execution_count": 429,
   "metadata": {},
   "outputs": [
    {
     "data": {
      "text/plain": [
       "[[1, 0, 0], [0, 1, 0], [0, 0, 1]]"
      ]
     },
     "execution_count": 429,
     "metadata": {},
     "output_type": "execute_result"
    }
   ],
   "source": [
    "m"
   ]
  },
  {
   "cell_type": "code",
   "execution_count": 424,
   "metadata": {},
   "outputs": [
    {
     "ename": "SyntaxError",
     "evalue": "expected 'else' after 'if' expression (907414087.py, line 1)",
     "output_type": "error",
     "traceback": [
      "\u001b[1;36m  Cell \u001b[1;32mIn[424], line 1\u001b[1;36m\u001b[0m\n\u001b[1;33m    [1 if i for i in m[0] else m]\u001b[0m\n\u001b[1;37m     ^\u001b[0m\n\u001b[1;31mSyntaxError\u001b[0m\u001b[1;31m:\u001b[0m expected 'else' after 'if' expression\n"
     ]
    }
   ],
   "source": [
    "[1 if i for i in ]"
   ]
  },
  {
   "cell_type": "code",
   "execution_count": 438,
   "metadata": {},
   "outputs": [],
   "source": [
    "m = [\n",
    "    [0, 0, 0],\n",
    "    [0, 0, 0],\n",
    "    [0, 0, 0]\n",
    "]"
   ]
  },
  {
   "cell_type": "code",
   "execution_count": 440,
   "metadata": {},
   "outputs": [
    {
     "data": {
      "text/plain": [
       "[[0, 0, 0], [0, 0, 0], [0, 0, 0]]"
      ]
     },
     "execution_count": 440,
     "metadata": {},
     "output_type": "execute_result"
    }
   ],
   "source": [
    "result = m.copy()\n",
    "result"
   ]
  },
  {
   "cell_type": "code",
   "execution_count": 442,
   "metadata": {},
   "outputs": [
    {
     "data": {
      "text/plain": [
       "[[1, 0, 0], [0, 1, 0], [0, 0, 1]]"
      ]
     },
     "execution_count": 442,
     "metadata": {},
     "output_type": "execute_result"
    }
   ],
   "source": [
    "result[0][0]=1\n",
    "result[1][1]=1\n",
    "result[2][2]=1\n",
    "result"
   ]
  },
  {
   "cell_type": "code",
   "execution_count": 443,
   "metadata": {},
   "outputs": [
    {
     "data": {
      "text/plain": [
       "[[1, 0, 0], [0, 1, 0], [0, 0, 1]]"
      ]
     },
     "execution_count": 443,
     "metadata": {},
     "output_type": "execute_result"
    }
   ],
   "source": [
    "m"
   ]
  },
  {
   "cell_type": "code",
   "execution_count": 445,
   "metadata": {},
   "outputs": [],
   "source": [
    "from copy import deepcopy\n",
    "\n",
    "m = [\n",
    "    [0, 0, 0],\n",
    "    [0, 0, 0],\n",
    "    [0, 0, 0]\n",
    "]"
   ]
  },
  {
   "cell_type": "code",
   "execution_count": 448,
   "metadata": {},
   "outputs": [
    {
     "data": {
      "text/plain": [
       "[[0, 0, 0], [0, 0, 0], [0, 0, 0]]"
      ]
     },
     "execution_count": 448,
     "metadata": {},
     "output_type": "execute_result"
    }
   ],
   "source": [
    "result = deepcopy(m)\n",
    "result"
   ]
  },
  {
   "cell_type": "code",
   "execution_count": 449,
   "metadata": {},
   "outputs": [
    {
     "data": {
      "text/plain": [
       "[[1, 0, 0], [0, 1, 0], [0, 0, 1]]"
      ]
     },
     "execution_count": 449,
     "metadata": {},
     "output_type": "execute_result"
    }
   ],
   "source": [
    "result[0][0]=1\n",
    "result[1][1]=1\n",
    "result[2][2]=1\n",
    "result"
   ]
  },
  {
   "cell_type": "code",
   "execution_count": 450,
   "metadata": {},
   "outputs": [
    {
     "data": {
      "text/plain": [
       "[[0, 0, 0], [0, 0, 0], [0, 0, 0]]"
      ]
     },
     "execution_count": 450,
     "metadata": {},
     "output_type": "execute_result"
    }
   ],
   "source": [
    "m"
   ]
  },
  {
   "cell_type": "code",
   "execution_count": 451,
   "metadata": {},
   "outputs": [],
   "source": [
    "data = [\n",
    "    (100, 'USD', 'EUR', 0.83),\n",
    "    (100, 'USD', 'CAD', 1.27),\n",
    "    (100, 'CAD', 'EUR', 0.65)\n",
    "]"
   ]
  },
  {
   "cell_type": "code",
   "execution_count": 455,
   "metadata": {},
   "outputs": [
    {
     "data": {
      "text/plain": [
       "list"
      ]
     },
     "execution_count": 455,
     "metadata": {},
     "output_type": "execute_result"
    }
   ],
   "source": [
    "type(data)"
   ]
  },
  {
   "cell_type": "code",
   "execution_count": 460,
   "metadata": {},
   "outputs": [
    {
     "name": "stdout",
     "output_type": "stream",
     "text": [
      "100 USD = 83.0 EUR\n"
     ]
    }
   ],
   "source": [
    "row = 0\n",
    "\n",
    "amount,currency,targ_cur,exch_rate = data[row]\n",
    "converted = amount*exch_rate \n",
    "print(amount,currency,'=',converted,targ_cur, sep=' ')"
   ]
  },
  {
   "cell_type": "code",
   "execution_count": 461,
   "metadata": {},
   "outputs": [
    {
     "name": "stdout",
     "output_type": "stream",
     "text": [
      "100 USD = 127.0 CAD\n"
     ]
    }
   ],
   "source": [
    "row = 1\n",
    "\n",
    "amount,currency,targ_cur,exch_rate = data[row]\n",
    "converted = amount*exch_rate \n",
    "print(amount,currency,'=',converted,targ_cur, sep=' ')"
   ]
  },
  {
   "cell_type": "code",
   "execution_count": 463,
   "metadata": {},
   "outputs": [
    {
     "name": "stdout",
     "output_type": "stream",
     "text": [
      "100 CAD = 65.0 EUR\n"
     ]
    }
   ],
   "source": [
    "row = 2\n",
    "\n",
    "amount,currency,targ_cur,exch_rate = data[row]\n",
    "converted = amount*exch_rate \n",
    "print(amount,currency,'=',converted,targ_cur, sep=' ')"
   ]
  },
  {
   "cell_type": "code",
   "execution_count": 464,
   "metadata": {},
   "outputs": [],
   "source": [
    "var = \"\\N{Latin Capital Letter A}lways look on the bright side of life.\""
   ]
  },
  {
   "cell_type": "code",
   "execution_count": 465,
   "metadata": {},
   "outputs": [
    {
     "data": {
      "text/plain": [
       "'Always look on the bright side of life.'"
      ]
     },
     "execution_count": 465,
     "metadata": {},
     "output_type": "execute_result"
    }
   ],
   "source": [
    "var"
   ]
  },
  {
   "cell_type": "code",
   "execution_count": 466,
   "metadata": {},
   "outputs": [
    {
     "data": {
      "text/plain": [
       "'Always look on the bright side of life.'"
      ]
     },
     "execution_count": 466,
     "metadata": {},
     "output_type": "execute_result"
    }
   ],
   "source": [
    "var = \"Always look on the bright side of life.\"\n",
    "var"
   ]
  },
  {
   "cell_type": "code",
   "execution_count": 469,
   "metadata": {},
   "outputs": [
    {
     "data": {
      "text/plain": [
       "'😀'"
      ]
     },
     "execution_count": 469,
     "metadata": {},
     "output_type": "execute_result"
    }
   ],
   "source": [
    "var = \"\\N{Grinning face}\"\n",
    "var"
   ]
  },
  {
   "cell_type": "code",
   "execution_count": 470,
   "metadata": {},
   "outputs": [
    {
     "data": {
      "text/plain": [
       "'The Definitive Guide To Python'"
      ]
     },
     "execution_count": 470,
     "metadata": {},
     "output_type": "execute_result"
    }
   ],
   "source": [
    "message = 'The definitive guide to Python'\n",
    "message.title()"
   ]
  },
  {
   "cell_type": "code",
   "execution_count": 471,
   "metadata": {},
   "outputs": [
    {
     "data": {
      "text/plain": [
       "'Peter'"
      ]
     },
     "execution_count": 471,
     "metadata": {},
     "output_type": "execute_result"
    }
   ],
   "source": [
    "name = 'Peter '\n",
    "name.rstrip()"
   ]
  },
  {
   "cell_type": "code",
   "execution_count": 472,
   "metadata": {},
   "outputs": [
    {
     "name": "stdout",
     "output_type": "stream",
     "text": [
      "\t Peter\tJones\t\n"
     ]
    }
   ],
   "source": [
    "name = '\\t Peter\\tJones\\t'\n",
    "print(name)"
   ]
  },
  {
   "cell_type": "code",
   "execution_count": 473,
   "metadata": {},
   "outputs": [
    {
     "data": {
      "text/plain": [
       "'PYTHON'"
      ]
     },
     "execution_count": 473,
     "metadata": {},
     "output_type": "execute_result"
    }
   ],
   "source": [
    "s = 'ababPYTHONabab'\n",
    "s.strip('ab')"
   ]
  },
  {
   "cell_type": "code",
   "execution_count": 474,
   "metadata": {},
   "outputs": [
    {
     "data": {
      "text/plain": [
       "['Jones', 'Peter']"
      ]
     },
     "execution_count": 474,
     "metadata": {},
     "output_type": "execute_result"
    }
   ],
   "source": [
    "data = 'Jones,Peter'\n",
    "data.split(',')"
   ]
  },
  {
   "cell_type": "code",
   "execution_count": 475,
   "metadata": {},
   "outputs": [
    {
     "data": {
      "text/plain": [
       "('Jones', 'Peter')"
      ]
     },
     "execution_count": 475,
     "metadata": {},
     "output_type": "execute_result"
    }
   ],
   "source": [
    "f,l = data.split(',')\n",
    "f,l"
   ]
  },
  {
   "cell_type": "code",
   "execution_count": 476,
   "metadata": {},
   "outputs": [
    {
     "data": {
      "text/plain": [
       "'item 1,item 2,item 3'"
      ]
     },
     "execution_count": 476,
     "metadata": {},
     "output_type": "execute_result"
    }
   ],
   "source": [
    "data = ['item 1', 'item 2', 'item 3']\n",
    "','.join(data)"
   ]
  },
  {
   "cell_type": "code",
   "execution_count": 477,
   "metadata": {},
   "outputs": [
    {
     "data": {
      "text/plain": [
       "'a,b,c,d'"
      ]
     },
     "execution_count": 477,
     "metadata": {},
     "output_type": "execute_result"
    }
   ],
   "source": [
    "','.join('abcd')"
   ]
  },
  {
   "cell_type": "code",
   "execution_count": 485,
   "metadata": {},
   "outputs": [
    {
     "data": {
      "text/plain": [
       "True"
      ]
     },
     "execution_count": 485,
     "metadata": {},
     "output_type": "execute_result"
    }
   ],
   "source": [
    "'soma' in 'somashekar'"
   ]
  },
  {
   "cell_type": "code",
   "execution_count": 483,
   "metadata": {},
   "outputs": [
    {
     "data": {
      "text/plain": [
       "True"
      ]
     },
     "execution_count": 483,
     "metadata": {},
     "output_type": "execute_result"
    }
   ],
   "source": [
    "'Soma'.casefold() in 'somashekar'.casefold()"
   ]
  },
  {
   "cell_type": "code",
   "execution_count": 486,
   "metadata": {},
   "outputs": [
    {
     "data": {
      "text/plain": [
       "True"
      ]
     },
     "execution_count": 486,
     "metadata": {},
     "output_type": "execute_result"
    }
   ],
   "source": [
    "'soma shekar'.startswith('soma')"
   ]
  },
  {
   "cell_type": "code",
   "execution_count": 487,
   "metadata": {},
   "outputs": [
    {
     "data": {
      "text/plain": [
       "True"
      ]
     },
     "execution_count": 487,
     "metadata": {},
     "output_type": "execute_result"
    }
   ],
   "source": [
    "'soma shekar'.endswith('shekar')"
   ]
  },
  {
   "cell_type": "code",
   "execution_count": 496,
   "metadata": {},
   "outputs": [
    {
     "data": {
      "text/plain": [
       "25"
      ]
     },
     "execution_count": 496,
     "metadata": {},
     "output_type": "execute_result"
    }
   ],
   "source": [
    "message = 'To every action there is always an equal and opposite reaction.'\n",
    "message.index('always')"
   ]
  },
  {
   "cell_type": "code",
   "execution_count": 498,
   "metadata": {},
   "outputs": [
    {
     "name": "stdout",
     "output_type": "stream",
     "text": [
      "not found\n"
     ]
    }
   ],
   "source": [
    "try:\n",
    "    for idx in  message.index('always'):\n",
    "        print(idx)\n",
    "except:\n",
    "    print('not found')"
   ]
  },
  {
   "cell_type": "code",
   "execution_count": 502,
   "metadata": {},
   "outputs": [
    {
     "name": "stdout",
     "output_type": "stream",
     "text": [
      "25\n"
     ]
    }
   ],
   "source": [
    "message = 'To every action there is always an equal and opposite reaction.'\n",
    "try:\n",
    "    idx = message.index('always')  # Returns the index of 'always' (integer)\n",
    "    print(idx)  # Print the found index\n",
    "except ValueError:  # Catch only specific exception\n",
    "    print('not found')\n"
   ]
  },
  {
   "cell_type": "code",
   "execution_count": 505,
   "metadata": {},
   "outputs": [
    {
     "name": "stdout",
     "output_type": "stream",
     "text": [
      "\u001b[1;31mDocstring:\u001b[0m\n",
      "S.index(sub[, start[, end]]) -> int\n",
      "\n",
      "Return the lowest index in S where substring sub is found,\n",
      "such that sub is contained within S[start:end].  Optional\n",
      "arguments start and end are interpreted as in slice notation.\n",
      "\n",
      "Raises ValueError when the substring is not found.\n",
      "\u001b[1;31mType:\u001b[0m      method_descriptor"
     ]
    }
   ],
   "source": [
    "?str.index"
   ]
  },
  {
   "cell_type": "code",
   "execution_count": 509,
   "metadata": {},
   "outputs": [
    {
     "data": {
      "text/plain": [
       "15"
      ]
     },
     "execution_count": 509,
     "metadata": {},
     "output_type": "execute_result"
    }
   ],
   "source": [
    "st_idx = message.index('action') + len('action')\n",
    "st_idx"
   ]
  },
  {
   "cell_type": "code",
   "execution_count": 516,
   "metadata": {},
   "outputs": [
    {
     "data": {
      "text/plain": [
       "56"
      ]
     },
     "execution_count": 516,
     "metadata": {},
     "output_type": "execute_result"
    }
   ],
   "source": [
    "message.index('action',st_idx)"
   ]
  },
  {
   "cell_type": "code",
   "execution_count": 518,
   "metadata": {},
   "outputs": [
    {
     "name": "stdout",
     "output_type": "stream",
     "text": [
      "do something\n"
     ]
    }
   ],
   "source": [
    "strt = message.find('Newton')\n",
    "if strt == -1:\n",
    "    print('do something')"
   ]
  },
  {
   "cell_type": "code",
   "execution_count": 521,
   "metadata": {},
   "outputs": [
    {
     "data": {
      "text/plain": [
       "0.012059500033501536"
      ]
     },
     "execution_count": 521,
     "metadata": {},
     "output_type": "execute_result"
    }
   ],
   "source": [
    "timeit(\"message.find('ein')\",globals = globals(), number=1000_00)"
   ]
  },
  {
   "cell_type": "code",
   "execution_count": 522,
   "metadata": {},
   "outputs": [
    {
     "data": {
      "text/plain": [
       "0.002888699993491173"
      ]
     },
     "execution_count": 522,
     "metadata": {},
     "output_type": "execute_result"
    }
   ],
   "source": [
    "timeit(\"'ein' in message\",globals=globals(), number=1000_00)"
   ]
  },
  {
   "cell_type": "code",
   "execution_count": 523,
   "metadata": {},
   "outputs": [
    {
     "data": {
      "text/plain": [
       "'100:open, hign:200'"
      ]
     },
     "execution_count": 523,
     "metadata": {},
     "output_type": "execute_result"
    }
   ],
   "source": [
    "'{}:open, hign:{}'.format(100,200)"
   ]
  },
  {
   "cell_type": "code",
   "execution_count": 532,
   "metadata": {},
   "outputs": [
    {
     "data": {
      "text/plain": [
       "'bid:1.58, ask:1.58, spread:-0.00'"
      ]
     },
     "execution_count": 532,
     "metadata": {},
     "output_type": "execute_result"
    }
   ],
   "source": [
    "bid = 1.5760\n",
    "ask = 1.5763\n",
    "\"bid:{:.2f}, ask:{:.2f}, spread:{:.2f}\".format(bid, ask, bid - ask)"
   ]
  },
  {
   "cell_type": "code",
   "execution_count": 538,
   "metadata": {},
   "outputs": [
    {
     "data": {
      "text/plain": [
       "'bid:1.5760, ask:1.5763, spread:-0.0003'"
      ]
     },
     "execution_count": 538,
     "metadata": {},
     "output_type": "execute_result"
    }
   ],
   "source": [
    "\"bid:{bid:.4f}, ask:{ask:.4f}, spread:{spread:.4f}\".format(spread=(bid-ask),bid=bid,ask=ask)"
   ]
  },
  {
   "cell_type": "code",
   "execution_count": 539,
   "metadata": {},
   "outputs": [
    {
     "data": {
      "text/plain": [
       "'10+20=20+10'"
      ]
     },
     "execution_count": 539,
     "metadata": {},
     "output_type": "execute_result"
    }
   ],
   "source": [
    "'{a}+{b}={b}+{a}'.format(a=10,b=20)"
   ]
  },
  {
   "cell_type": "code",
   "execution_count": 540,
   "metadata": {},
   "outputs": [
    {
     "data": {
      "text/plain": [
       "'10+20 = 20+10'"
      ]
     },
     "execution_count": 540,
     "metadata": {},
     "output_type": "execute_result"
    }
   ],
   "source": [
    "a = 10\n",
    "b = 20\n",
    "f'{a}+{b} = {b}+{a}'"
   ]
  },
  {
   "cell_type": "code",
   "execution_count": 541,
   "metadata": {},
   "outputs": [
    {
     "data": {
      "text/plain": [
       "'10+20 =30'"
      ]
     },
     "execution_count": 541,
     "metadata": {},
     "output_type": "execute_result"
    }
   ],
   "source": [
    "f'{a}+{b} ={a+b}'"
   ]
  },
  {
   "cell_type": "code",
   "execution_count": 543,
   "metadata": {},
   "outputs": [
    {
     "data": {
      "text/plain": [
       "'open=10.2'"
      ]
     },
     "execution_count": 543,
     "metadata": {},
     "output_type": "execute_result"
    }
   ],
   "source": [
    "open=10.2\n",
    "f'open={open}'"
   ]
  },
  {
   "cell_type": "code",
   "execution_count": 545,
   "metadata": {},
   "outputs": [
    {
     "data": {
      "text/plain": [
       "'ask=1.5763,spread=0.0003'"
      ]
     },
     "execution_count": 545,
     "metadata": {},
     "output_type": "execute_result"
    }
   ],
   "source": [
    "f'ask={ask:.4f},spread={(ask-bid):.4f}'"
   ]
  },
  {
   "cell_type": "code",
   "execution_count": 546,
   "metadata": {},
   "outputs": [
    {
     "data": {
      "text/plain": [
       "range(0, 10)"
      ]
     },
     "execution_count": 546,
     "metadata": {},
     "output_type": "execute_result"
    }
   ],
   "source": [
    "range(10)"
   ]
  },
  {
   "cell_type": "code",
   "execution_count": 547,
   "metadata": {},
   "outputs": [
    {
     "data": {
      "text/plain": [
       "range"
      ]
     },
     "execution_count": 547,
     "metadata": {},
     "output_type": "execute_result"
    }
   ],
   "source": [
    "type(range(10))"
   ]
  },
  {
   "cell_type": "code",
   "execution_count": 548,
   "metadata": {},
   "outputs": [
    {
     "data": {
      "text/plain": [
       "range(0, 10)"
      ]
     },
     "execution_count": 548,
     "metadata": {},
     "output_type": "execute_result"
    }
   ],
   "source": [
    "a = range(10)\n",
    "a"
   ]
  },
  {
   "cell_type": "code",
   "execution_count": 549,
   "metadata": {},
   "outputs": [
    {
     "data": {
      "text/plain": [
       "(0, 1, 2, 3, 4, 5, 6, 7, 8, 9)"
      ]
     },
     "execution_count": 549,
     "metadata": {},
     "output_type": "execute_result"
    }
   ],
   "source": [
    "tuple(range(10))"
   ]
  },
  {
   "cell_type": "code",
   "execution_count": 550,
   "metadata": {},
   "outputs": [
    {
     "data": {
      "text/plain": [
       "[0, 1, 2, 3, 4, 5, 6, 7, 8, 9]"
      ]
     },
     "execution_count": 550,
     "metadata": {},
     "output_type": "execute_result"
    }
   ],
   "source": [
    "list(range(10))"
   ]
  },
  {
   "cell_type": "code",
   "execution_count": 552,
   "metadata": {},
   "outputs": [
    {
     "data": {
      "text/plain": [
       "[2, 3, 4, 5, 6, 7, 8, 9]"
      ]
     },
     "execution_count": 552,
     "metadata": {},
     "output_type": "execute_result"
    }
   ],
   "source": [
    "list(range(2,10))"
   ]
  },
  {
   "cell_type": "code",
   "execution_count": 553,
   "metadata": {},
   "outputs": [
    {
     "data": {
      "text/plain": [
       "8"
      ]
     },
     "execution_count": 553,
     "metadata": {},
     "output_type": "execute_result"
    }
   ],
   "source": [
    "len(range(2,10))"
   ]
  },
  {
   "cell_type": "code",
   "execution_count": 559,
   "metadata": {},
   "outputs": [
    {
     "data": {
      "text/plain": [
       "[2, 4, 6, 8, 10]"
      ]
     },
     "execution_count": 559,
     "metadata": {},
     "output_type": "execute_result"
    }
   ],
   "source": [
    "list(range(2,11,2))"
   ]
  },
  {
   "cell_type": "code",
   "execution_count": 566,
   "metadata": {},
   "outputs": [
    {
     "data": {
      "text/plain": [
       "[10, 9, 8, 7, 6, 5, 4, 3, 2]"
      ]
     },
     "execution_count": 566,
     "metadata": {},
     "output_type": "execute_result"
    }
   ],
   "source": [
    "list(range(10,1,-1))"
   ]
  },
  {
   "cell_type": "code",
   "execution_count": 569,
   "metadata": {},
   "outputs": [
    {
     "name": "stdout",
     "output_type": "stream",
     "text": [
      "SPADES\n",
      "HEARTS\n",
      "DIAMONDS\n",
      "CLUBS\n"
     ]
    }
   ],
   "source": [
    "suits = ['Spades', 'Hearts', 'Diamonds', 'Clubs']\n",
    "for siut in suits:\n",
    "    print(siut.upper())"
   ]
  },
  {
   "cell_type": "code",
   "execution_count": 570,
   "metadata": {},
   "outputs": [
    {
     "name": "stdout",
     "output_type": "stream",
     "text": [
      "S = Spades\n",
      "H = Hearts\n",
      "D = Diamonds\n",
      "C = Clubs\n"
     ]
    }
   ],
   "source": [
    "for suit in suits:\n",
    "    print(f'{suit[0].upper()} = {suit}')"
   ]
  },
  {
   "cell_type": "code",
   "execution_count": 572,
   "metadata": {},
   "outputs": [
    {
     "name": "stdout",
     "output_type": "stream",
     "text": [
      "i=0,j=0\n",
      "i=0,j=1\n",
      "i=0,j=2\n",
      "----------\n",
      "i=1,j=0\n",
      "i=1,j=1\n",
      "i=1,j=2\n",
      "----------\n",
      "i=2,j=0\n",
      "i=2,j=1\n",
      "i=2,j=2\n",
      "----------\n"
     ]
    }
   ],
   "source": [
    "for i in range(3):\n",
    "    for j in range(3):\n",
    "        print(f'i={i},j={j}')\n",
    "    print('-'*10)"
   ]
  },
  {
   "cell_type": "code",
   "execution_count": 576,
   "metadata": {},
   "outputs": [
    {
     "name": "stdout",
     "output_type": "stream",
     "text": [
      "0 0\n",
      "0 1\n",
      "0 2\n",
      "----------\n",
      "1 0\n",
      "1 1\n",
      "1 2\n",
      "----------\n",
      "2 0\n",
      "2 1\n",
      "2 2\n",
      "----------\n"
     ]
    }
   ],
   "source": [
    "for i in range(3):\n",
    "    for j in range(3):\n",
    "        print(i,j)\n",
    "    print('-'*10)\n"
   ]
  },
  {
   "cell_type": "code",
   "execution_count": 577,
   "metadata": {},
   "outputs": [
    {
     "name": "stdout",
     "output_type": "stream",
     "text": [
      "0\n",
      "1\n",
      "2\n"
     ]
    }
   ],
   "source": [
    "for i in range(3):\n",
    "    print(i)"
   ]
  },
  {
   "cell_type": "code",
   "execution_count": 578,
   "metadata": {},
   "outputs": [],
   "source": [
    "m = [\n",
    "    [1, 2, 3],\n",
    "    [4, 5, 6],\n",
    "    [7, 8, 9]\n",
    "]"
   ]
  },
  {
   "cell_type": "code",
   "execution_count": 585,
   "metadata": {},
   "outputs": [
    {
     "name": "stdout",
     "output_type": "stream",
     "text": [
      "[0,0] = 1\n",
      "[0,1] = 2\n",
      "[0,2] = 3\n",
      "[1,0] = 4\n",
      "[1,1] = 5\n",
      "[1,2] = 6\n",
      "[2,0] = 7\n",
      "[2,1] = 8\n",
      "[2,2] = 9\n"
     ]
    }
   ],
   "source": [
    "for i in range(3):\n",
    "    for j in range(3):\n",
    "        print(f'[{i},{j}] = {m[i][j]}')"
   ]
  },
  {
   "cell_type": "code",
   "execution_count": 590,
   "metadata": {},
   "outputs": [
    {
     "name": "stdout",
     "output_type": "stream",
     "text": [
      "[0,0] = 1\n",
      "[0,1] = 2\n",
      "[0,2] = 3\n",
      "[1,0] = 4\n",
      "[1,1] = 5\n",
      "[1,2] = 6\n",
      "[2,0] = 7\n",
      "[2,1] = 8\n",
      "[2,2] = 9\n"
     ]
    }
   ],
   "source": [
    "for i in range(len(m)):\n",
    "    for j in range(len(m[i])):\n",
    "        print(f'[{i},{j}] = {m[i][j]}')\n"
   ]
  },
  {
   "cell_type": "code",
   "execution_count": 591,
   "metadata": {},
   "outputs": [],
   "source": [
    "m = [\n",
    "    [0, 1],\n",
    "    [2, 3, 4, 5, 6],\n",
    "    [7, 8, 9],\n",
    "    [10]\n",
    "]"
   ]
  },
  {
   "cell_type": "code",
   "execution_count": 594,
   "metadata": {},
   "outputs": [
    {
     "name": "stdout",
     "output_type": "stream",
     "text": [
      "[0,0] = 0\n",
      "[0,1] = 1\n",
      "[1,0] = 2\n",
      "[1,1] = 3\n",
      "[1,2] = 4\n",
      "[1,3] = 5\n",
      "[1,4] = 6\n",
      "[2,0] = 7\n",
      "[2,1] = 8\n",
      "[2,2] = 9\n",
      "[3,0] = 10\n"
     ]
    }
   ],
   "source": [
    "for i in range(len(m)):\n",
    "    for j in range(len(m[i])):\n",
    "        print(f'[{i},{j}] = {m[i][j]}')\n"
   ]
  },
  {
   "cell_type": "code",
   "execution_count": 595,
   "metadata": {},
   "outputs": [],
   "source": [
    "m = [\n",
    "    [1, 0, 0],\n",
    "    [0, 1, 0],\n",
    "    [0, 0, 1]\n",
    "]"
   ]
  },
  {
   "cell_type": "code",
   "execution_count": 596,
   "metadata": {},
   "outputs": [
    {
     "name": "stdout",
     "output_type": "stream",
     "text": [
      "[0,0] = 1\n",
      "[0,1] = 0\n",
      "[0,2] = 0\n",
      "[1,0] = 0\n",
      "[1,1] = 1\n",
      "[1,2] = 0\n",
      "[2,0] = 0\n",
      "[2,1] = 0\n",
      "[2,2] = 1\n"
     ]
    }
   ],
   "source": [
    "for i in range(len(m)):\n",
    "    for j in range(len(m[i])):\n",
    "        print(f'[{i},{j}] = {m[i][j]}')"
   ]
  },
  {
   "cell_type": "code",
   "execution_count": 598,
   "metadata": {},
   "outputs": [],
   "source": [
    "n = 3\n",
    "matrix = []\n",
    "for i in range(n):\n",
    "    row = []\n",
    "    for j in range(n):\n",
    "        if i==j:\n",
    "            row.append(1)\n",
    "        else:\n",
    "            row.append(0)\n",
    "    matrix.append(row)\n",
    "\n"
   ]
  },
  {
   "cell_type": "code",
   "execution_count": 599,
   "metadata": {},
   "outputs": [
    {
     "data": {
      "text/plain": [
       "[[1, 0, 0], [0, 1, 0], [0, 0, 1]]"
      ]
     },
     "execution_count": 599,
     "metadata": {},
     "output_type": "execute_result"
    }
   ],
   "source": [
    "matrix"
   ]
  },
  {
   "cell_type": "code",
   "execution_count": 604,
   "metadata": {},
   "outputs": [
    {
     "data": {
      "text/plain": [
       "[(1, 10), (2, 20), (3, 30)]"
      ]
     },
     "execution_count": 604,
     "metadata": {},
     "output_type": "execute_result"
    }
   ],
   "source": [
    "data = [10, 20, 30]\n",
    "list(enumerate(data, start=1))"
   ]
  },
  {
   "cell_type": "code",
   "execution_count": 602,
   "metadata": {},
   "outputs": [
    {
     "name": "stdout",
     "output_type": "stream",
     "text": [
      "\u001b[1;31mInit signature:\u001b[0m \u001b[0menumerate\u001b[0m\u001b[1;33m(\u001b[0m\u001b[0miterable\u001b[0m\u001b[1;33m,\u001b[0m \u001b[0mstart\u001b[0m\u001b[1;33m=\u001b[0m\u001b[1;36m0\u001b[0m\u001b[1;33m)\u001b[0m\u001b[1;33m\u001b[0m\u001b[1;33m\u001b[0m\u001b[0m\n",
      "\u001b[1;31mDocstring:\u001b[0m     \n",
      "Return an enumerate object.\n",
      "\n",
      "  iterable\n",
      "    an object supporting iteration\n",
      "\n",
      "The enumerate object yields pairs containing a count (from start, which\n",
      "defaults to zero) and a value yielded by the iterable argument.\n",
      "\n",
      "enumerate is useful for obtaining an indexed list:\n",
      "    (0, seq[0]), (1, seq[1]), (2, seq[2]), ...\n",
      "\u001b[1;31mType:\u001b[0m           type\n",
      "\u001b[1;31mSubclasses:\u001b[0m     "
     ]
    }
   ],
   "source": [
    ".enumerate?"
   ]
  },
  {
   "cell_type": "code",
   "execution_count": 605,
   "metadata": {},
   "outputs": [
    {
     "name": "stdout",
     "output_type": "stream",
     "text": [
      "(0, 10)\n",
      "(1, 20)\n",
      "(2, 30)\n"
     ]
    }
   ],
   "source": [
    "for i in enumerate(data):\n",
    "    print(i)"
   ]
  },
  {
   "cell_type": "code",
   "execution_count": 609,
   "metadata": {},
   "outputs": [
    {
     "name": "stdout",
     "output_type": "stream",
     "text": [
      "(0:10)\n",
      "(1:20)\n",
      "(2:30)\n"
     ]
    }
   ],
   "source": [
    "for i, v in enumerate(data):\n",
    "    print(f'({i}:{v})')"
   ]
  },
  {
   "cell_type": "code",
   "execution_count": 610,
   "metadata": {},
   "outputs": [
    {
     "name": "stdout",
     "output_type": "stream",
     "text": [
      "0\n",
      "1\n",
      "2\n",
      "3\n",
      "4\n",
      "5\n",
      "6\n",
      "7\n",
      "8\n",
      "9\n",
      "10\n"
     ]
    }
   ],
   "source": [
    "m = [\n",
    "    [0, 1],\n",
    "    [2, 3, 4, 5, 6],\n",
    "    [7, 8, 9],\n",
    "    [10]\n",
    "]\n",
    "\n",
    "for row in m:\n",
    "    for ele in row:\n",
    "        print(ele)"
   ]
  },
  {
   "cell_type": "code",
   "execution_count": 619,
   "metadata": {},
   "outputs": [
    {
     "name": "stdout",
     "output_type": "stream",
     "text": [
      "[0,0]=0\n",
      "[0,1]=1\n",
      "[1,0]=2\n",
      "[1,1]=3\n",
      "[1,2]=4\n",
      "[1,3]=5\n",
      "[1,4]=6\n",
      "[2,0]=7\n",
      "[2,1]=8\n",
      "[2,2]=9\n",
      "[3,0]=10\n"
     ]
    }
   ],
   "source": [
    "for rid, row in enumerate(m):\n",
    "    for colid, ele in enumerate(row):\n",
    "        print(f'[{rid},{colid}]={ele}')"
   ]
  },
  {
   "cell_type": "code",
   "execution_count": 631,
   "metadata": {},
   "outputs": [
    {
     "name": "stdout",
     "output_type": "stream",
     "text": [
      "[0,0] = 0\n",
      "[0,1] = 1\n",
      "[1,0] = 2\n",
      "[1,1] = 3\n",
      "[1,2] = 4\n",
      "[1,3] = 5\n",
      "[1,4] = 6\n",
      "[2,0] = 7\n",
      "[2,1] = 8\n",
      "[2,2] = 9\n",
      "[3,0] = 10\n"
     ]
    }
   ],
   "source": [
    "m = [\n",
    "    [0, 1],\n",
    "    [2, 3, 4, 5, 6],\n",
    "    [7, 8, 9],\n",
    "    [10]\n",
    "]\n",
    "for rid in range(len(m)):\n",
    "    for cid in range(len(m[rid])):\n",
    "        print(f'[{rid},{cid}] = {m[rid][cid]}')"
   ]
  },
  {
   "cell_type": "code",
   "execution_count": 638,
   "metadata": {},
   "outputs": [],
   "source": [
    "n = 5\n",
    "matrix = []\n",
    "\n",
    "for rid in range(n):\n",
    "    row=[]\n",
    "    for cid in range(n):\n",
    "        if rid == cid:\n",
    "            row.append(1)\n",
    "        else:\n",
    "            row.append(0)\n",
    "    matrix.append(row)"
   ]
  },
  {
   "cell_type": "code",
   "execution_count": 639,
   "metadata": {},
   "outputs": [
    {
     "data": {
      "text/plain": [
       "[[1, 0, 0, 0, 0],\n",
       " [0, 1, 0, 0, 0],\n",
       " [0, 0, 1, 0, 0],\n",
       " [0, 0, 0, 1, 0],\n",
       " [0, 0, 0, 0, 1]]"
      ]
     },
     "execution_count": 639,
     "metadata": {},
     "output_type": "execute_result"
    }
   ],
   "source": [
    "matrix"
   ]
  },
  {
   "cell_type": "code",
   "execution_count": 643,
   "metadata": {},
   "outputs": [
    {
     "data": {
      "text/plain": [
       "[[0, 1], [2, 3, 4, 5, 6], [7, 8, 9], [10]]"
      ]
     },
     "execution_count": 643,
     "metadata": {},
     "output_type": "execute_result"
    }
   ],
   "source": [
    "m"
   ]
  },
  {
   "cell_type": "code",
   "execution_count": 644,
   "metadata": {},
   "outputs": [
    {
     "name": "stdout",
     "output_type": "stream",
     "text": [
      "0\n",
      "1\n",
      "2\n",
      "3\n",
      "4\n",
      "5\n",
      "6\n",
      "7\n",
      "8\n",
      "9\n",
      "10\n"
     ]
    }
   ],
   "source": [
    "for row in m:\n",
    "    for ele in row:\n",
    "        print(ele)"
   ]
  },
  {
   "cell_type": "code",
   "execution_count": 645,
   "metadata": {},
   "outputs": [
    {
     "data": {
      "text/plain": [
       "[[0, 1], [2, 3, 4, 5, 6], [7, 8, 9], [10]]"
      ]
     },
     "execution_count": 645,
     "metadata": {},
     "output_type": "execute_result"
    }
   ],
   "source": [
    "m"
   ]
  },
  {
   "cell_type": "code",
   "execution_count": 647,
   "metadata": {},
   "outputs": [
    {
     "name": "stdout",
     "output_type": "stream",
     "text": [
      "[0,0]=0\n",
      "[0,1]=1\n",
      "[1,0]=2\n",
      "[1,1]=3\n",
      "[1,2]=4\n",
      "[1,3]=5\n",
      "[1,4]=6\n",
      "[2,0]=7\n",
      "[2,1]=8\n",
      "[2,2]=9\n",
      "[3,0]=10\n"
     ]
    }
   ],
   "source": [
    "for rid,row in enumerate(m):\n",
    "    for cid,ele in enumerate(row):\n",
    "        print(f'[{rid},{cid}]={m[rid][cid]}') \n"
   ]
  },
  {
   "cell_type": "code",
   "execution_count": 653,
   "metadata": {},
   "outputs": [
    {
     "name": "stdout",
     "output_type": "stream",
     "text": [
      "0 [0, 1]\n",
      "0 0\n",
      "1 1\n",
      "1 [2, 3, 4, 5, 6]\n",
      "0 2\n",
      "1 3\n",
      "2 4\n",
      "3 5\n",
      "4 6\n",
      "2 [7, 8, 9]\n",
      "0 7\n",
      "1 8\n",
      "2 9\n",
      "3 [10]\n",
      "0 10\n"
     ]
    }
   ],
   "source": [
    "for rid,row in enumerate(m):\n",
    "    print(rid,row)\n",
    "    for cid,ele in enumerate(row):\n",
    "        print(cid,ele)"
   ]
  },
  {
   "cell_type": "code",
   "execution_count": 661,
   "metadata": {},
   "outputs": [],
   "source": [
    "data = [10.5, 11.2, 9.8, None, 11.5, None]"
   ]
  },
  {
   "cell_type": "code",
   "execution_count": 663,
   "metadata": {},
   "outputs": [
    {
     "name": "stdout",
     "output_type": "stream",
     "text": [
      "10.75\n"
     ]
    }
   ],
   "source": [
    "count=0\n",
    "tot =0\n",
    "\n",
    "for val in data:\n",
    "    if val is not None:\n",
    "        count += 1\n",
    "        tot += val\n",
    "avg = tot/count\n",
    "print(avg)"
   ]
  },
  {
   "cell_type": "code",
   "execution_count": 671,
   "metadata": {},
   "outputs": [
    {
     "name": "stdout",
     "output_type": "stream",
     "text": [
      "[10.5, 11.2, 9.8, 10.75, 11.5, 10.75]\n"
     ]
    }
   ],
   "source": [
    "data = [10.5, 11.2, 9.8, None, 11.5, None]\n",
    "for i in range(len(data)):\n",
    "    if data[i] is None:\n",
    "        data[i] = avg\n",
    "print(data)"
   ]
  },
  {
   "cell_type": "code",
   "execution_count": 674,
   "metadata": {},
   "outputs": [
    {
     "name": "stdout",
     "output_type": "stream",
     "text": [
      "[10.5, 11.2, 9.8, 10.75, 11.5, 10.75]\n"
     ]
    }
   ],
   "source": [
    "for i, val in enumerate(data):\n",
    "    if val is None:\n",
    "        data[i] = avg\n",
    "print(data)"
   ]
  },
  {
   "cell_type": "code",
   "execution_count": 676,
   "metadata": {},
   "outputs": [
    {
     "name": "stdout",
     "output_type": "stream",
     "text": [
      "[10.5, 11.2, 9.8, None, 11.5, None]\n"
     ]
    }
   ],
   "source": [
    "# data = [10.5, 11.2, 9.8, None, 11.5, None]\n",
    "# for val in data:\n",
    "#     if val is None:\n",
    "#         val = avg\n",
    "# print(data)"
   ]
  },
  {
   "cell_type": "code",
   "execution_count": 678,
   "metadata": {},
   "outputs": [
    {
     "name": "stdout",
     "output_type": "stream",
     "text": [
      "0 10.5\n",
      "1 11.2\n",
      "2 9.8\n",
      "3 None\n",
      "4 11.5\n",
      "5 None\n"
     ]
    }
   ],
   "source": [
    "for i, v in enumerate(data):\n",
    "    print(i,v)"
   ]
  },
  {
   "cell_type": "code",
   "execution_count": 679,
   "metadata": {},
   "outputs": [
    {
     "data": {
      "text/plain": [
       "list"
      ]
     },
     "execution_count": 679,
     "metadata": {},
     "output_type": "execute_result"
    }
   ],
   "source": [
    "type(data)"
   ]
  },
  {
   "cell_type": "code",
   "execution_count": 680,
   "metadata": {},
   "outputs": [
    {
     "data": {
      "text/plain": [
       "[1000, 11.2, 9.8, None, 11.5, None]"
      ]
     },
     "execution_count": 680,
     "metadata": {},
     "output_type": "execute_result"
    }
   ],
   "source": [
    "data[0] = 1000\n",
    "data"
   ]
  },
  {
   "cell_type": "code",
   "execution_count": 683,
   "metadata": {},
   "outputs": [
    {
     "data": {
      "text/plain": [
       "[10.5, 11.2, 9.8, None, 11.5, None]"
      ]
     },
     "execution_count": 683,
     "metadata": {},
     "output_type": "execute_result"
    }
   ],
   "source": [
    "data = [10.5, 11.2, 9.8, None, 11.5, None]\n",
    "count = sum(1 for val in data if val is None)\n",
    "tot = sum(val for val in data if val is not None)\n",
    "avg = tot/count\n",
    "data = [val if val in data is not None else avg for val in data]\n",
    "data"
   ]
  },
  {
   "cell_type": "code",
   "execution_count": 695,
   "metadata": {},
   "outputs": [
    {
     "name": "stdout",
     "output_type": "stream",
     "text": [
      "Price:100, waiting\n",
      "Price:99, waiting\n",
      "Price:98, waiting\n",
      "Price:97, waiting\n",
      "Price:96, waiting\n",
      "Price:95, waiting\n",
      "Price:94, waiting\n",
      "Price:93, waiting\n",
      "Price:92, waiting\n",
      "Price:91, waiting\n",
      "Price:90, waiting\n",
      "Price:89, buying\n"
     ]
    }
   ],
   "source": [
    "price = 100\n",
    "while price>=90:\n",
    "    print(f'Price:{price}, waiting')\n",
    "    price-=1\n",
    "print(f'Price:{price}, buying')"
   ]
  },
  {
   "cell_type": "code",
   "execution_count": 700,
   "metadata": {},
   "outputs": [
    {
     "name": "stdout",
     "output_type": "stream",
     "text": [
      "[10, 20, 30, 0, 50, 0]\n"
     ]
    }
   ],
   "source": [
    "data = [10,20,30,-40,50,-60]\n",
    "\n",
    "for idx,ele in enumerate(data):\n",
    "    if ele<0:\n",
    "        data[idx]=0\n",
    "    else:\n",
    "        ele\n",
    "print(data)"
   ]
  },
  {
   "cell_type": "code",
   "execution_count": 701,
   "metadata": {},
   "outputs": [
    {
     "data": {
      "text/plain": [
       "[2, 4, 6, 8, 10]"
      ]
     },
     "execution_count": 701,
     "metadata": {},
     "output_type": "execute_result"
    }
   ],
   "source": [
    "[i for i in range(2,11,2)]"
   ]
  },
  {
   "cell_type": "code",
   "execution_count": 703,
   "metadata": {},
   "outputs": [
    {
     "name": "stdout",
     "output_type": "stream",
     "text": [
      "i=0,j=0\n",
      "i=0,j=1\n",
      "i=0,j=2\n",
      "----------\n",
      "i=1,j=0\n",
      "i=1,j=1\n",
      "i=1,j=2\n",
      "----------\n",
      "i=2,j=0\n",
      "i=2,j=1\n",
      "i=2,j=2\n",
      "----------\n"
     ]
    }
   ],
   "source": [
    "for i in range(3):\n",
    "    for j in range(3):\n",
    "        print(f'i={i},j={j}')\n",
    "    print('-'*10)"
   ]
  },
  {
   "cell_type": "code",
   "execution_count": 709,
   "metadata": {},
   "outputs": [
    {
     "name": "stdout",
     "output_type": "stream",
     "text": [
      "(0, 0) = 0\n",
      "(0, 1) = 1\n",
      "(1, 0) = 2\n",
      "(1, 1) = 3\n",
      "(1, 2) = 4\n",
      "(1, 3) = 5\n",
      "(1, 4) = 6\n",
      "(2, 0) = 7\n",
      "(2, 1) = 8\n",
      "(2, 2) = 9\n",
      "(3, 0) = 10\n"
     ]
    }
   ],
   "source": [
    "m = [\n",
    "    [0, 1],\n",
    "    [2, 3, 4, 5, 6],\n",
    "    [7, 8, 9],\n",
    "    [10]\n",
    "]\n",
    "\n",
    "for idx,ele in enumerate(m):\n",
    "    # print(idx,ele)\n",
    "    for idc,ele in enumerate(ele):\n",
    "        # print(idc)\n",
    "        print(f'({idx}, {idc}) = {ele}')"
   ]
  },
  {
   "cell_type": "code",
   "execution_count": 721,
   "metadata": {},
   "outputs": [
    {
     "data": {
      "text/plain": [
       "[10.5, 11.2, 9.8, 10.75, 11.5, 10.75]"
      ]
     },
     "execution_count": 721,
     "metadata": {},
     "output_type": "execute_result"
    }
   ],
   "source": [
    "data = [10.5, 11.2, 9.8, None, 11.5, None]\n",
    "count = sum(1 for i in data if i is not None) \n",
    "tot = sum(i for i in data if i is not None)\n",
    "tot\n",
    "avg = tot/count\n",
    "avg\n",
    "data = [val if val is not None else avg for val in data]\n",
    "data"
   ]
  },
  {
   "cell_type": "code",
   "execution_count": 768,
   "metadata": {},
   "outputs": [],
   "source": [
    "data = [100, 200, 300, 400, 500]"
   ]
  },
  {
   "cell_type": "code",
   "execution_count": 760,
   "metadata": {},
   "outputs": [
    {
     "name": "stdout",
     "output_type": "stream",
     "text": [
      "pricessing element:500\n",
      "pricessing element:400\n",
      "pricessing element:300\n",
      "pricessing element:200\n",
      "pricessing element:100\n"
     ]
    }
   ],
   "source": [
    "while len(data)>0:\n",
    "    element  = data.pop()\n",
    "    print(f'pricessing element:{element}')"
   ]
  },
  {
   "cell_type": "code",
   "execution_count": 761,
   "metadata": {},
   "outputs": [
    {
     "data": {
      "text/plain": [
       "[]"
      ]
     },
     "execution_count": 761,
     "metadata": {},
     "output_type": "execute_result"
    }
   ],
   "source": [
    "data"
   ]
  },
  {
   "cell_type": "code",
   "execution_count": 769,
   "metadata": {},
   "outputs": [
    {
     "name": "stdout",
     "output_type": "stream",
     "text": [
      "pricessing ele:0\n",
      "pricessing ele:1\n",
      "pricessing ele:2\n",
      "pricessing ele:3\n"
     ]
    },
    {
     "ename": "IndexError",
     "evalue": "pop index out of range",
     "output_type": "error",
     "traceback": [
      "\u001b[1;31m---------------------------------------------------------------------------\u001b[0m",
      "\u001b[1;31mIndexError\u001b[0m                                Traceback (most recent call last)",
      "Cell \u001b[1;32mIn[769], line 3\u001b[0m\n\u001b[0;32m      1\u001b[0m \u001b[38;5;28;01mfor\u001b[39;00m i \u001b[38;5;129;01min\u001b[39;00m \u001b[38;5;28mrange\u001b[39m(\u001b[38;5;28mlen\u001b[39m(data)):\n\u001b[0;32m      2\u001b[0m     \u001b[38;5;28mprint\u001b[39m(\u001b[38;5;124mf\u001b[39m\u001b[38;5;124m'\u001b[39m\u001b[38;5;124mpricessing ele:\u001b[39m\u001b[38;5;132;01m{\u001b[39;00mi\u001b[38;5;132;01m}\u001b[39;00m\u001b[38;5;124m'\u001b[39m)\n\u001b[1;32m----> 3\u001b[0m     \u001b[43mdata\u001b[49m\u001b[38;5;241;43m.\u001b[39;49m\u001b[43mpop\u001b[49m\u001b[43m(\u001b[49m\u001b[43mi\u001b[49m\u001b[43m)\u001b[49m\n",
      "\u001b[1;31mIndexError\u001b[0m: pop index out of range"
     ]
    }
   ],
   "source": [
    "for i in range(len(data)):\n",
    "    print(f'pricessing ele:{i}')\n",
    "    data.pop(i)"
   ]
  },
  {
   "cell_type": "code",
   "execution_count": 784,
   "metadata": {},
   "outputs": [
    {
     "name": "stdout",
     "output_type": "stream",
     "text": [
      "0\n",
      "1\n",
      "2\n",
      "3\n",
      "4\n",
      "5\n",
      "breaking out\n",
      "done\n"
     ]
    }
   ],
   "source": [
    "for i in range(100):\n",
    "    print(i)\n",
    "    if i>=5:\n",
    "        print('breaking out')\n",
    "        break\n",
    "print('done')"
   ]
  },
  {
   "cell_type": "code",
   "execution_count": 786,
   "metadata": {},
   "outputs": [
    {
     "name": "stdout",
     "output_type": "stream",
     "text": [
      "5\n"
     ]
    }
   ],
   "source": [
    "print(i)"
   ]
  },
  {
   "cell_type": "code",
   "execution_count": 782,
   "metadata": {},
   "outputs": [],
   "source": [
    "for i in range(1,11):\n",
    "    if i%2==1:\n",
    "        break\n",
    "    print(i)\n"
   ]
  },
  {
   "cell_type": "code",
   "execution_count": 783,
   "metadata": {},
   "outputs": [
    {
     "name": "stdout",
     "output_type": "stream",
     "text": [
      "1\n"
     ]
    }
   ],
   "source": [
    "print(i)"
   ]
  },
  {
   "cell_type": "code",
   "execution_count": 806,
   "metadata": {},
   "outputs": [
    {
     "name": "stdout",
     "output_type": "stream",
     "text": [
      "10\n"
     ]
    }
   ],
   "source": [
    "if i in range(1,11):\n",
    "    if i%2 == 0:\n",
    "        print(i)"
   ]
  },
  {
   "cell_type": "code",
   "execution_count": 798,
   "metadata": {},
   "outputs": [
    {
     "name": "stdout",
     "output_type": "stream",
     "text": [
      "5\n"
     ]
    }
   ],
   "source": [
    "print(i)"
   ]
  },
  {
   "cell_type": "code",
   "execution_count": 810,
   "metadata": {},
   "outputs": [
    {
     "name": "stdout",
     "output_type": "stream",
     "text": [
      "2\n",
      "4\n",
      "6\n",
      "8\n",
      "10\n"
     ]
    }
   ],
   "source": [
    "for i in range(1, 11):\n",
    "    if i % 2 == 0:\n",
    "        # even number\n",
    "        print(i)"
   ]
  },
  {
   "cell_type": "code",
   "execution_count": 817,
   "metadata": {},
   "outputs": [
    {
     "name": "stdout",
     "output_type": "stream",
     "text": [
      "adding nums: 1+1 = 2\n",
      "skipping as 1+2 = 3 is odd\n",
      "**********\n",
      "skipping as 2+1 = 3 is odd\n",
      "**********\n",
      "adding nums: 3+1 = 4\n",
      "skipping as 3+2 = 5 is odd\n",
      "**********\n",
      "skipping as 4+1 = 5 is odd\n",
      "**********\n"
     ]
    }
   ],
   "source": [
    "for i in range(1,5):\n",
    "    for j in range(1,5):\n",
    "\n",
    "        if (i+j)%2 == 1:\n",
    "            print(f'skipping as {i}+{j} = {i+j} is odd')\n",
    "            break\n",
    "        print(f'adding nums: {i}+{j} = {i+j}')\n",
    "    print('*'*10)\n"
   ]
  },
  {
   "cell_type": "code",
   "execution_count": 818,
   "metadata": {},
   "outputs": [
    {
     "name": "stdout",
     "output_type": "stream",
     "text": [
      "1\n",
      "2\n",
      "3\n",
      "4\n",
      "5\n"
     ]
    }
   ],
   "source": [
    "i = 0\n",
    "while True:\n",
    "    i+=1\n",
    "    if i>5:\n",
    "        break\n",
    "    print(i)"
   ]
  },
  {
   "cell_type": "code",
   "execution_count": 837,
   "metadata": {},
   "outputs": [
    {
     "name": "stdout",
     "output_type": "stream",
     "text": [
      "1\n",
      "2\n",
      "3\n"
     ]
    }
   ],
   "source": [
    "data = [1,2,3,-4,5,6]\n",
    "all_positive = True\n",
    "\n",
    "for ele in data:\n",
    "    if ele <=0:\n",
    "        all_positive = False\n",
    "        break\n",
    "    print(ele)"
   ]
  },
  {
   "cell_type": "code",
   "execution_count": 833,
   "metadata": {},
   "outputs": [
    {
     "data": {
      "text/plain": [
       "False"
      ]
     },
     "execution_count": 833,
     "metadata": {},
     "output_type": "execute_result"
    }
   ],
   "source": [
    "all_positive"
   ]
  },
  {
   "cell_type": "code",
   "execution_count": 857,
   "metadata": {},
   "outputs": [
    {
     "name": "stdout",
     "output_type": "stream",
     "text": [
      "prcoessing all the ele\n"
     ]
    }
   ],
   "source": [
    "data = [1,2,3,4,5,6]\n",
    "for ele in data:\n",
    "    if ele<0:\n",
    "        break\n",
    "else:\n",
    "    print('prcoessing all the ele')"
   ]
  },
  {
   "cell_type": "code",
   "execution_count": 858,
   "metadata": {},
   "outputs": [
    {
     "data": {
      "text/plain": [
       "6"
      ]
     },
     "execution_count": 858,
     "metadata": {},
     "output_type": "execute_result"
    }
   ],
   "source": [
    "ele"
   ]
  },
  {
   "cell_type": "code",
   "execution_count": 859,
   "metadata": {},
   "outputs": [
    {
     "ename": "TypeError",
     "evalue": "unhashable type: 'list'",
     "output_type": "error",
     "traceback": [
      "\u001b[1;31m---------------------------------------------------------------------------\u001b[0m",
      "\u001b[1;31mTypeError\u001b[0m                                 Traceback (most recent call last)",
      "Cell \u001b[1;32mIn[859], line 2\u001b[0m\n\u001b[0;32m      1\u001b[0m l \u001b[38;5;241m=\u001b[39m [\u001b[38;5;241m1\u001b[39m,\u001b[38;5;241m2\u001b[39m,\u001b[38;5;241m3\u001b[39m]\n\u001b[1;32m----> 2\u001b[0m d \u001b[38;5;241m=\u001b[39m {l:\u001b[38;5;124m'\u001b[39m\u001b[38;5;124mtest\u001b[39m\u001b[38;5;124m'\u001b[39m}\n",
      "\u001b[1;31mTypeError\u001b[0m: unhashable type: 'list'"
     ]
    }
   ],
   "source": [
    "l = [1,2,3]\n",
    "d = {l:'test'}"
   ]
  },
  {
   "cell_type": "code",
   "execution_count": 861,
   "metadata": {},
   "outputs": [
    {
     "data": {
      "text/plain": [
       "322818021289917443"
      ]
     },
     "execution_count": 861,
     "metadata": {},
     "output_type": "execute_result"
    }
   ],
   "source": [
    "hash(3.14)"
   ]
  },
  {
   "cell_type": "code",
   "execution_count": 862,
   "metadata": {},
   "outputs": [
    {
     "ename": "TypeError",
     "evalue": "unhashable type: 'list'",
     "output_type": "error",
     "traceback": [
      "\u001b[1;31m---------------------------------------------------------------------------\u001b[0m",
      "\u001b[1;31mTypeError\u001b[0m                                 Traceback (most recent call last)",
      "Cell \u001b[1;32mIn[862], line 1\u001b[0m\n\u001b[1;32m----> 1\u001b[0m \u001b[38;5;28;43mhash\u001b[39;49m\u001b[43m(\u001b[49m\u001b[43ml\u001b[49m\u001b[43m)\u001b[49m\n",
      "\u001b[1;31mTypeError\u001b[0m: unhashable type: 'list'"
     ]
    }
   ],
   "source": [
    "hash(l)"
   ]
  },
  {
   "cell_type": "code",
   "execution_count": 863,
   "metadata": {},
   "outputs": [
    {
     "data": {
      "text/plain": [
       "529344067295497451"
      ]
     },
     "execution_count": 863,
     "metadata": {},
     "output_type": "execute_result"
    }
   ],
   "source": [
    "t = (1,2,3)\n",
    "hash(t)"
   ]
  },
  {
   "cell_type": "code",
   "execution_count": 864,
   "metadata": {},
   "outputs": [
    {
     "ename": "TypeError",
     "evalue": "unhashable type: 'list'",
     "output_type": "error",
     "traceback": [
      "\u001b[1;31m---------------------------------------------------------------------------\u001b[0m",
      "\u001b[1;31mTypeError\u001b[0m                                 Traceback (most recent call last)",
      "Cell \u001b[1;32mIn[864], line 2\u001b[0m\n\u001b[0;32m      1\u001b[0m t \u001b[38;5;241m=\u001b[39m ([\u001b[38;5;241m1\u001b[39m,\u001b[38;5;241m2\u001b[39m],\u001b[38;5;241m2\u001b[39m,\u001b[38;5;241m3\u001b[39m,\u001b[38;5;241m4\u001b[39m,)\n\u001b[1;32m----> 2\u001b[0m \u001b[38;5;28;43mhash\u001b[39;49m\u001b[43m(\u001b[49m\u001b[43mt\u001b[49m\u001b[43m)\u001b[49m\n",
      "\u001b[1;31mTypeError\u001b[0m: unhashable type: 'list'"
     ]
    }
   ],
   "source": [
    "t = ([1,2],2,3,4,)\n",
    "hash(t)"
   ]
  },
  {
   "cell_type": "code",
   "execution_count": 865,
   "metadata": {},
   "outputs": [],
   "source": [
    "d = {\n",
    "    (0,0):\"orin\",\n",
    "    (1,0):\"test\",\n",
    "    (1,0):\"test2\"\n",
    "}"
   ]
  },
  {
   "cell_type": "code",
   "execution_count": 867,
   "metadata": {},
   "outputs": [
    {
     "data": {
      "text/plain": [
       "{(0, 0): 'orin', (1, 0): 'test2'}"
      ]
     },
     "execution_count": 867,
     "metadata": {},
     "output_type": "execute_result"
    }
   ],
   "source": [
    "d"
   ]
  },
  {
   "cell_type": "code",
   "execution_count": 868,
   "metadata": {},
   "outputs": [
    {
     "data": {
      "text/plain": [
       "'orin'"
      ]
     },
     "execution_count": 868,
     "metadata": {},
     "output_type": "execute_result"
    }
   ],
   "source": [
    "d[(0,0)]"
   ]
  },
  {
   "cell_type": "code",
   "execution_count": 870,
   "metadata": {},
   "outputs": [],
   "source": [
    "d[(1,1)]='test3'"
   ]
  },
  {
   "cell_type": "code",
   "execution_count": 871,
   "metadata": {},
   "outputs": [
    {
     "data": {
      "text/plain": [
       "{(0, 0): 'orin', (1, 0): 'test2', (1, 1): 'test3'}"
      ]
     },
     "execution_count": 871,
     "metadata": {},
     "output_type": "execute_result"
    }
   ],
   "source": [
    "d"
   ]
  },
  {
   "cell_type": "code",
   "execution_count": 873,
   "metadata": {},
   "outputs": [],
   "source": [
    "del d[(1,1)]"
   ]
  },
  {
   "cell_type": "code",
   "execution_count": 874,
   "metadata": {},
   "outputs": [
    {
     "data": {
      "text/plain": [
       "{(0, 0): 'orin', (1, 0): 'test2'}"
      ]
     },
     "execution_count": 874,
     "metadata": {},
     "output_type": "execute_result"
    }
   ],
   "source": [
    "d"
   ]
  },
  {
   "cell_type": "code",
   "execution_count": 875,
   "metadata": {},
   "outputs": [
    {
     "data": {
      "text/plain": [
       "{'__name__': '__main__',\n",
       " '__doc__': 'Automatically created module for IPython interactive environment',\n",
       " '__package__': None,\n",
       " '__loader__': None,\n",
       " '__spec__': None,\n",
       " '__builtin__': <module 'builtins' (built-in)>,\n",
       " '__builtins__': <module 'builtins' (built-in)>,\n",
       " '_ih': ['',\n",
       "  'from collections import namedtuple',\n",
       "  \"Point2D = namedtuple('point2d',('x','y'))\",\n",
       "  'Point2D',\n",
       "  'Point2D()',\n",
       "  \"Point2D = namedtuple('point2d',(x,y))\",\n",
       "  \"Point2D = namedtuple('point2d',('x','y'))\",\n",
       "  'Point2D(10,20)',\n",
       "  'a = Point2D()',\n",
       "  'a = Point2D(30,40)',\n",
       "  'type(a)',\n",
       "  'a',\n",
       "  'a.x',\n",
       "  'p.__dict__',\n",
       "  'a.__dict__',\n",
       "  'a.__dict__()',\n",
       "  'isinstance(a, tuple)',\n",
       "  'class Point3D:\\n    def __init__(self,a,b,c):\\n        self.a = a\\n        self.b = b\\n        self.c = c',\n",
       "  'p_3d = Point3D()',\n",
       "  'p_3d = Point3D(10,20,30)',\n",
       "  'p_3d',\n",
       "  'p_3d.x',\n",
       "  'p_3d.a',\n",
       "  'p_3d.a, p_3d.b',\n",
       "  'isinstance(p_3d,tuple)',\n",
       "  'p1 = Point2D(10,20)\\np2 = Point2D(10,20)',\n",
       "  'p1 is p2',\n",
       "  'p1 == p2',\n",
       "  'pt1 = Point3D(10,20,30)\\npt2 = Point3D(10,20,30)',\n",
       "  'pt1 is pt2',\n",
       "  'pt1 is pt2, pt1 == pt2, ',\n",
       "  \"class Point3D:\\n    def __init__(self,a,b,c):\\n        self.a = a\\n        self.b = b\\n        self.c = c\\n\\n    def __repr__(self):\\n        return f'{self.__class__.__name__}(a={self.a}, b={self.b}, c={self.c} )'\",\n",
       "  'pt_3d = Point3D(10,20,30)',\n",
       "  'pt_3d = Point3D(10,20,30)\\npt_3d',\n",
       "  \"class Point3D:\\n    def __init__(self,a,b,c):\\n        self.a = a\\n        self.b = b\\n        self.c = c\\n\\n    def __repr__(self):\\n        return f'{self.__class__.__name__}(a={self.a}, b={self.b}, c={self.c} )'\\n    \\n    def __eq__(self,other):\\n        if isinstance(other, Point3D):\\n            return self.a == other.a and self.b == other.b and self.c == other.c\\n        else:\\n            return False\",\n",
       "  'pt_3d1 = Point3D(100,200,300)',\n",
       "  'pt_3d = Point3D(10,20,30)\\npt_3d',\n",
       "  'pt_3d is pt_3d1',\n",
       "  'pt_3d == pt_3d1',\n",
       "  \"class Point3D:\\n    def __init__(self,a,b,c):\\n        self.a = a\\n        self.b = b\\n        self.c = c\\n\\n    def __repr__(self):\\n        return f'{self.__class__.__name__}(a={self.a}, b={self.b}, c={self.c} )'\\n    \\n    def __eq__(self,other):\\n        if isinstance(other, Point3D):\\n            return self.a == other.a and self.b == other.b and self.c == other.c\\n        else:\\n            return False\",\n",
       "  'pt_3d = Point3D(10,20,30)\\npt_3d',\n",
       "  'pt_3d1 = Point3D(100,200,300)',\n",
       "  'pt_3d == pt_3d1',\n",
       "  \"class Point3D:\\n    def __init__(self,a,b,c):\\n        self.a = a\\n        self.b = b\\n        self.c = c\\n\\n    def __repr__(self):\\n        return f'{self.__class__.__name__}(a={self.a}, b={self.b}, c={self.c} )'\\n    \\n    def __eq__(self,other):\\n        if isinstance(other, Point3D):\\n            return self.a == other.a and self.b == other.b and self.c == other.c\\n        else:\\n            return False\",\n",
       "  'pt_3d = Point3D(10,20,30)\\npt_3d',\n",
       "  'pt_3d1 = Point3D(100,200,300)',\n",
       "  'pt_3d == pt_3d1',\n",
       "  'pt_3d1 = Point3D(100,200,300)\\npt_3d1',\n",
       "  'pt_3d1 = Point3D(10,20,30)\\npt_3d1',\n",
       "  'pt_3d == pt_3d1',\n",
       "  'p1',\n",
       "  'max(p1)',\n",
       "  'max(pt_3d)',\n",
       "  \"'a'\",\n",
       "  '`a`',\n",
       "  'a = (1,2)\\nb = (3,4)',\n",
       "  'zip(a,b)',\n",
       "  'list(zip(a,b))',\n",
       "  'sum(e[0]*e[1] for e in zip(a,b))',\n",
       "  'def dot_prd(a,b):\\n    return sum(e[0]*e[1] for e in zip(a,b))',\n",
       "  'dot_prd(a,b)',\n",
       "  'p1 = Point2D(2,3)\\np2 = Point2D(3,4)\\ndot_prd(p1,p2)',\n",
       "  \"pt1_3d = namedtuple('Point3D','x y z')\",\n",
       "  \"Point3D_nt = namedtuple('Point3D','x y z')\",\n",
       "  'v1 = Point3D_nt(10,20,30)\\nv2 = Point3D_nt(10,20,30)\\ndot_prd(v1,v2)',\n",
       "  'v1',\n",
       "  'x,y,z = v1',\n",
       "  'x,y,z = v1\\nx,y,z',\n",
       "  'v1._fields',\n",
       "  'print(v1._Source)',\n",
       "  'print(Point3D_nt._Source)',\n",
       "  'print(Point3D_nt._source)',\n",
       "  'print(Point2D._source)',\n",
       "  \"Point3D_nt = namedtuple('Point3D','x y z')\",\n",
       "  'Point3D_nt._source',\n",
       "  'print(getattr(Point3D_nt, \"_source\", \"Attribute not found\"))',\n",
       "  'from collections import namedtuple\\n\\nPoint2D = namedtuple(\"Point2D\", [\"x\", \"y\"])\\n\\nprint(Point2D._source)  # This should work if _source exists',\n",
       "  'print(dir(Point2D))  # Check if _source is present',\n",
       "  'Point3D_nt._asdict',\n",
       "  'Point3D_nt._asdict()',\n",
       "  'd = Point3D_nt._asdict\\nd',\n",
       "  'd = Point3D_nt._asdict()\\nd',\n",
       "  'd = Point3D_nt._asdict(self)\\nd',\n",
       "  'd = Point3D_nt._asdict()\\nd',\n",
       "  'v1',\n",
       "  'v1[1]',\n",
       "  'v1[1] = 200',\n",
       "  'Point3D',\n",
       "  'print(Point3D0',\n",
       "  'print(Point3D)',\n",
       "  'Point3D_nt',\n",
       "  'v1 = Point3D(a,b,c=300)',\n",
       "  'v1 = Point3D(a,b,c=300)\\nv1',\n",
       "  'Point2D',\n",
       "  'Point2D.a,Point2D.b',\n",
       "  'Point2D.x,Point2D.b',\n",
       "  'Point2D.x,Point2D.y',\n",
       "  'p2 = Point2D(x=100,y)',\n",
       "  'p2 = Point2D(x=100,y=200)',\n",
       "  'p2 = Point2D(x=100,y=200)\\np2',\n",
       "  'p1',\n",
       "  'id(p1)',\n",
       "  'p1 = Point2D(x=100,y=200)\\np1',\n",
       "  'id(p1)',\n",
       "  \"Stock = namedtuple('Stock', '''symbol\\n                               year month day\\n                               open high low close''')\",\n",
       "  \"djia = Stock('DJIA', 2018, 1, 25, 26_313, 26_458, 26_260, 26_393)\",\n",
       "  'djia._fields',\n",
       "  '*values,_ = djia ',\n",
       "  'djia',\n",
       "  '_',\n",
       "  'values',\n",
       "  'type(values)',\n",
       "  'values = djia[:7]',\n",
       "  'vaues',\n",
       "  'values',\n",
       "  'type(values)',\n",
       "  'djia',\n",
       "  'djia  = Stock(*values, year=2025,day=28)',\n",
       "  'djia  = Stock(*values, year=2025, day=28)',\n",
       "  'djia  = Stock( year=2025, day=28)',\n",
       "  'djia  = djia._replace( year=2025, day=28)',\n",
       "  'djia',\n",
       "  'help(djia)',\n",
       "  'djia.__doc__',\n",
       "  'djia.x.__doc__',\n",
       "  'djia.year.__doc__',\n",
       "  'data_dict = dict(key1=100,key2=200,k3=300)',\n",
       "  'data_dict.items()',\n",
       "  \"Data = namedtuple('Data', data_dict.keys())\",\n",
       "  'Data._fields)()',\n",
       "  'Data._fields',\n",
       "  'd1 = Data(**data_dict)',\n",
       "  'd1',\n",
       "  'd1',\n",
       "  'type(d1)',\n",
       "  'type(Data)',\n",
       "  \"Data = namedtuple('Data', data_dict.keys())\",\n",
       "  'type(Data)',\n",
       "  'type(Point2D)',\n",
       "  \"Point2D = namedtuple('point2d',('x','y'))\",\n",
       "  'type(Point2D)',\n",
       "  \"format(0.3,'.2f')\",\n",
       "  \"format(0.3,'.22f')\",\n",
       "  't = (1, 2, 3, 4, 5)\\nt(o)',\n",
       "  't = (1, 2, 3, 4, 5)\\nt(0)',\n",
       "  't = (1, 2, 3, 4, 5)\\nt(1)',\n",
       "  't = (1, 2, 3, 4, 5)',\n",
       "  't[1]',\n",
       "  't[-1]',\n",
       "  't[len(t)-1]',\n",
       "  't = ([1, 2], [3, 4])',\n",
       "  't[0]',\n",
       "  't[0][1]',\n",
       "  't[0][1] = 20\\nt',\n",
       "  'l = [1, 2, 3]',\n",
       "  't = tuple(l)\\ntype(t)',\n",
       "  'l',\n",
       "  't',\n",
       "  'l = list(t)\\nl',\n",
       "  \"s = 'Python rocks!'\",\n",
       "  's[-1]',\n",
       "  's[0] = d',\n",
       "  't = 1, 2, 3',\n",
       "  's = str(t)',\n",
       "  's = str(t)\\ns',\n",
       "  'type(str)',\n",
       "  \"s = 'Python'\\nt = tuple(s)\\ns\",\n",
       "  \"s = 'Python'\\nt = tuple(s)\\nt\",\n",
       "  \"s = 'Python'\\nt = tuple(s)\\nt\\nlen(t)\",\n",
       "  'l = list(s)',\n",
       "  'l = list(s)\\nl',\n",
       "  \"s = 'Python'\\nt = tuple(s)\\nt\\n# len(t)\",\n",
       "  \"l = list('abcdef')\",\n",
       "  \"l = list('abcdef')\\nl\",\n",
       "  \"s = '='*p\",\n",
       "  \"s = '='*10\",\n",
       "  \"s = '='*10\\ns\",\n",
       "  't = (1,2,3)*5\\nt',\n",
       "  'm = [\\n    [0, 0 ,0],\\n    [0, 0 ,0]\\n    [0, 0 ,0]\\n]',\n",
       "  'm = [\\n    [0, 0 ,0],\\n    [0, 0 ,0],\\n    [0, 0 ,0]\\n]',\n",
       "  'm = [\\n    [0, 0 ,0],\\n    [0, 0 ,0],\\n    [0, 0 ,0]\\n]\\nm',\n",
       "  'len(m)',\n",
       "  'm[0]',\n",
       "  'm[0][1]',\n",
       "  'm[0][1] = 100',\n",
       "  'm[0][1] = 100\\nm',\n",
       "  'm = [[0,0,0]] * 3',\n",
       "  'm = [[0,0,0]] * 3\\nm',\n",
       "  'm = [[0,0,0]] * 3\\nm.__sizeof__',\n",
       "  'm = [[0,0,0]] * 3\\nm.__sizeof__()',\n",
       "  'm = [[0,0,0]] * 3\\nm.__sizeof__()\\nm',\n",
       "  'len(m)',\n",
       "  'm[0][0]',\n",
       "  'm[0][3]',\n",
       "  'm[0][1]',\n",
       "  'm[0][1] = 200\\nm',\n",
       "  'm = [[0]*3 for i in range(3)]',\n",
       "  'm = [[0]*3 for i in range(3)]\\nm',\n",
       "  'm[0][1] = 200\\nm',\n",
       "  'm = [[0]*3 for _ in range(3)]\\nm',\n",
       "  'm[0][1] = 200\\nm',\n",
       "  \"s = 'Python rocks!'\\ns[0:5]\",\n",
       "  's[0:5+1]',\n",
       "  't = (1, 2, 3, 4, 5)\\nt[1:5]',\n",
       "  't = (1, 2, 3, 4, 5)\\nt[1:5+1]',\n",
       "  't = (1, 2, 3, 4, 5)\\nt[1:5+1]',\n",
       "  't = (1, 2, 3, 4, 5)\\nt[1:5]',\n",
       "  's[0:5+2]',\n",
       "  's[0:5+10]',\n",
       "  's[0:5+11]',\n",
       "  's[0:5+1]',\n",
       "  't = (1, 2, 3, 4, 5)\\nt[1:5]',\n",
       "  't',\n",
       "  'l = [[0, 0, 0], [1, 1, 1], [2, 2, 2]]\\ns = l[0:2]\\ns',\n",
       "  'l = [[0, 0, 0], [1, 1, 1], [2, 2, 2]]\\ns = l[0:2+1]\\ns',\n",
       "  'l = [[0, 0, 0], [1, 1, 1], [2, 2, 2]]\\ns = l[0:2]\\ns',\n",
       "  's[0][1]',\n",
       "  's[1][1]',\n",
       "  's[2][1]',\n",
       "  'l[2][1]',\n",
       "  'l[2]',\n",
       "  's[0] is l[0]',\n",
       "  's',\n",
       "  \"s = 'Python rocks!'\\ns[:6]\",\n",
       "  \"s = 'Python rocks!'\\ns[:6+1]\",\n",
       "  \"s = 'Python rocks!'\\ns[:6+1+1]\",\n",
       "  'l = [1, 2, 3, 4, 5]\\nl[:]',\n",
       "  'l = [1, 2, 3, 4, 5]\\nl[::]',\n",
       "  'l = [1, 2, 3, 4, 5]\\nl[:] is l[::]',\n",
       "  'l = [1, 2, 3, 4, 5]\\nl[:] is l[:]',\n",
       "  'l2 = l[:]\\nl2 is l',\n",
       "  's = [1, 2, 3, 4, 5, 6, 7, 8, 9, 10]\\ns[1:8:2]',\n",
       "  's[1::2]\\ns',\n",
       "  's[1::2]\\ns',\n",
       "  's[1::2]',\n",
       "  's[0::2]',\n",
       "  '[i for i in s if i%2!=1]',\n",
       "  '[i for i in s if i%2!=0]',\n",
       "  's[::2]',\n",
       "  \"s = 'abcdef'\\ns[-4:-1]\",\n",
       "  's[-1:4:-1]',\n",
       "  's[-1:-4:-1]',\n",
       "  's[-1:-3]',\n",
       "  's[-1:3]',\n",
       "  's[::-1]',\n",
       "  's[::1]',\n",
       "  's[-1:-4]',\n",
       "  's[-1:-4:1]',\n",
       "  's[-1:-4:0]',\n",
       "  's[-1:-4:2]',\n",
       "  's[-1:-4:1]',\n",
       "  's[-1:-4:-1]',\n",
       "  's[-4:-1]',\n",
       "  \"s = 'abcdef'\\ns[:-4:-1]\",\n",
       "  's[-4::]',\n",
       "  's[::-4]',\n",
       "  's[2::-1]',\n",
       "  's[2::1]',\n",
       "  's[2::-1]',\n",
       "  's[2::2]',\n",
       "  's[2::0]',\n",
       "  's[2::1]',\n",
       "  's[2::2]',\n",
       "  's[2::1]',\n",
       "  's[2:0:-1]',\n",
       "  's[2:0+1:-1]',\n",
       "  's[2:-1:-1]',\n",
       "  's[2:0:-1]',\n",
       "  \"s = 'abcdef'\\ns[-3::-1]\",\n",
       "  \"a = 'racecar'\\na1 = a[::-1]\\na is a1\",\n",
       "  \"a = 'racecar'\\na1 == a[::-1]\\na is a1\",\n",
       "  \"a = 'racecar'\\na[::-1]\\na is a[::-1]\",\n",
       "  \"a = 'racecar'\\n# a[::-1]\\na is a[::-1]\",\n",
       "  \"a = 'racecar'\\n# a[::-1]\\na == a[::-1]\",\n",
       "  'l = [1,2,3,4,5,6,7,8,9,10]',\n",
       "  'l[::1]',\n",
       "  'l[::2]',\n",
       "  'l[::3]',\n",
       "  'l[::6]',\n",
       "  'l[::7]',\n",
       "  'l[::8]',\n",
       "  'l[::9]',\n",
       "  'l[::2]',\n",
       "  'l = [1, 20, 30, 5, 6]\\nl[1:3]',\n",
       "  'l[1:3] = [100,200]\\nl',\n",
       "  \"l[1:3] = 'python'\\nl\",\n",
       "  'l[2::3]',\n",
       "  'l[2::3] = [222,888]\\nl',\n",
       "  'l[2::3] = [222,888,999]\\nl',\n",
       "  'l = [1, 2, 3, 4, 5, 6, 7, 8]\\nl[:-3:-1]',\n",
       "  'l = [1, 2, 3, 4, 5, 6, 7, 8]\\nl[0:-3:-1]',\n",
       "  'l = [1, 2, 3, 4, 5, 6, 7, 8]\\nl[-1:-3:-1]',\n",
       "  'l = [1, 2, 3, 4, 5, 6, 7, 8]\\nl[:-3:-1]',\n",
       "  'l = [1, 2, 3, 4, 5, 6, 7, 8]\\nl[:-3:1]',\n",
       "  'l = [1, 2, 3, 4, 5, 6, 7, 8]\\nl[:-3:-1]',\n",
       "  'l = [1, 2, 3, 4, 5, 6, 7, 8]\\nl[:-3:-1] = [200,300]\\nl',\n",
       "  'del l[:-2:-1]',\n",
       "  'del l[:-2:-1]\\nl',\n",
       "  'del l[:-2:-1]\\nl',\n",
       "  'l',\n",
       "  'l = [1, 2, 3, 4, 5, 6, 7, 8]\\nl[::2]',\n",
       "  'del l[::2]\\nl',\n",
       "  'l.append(5)\\nl',\n",
       "  'l.extend[6,7,8,9]\\nl',\n",
       "  'l.extend(6,7,8,9)\\nl',\n",
       "  'l.extend((6,7,8,9))\\nl',\n",
       "  \"l.extend('abc')\\nl\",\n",
       "  \"l.extend(('abc'))\\nl\",\n",
       "  \"l.insert(2,'aaa')\\nl\",\n",
       "  \"from timeit import timeit\\nget_ipython().run_line_magic('pinfo', 'timeit')\",\n",
       "  'l = [1, 2, 3]',\n",
       "  'l=[]',\n",
       "  \"timeit('l.append(1)',globals=globals(),number=100_000)\\nlen(l)\",\n",
       "  \"timeit('l.append(1)',globals=globals(),number=100_000)\\n# len(l)\",\n",
       "  'len(l)',\n",
       "  'l = []',\n",
       "  \"timeit('l.insert(1,0)',globals=globals(),number=100_000)\",\n",
       "  'l1 = [1, 2, 3]\\nl2 = l1[:]\\nl2',\n",
       "  'l1 is l2',\n",
       "  'l1 == l2',\n",
       "  'l3 = l1.copy()\\nl3',\n",
       "  \"get_ipython().run_line_magic('pinfo', 'l1.help')\",\n",
       "  'l1.help',\n",
       "  'l1.?',\n",
       "  'l1.help()',\n",
       "  'l1[1] = 100\\nl1',\n",
       "  'l2',\n",
       "  'm1 = [[1, 0, 0], [0, 1, 0], [0, 0, 1]]\\nm2 = m1.copy()\\nm2',\n",
       "  'm1 is m2',\n",
       "  'm1[0] is m2[0]',\n",
       "  'm1[0] = 100\\nm1',\n",
       "  'm2',\n",
       "  'm1[0].append()',\n",
       "  'm1[0].append()',\n",
       "  'm1[0].append(200)',\n",
       "  'm2[0].append(200)',\n",
       "  'm2',\n",
       "  'm1',\n",
       "  'm1 = [[1, 0, 0], [0, 1, 0], [0, 0, 1]]\\nm2 = m1.copy()',\n",
       "  'm1, m2',\n",
       "  'm1[0].append(100)\\nm1',\n",
       "  'm2',\n",
       "  'from copy import deepcopy',\n",
       "  'm1 = [[1, 0, 0], [0, 1, 0], [0, 0, 1]]',\n",
       "  'm2 = m1.deepcopy()',\n",
       "  'm2 = deepcopy(m1)',\n",
       "  'm1[0] is m2[0]',\n",
       "  'm1[0].append(100)',\n",
       "  'm1',\n",
       "  'm2',\n",
       "  \"t1 = (10, [1, 2], 'abc')\\nt2 = t1\\nt2\",\n",
       "  'id(t1), id(t2)',\n",
       "  'rate = 5.0, 5.12',\n",
       "  'apr, apy = rate',\n",
       "  'apr, apy',\n",
       "  \"s = 'abcdef'\\na,b,c = (1+1,s[::-1],3.14)\\na,b,c\",\n",
       "  'a = 100\\nb = 3.14\\na,b = b,a',\n",
       "  'a,b',\n",
       "  \"s = 'FfEeDdCcBbAa'\",\n",
       "  'from collections import upper',\n",
       "  'sU = lambda a:a[x] in a.upper()\\nsU',\n",
       "  'sU = lambda a:a[x] in a.upper()\\nprint(sU)',\n",
       "  'sU = lambda a:a[x] in a.upper()\\nlist(sU)',\n",
       "  'sU = lambda a:a[x] in a.upper()\\ntype(su)',\n",
       "  'sU = lambda a:a[x] in a.upper()\\ntype(sU)',\n",
       "  'su(s)',\n",
       "  'sU(s)',\n",
       "  \"s = 'FfEeDdCcBbAa'\",\n",
       "  'sU = lambda a:a[x] in a.upper()\\ntype(sU)',\n",
       "  'sU(s)',\n",
       "  'sU(list(s))',\n",
       "  \"s = 'soma'\\ns.upper()\",\n",
       "  'sU = [lambda a:a[x] in a.upper()]\\ntype(sU)',\n",
       "  'su',\n",
       "  'sU',\n",
       "  'for i in sU:\\n    print()i',\n",
       "  'for i in sU:\\n    print(i)',\n",
       "  'for i in sU:\\n    print(sU(i))',\n",
       "  'sU',\n",
       "  'sU[::]',\n",
       "  'sU[:]',\n",
       "  '[i for i in s.upper()]',\n",
       "  \"s = 'FfEeDdCcBbAa'\",\n",
       "  'sU = [i for i in s.upper()]\\nsU',\n",
       "  's',\n",
       "  'sU = [i for i in s if i in s]\\nsU',\n",
       "  'sU = [i for i in s if i in s.upper()]\\nsU',\n",
       "  'sl = [i for i in s if i in s.lower()]\\nsl',\n",
       "  't1 = 1, 2, 3, 4, 5, 6\\nt2 = 7, 8, 9, 10\\nt3 = 11, 12, 13, 14, 15, 16, 17',\n",
       "  't = t1+t2+t3\\nt',\n",
       "  '[i for i in (t1+t2+t3) if i%2==1]',\n",
       "  '[lambda x:x[i]=0, i for i in (t1+t2+t3) if i%2==1]',\n",
       "  '[lambda x:x[i]==0, i for i in (t1+t2+t3) if i%2==1]',\n",
       "  '[(lambda x:x[i]==0), i for i in (t1+t2+t3) if i%2==1]',\n",
       "  '[(lambda x:x[i]==0) if i==( i for i in (t1+t2+t3) if i%2==1)]',\n",
       "  '[(lambda x:x[i]==0) if i==( i for i in (t1+t2+t3) if i%2==1) else i]',\n",
       "  'T = [(lambda x:x[i]==0) if i==( i for i in (t1+t2+t3) if i%2==1) else i]\\nfor i in T:\\n    print(i)',\n",
       "  'T = [(lambda x:x[i]==0) if i==( i for i in (t1+t2+t3) if i%2==1) else i]\\nT(t1)',\n",
       "  'T = [(lambda x:x[i]==0) if i==( i for i in (t1+t2+t3) if i%2==1) else i]',\n",
       "  'T = [(lambda x:x[i]==0) if i=( i for i in (t1+t2+t3) if i%2==1) else i]',\n",
       "  'T = [(lambda x:x[i]==0) if i==( i for i in (t1+t2+t3) if i%2==1) else i]',\n",
       "  'T',\n",
       "  'type(T)',\n",
       "  'type(T)\\nfor i in T:\\n    print(i)',\n",
       "  'T = [i=0 if i==( i for i in (t1+t2+t3) if i%2==1) else i]',\n",
       "  'T = [i==0 if i==( i for i in (t1+t2+t3) if i%2==1) else i]',\n",
       "  'type(T)\\nfor i in T:\\n    print(i)',\n",
       "  'type(T)\\n# for i in T:\\n#     print(i)',\n",
       "  'type(T)\\n# for i in T:\\n#     print(i)\\nT[::]',\n",
       "  'type(T)\\n# for i in T:\\n#     print(i)',\n",
       "  'T = [i==0 if( i for i in (t1+t2+t3) if i%2==1) else i]',\n",
       "  'type(T)\\n# for i in T:\\n#     print(i)',\n",
       "  'type(T)\\n# for i in T:\\n#     print(i)',\n",
       "  'type(T)\\nfor i in T:\\n    print(i)',\n",
       "  'type(T)\\nfor i in T:\\n    print(i)',\n",
       "  'T = [0 if i%2=1 else i for i in (t1+t2+t3)]\\nT',\n",
       "  'T = [0 if i%2==1 else i for i in (t1+t2+t3)]\\nT',\n",
       "  'type(m)',\n",
       "  'm[0][0],m[1][1],m[2][2] = 1',\n",
       "  'm[0][0],m[1][1],m[2][2] == 1',\n",
       "  'm',\n",
       "  'm = [\\n    [0, 0, 0],\\n    [0, 0, 0],\\n    [0, 0, 0]\\n]',\n",
       "  'type(m)',\n",
       "  'm',\n",
       "  '[1 if i for i in m[0] else m]',\n",
       "  'm[0][0],m[1][1],m[2][2] = 1',\n",
       "  'm[0][0] = 1',\n",
       "  'm',\n",
       "  'm[0][0] = 1\\nm[1][1] =1\\nm[2][2]=1',\n",
       "  'm',\n",
       "  \"s = 'FfEeDdCcBbAa'\",\n",
       "  'reveresed_s = s[::-1]\\nreveresed_s',\n",
       "  'reveresed_s[::2]',\n",
       "  'reveresed_s[:1:2]',\n",
       "  'reveresed_s[1::2]',\n",
       "  'm = [\\n    [0, 0, 0],\\n    [0, 0, 0],\\n    [0, 0, 0]\\n]',\n",
       "  'm[0][0]=1\\nm[1][1]=1\\nm[2][2]=1',\n",
       "  'm[0][0]=1\\nm[1][1]=1\\nm[2][2]=1\\nm',\n",
       "  'm = [\\n    [0, 0, 0],\\n    [0, 0, 0],\\n    [0, 0, 0]\\n]',\n",
       "  'result = m.copy()',\n",
       "  'result = m.copy()\\nresult',\n",
       "  'result[0][0]=1\\nresult[1][1]=1\\nresult[2][2]=1',\n",
       "  'result[0][0]=1\\nresult[1][1]=1\\nresult[2][2]=1\\nresult',\n",
       "  'm',\n",
       "  'from copy import deepcopy',\n",
       "  'from copy import deepcopy\\n\\nm = [\\n    [0, 0, 0],\\n    [0, 0, 0],\\n    [0, 0, 0]\\n]',\n",
       "  'result = m.deepcopy()',\n",
       "  'result = deepcopy(m)',\n",
       "  'result = deepcopy(m)\\nresult',\n",
       "  'result[0][0]=1\\nresult[1][1]=1\\nresult[2][2]=1\\nresult',\n",
       "  'm',\n",
       "  \"data = [\\n    (100, 'USD', 'EUR', 0.83),\\n    (100, 'USD', 'CAD', 1.27),\\n    (100, 'CAD', 'EUR', 0.65)\\n]\",\n",
       "  'row = 0\\n\\namount,currency,targ_cur,exch_rate = row[0]',\n",
       "  'row = 0\\n\\namount,currency,targ_cur,exch_rate = data[row]',\n",
       "  'type(date)',\n",
       "  'type(data)',\n",
       "  \"row = 0\\n\\namount,currency,targ_cur,exch_rate = data[row]\\namount*exch_rate = conv\\nprint(amount,currency,'='conv,sep=' ')\",\n",
       "  \"row = 0\\n\\namount,currency,targ_cur,exch_rate = data[row]\\namount*exch_rate = conv\\nprint(amount,currency,'=='conv,sep=' ')\",\n",
       "  \"row = 0\\n\\namount,currency,targ_cur,exch_rate = data[row]\\namount*exch_rate = converted\\nprint(amount,currency,'=',converted,targ_cursep=' ')\",\n",
       "  \"row = 0\\n\\namount,currency,targ_cur,exch_rate = data[row]\\nconverted = amount*exch_rate \\nprint(amount,currency,'=',converted,targ_cursep=' ')\",\n",
       "  \"row = 0\\n\\namount,currency,targ_cur,exch_rate = data[row]\\nconverted = amount*exch_rate \\nprint(amount,currency,'=',converted,targ_cur, sep=' ')\",\n",
       "  \"row = 1\\n\\namount,currency,targ_cur,exch_rate = data[row]\\nconverted = amount*exch_rate \\nprint(amount,currency,'=',converted,targ_cur, sep=' ')\",\n",
       "  \"row = 3\\n\\namount,currency,targ_cur,exch_rate = data[row]\\nconverted = amount*exch_rate \\nprint(amount,currency,'=',converted,targ_cur, sep=' ')\",\n",
       "  \"row = 2\\n\\namount,currency,targ_cur,exch_rate = data[row]\\nconverted = amount*exch_rate \\nprint(amount,currency,'=',converted,targ_cur, sep=' ')\",\n",
       "  'var = \"\\\\N{Latin Capital Letter A}lways look on the bright side of life.\"',\n",
       "  'var',\n",
       "  'var = \"Always look on the bright side of life.\"\\nvar',\n",
       "  'var = \"\\\\N{Grinning face}\"\\nvar',\n",
       "  'var = \"\\\\N{jrinning face}\"\\nvar',\n",
       "  'var = \"\\\\N{Grinning face}\"\\nvar',\n",
       "  \"message = 'The definitive guide to Python'\\nmessage.title()\",\n",
       "  \"name = 'Peter '\\nname.rstrip()\",\n",
       "  \"name = '\\\\t Peter\\\\tJones\\\\t'\\nprint(name)\",\n",
       "  \"s = 'ababPYTHONabab'\\ns.strip('ab')\",\n",
       "  \"data = 'Jones,Peter'\\ndata.split(',')\",\n",
       "  \"f,l = data.split(',')\\nf,l\",\n",
       "  \"data = ['item 1', 'item 2', 'item 3']\\n','.join(data)\",\n",
       "  \"','.join('abcd')\",\n",
       "  \"get_ipython().run_line_magic('pinfo', 'join')\",\n",
       "  \"get_ipython().run_line_magic('pinfo', 'join')\",\n",
       "  'help(join)',\n",
       "  \"help('join')\",\n",
       "  \"'soma' in 'somashekar'\",\n",
       "  \"'Soma'.casefold() in 'somashekar'.casefold()\",\n",
       "  \"'Soma' in 'somashekar'\",\n",
       "  \"'soma' in 'somashekar'\",\n",
       "  \"'soma shekar'.startswith('soma')\",\n",
       "  \"'soma shekar'.endswith('shekar')\",\n",
       "  \"message = 'To every action there is always an equal and opposite reaction.'\\nmessage.index('always')\",\n",
       "  \"try:\\n    if message.index('soma'):\\nexcept e:\\n    print()e\",\n",
       "  \"try:\\n    if message.index('soma'):\\n        print(index)\\nexcept e:\\n    print()e\",\n",
       "  \"try:\\n    if message.index('soma'):\\n        print(index)\\nexcept e:\\n    print(e)\",\n",
       "  \"try:\\n    if message.index('soma'):\\n        print(index)\\nexcept:e\\n    print(e)\",\n",
       "  \"try:\\n    if message.index('soma'):\\n        print(index)\\nexcept:\\n    print('not found')\",\n",
       "  \"try:\\n    if message.index('alwats'):\\n        print(index)\\nexcept:\\n    print('not found')\",\n",
       "  \"try:\\n    if message.index('always'):\\n        print(index)\\nexcept:\\n    print('not found')\",\n",
       "  \"message = 'To every action there is always an equal and opposite reaction.'\\nmessage.index('always')\",\n",
       "  \"try:\\n    if message.index('always'):\\n        print(index)\\nexcept:\\n    print('not found')\",\n",
       "  \"try:\\n    for idx in  message.index('always'):\\n        print(idx)\\nexcept:\\n    print('not found')\",\n",
       "  \"message = 'To every action there is an equal and opposite reaction.'\\ntry:\\n    idx = message.index('always')  # This will raise ValueError\\n    print(idx)\\nexcept ValueError:\\n    print('not found')\",\n",
       "  \"message = 'To every action there is always an equal and opposite reaction.'\\ntry:\\n    idx = message.index('always')  # Returns the index of 'always' (integer)\\n    print(idx)  # Print the found index\\nexcept ValueError:  # Catch only specific exception\\n    print('not found')\",\n",
       "  \"message = 'To every action there is always an equal and opposite reaction.'\\ntry:\\n    idx = message.index('soma')  # Returns the index of 'always' (integer)\\n    print(idx)  # Print the found index\\nexcept ValueError:  # Catch only specific exception\\n    print('not found')\",\n",
       "  \"message = 'To every action there is always an equal and opposite reaction.'\\ntry:\\n    idx = message.index('always')  # Returns the index of 'always' (integer)\\n    print(idx)  # Print the found index\\nexcept ValueError:  # Catch only specific exception\\n    print('not found')\",\n",
       "  \"get_ipython().run_line_magic('pinfo', 'join')\",\n",
       "  \"get_ipython().run_line_magic('pinfo', 'join.')\",\n",
       "  \"get_ipython().run_line_magic('pinfo', 'str.index')\",\n",
       "  \"message.index('action')\",\n",
       "  \"message.index('action') + len('action')\",\n",
       "  \"st_idx = message.index('action') + len('action')\",\n",
       "  \"st_idx = message.index('action') + len('action')\\nst_idx\",\n",
       "  \"message.index('action',st_idx)\",\n",
       "  \"message.index('reaction',st_idx)\",\n",
       "  \"message.index('saction',st_idx)\",\n",
       "  \"message.index('action',st_idx)\",\n",
       "  \"message.index('Newton')\",\n",
       "  \"message.find('action',st_idx)\",\n",
       "  \"message.index('action',st_idx)\",\n",
       "  \"message.find('Newton')\",\n",
       "  \"strt = message.find('Newton')\\nif strt == -1:\\n    print('do something')\",\n",
       "  \"timeit('message.find('ein)',globals = globals(), number=1000_00)\",\n",
       "  \"timeit('message.find('ein')',globals = globals(), number=1000_00)\",\n",
       "  'timeit(\"message.find(\\'ein\\')\",globals = globals(), number=1000_00)',\n",
       "  'timeit(\"\\'ein\\' in message\",globals=globals(), number=1000_00)',\n",
       "  \"'{}:open, hign:{}'.format(100,200)\",\n",
       "  'bid = 1.5760\\nask = 1.5763\\n\"bid:{bid},ask:{ask}, spread:{spread}\".format(bid=bid,ask=ask, spread=(bid-ask))',\n",
       "  'bid = 1.5760\\nask = 1.5763\\n\"bid:{bid},ask:{ask}, spread:{spread}\".format(bid=(bid,.2f),ask=ask, spread=(bid-ask))',\n",
       "  'bid = 1.5760\\nask = 1.5763\\n\"bid:{bid},ask:{ask}, spread:{spread}\".format(bid=format(bid,.2f),ask=ask, spread=(bid-ask))',\n",
       "  'bid = 1.5760\\nask = 1.5763\\n\"bid:{bid:{.2f}},ask:{ask}, spread:{spread}\".format(bid=format(bid),ask=ask, spread=(bid-ask))',\n",
       "  'bid = 1.5760\\nask = 1.5763\\n\"bid:{:.2f}},ask:{ask}, spread:{spread}\".format(bid=format(bid),ask=ask, spread=(bid-ask))',\n",
       "  'bid = 1.5760\\nask = 1.5763\\n\"bid:{:.2f}},ask:{ask}, spread:{spread}\".format(bid=bid,ask=ask, spread=(bid-ask))',\n",
       "  'bid = 1.5760\\nask = 1.5763\\n\"bid:{:.2f}, ask:{:.2f}, spread:{:.2f}\".format(bid, ask, bid - ask)',\n",
       "  'bid = 1.5760\\nask = 1.5763\\n\"bid:{:.2f}, ask:{ask}, spread:{:.2f}\".format(bid, ask, bid - ask)',\n",
       "  'bid = 1.5760\\nask = 1.5763\\n\"bid:{:.2f}, ask:{:.2f}, spread:{:.2f}\".format(bid, ask, bid - ask)',\n",
       "  '\"bid:{:.4f}, ask:{:.4f}, spread:{:,4f}\".format(spread=spread,bid=bid,ask=ask)',\n",
       "  '\"bid:{:.4f}, ask:{:.4f}, spread:{:,4f}\".format(spread=spread,bid=bid,ask=ask)',\n",
       "  '\"bid:{:.4f}, ask:{:.4f}, spread:{:,4f}\".format(spread=bid-ask,bid=bid,ask=ask)',\n",
       "  '\"bid:{:.4f}, ask:{:.4f}, spread:{:,4f}\".format(spread=(bid-ask),bid=bid,ask=ask)',\n",
       "  '\"bid:{bid:.4f}, ask:{ask:.4f}, spread:{spread:,4f}\".format(spread=(bid-ask),bid=bid,ask=ask)',\n",
       "  '\"bid:{bid:.4f}, ask:{ask:.4f}, spread:{spread:.4f}\".format(spread=(bid-ask),bid=bid,ask=ask)',\n",
       "  \"'{a}+{b}={b}+{a}'.format(a=10,b=20)\",\n",
       "  \"a = 10\\nb = 20\\nf'{a}+{b} = {b}+{a}'\",\n",
       "  \"f'{a}+{b} ={a+b}'\",\n",
       "  \"f'open={open}'\",\n",
       "  \"open=10.2\\nf'open={open}'\",\n",
       "  \"f'ask={ask},spread={ask-bid}'\",\n",
       "  \"f'ask={ask:.4f},spread={(ask-bid):.4f}'\",\n",
       "  'range(10)',\n",
       "  'type(range(10))',\n",
       "  'a = range(10)\\na',\n",
       "  'tuple(range(10))',\n",
       "  'list(range(10))',\n",
       "  'list(range(10,2))',\n",
       "  'list(range(2,10))',\n",
       "  'len(range(2,10))',\n",
       "  'range(2,10)',\n",
       "  'list(range(2,10))',\n",
       "  'list(range(2,10,2))',\n",
       "  'list(range(2,11,2))',\n",
       "  'list(range(2,11,-2))',\n",
       "  'list(range(2,11,2))',\n",
       "  'list(range(2,11,-1))',\n",
       "  'list(range(10,2,-1))',\n",
       "  'list(range(10,2,-2))',\n",
       "  'list(range(10,2))',\n",
       "  'list(range(10,2,-1))',\n",
       "  'list(range(10,3,-1))',\n",
       "  'list(range(10,1,-1))',\n",
       "  \"suits = ['Spades', 'Hearts', 'Diamonds', 'Clubs']\\nfor siut in suits:\\n    print(suit.upper)\",\n",
       "  \"suits = ['Spades', 'Hearts', 'Diamonds', 'Clubs']\\nfor siut in suits:\\n    print(suit.upper())\",\n",
       "  \"suits = ['Spades', 'Hearts', 'Diamonds', 'Clubs']\\nfor siut in suits:\\n    print(siut.upper())\",\n",
       "  \"for suit in suits:\\n    print(f'{suit[0].upper()} = {suit}')\",\n",
       "  \"for i in range(3):\\n    for j in range(3):\\n        print(f'i={i},j={j}')\",\n",
       "  \"for i in range(3):\\n    for j in range(3):\\n        print(f'i={i},j={j}')\\n    print('-'*10)\",\n",
       "  '[for i in range(3)] in for j in range(3)',\n",
       "  '([for i in range(3)] in for j in range(3))',\n",
       "  'for i in range(3):\\n    for j in range(3):\\n        print(i,j)',\n",
       "  \"for i in range(3):\\n    for j in range(3):\\n        print(i,j)\\n    print('-'*10)\",\n",
       "  'for i in range(3):\\n    print(i)',\n",
       "  'm = [\\n    [1, 2, 3],\\n    [4, 5, 6],\\n    [7, 8, 9]\\n]',\n",
       "  \"for i in range(3):\\n    for j in range(3):\\n        print(f'[{i},{j}] = m[i,j]')\",\n",
       "  \"for i in range(3):\\n    for j in range(3):\\n        print(f'[{i},{j}] = m[i],[j]')\",\n",
       "  \"for i in range(3):\\n    for j in range(3):\\n        print(f'[{i},{j}] = m[{i}],[{j}]')\",\n",
       "  \"for i in range(3):\\n    for j in range(3):\\n        print(f'[{i},{j}] = {m[{i}],[{j}]}')\",\n",
       "  \"for i in range(3):\\n    for j in range(3):\\n        print(f'[{i},{j}] = m[{i}],[{j}]')\",\n",
       "  \"for i in range(3):\\n    for j in range(3):\\n        print(f'[{i},{j}] = {m[i],[j]}')\",\n",
       "  \"for i in range(3):\\n    for j in range(3):\\n        print(f'[{i},{j}] = {m[i][j]}')\",\n",
       "  \"for i in range(len(m)):\\n    for j in range(len(i)):\\n        print(f'[{i},{j}] = {m[i][j]}')\",\n",
       "  \"for i in range(len(m)):\\n    for j in range(len(m[i])):\\n        print(f'[{i},{j}] = {m[i][j]}')\",\n",
       "  \"for i in range(len(m)):\\n    for j in range(len(m)):\\n        print(f'[{i},{j}] = {m[i][j]}')\",\n",
       "  \"for i in range(len(m)):\\n    for j in range(len(m)):\\n        print(f'[{i},{j}] = {m[i][j]}')\",\n",
       "  \"for i in range(len(m)):\\n    for j in range(len(m[i])):\\n        print(f'[{i},{j}] = {m[i][j]}')\",\n",
       "  'm = [\\n    [0, 1],\\n    [2, 3, 4, 5, 6],\\n    [7, 8, 9],\\n    [10]\\n]',\n",
       "  \"for i in range(len(m)):\\n    for j in range(len(m[i])):\\n        print(f'[{i},{j}] = {m[i][j]}')\",\n",
       "  \"for i in range(len(m)):\\n    for j in range(len(m)):\\n        print(f'[{i},{j}] = {m[i][j]}')\",\n",
       "  \"for i in range(len(m)):\\n    for j in range(len(m[i])):\\n        print(f'[{i},{j}] = {m[i][j]}')\",\n",
       "  'm = [\\n    [1, 0, 0],\\n    [0, 1, 0],\\n    [0, 0, 1]\\n]',\n",
       "  \"for i in range(len(m)):\\n    for j in range(len(m[i])):\\n        print(f'[{i},{j}] = {m[i][j]}')\",\n",
       "  'n = 3\\nmatrix = []\\nfor i in range(n):\\n    row = []\\n    for j in range(n):\\n        if i=j:\\n            row.append(1)\\n        else:\\n            row.append(0)\\n    matrix.append(row)',\n",
       "  'n = 3\\nmatrix = []\\nfor i in range(n):\\n    row = []\\n    for j in range(n):\\n        if i==j:\\n            row.append(1)\\n        else:\\n            row.append(0)\\n    matrix.append(row)',\n",
       "  'matrix',\n",
       "  'data = [10, 20, 30]\\nlist(enumerate.data)',\n",
       "  'data = [10, 20, 30]\\nlist(enumerate(data))',\n",
       "  \"get_ipython().run_line_magic('pinfo', 'enumerate')\",\n",
       "  'data = [10, 20, 30]\\nlist(enumerate(data, start=0))',\n",
       "  'data = [10, 20, 30]\\nlist(enumerate(data, start=1))',\n",
       "  'for i in enumerate(data):\\n    print(i)',\n",
       "  'for i, v in enumerate(data):\\n    print(i:v)',\n",
       "  'for i, v in enumerate(data):\\n    print({i}:{v})',\n",
       "  \"for i, v in enumerate(data):\\n    print(f'{i}:{v}')\",\n",
       "  \"for i, v in enumerate(data):\\n    print(f'({i}:{v})')\",\n",
       "  'm = [\\n    [0, 1],\\n    [2, 3, 4, 5, 6],\\n    [7, 8, 9],\\n    [10]\\n]\\n\\nfor row in m:\\n    for ele in row:\\n        print(ele)',\n",
       "  \"for rid, row in enumerate(m):\\n    for colid, ele in enumerate(row):\\n        print(f'[{rid}],[{colid}]=m[{rid}][{colid}]')\",\n",
       "  \"for rid, row in enumerate(m):\\n    for colid, ele in enumerate(row):\\n        print(f'[{rid,colid}]=m[{rid}][{colid}]')\",\n",
       "  \"for rid, row in enumerate(m):\\n    for colid, ele in enumerate(row):\\n        print(f'{rid,colid}=m[{rid}][{colid}]')\",\n",
       "  \"for rid, row in enumerate(m):\\n    for colid, ele in enumerate(row):\\n        print(f'[{rid,colid}]=m[{rid}][{colid}]')\",\n",
       "  \"for rid, row in enumerate(m):\\n    for colid, ele in enumerate(row):\\n        print(f'[{rid},{colid}]=m[{ele}]')\",\n",
       "  \"for rid, row in enumerate(m):\\n    for colid, ele in enumerate(row):\\n        print(f'[{rid},{colid}]=m{ele}')\",\n",
       "  \"for rid, row in enumerate(m):\\n    for colid, ele in enumerate(row):\\n        print(f'[{rid},{colid}]=m({ele})')\",\n",
       "  \"for rid, row in enumerate(m):\\n    for colid, ele in enumerate(row):\\n        print(f'[{rid},{colid}]=({ele})')\",\n",
       "  \"for rid, row in enumerate(m):\\n    for colid, ele in enumerate(row):\\n        print(f'[{rid},{colid}]={ele}')\",\n",
       "  \"for rid in range(m):\\n    for cid in range(m):\\n        print(f'[{rid},{cid}]'='m[rid][cid]')\",\n",
       "  \"for rid in range(m):\\n    for cid in range(m):\\n        print(f'[{rid},{cid}]'=='m[rid][cid]')\",\n",
       "  \"m = [\\n    [1, 2, 3],\\n    [4, 5, 6],\\n    [7, 8, 9]\\n]\\nfor rid in range(m):\\n    for cid in range(m):\\n        print(f'[{rid},{cid}]'=='m[rid][cid]')\",\n",
       "  \"m = [\\n    [1, 2, 3],\\n    [4, 5, 6],\\n    [7, 8, 9]\\n]\\nfor rid in len(range(m)):\\n    for cid in len(range(m)):\\n        print(f'[{rid},{cid}]'=='m[rid][cid]')\",\n",
       "  \"m = [\\n    [1, 2, 3],\\n    [4, 5, 6],\\n    [7, 8, 9]\\n]\\nfor rid in len(range(m)):\\n    for cid in len(range(m)):\\n        print(f'[{rid},{cid}]'=='m[rid][cid]')\",\n",
       "  \"m = [\\n    [1, 2, 3],\\n    [4, 5, 6],\\n    [7, 8, 9]\\n]\\nfor rid in range(len(m)):\\n    for cid in range(len(m)):\\n        print(f'[{rid},{cid}]'=='m[rid][cid]')\",\n",
       "  \"m = [\\n    [1, 2, 3],\\n    [4, 5, 6],\\n    [7, 8, 9]\\n]\\nfor rid in range(len(m)):\\n    for cid in range(len(m)):\\n        print(f'[{rid},{cid}] = m[rid][cid]')\",\n",
       "  \"m = [\\n    [1, 2, 3],\\n    [4, 5, 6],\\n    [7, 8, 9]\\n]\\nfor rid in range(len(m)):\\n    for cid in range(len(m)):\\n        print(f'[{rid},{cid}] = m[{rid}][{cid}]')\",\n",
       "  \"m = [\\n    [1, 2, 3],\\n    [4, 5, 6],\\n    [7, 8, 9]\\n]\\nfor rid in range(len(m)):\\n    for cid in range(len(m)):\\n        print(f'[{rid},{cid}] = {m[rid][cid]}')\",\n",
       "  \"m = [\\n    [0, 1],\\n    [2, 3, 4, 5, 6],\\n    [7, 8, 9],\\n    [10]\\n]\\nfor rid in range(len(m)):\\n    for cid in range(len(m)):\\n        print(f'[{rid},{cid}] = {m[rid][cid]}')\",\n",
       "  \"m = [\\n    [0, 1],\\n    [2, 3, 4, 5, 6],\\n    [7, 8, 9],\\n    [10]\\n]\\nfor rid in range(len(m)):\\n    for cid in range(len(rid[rid])):\\n        print(f'[{rid},{cid}] = {m[rid][cid]}')\",\n",
       "  \"m = [\\n    [0, 1],\\n    [2, 3, 4, 5, 6],\\n    [7, 8, 9],\\n    [10]\\n]\\nfor rid in range(len(m)):\\n    for cid in range(len(m[rid])):\\n        print(f'[{rid},{cid}] = {m[rid][cid]}')\",\n",
       "  'n = 5\\nmatrix = []\\n\\nfor rid in range(n):\\n    row=[]\\n    for cid in range(n):\\n        if rid == cid:\\n            row.append(1)\\n        else 0',\n",
       "  'n = 5\\nmatrix = []\\n\\nfor rid in range(n):\\n    row=[]\\n    for cid in range(n):\\n        if rid == cid:\\n            row.append(1)\\n        else row.append(0)\\nmatrix.append(row)',\n",
       "  'n = 5\\nmatrix = []\\n\\nfor rid in range(n):\\n    row=[]\\n    for cid in range(n):\\n        if rid == cid:\\n            row.append(1)\\n        else:\\n            row.append(0)\\nmatrix.append(row)',\n",
       "  'matrix',\n",
       "  'n = 5\\nmatrix = []\\n\\nfor rid in range(n):\\n    row=[]\\n    for cid in range(n):\\n        if rid == cid:\\n            row.append(1)\\n        else:\\n            row.append(0)\\nmatrix.append(row)',\n",
       "  'matrix',\n",
       "  'n = 5\\nmatrix = []\\n\\nfor rid in range(n):\\n    row=[]\\n    for cid in range(n):\\n        if rid == cid:\\n            row.append(1)\\n        else:\\n            row.append(0)\\n    matrix.append(row)',\n",
       "  'matrix',\n",
       "  '[for rid in range(n)] for cid in range(n)',\n",
       "  '[lambda x:i for i in x[rid] in range(n)] for cid in range(n)',\n",
       "  '[lambda x:i for i in x[rid] in range(n)]',\n",
       "  'm',\n",
       "  'for row in m:\\n    for ele in row:\\n        print(ele)',\n",
       "  'm',\n",
       "  \"for rid,row in enumerate(m):\\n    for cid,ele in enumerate(row):\\n        print(f'[{rid},{cid}]=m[rid][cid]') \",\n",
       "  \"for rid,row in enumerate(m):\\n    for cid,ele in enumerate(row):\\n        print(f'[{rid},{cid}]={m[rid][cid]}') \",\n",
       "  'for rid,row in enumerate(m)',\n",
       "  'rid,row in enumerate(m)',\n",
       "  'for rid,row in enumerate(m):\\n    print(rid,row)',\n",
       "  'for rid,row in enumerate(m):\\n    print(rid,row)\\n    for cid,ele in enumerate(row):\\n        print(cid,ele)',\n",
       "  'for rid,row in enumerate(m):\\n    print(rid,row)\\n    # for cid,ele in enumerate(row):\\n    #     print(cid,ele)',\n",
       "  'for rid,row in enumerate(m):\\n    print(rid,row)\\n    for cid,ele in enumerate(row):\\n        print(cid,ele)',\n",
       "  'data = [10.5, 11.2, 9.8, None, 11.5, None]',\n",
       "  'count=0\\ntot =0\\n\\nfor val in data:\\n    if val is not None:\\n        count+=1\\n        tot+=1\\n        avg = count/tot\\n        print(avg)',\n",
       "  'count=0\\ntot =0\\n\\nfor val in data:\\n    if val is not None:\\n        count = val+1\\n        tot+=1\\n        avg = count/tot\\n        print(avg)',\n",
       "  'count=0\\ntot =0\\n\\nfor val in data:\\n    if val is not None:\\n        count += 1\\n        tot += val\\n        avg = count/tot\\n        print(avg)',\n",
       "  'count=0\\ntot =0\\n\\nfor val in data:\\n    if val is not None:\\n        count += 1\\n        tot += val\\n        avg = count/tot\\nprint(avg)',\n",
       "  'count=0\\ntot =0\\n\\nfor val in data:\\n    if val is not None:\\n        count += 1\\n        tot += val\\navg = count/tot\\nprint(avg)',\n",
       "  'count=0\\ntot =0\\n\\nfor val in data:\\n    if val is not None:\\n        count += 1\\n        tot += val\\navg = count/tot\\nprint(avg)',\n",
       "  'data = [10.5, 11.2, 9.8, None, 11.5, None]',\n",
       "  'count=0\\ntot =0\\n\\nfor val in data:\\n    if val is not None:\\n        count += 1\\n        tot += val\\navg = count/tot\\nprint(avg)',\n",
       "  'count=0\\ntot =0\\n\\nfor val in data:\\n    if val is not None:\\n        count += 1\\n        tot += val\\navg = tot/count\\nprint(avg)',\n",
       "  'for val in data:\\n    if val is None:\\n        val == avg\\n        print(data)',\n",
       "  'for val in data:\\n    if val is None:\\n        val == avg\\n    print(data)',\n",
       "  'for val in data:\\n    if val is None:\\n        val == avg\\nprint(data)',\n",
       "  'for val in data:\\n    if val is None:\\n        val == avg\\n    print(data)',\n",
       "  'for val in data:\\n    if val is None:\\n        val = avg\\n    print(data)',\n",
       "  'for val in data:\\n    if val is None:\\n        val = avg\\nprint(data)',\n",
       "  'data = [10.5, 11.2, 9.8, None, 11.5, None]\\nfor val in data:\\n    if val is None:\\n        val = avg\\nprint(data)',\n",
       "  'data = [10.5, 11.2, 9.8, None, 11.5, None]\\nfor i in range(len(data)):\\n    if data[i] is None:\\n        data[i] = avg\\nprint(data)',\n",
       "  'for val in data:\\n    print(val)',\n",
       "  'for i, val in enumerate(data):\\n    if val is None:\\n        val = avg\\nprint(data)',\n",
       "  'for i, val in enumerate(data):\\n    if val is None:\\n        data[i] = avg\\nprint(data)',\n",
       "  'for val in data:\\n    if val is None:\\n        val = avg\\nprint(data)',\n",
       "  'data = [10.5, 11.2, 9.8, None, 11.5, None]\\nfor val in data:\\n    if val is None:\\n        val = avg\\nprint(data)',\n",
       "  'for i, v in data:\\n    print(i,v)',\n",
       "  'for i, v in enumerate(data):\\n    print(i,v)',\n",
       "  'type(data)',\n",
       "  'data[0] = 1000\\ndata',\n",
       "  'data = [10.5, 11.2, 9.8, None, 11.5, None]\\ncount = sum(1 for val in data if val is None)\\ntot = sum(val for val in data if val is not None)\\navg = tot/count\\ndata = [val for val in data if val is None then avg else val]\\ndata',\n",
       "  'data = [10.5, 11.2, 9.8, None, 11.5, None]\\ncount = sum(1 for val in data if val is None)\\ntot = sum(val for val in data if val is not None)\\navg = tot/count\\ndata = [val if val in data is not None else None]\\ndata',\n",
       "  'data = [10.5, 11.2, 9.8, None, 11.5, None]\\ncount = sum(1 for val in data if val is None)\\ntot = sum(val for val in data if val is not None)\\navg = tot/count\\ndata = [val if val in data is not None else avg for val in data]\\ndata',\n",
       "  \"price = 100\\nwhile price<90:\\n    print(f'Price:{price}, waiting')\\n    price-=1\\nprint(f'Price:{price}, buying')\",\n",
       "  \"price = 100\\nwhile price<90:\\n    print(f'Price:{price}, waiting')\\n    price-=1\\n    print(f'Price:{price}, buying')\",\n",
       "  \"price = 100\\nwhile price<90:\\n    print(f'Price:{price}, waiting')\\n    price-=1\\nprint(f'Price:{price}, buying')\",\n",
       "  \"price = 100\\nwhile price>90:\\n    print(f'Price:{price}, waiting')\\n    price-=1\\nprint(f'Price:{price}, buying')\",\n",
       "  \"price = 100\\nwhile price>=90:\\n    print(f'Price:{price}, waiting')\\n    price-=1\\nprint(f'Price:{price}, buying')\",\n",
       "  \"price = 100\\nwhile price>=90:\\n    print(f'Price:{price}, waiting')\\n    price-=1\\nprint(f'Price:{price}, buying')\",\n",
       "  \"price = 100\\nwhile price>=90:\\n    print(f'Price:{price}, waiting')\\n    price-=1\\nprint(f'Price:{price}, buying')\",\n",
       "  \"price = 100\\nwhile price>=90:\\n    print(f'Price:{price}, waiting')\\n    price-=1\\nprint(f'Price:{price}, buying')\",\n",
       "  \"price = 100\\nwhile price>=90:\\n    print(f'Price:{price}, waiting')\\n    price-=1\\nprint(f'Price:{price}, buying')\",\n",
       "  \"price = 100\\nwhile price>=90:\\n    print(f'Price:{price}, waiting')\\n    price-=1\\nprint(f'Price:{price}, buying')\",\n",
       "  \"price = 100\\nwhile price>=90:\\n    print(f'Price:{price}, waiting')\\n    price-=1\\nprint(f'Price:{price}, buying')\",\n",
       "  \"price = 100\\nwhile price>=90:\\n    print(f'Price:{price}, waiting')\\n    price-=1\\nprint(f'Price:{price}, buying')\",\n",
       "  'data = [10,20,30,-40,50,-60]\\n\\nfor idx,ele in enumerate(data):\\n    if ele<0:\\n        ele=0\\n    else:\\n        ele\\n    print(data)',\n",
       "  'data = [10,20,30,-40,50,-60]\\n\\nfor idx,ele in enumerate(data):\\n    if ele<0:\\n        ele=0\\n    else:\\n        ele\\nprint(data)',\n",
       "  'data = [10,20,30,-40,50,-60]\\n\\nfor idx,ele in enumerate(data):\\n    if ele<0:\\n        id[ele]=0\\n    else:\\n        ele\\nprint(data)',\n",
       "  'data = [10,20,30,-40,50,-60]\\n\\nfor idx,ele in enumerate(data):\\n    if ele<0:\\n        id[ele]==0\\n    else:\\n        ele\\nprint(data)',\n",
       "  'data = [10,20,30,-40,50,-60]\\n\\nfor idx,ele in enumerate(data):\\n    if ele<0:\\n        data[idx]=0\\n    else:\\n        ele\\nprint(data)',\n",
       "  '[i for i in range(2,11,2)]',\n",
       "  \"for i in range(3):\\n    for j in range(3):\\n        print(f'i={i},j={j}')\",\n",
       "  \"for i in range(3):\\n    for j in range(3):\\n        print(f'i={i},j={j}')\\n    print('-'*10)\",\n",
       "  'm = [\\n    [0, 1],\\n    [2, 3, 4, 5, 6],\\n    [7, 8, 9],\\n    [10]\\n]\\n\\nfor idx,ele in enumerate(m):\\n    print(idx,ele)',\n",
       "  'm = [\\n    [0, 1],\\n    [2, 3, 4, 5, 6],\\n    [7, 8, 9],\\n    [10]\\n]\\n\\nfor idx,ele in enumerate(m):\\n    # print(idx,ele)\\n    for idc in enumerate(ele):\\n        print(idc)',\n",
       "  \"m = [\\n    [0, 1],\\n    [2, 3, 4, 5, 6],\\n    [7, 8, 9],\\n    [10]\\n]\\n\\nfor idx,ele in enumerate(m):\\n    # print(idx,ele)\\n    for idc in enumerate(ele):\\n        # print(idc)\\n        print(f'({idx},{idc}) = {m{ele}}')\",\n",
       "  \"m = [\\n    [0, 1],\\n    [2, 3, 4, 5, 6],\\n    [7, 8, 9],\\n    [10]\\n]\\n\\nfor idx,ele in enumerate(m):\\n    # print(idx,ele)\\n    for idc in enumerate(ele):\\n        # print(idc)\\n        print(f'({idx} {idc}) = {m{ele}}')\",\n",
       "  \"m = [\\n    [0, 1],\\n    [2, 3, 4, 5, 6],\\n    [7, 8, 9],\\n    [10]\\n]\\n\\nfor idx,ele in enumerate(m):\\n    # print(idx,ele)\\n    for idc in enumerate(ele):\\n        # print(idc)\\n        print(f'({idx}, {idc}) = {ele}')\",\n",
       "  \"m = [\\n    [0, 1],\\n    [2, 3, 4, 5, 6],\\n    [7, 8, 9],\\n    [10]\\n]\\n\\nfor idx,ele in enumerate(m):\\n    # print(idx,ele)\\n    for idc,ele in enumerate(ele):\\n        # print(idc)\\n        print(f'({idx}, {idc}) = {ele}')\",\n",
       "  'data = [10.5, 11.2, 9.8, None, 11.5, None]\\ncount = sum(1 for i in data if i is not None else i) \\ncount',\n",
       "  'data = [10.5, 11.2, 9.8, None, 11.5, None]\\ncount = sum(1 for i in data if i is not None) \\ncount',\n",
       "  'data = [10.5, 11.2, 9.8, None, 11.5, None]\\ncount = sum(1 for i in data if i is not None) \\ntot = sum(i for i in data if i is not None)\\ntot',\n",
       "  'data = [10.5, 11.2, 9.8, None, 11.5, None]\\ncount = sum(1 for i in data if i is not None) \\ntot = sum(i for i in data if i is not None)\\ntot\\navg = tot/count',\n",
       "  'data = [10.5, 11.2, 9.8, None, 11.5, None]\\ncount = sum(1 for i in data if i is not None) \\ntot = sum(i for i in data if i is not None)\\ntot\\navg = tot/count\\navg',\n",
       "  'data = [10.5, 11.2, 9.8, None, 11.5, None]\\ncount = sum(1 for i in data if i is not None) \\ntot = sum(i for i in data if i is not None)\\ntot\\navg = tot/count\\navg\\ndata = [val for val in data if val is None then Avg]\\ndata',\n",
       "  'data = [10.5, 11.2, 9.8, None, 11.5, None]\\ncount = sum(1 for i in data if i is not None) \\ntot = sum(i for i in data if i is not None)\\ntot\\navg = tot/count\\navg\\ndata = [val=avg for val in data if val is None]\\ndata',\n",
       "  'data = [10.5, 11.2, 9.8, None, 11.5, None]\\ncount = sum(1 for i in data if i is not None) \\ntot = sum(i for i in data if i is not None)\\ntot\\navg = tot/count\\navg\\ndata = [val==avg for val in data if val is None]\\ndata',\n",
       "  'data = [10.5, 11.2, 9.8, None, 11.5, None]\\ncount = sum(1 for i in data if i is not None) \\ntot = sum(i for i in data if i is not None)\\ntot\\navg = tot/count\\navg\\ndata = [val if val in data is not None else avg for val in data]\\ndata',\n",
       "  'data = [10.5, 11.2, 9.8, None, 11.5, None]\\ncount = sum(1 for i in data if i is not None) \\ntot = sum(i for i in data if i is not None)\\ntot\\navg = tot/count\\navg\\ndata = [val if val is not None else avg for val in data]\\ndata',\n",
       "  'data = [10.5, 11.2, 9.8, None, 11.5, None]\\ncount = sum(1 for i in data if i is not None) \\ntot = sum(i for i in data if i is not None)\\ntot\\navg = tot/count\\navg\\ndata = [val if val in data is not None else avg for val in data]\\ndata',\n",
       "  'data = [10.5, 11.2, 9.8, None, 11.5, None]\\ncount = sum(1 for i in data if i is not None) \\ntot = sum(i for i in data if i is not None)\\ntot\\navg = tot/count\\navg\\ndata = [val if val is not None else avg for val in data]\\ndata',\n",
       "  'data = [100, 200, 300, 400, 500]',\n",
       "  \"while i<range(len(data)):\\n    data.pop()\\n    print(f'pricessing element:{i}')\",\n",
       "  \"while i=<range(len(data)):\\n    data.pop()\\n    print(f'pricessing element:{i}')\",\n",
       "  \"while i in range(len(data)):\\n    data.pop()\\n    print(f'pricessing element:{i}')\",\n",
       "  \"while i in range(len(data)):\\n    data.pop(i)\\n    print(f'pricessing element:{i}')\",\n",
       "  'data',\n",
       "  \"while i in range(len(data)):\\n    data.pop(i)\\n    print(f'pricessing element:{i}')\",\n",
       "  'data',\n",
       "  \"while i in range(len(data)):\\n    data.pop(i)\\n    print(f'pricessing element:{i}')\",\n",
       "  'data',\n",
       "  \"while i in range(len(data)):\\n    element  = data.pop(i)\\n    print(f'pricessing element:{element}')\",\n",
       "  'data',\n",
       "  \"while i in range(len(data)):\\n    element  = data.pop(i)\\n    print(f'pricessing element:{element}')\",\n",
       "  'data',\n",
       "  'data = [100, 200, 300, 400, 500]',\n",
       "  'data',\n",
       "  \"while i in range(len(data)):\\n    element  = data.pop(i)\\n    print(f'pricessing element:{element}')\",\n",
       "  'data',\n",
       "  \"while i in range(len(data)):\\n    element  = data.pop(i)\\n    print(f'pricessing element:{element}')\",\n",
       "  'data',\n",
       "  'data = [100, 200, 300, 400, 500]',\n",
       "  \"while i in range(len(data)):\\n    element  = data.pop(i)\\n    print(f'pricessing element:{element}')\",\n",
       "  'data',\n",
       "  \"while i in range(len(data)):\\n    element  = data.pop(i)\\n    print(f'pricessing element:{element}')\",\n",
       "  'data',\n",
       "  'data = [100, 200, 300, 400, 500]',\n",
       "  'data = [100, 200, 300, 400, 500]',\n",
       "  \"while i in len(data)>0:\\n    element  = data.pop(i)\\n    print(f'pricessing element:{element}')\",\n",
       "  \"while len(data)>0:\\n    element  = data.pop()\\n    print(f'pricessing element:{element}')\",\n",
       "  'data',\n",
       "  \"while len(data)>0:\\n    element  = data.pop()\\n    print(f'pricessing element:{element}')\",\n",
       "  'data',\n",
       "  'data = [100, 200, 300, 400, 500]',\n",
       "  \"while len(data)==0:\\n    element  = data.pop()\\n    print(f'pricessing element:{element}')\",\n",
       "  'data',\n",
       "  'data = [100, 200, 300, 400, 500]',\n",
       "  \"while len(data)==0:\\n    element  = data.pop()\\n    print(f'pricessing element:{element}')\",\n",
       "  'data',\n",
       "  \"while len(data)>0:\\n    element  = data.pop()\\n    print(f'pricessing element:{element}')\",\n",
       "  'data',\n",
       "  'data = [100, 200, 300, 400, 500]',\n",
       "  'for i in range(len(data)):\\n    data.pop()',\n",
       "  'data = [100, 200, 300, 400, 500]',\n",
       "  'for i in range(len(data)):\\n    data.pop()',\n",
       "  'data = [100, 200, 300, 400, 500]',\n",
       "  'for i in range(len(data)):\\n    data.pop(i)',\n",
       "  'data = [100, 200, 300, 400, 500]',\n",
       "  \"for i in range(len(data)):\\n    print(f'pricessing ele:{i}')\\n    data.pop(i)\",\n",
       "  \"for i in range(100):\\n    print(i)\\n    if i>=5:\\n        print('breaking out')\\n        break\\n    print(i)\",\n",
       "  \"for i in range(100):\\n    print(i)\\n    if i>=5:\\n        print('breaking out')\\n        break\\nprint('done')\",\n",
       "  'for i in range(1,11):\\n    if i%2==1:\\n        continue',\n",
       "  'for i in range(1,11):\\n    if i%2==1:\\n        continue\\n    print(i)',\n",
       "  'for i in range(1,11):\\n    if i%2==1:\\n        continue\\nprint(i)',\n",
       "  'for i in range(1,11):\\n    if i%2==1:\\n        continue\\n    print(i)',\n",
       "  'for i in range(1,11):\\n    if i%2==1:\\n        break\\n    print(i)',\n",
       "  'for i in range(1,11):\\n    if i%2==0:\\n        break\\n    print(i)',\n",
       "  'for i in range(1,11):\\n    if i%2==0:\\n        break\\nprint(i)',\n",
       "  'for i in range(1,11):\\n    if i%2==0:\\n        break\\nprint(i)',\n",
       "  'for i in range(1,11):\\n    if i%2==0:\\n        break\\nprint(i)',\n",
       "  'for i in range(1,11):\\n    if i%2==0:\\n        break\\nprint(i)',\n",
       "  'for i in range(1,11):\\n    if i%2==1:\\n        break\\n    print(i)',\n",
       "  'print(i)',\n",
       "  \"for i in range(100):\\n    print(i)\\n    if i>=5:\\n        print('breaking out')\\n        break\\nprint('done')\",\n",
       "  'print(i)',\n",
       "  'print(i)',\n",
       "  'if i in range(1,11):\\n    if i%2==0:\\n        print(i)',\n",
       "  'if i in range(1,11):\\n    if i%2==0:\\n        print(i)',\n",
       "  'if i in range(1,11):\\n    if i%2==0:\\n    print(i)',\n",
       "  'if i in range(1,11):\\n    if i%2==0:\\nprint(i)',\n",
       "  'if i in range(1,11):\\n    if i%2==0:\\n        print(i)',\n",
       "  'print(i)',\n",
       "  'if i in range(1,11):\\n    if i%2==0:\\n        print(i)',\n",
       "  'print(i)',\n",
       "  'if i in range(1,11):\\n    if i%2==1:\\n        print(i)',\n",
       "  'print(i)',\n",
       "  'if i in range(1,11):\\n    if i%2==0:\\n        print(i)',\n",
       "  'print(i)',\n",
       "  'for i in range(1, 11):\\n    if i % 2 == 0:\\n        # even number\\n        print(i)',\n",
       "  'if i in range(1,11):\\n    if i%2 == 0:\\n        print(i)',\n",
       "  'if i in range(1,11):\\n    if i%2 == 0:\\n        print(i)',\n",
       "  'if i in range(1,11):\\n    if i%2 == 0:\\n        print(i)',\n",
       "  'if i in range(1,11):\\n    if i%2 == 0:\\n        print(i)',\n",
       "  'if i in range(1,11):\\n    if i%2 == 0:\\n        print(i)',\n",
       "  'if i in range(1,11):\\n    if i%2 == 0:\\n        print(i)',\n",
       "  'if i in range(1,11):\\n    if i%2 == 0:\\n        print(i)',\n",
       "  'for i in range(1, 11):\\n    if i % 2 == 0:\\n        # even number\\n        print(i)',\n",
       "  'for i in range(1, 11):\\n    if i % 2 == 0:\\n        # even number\\n        print(i)',\n",
       "  'for i in range(1, 11):\\n    if i % 2 == 0:\\n        # even number\\n        print(i)',\n",
       "  'for i in range(1, 11):\\n    if i % 2 == 0:\\n        # even number\\n        print(i)',\n",
       "  \"for i in range(1,5):\\n    for j in range(1,5):\\n\\n        if i+j == 1:\\n            print(f'skipping as {i}+{j} is odd')\\n            continue\\n        print(f'adding nums: {i}+{j}')\\n    print('*'*10)\",\n",
       "  \"for i in range(1,5):\\n    for j in range(1,5):\\n\\n        if i+j == 1:\\n            print(f'skipping as {i}+{j} is odd')\\n            continue\\n            print(f'adding nums: {i}+{j}')\\n    print('*'*10)\",\n",
       "  \"for i in range(1,5):\\n    for j in range(1,5):\\n\\n        if i+j == 1:\\n            print(f'skipping as {i}+{j} is odd')\\n            continue\\n        print(f'adding nums: {i}+{j}')\\n    print('*'*10)\",\n",
       "  \"for i in range(1,5):\\n    for j in range(1,5):\\n\\n        if (i+j)%2 == 1:\\n            print(f'skipping as {i}+{j} is odd')\\n            continue\\n        print(f'adding nums: {i}+{j}')\\n    print('*'*10)\",\n",
       "  \"for i in range(1,5):\\n    for j in range(1,5):\\n\\n        if (i+j)%2 == 1:\\n            print(f'skipping as {i}+{j} is odd')\\n            continue\\n        print(f'adding nums: {i}+{j} = {i+j}')\\n    print('*'*10)\",\n",
       "  \"for i in range(1,5):\\n    for j in range(1,5):\\n\\n        if (i+j)%2 == 1:\\n            print(f'skipping as {i}+{j} = {i+j} is odd')\\n            continue\\n        print(f'adding nums: {i}+{j} = {i+j}')\\n    print('*'*10)\",\n",
       "  \"for i in range(1,5):\\n    for j in range(1,5):\\n\\n        if (i+j)%2 == 1:\\n            print(f'skipping as {i}+{j} = {i+j} is odd')\\n            break\\n        print(f'adding nums: {i}+{j} = {i+j}')\\n    print('*'*10)\",\n",
       "  'i = 0\\nwhile True:\\n    i+=1\\n    if i>5:\\n        break\\n    print(i)',\n",
       "  'data = [1,2,3,-4,5,6]\\nall_positive = True\\n\\nfor ele in data:\\n    if ele <=0:\\n        all_positive = False\\n        break\\n    print(ele)',\n",
       "  'data = [1,2,3,-4,5,6]\\nall_positive = True\\n\\nfor ele in data:\\n    if ele <=0:\\n        all_positive = False\\n        continue\\n    print(ele)',\n",
       "  'data = [1,2,3,-4,5,6]\\nall_positive = True\\n\\nfor ele in data:\\n    if ele <=0:\\n        all_positive = False\\n        continue\\n    print(ele)',\n",
       "  'data = [1,2,3,-4,5,6]\\nall_positive = True\\n\\nfor ele in data:\\n    if ele <=0:\\n        all_positive = False\\n        continue\\n    print(ele)',\n",
       "  'data = [1,2,3,-4,5,6]\\nall_positive = True\\n\\nfor ele in data:\\n    if ele <=0:\\n        all_positive = False\\n        continue\\n    print(ele)',\n",
       "  'data = [1,2,3,-4,5,6]\\nall_positive = True\\n\\nfor ele in data:\\n    if ele <=0:\\n        all_positive = False\\n        break\\n    print(ele)',\n",
       "  'data = [1,2,3,4,5,6]\\nall_positive = True\\n\\nfor ele in data:\\n    if ele <=0:\\n        all_positive = False\\n        break\\n    print(ele)',\n",
       "  'data = [1,2,3,4,5,6]\\nall_positive = True\\n\\nfor ele in data:\\n    if ele <=0:\\n        all_positive = False\\n        break\\n    print(ele)',\n",
       "  'data = [1,2,3,-4,5,6]\\nall_positive = True\\n\\nfor ele in data:\\n    if ele <=0:\\n        all_positive = False\\n        break\\n    print(ele)',\n",
       "  'data = [1,2,3,-4,5,6]\\nall_positive = True\\n\\nfor ele in data:\\n    if ele <=0:\\n        all_positive = False\\n        continue\\n    print(ele)',\n",
       "  'data = [1,2,3,-4,5,6]\\nall_positive = True\\n\\nfor ele in data:\\n    if ele <=0:\\n        all_positive = False\\n        continue\\nprint(ele)',\n",
       "  'data = [1,2,3,-4,5,6]\\nall_positive = True\\n\\nfor ele in data:\\n    if ele <=0:\\n        all_positive = False\\n        continue\\n    print(ele)',\n",
       "  'all_positive',\n",
       "  'data = [1,2,3,-4,5,6]\\nall_positive = True\\n\\nfor ele in data:\\n    if ele <=0:\\n        all_positive = False\\n        break\\n    print(ele)',\n",
       "  'all_positive',\n",
       "  'data = [1,2,3,-4,5,6]\\nall_positive = True\\n\\nfor ele in data:\\n    if ele <=0:\\n        all_positive = False\\n        continue\\n    print(ele)',\n",
       "  'data = [1,2,3,-4,5,6]\\nall_positive = True\\n\\nfor ele in data:\\n    if ele <=0:\\n        all_positive = False\\n        # continue\\n    print(ele)',\n",
       "  'data = [1,2,3,-4,5,6]\\nall_positive = True\\n\\nfor ele in data:\\n    if ele <=0:\\n        all_positive = False\\n        continue\\n    print(ele)',\n",
       "  'data = [1,2,3,-4,5,6]\\nall_positive = True\\n\\nfor ele in data:\\n    if ele <=0:\\n        all_positive = False\\n        break\\n    print(ele)',\n",
       "  \"data = [1,2,3,-4,5,6]\\nfor ele in data:\\n    if ele<0:\\n        break\\n    else:\\n        print('prcoessing all the ele')\",\n",
       "  \"data = [1,2,3,-4,5,6]\\nfor ele in data:\\n    if ele<0:\\n        continue\\n    else:\\n        print('prcoessing all the ele')\",\n",
       "  \"data = [1,2,3,-4,5,6]\\nfor ele in data:\\n    if ele<0:\\n        break\\n    else:\\n        print('prcoessing all the ele')\",\n",
       "  'ele',\n",
       "  \"data = [1,2,3,-4,5,6]\\nfor ele in data:\\n    if ele<0:\\n        break\\nelse:\\n    print('prcoessing all the ele')\",\n",
       "  'ele',\n",
       "  \"data = [1,2,3,4,5,6]\\nfor ele in data:\\n    if ele<0:\\n        break\\nelse:\\n    print('prcoessing all the ele')\",\n",
       "  \"data = [1,2,3,4,5,6]\\nfor ele in data:\\n    if ele<0:\\n        break\\nelse:\\n    print('prcoessing all the ele')\",\n",
       "  'ele',\n",
       "  \"data = [1,2,3,-4,5,6]\\nfor ele in data:\\n    if ele<0:\\n        break\\nelse:\\n    print('prcoessing all the ele')\",\n",
       "  \"data = [1,2,3,-4,5,6]\\nfor ele in data:\\n    if ele<0:\\n        break\\nelse:\\n    print('prcoessing all the ele')\",\n",
       "  'ele',\n",
       "  \"data = [1,2,3,-4,5,6]\\nfor ele in data:\\n    if ele<0:\\n        break\\n    else:\\n        print('prcoessing all the ele')\",\n",
       "  \"data = [1,2,3,-4,5,6]\\nfor ele in data:\\n    if ele<0:\\n        break\\nelse:\\n    print('prcoessing all the ele')\",\n",
       "  'ele',\n",
       "  \"data = [1,2,3,-4,5,6]\\nfor ele in data:\\n    if ele<0:\\n        break\\nelse:\\n    print('prcoessing all the ele')\",\n",
       "  \"data = [1,2,3,4,5,6]\\nfor ele in data:\\n    if ele<0:\\n        break\\nelse:\\n    print('prcoessing all the ele')\",\n",
       "  \"data = [1,2,3,4,5,6]\\nfor ele in data:\\n    if ele<0:\\n        break\\nelse:\\n    print('prcoessing all the ele')\",\n",
       "  \"data = [1,2,3,4,5,6]\\nfor ele in data:\\n    if ele<0:\\n        break\\nelse:\\n    print('prcoessing all the ele')\",\n",
       "  \"data = [1,2,3,4,5,6]\\nfor ele in data:\\n    if ele<0:\\n        break\\nelse:\\n    print('prcoessing all the ele')\",\n",
       "  'ele',\n",
       "  \"l = [1,2,3]\\nd = {l:'test'}\",\n",
       "  'hash(100)',\n",
       "  'hash(3.14)',\n",
       "  'hash(l)',\n",
       "  't = (1,2,3)\\nhash(t)',\n",
       "  't = ([1,2],2,3,4,)\\nhash(t)',\n",
       "  'd = {\\n    (0,0):\"orin\",\\n    (1,0):\"test\",\\n    (1,0):\"test2\"\\n}',\n",
       "  'hash(d)',\n",
       "  'd',\n",
       "  'd[(0,0)]',\n",
       "  \"d[(1,1):'test3']\",\n",
       "  \"d[(1,1)]='test3'\",\n",
       "  'd',\n",
       "  'del d[(1,1)]]',\n",
       "  'del d[(1,1)]',\n",
       "  'd',\n",
       "  'globals()'],\n",
       " '_oh': {3: __main__.point2d,\n",
       "  7: point2d(x=10, y=20),\n",
       "  10: __main__.point2d,\n",
       "  11: point2d(x=30, y=40),\n",
       "  12: 30,\n",
       "  16: True,\n",
       "  20: <__main__.Point3D at 0x2841e165c50>,\n",
       "  22: 10,\n",
       "  23: (10, 20),\n",
       "  24: False,\n",
       "  26: False,\n",
       "  27: True,\n",
       "  29: False,\n",
       "  30: (False, False),\n",
       "  33: Point3D(a=10, b=20, c=30 ),\n",
       "  36: Point3D(a=10, b=20, c=30 ),\n",
       "  37: False,\n",
       "  38: False,\n",
       "  40: Point3D(a=10, b=20, c=30 ),\n",
       "  42: False,\n",
       "  44: Point3D(a=10, b=20, c=30 ),\n",
       "  46: False,\n",
       "  47: Point3D(a=100, b=200, c=300 ),\n",
       "  48: Point3D(a=10, b=20, c=30 ),\n",
       "  49: True,\n",
       "  50: point2d(x=10, y=20),\n",
       "  51: 20,\n",
       "  53: 'a',\n",
       "  56: <zip at 0x2841f27f0c0>,\n",
       "  57: [(1, 3), (2, 4)],\n",
       "  58: 11,\n",
       "  60: 11,\n",
       "  61: 18,\n",
       "  64: 1400,\n",
       "  65: Point3D(x=10, y=20, z=30),\n",
       "  67: (10, 20, 30),\n",
       "  68: ('x', 'y', 'z'),\n",
       "  78: <function collections.Point3D._asdict(self)>,\n",
       "  80: <function collections.Point3D._asdict(self)>,\n",
       "  84: Point3D(x=10, y=20, z=30),\n",
       "  85: 20,\n",
       "  87: __main__.Point3D,\n",
       "  90: __main__.Point3D,\n",
       "  92: Point3D(a=(1, 2), b=(3, 4), c=300 ),\n",
       "  93: __main__.Point2D,\n",
       "  96: (_tuplegetter(0, 'Alias for field number 0'),\n",
       "   _tuplegetter(1, 'Alias for field number 1')),\n",
       "  99: Point2D(x=100, y=200),\n",
       "  100: point2d(x=2, y=3),\n",
       "  101: 2766463592576,\n",
       "  102: Point2D(x=100, y=200),\n",
       "  103: 2766463263744,\n",
       "  106: ('symbol', 'year', 'month', 'day', 'open', 'high', 'low', 'close'),\n",
       "  108: Stock(symbol='DJIA', year=2018, month=1, day=25, open=26313, high=26458, low=26260, close=26393),\n",
       "  109: 26393,\n",
       "  110: ['DJIA', 2018, 1, 25, 26313, 26458, 26260],\n",
       "  111: list,\n",
       "  114: ('DJIA', 2018, 1, 25, 26313, 26458, 26260),\n",
       "  115: tuple,\n",
       "  116: Stock(symbol='DJIA', year=2018, month=1, day=25, open=26313, high=26458, low=26260, close=26393),\n",
       "  121: Stock(symbol='DJIA', year=2025, month=1, day=28, open=26313, high=26458, low=26260, close=26393),\n",
       "  123: 'Stock(symbol, year, month, day, open, high, low, close)',\n",
       "  125: \"int([x]) -> integer\\nint(x, base=10) -> integer\\n\\nConvert a number or string to an integer, or return 0 if no arguments\\nare given.  If x is a number, return x.__int__().  For floating point\\nnumbers, this truncates towards zero.\\n\\nIf x is not a number or if base is given, then x must be a string,\\nbytes, or bytearray instance representing an integer literal in the\\ngiven base.  The literal can be preceded by '+' or '-' and be surrounded\\nby whitespace.  The base defaults to 10.  Valid bases are 0 and 2-36.\\nBase 0 means to interpret the base from the string as an integer literal.\\n>>> int('0b100', base=0)\\n4\",\n",
       "  127: dict_items([('key1', 100), ('key2', 200), ('k3', 300)]),\n",
       "  130: ('key1', 'key2', 'k3'),\n",
       "  132: Data(key1=100, key2=200, k3=300),\n",
       "  133: Data(key1=100, key2=200, k3=300),\n",
       "  134: __main__.Data,\n",
       "  135: type,\n",
       "  137: type,\n",
       "  138: type,\n",
       "  140: type,\n",
       "  141: '0.30',\n",
       "  142: '0.2999999999999999888978',\n",
       "  147: 2,\n",
       "  148: 5,\n",
       "  149: 5,\n",
       "  151: [1, 20],\n",
       "  152: 2,\n",
       "  153: ([1, 20], [3, 4]),\n",
       "  155: tuple,\n",
       "  156: [1, 2, 3],\n",
       "  157: (1, 2, 3),\n",
       "  158: [1, 2, 3],\n",
       "  160: '!',\n",
       "  164: '(1, 2, 3)',\n",
       "  165: type,\n",
       "  166: 'Python',\n",
       "  167: ('P', 'y', 't', 'h', 'o', 'n'),\n",
       "  168: 6,\n",
       "  170: ['P', 'y', 't', 'h', 'o', 'n'],\n",
       "  171: ('P', 'y', 't', 'h', 'o', 'n'),\n",
       "  173: ['a', 'b', 'c', 'd', 'e', 'f'],\n",
       "  176: '==========',\n",
       "  177: (1, 2, 3, 1, 2, 3, 1, 2, 3, 1, 2, 3, 1, 2, 3),\n",
       "  180: [[0, 100, 0], [0, 0, 0], [0, 0, 0]],\n",
       "  181: 3,\n",
       "  182: [0, 100, 0],\n",
       "  183: 0,\n",
       "  185: [[0, 100, 0], [0, 0, 0], [0, 0, 0]],\n",
       "  187: [[0, 0, 0], [0, 0, 0], [0, 0, 0]],\n",
       "  188: <function list.__sizeof__()>,\n",
       "  189: 64,\n",
       "  190: [[0, 200, 0], [0, 200, 0], [0, 200, 0]],\n",
       "  191: 3,\n",
       "  192: 0,\n",
       "  194: 0,\n",
       "  195: [[0, 200, 0], [0, 200, 0], [0, 200, 0]],\n",
       "  197: [[0, 200, 0], [0, 0, 0], [0, 0, 0]],\n",
       "  198: [[0, 200, 0], [0, 0, 0], [0, 0, 0]],\n",
       "  199: [[0, 200, 0], [0, 0, 0], [0, 0, 0]],\n",
       "  200: [[0, 200, 0], [0, 0, 0], [0, 0, 0]],\n",
       "  201: 'Pytho',\n",
       "  202: 'Python',\n",
       "  203: (2, 3, 4, 5),\n",
       "  204: (2, 3, 4, 5),\n",
       "  205: (2, 3, 4, 5),\n",
       "  206: (2, 3, 4, 5),\n",
       "  207: 'Python ',\n",
       "  208: 'Python rocks!',\n",
       "  209: 'Python rocks!',\n",
       "  210: 'Python',\n",
       "  211: (2, 3, 4, 5),\n",
       "  212: (1, 2, 3, 4, 5),\n",
       "  213: [[0, 0, 0], [1, 1, 1]],\n",
       "  214: [[0, 0, 0], [1, 1, 1], [2, 2, 2]],\n",
       "  215: [[0, 0, 0], [1, 1, 1]],\n",
       "  216: 0,\n",
       "  217: 1,\n",
       "  219: 2,\n",
       "  220: [2, 2, 2],\n",
       "  221: True,\n",
       "  222: [[0, 0, 0], [1, 1, 1]],\n",
       "  223: 'Python',\n",
       "  224: 'Python ',\n",
       "  225: 'Python r',\n",
       "  226: [1, 2, 3, 4, 5],\n",
       "  227: [1, 2, 3, 4, 5],\n",
       "  228: False,\n",
       "  229: False,\n",
       "  230: False,\n",
       "  231: [2, 4, 6, 8],\n",
       "  232: [1, 2, 3, 4, 5, 6, 7, 8, 9, 10],\n",
       "  233: [1, 2, 3, 4, 5, 6, 7, 8, 9, 10],\n",
       "  234: [2, 4, 6, 8, 10],\n",
       "  235: [1, 3, 5, 7, 9],\n",
       "  236: [2, 4, 6, 8, 10],\n",
       "  237: [1, 3, 5, 7, 9],\n",
       "  238: [1, 3, 5, 7, 9],\n",
       "  239: 'cde',\n",
       "  240: 'f',\n",
       "  241: 'fed',\n",
       "  242: '',\n",
       "  243: '',\n",
       "  244: 'fedcba',\n",
       "  245: 'abcdef',\n",
       "  246: '',\n",
       "  247: '',\n",
       "  249: '',\n",
       "  250: '',\n",
       "  251: 'fed',\n",
       "  252: 'cde',\n",
       "  253: 'fed',\n",
       "  254: 'cdef',\n",
       "  255: 'fb',\n",
       "  256: 'cba',\n",
       "  257: 'cdef',\n",
       "  258: 'cba',\n",
       "  259: 'ce',\n",
       "  261: 'cdef',\n",
       "  262: 'ce',\n",
       "  263: 'cdef',\n",
       "  264: 'cb',\n",
       "  265: 'c',\n",
       "  266: '',\n",
       "  267: 'cb',\n",
       "  268: 'dcba',\n",
       "  269: False,\n",
       "  270: False,\n",
       "  271: False,\n",
       "  272: False,\n",
       "  273: True,\n",
       "  275: [1, 2, 3, 4, 5, 6, 7, 8, 9, 10],\n",
       "  276: [1, 3, 5, 7, 9],\n",
       "  277: [1, 4, 7, 10],\n",
       "  278: [1, 7],\n",
       "  279: [1, 8],\n",
       "  280: [1, 9],\n",
       "  281: [1, 10],\n",
       "  282: [1, 3, 5, 7, 9],\n",
       "  283: [20, 30],\n",
       "  284: [1, 'p', 222, 't', 'h', 888, 'n', 5, 999],\n",
       "  285: [1, 'p', 222, 't', 'h', 888, 'n', 5, 999],\n",
       "  286: ['y', 'o', 6],\n",
       "  288: [1, 'p', 222, 't', 'h', 888, 'n', 5, 999],\n",
       "  289: [8, 7],\n",
       "  290: [],\n",
       "  291: [8, 7],\n",
       "  292: [8, 7],\n",
       "  293: [1, 2, 3, 4, 5],\n",
       "  294: [8, 7],\n",
       "  295: [1, 2, 3, 4, 5],\n",
       "  297: [1, 2, 3, 4, 5],\n",
       "  298: [1, 2, 3, 4, 5],\n",
       "  299: [1, 2, 3, 4, 5],\n",
       "  300: [1, 3, 5, 7],\n",
       "  301: [2, 4, 'aaa', 6, 8, 5, 6, 7, 8, 9, 'a', 'b', 'c', 'a', 'b', 'c'],\n",
       "  302: [2, 4, 'aaa', 6, 8, 5, 6, 7, 8, 9, 'a', 'b', 'c', 'a', 'b', 'c'],\n",
       "  305: [2, 4, 'aaa', 6, 8, 5, 6, 7, 8, 9, 'a', 'b', 'c', 'a', 'b', 'c'],\n",
       "  306: [2, 4, 'aaa', 6, 8, 5, 6, 7, 8, 9, 'a', 'b', 'c', 'a', 'b', 'c'],\n",
       "  307: [2, 4, 'aaa', 6, 8, 5, 6, 7, 8, 9, 'a', 'b', 'c', 'a', 'b', 'c'],\n",
       "  308: [2, 4, 'aaa', 6, 8, 5, 6, 7, 8, 9, 'a', 'b', 'c', 'a', 'b', 'c'],\n",
       "  312: 100000,\n",
       "  313: 0.003491900017252192,\n",
       "  314: 200000,\n",
       "  316: 0.9892556999984663,\n",
       "  317: [1, 2, 3],\n",
       "  318: False,\n",
       "  319: True,\n",
       "  320: [1, 2, 3],\n",
       "  325: [1, 100, 3],\n",
       "  326: [1, 2, 3],\n",
       "  327: [[1, 0, 0, 200], [0, 1, 0], [0, 0, 1]],\n",
       "  328: False,\n",
       "  329: True,\n",
       "  330: [100, [0, 1, 0], [0, 0, 1]],\n",
       "  331: [[1, 0, 0, 200], [0, 1, 0], [0, 0, 1]],\n",
       "  336: [[1, 0, 0, 200], [0, 1, 0], [0, 0, 1]],\n",
       "  337: [100, [0, 1, 0], [0, 0, 1]],\n",
       "  339: ([[1, 0, 0, 100], [0, 1, 0], [0, 0, 1]],\n",
       "   [[1, 0, 0, 100], [0, 1, 0], [0, 0, 1]]),\n",
       "  340: [[1, 0, 0, 100], [0, 1, 0], [0, 0, 1]],\n",
       "  341: [[1, 0, 0, 100], [0, 1, 0], [0, 0, 1]],\n",
       "  346: False,\n",
       "  348: [[1, 0, 0, 100], [0, 1, 0], [0, 0, 1]],\n",
       "  349: [[1, 0, 0], [0, 1, 0], [0, 0, 1]],\n",
       "  350: (10, [1, 2], 'abc'),\n",
       "  351: (2766486401664, 2766486401664),\n",
       "  354: (5.0, 5.12),\n",
       "  355: (2, 'fedcba', 3.14),\n",
       "  357: (3.14, 100),\n",
       "  360: <function __main__.<lambda>(a)>,\n",
       "  364: function,\n",
       "  366: True,\n",
       "  368: function,\n",
       "  369: True,\n",
       "  371: 'SOMA',\n",
       "  372: list,\n",
       "  374: [<function __main__.<lambda>(a)>],\n",
       "  378: [<function __main__.<lambda>(a)>],\n",
       "  379: [<function __main__.<lambda>(a)>],\n",
       "  380: [<function __main__.<lambda>(a)>],\n",
       "  381: ['S', 'O', 'M', 'A'],\n",
       "  383: ['F', 'F', 'E', 'E', 'D', 'D', 'C', 'C', 'B', 'B', 'A', 'A'],\n",
       "  384: 'FfEeDdCcBbAa',\n",
       "  385: ['F', 'f', 'E', 'e', 'D', 'd', 'C', 'c', 'B', 'b', 'A', 'a'],\n",
       "  386: ['F', 'E', 'D', 'C', 'B', 'A'],\n",
       "  387: ['f', 'e', 'd', 'c', 'b', 'a'],\n",
       "  389: (1, 2, 3, 4, 5, 6, 7, 8, 9, 10, 11, 12, 13, 14, 15, 16, 17),\n",
       "  390: [1, 3, 5, 7, 9, 11, 13, 15, 17],\n",
       "  395: [<function __main__.<lambda>(a)>],\n",
       "  401: [<function __main__.<lambda>(a)>],\n",
       "  402: list,\n",
       "  407: list,\n",
       "  408: [<function __main__.<lambda>(a)>],\n",
       "  409: list,\n",
       "  411: list,\n",
       "  412: list,\n",
       "  416: [0, 2, 0, 4, 0, 6, 0, 8, 0, 10, 0, 12, 0, 14, 0, 16, 0],\n",
       "  417: list,\n",
       "  419: (0, 0, False),\n",
       "  420: [[0, 200, 0], [0, 0, 0], [0, 0, 0]],\n",
       "  422: list,\n",
       "  423: [[1, 0, 0], [0, 1, 0], [0, 0, 1]],\n",
       "  427: [[1, 0, 0], [0, 1, 0], [0, 0, 1]],\n",
       "  429: [[1, 0, 0], [0, 1, 0], [0, 0, 1]],\n",
       "  431: 'aAbBcCdDeEfF',\n",
       "  432: 'abcdef',\n",
       "  433: 'a',\n",
       "  434: 'ABCDEF',\n",
       "  437: [[1, 0, 0], [0, 1, 0], [0, 0, 1]],\n",
       "  440: [[1, 0, 0], [0, 1, 0], [0, 0, 1]],\n",
       "  442: [[1, 0, 0], [0, 1, 0], [0, 0, 1]],\n",
       "  443: [[1, 0, 0], [0, 1, 0], [0, 0, 1]],\n",
       "  448: [[1, 0, 0], [0, 1, 0], [0, 0, 1]],\n",
       "  449: [[1, 0, 0], [0, 1, 0], [0, 0, 1]],\n",
       "  450: [[0, 0, 0], [0, 0, 0], [0, 0, 0]],\n",
       "  455: list,\n",
       "  465: 'Always look on the bright side of life.',\n",
       "  466: 'Always look on the bright side of life.',\n",
       "  467: '😀',\n",
       "  469: '😀',\n",
       "  470: 'The Definitive Guide To Python',\n",
       "  471: 'Peter',\n",
       "  473: 'PYTHON',\n",
       "  474: ['Jones', 'Peter'],\n",
       "  475: ('Jones', 'Peter'),\n",
       "  476: 'item 1,item 2,item 3',\n",
       "  477: 'a,b,c,d',\n",
       "  482: True,\n",
       "  483: True,\n",
       "  484: False,\n",
       "  485: True,\n",
       "  486: True,\n",
       "  487: True,\n",
       "  488: 25,\n",
       "  496: 25,\n",
       "  506: 9,\n",
       "  507: 15,\n",
       "  509: 15,\n",
       "  510: 56,\n",
       "  511: 54,\n",
       "  513: 56,\n",
       "  515: 56,\n",
       "  516: 56,\n",
       "  517: -1,\n",
       "  521: 0.012059500033501536,\n",
       "  522: 0.002888699993491173,\n",
       "  523: '100:open, hign:200',\n",
       "  524: 'bid:1.576,ask:1.5763, spread:-0.00029999999999996696',\n",
       "  530: 'bid:1.58, ask:1.58, spread:-0.00',\n",
       "  532: 'bid:1.58, ask:1.58, spread:-0.00',\n",
       "  538: 'bid:1.5760, ask:1.5763, spread:-0.0003',\n",
       "  539: '10+20=20+10',\n",
       "  540: '10+20 = 20+10',\n",
       "  541: '10+20 =30',\n",
       "  542: 'open=<function open at 0x000002841B928900>',\n",
       "  543: 'open=10.2',\n",
       "  544: 'ask=1.5763,spread=0.00029999999999996696',\n",
       "  545: 'ask=1.5763,spread=0.0003',\n",
       "  546: range(0, 10),\n",
       "  547: range,\n",
       "  548: range(0, 10),\n",
       "  549: (0, 1, 2, 3, 4, 5, 6, 7, 8, 9),\n",
       "  550: [0, 1, 2, 3, 4, 5, 6, 7, 8, 9],\n",
       "  551: [],\n",
       "  552: [2, 3, 4, 5, 6, 7, 8, 9],\n",
       "  553: 8,\n",
       "  554: range(2, 10),\n",
       "  555: [2, 3, 4, 5, 6, 7, 8, 9],\n",
       "  556: [2, 4, 6, 8],\n",
       "  557: [2, 4, 6, 8, 10],\n",
       "  558: [],\n",
       "  559: [2, 4, 6, 8, 10],\n",
       "  560: [],\n",
       "  561: [10, 9, 8, 7, 6, 5, 4, 3],\n",
       "  562: [10, 8, 6, 4],\n",
       "  563: [],\n",
       "  564: [10, 9, 8, 7, 6, 5, 4, 3],\n",
       "  565: [10, 9, 8, 7, 6, 5, 4],\n",
       "  566: [10, 9, 8, 7, 6, 5, 4, 3, 2],\n",
       "  599: [[1, 0, 0], [0, 1, 0], [0, 0, 1]],\n",
       "  601: [(0, 10), (1, 20), (2, 30)],\n",
       "  603: [(0, 10), (1, 20), (2, 30)],\n",
       "  604: [(1, 10), (2, 20), (3, 30)],\n",
       "  635: [[0, 0, 0, 0, 1]],\n",
       "  637: [[0, 0, 0, 0, 1]],\n",
       "  639: [[1, 0, 0, 0, 0],\n",
       "   [0, 1, 0, 0, 0],\n",
       "   [0, 0, 1, 0, 0],\n",
       "   [0, 0, 0, 1, 0],\n",
       "   [0, 0, 0, 0, 1]],\n",
       "  643: [[0, 1], [2, 3, 4, 5, 6], [7, 8, 9], [10]],\n",
       "  645: [[0, 1], [2, 3, 4, 5, 6], [7, 8, 9], [10]],\n",
       "  649: (3, False),\n",
       "  679: list,\n",
       "  680: [1000, 11.2, 9.8, None, 11.5, None],\n",
       "  682: [None],\n",
       "  683: [10.5, 11.2, 9.8, None, 11.5, None],\n",
       "  701: [2, 4, 6, 8, 10],\n",
       "  711: 4,\n",
       "  712: 43.0,\n",
       "  714: 10.75,\n",
       "  717: [False, False],\n",
       "  718: [10.5, 11.2, 9.8, None, 11.5, None],\n",
       "  719: [10.5, 11.2, 9.8, 10.75, 11.5, 10.75],\n",
       "  720: [10.5, 11.2, 9.8, None, 11.5, None],\n",
       "  721: [10.5, 11.2, 9.8, 10.75, 11.5, 10.75],\n",
       "  727: [100, 200],\n",
       "  729: [100, 200],\n",
       "  731: [100, 200],\n",
       "  733: [100, 200],\n",
       "  735: [100, 200],\n",
       "  737: [100, 200],\n",
       "  739: [100, 200],\n",
       "  741: [100, 200],\n",
       "  744: [100, 200],\n",
       "  746: [100, 200],\n",
       "  751: [],\n",
       "  753: [],\n",
       "  756: [100, 200, 300, 400, 500],\n",
       "  759: [],\n",
       "  761: [],\n",
       "  831: False,\n",
       "  833: False,\n",
       "  841: -4,\n",
       "  843: -4,\n",
       "  846: 6,\n",
       "  849: -4,\n",
       "  852: -4,\n",
       "  858: 6,\n",
       "  860: 100,\n",
       "  861: 322818021289917443,\n",
       "  863: 529344067295497451,\n",
       "  867: {(0, 0): 'orin', (1, 0): 'test2'},\n",
       "  868: 'orin',\n",
       "  871: {(0, 0): 'orin', (1, 0): 'test2'},\n",
       "  874: {(0, 0): 'orin', (1, 0): 'test2'}},\n",
       " '_dh': [WindowsPath('c:/Users/e022280/VScode/Py_DeepDive/python-deepdive')],\n",
       " 'In': ['',\n",
       "  'from collections import namedtuple',\n",
       "  \"Point2D = namedtuple('point2d',('x','y'))\",\n",
       "  'Point2D',\n",
       "  'Point2D()',\n",
       "  \"Point2D = namedtuple('point2d',(x,y))\",\n",
       "  \"Point2D = namedtuple('point2d',('x','y'))\",\n",
       "  'Point2D(10,20)',\n",
       "  'a = Point2D()',\n",
       "  'a = Point2D(30,40)',\n",
       "  'type(a)',\n",
       "  'a',\n",
       "  'a.x',\n",
       "  'p.__dict__',\n",
       "  'a.__dict__',\n",
       "  'a.__dict__()',\n",
       "  'isinstance(a, tuple)',\n",
       "  'class Point3D:\\n    def __init__(self,a,b,c):\\n        self.a = a\\n        self.b = b\\n        self.c = c',\n",
       "  'p_3d = Point3D()',\n",
       "  'p_3d = Point3D(10,20,30)',\n",
       "  'p_3d',\n",
       "  'p_3d.x',\n",
       "  'p_3d.a',\n",
       "  'p_3d.a, p_3d.b',\n",
       "  'isinstance(p_3d,tuple)',\n",
       "  'p1 = Point2D(10,20)\\np2 = Point2D(10,20)',\n",
       "  'p1 is p2',\n",
       "  'p1 == p2',\n",
       "  'pt1 = Point3D(10,20,30)\\npt2 = Point3D(10,20,30)',\n",
       "  'pt1 is pt2',\n",
       "  'pt1 is pt2, pt1 == pt2, ',\n",
       "  \"class Point3D:\\n    def __init__(self,a,b,c):\\n        self.a = a\\n        self.b = b\\n        self.c = c\\n\\n    def __repr__(self):\\n        return f'{self.__class__.__name__}(a={self.a}, b={self.b}, c={self.c} )'\",\n",
       "  'pt_3d = Point3D(10,20,30)',\n",
       "  'pt_3d = Point3D(10,20,30)\\npt_3d',\n",
       "  \"class Point3D:\\n    def __init__(self,a,b,c):\\n        self.a = a\\n        self.b = b\\n        self.c = c\\n\\n    def __repr__(self):\\n        return f'{self.__class__.__name__}(a={self.a}, b={self.b}, c={self.c} )'\\n    \\n    def __eq__(self,other):\\n        if isinstance(other, Point3D):\\n            return self.a == other.a and self.b == other.b and self.c == other.c\\n        else:\\n            return False\",\n",
       "  'pt_3d1 = Point3D(100,200,300)',\n",
       "  'pt_3d = Point3D(10,20,30)\\npt_3d',\n",
       "  'pt_3d is pt_3d1',\n",
       "  'pt_3d == pt_3d1',\n",
       "  \"class Point3D:\\n    def __init__(self,a,b,c):\\n        self.a = a\\n        self.b = b\\n        self.c = c\\n\\n    def __repr__(self):\\n        return f'{self.__class__.__name__}(a={self.a}, b={self.b}, c={self.c} )'\\n    \\n    def __eq__(self,other):\\n        if isinstance(other, Point3D):\\n            return self.a == other.a and self.b == other.b and self.c == other.c\\n        else:\\n            return False\",\n",
       "  'pt_3d = Point3D(10,20,30)\\npt_3d',\n",
       "  'pt_3d1 = Point3D(100,200,300)',\n",
       "  'pt_3d == pt_3d1',\n",
       "  \"class Point3D:\\n    def __init__(self,a,b,c):\\n        self.a = a\\n        self.b = b\\n        self.c = c\\n\\n    def __repr__(self):\\n        return f'{self.__class__.__name__}(a={self.a}, b={self.b}, c={self.c} )'\\n    \\n    def __eq__(self,other):\\n        if isinstance(other, Point3D):\\n            return self.a == other.a and self.b == other.b and self.c == other.c\\n        else:\\n            return False\",\n",
       "  'pt_3d = Point3D(10,20,30)\\npt_3d',\n",
       "  'pt_3d1 = Point3D(100,200,300)',\n",
       "  'pt_3d == pt_3d1',\n",
       "  'pt_3d1 = Point3D(100,200,300)\\npt_3d1',\n",
       "  'pt_3d1 = Point3D(10,20,30)\\npt_3d1',\n",
       "  'pt_3d == pt_3d1',\n",
       "  'p1',\n",
       "  'max(p1)',\n",
       "  'max(pt_3d)',\n",
       "  \"'a'\",\n",
       "  '`a`',\n",
       "  'a = (1,2)\\nb = (3,4)',\n",
       "  'zip(a,b)',\n",
       "  'list(zip(a,b))',\n",
       "  'sum(e[0]*e[1] for e in zip(a,b))',\n",
       "  'def dot_prd(a,b):\\n    return sum(e[0]*e[1] for e in zip(a,b))',\n",
       "  'dot_prd(a,b)',\n",
       "  'p1 = Point2D(2,3)\\np2 = Point2D(3,4)\\ndot_prd(p1,p2)',\n",
       "  \"pt1_3d = namedtuple('Point3D','x y z')\",\n",
       "  \"Point3D_nt = namedtuple('Point3D','x y z')\",\n",
       "  'v1 = Point3D_nt(10,20,30)\\nv2 = Point3D_nt(10,20,30)\\ndot_prd(v1,v2)',\n",
       "  'v1',\n",
       "  'x,y,z = v1',\n",
       "  'x,y,z = v1\\nx,y,z',\n",
       "  'v1._fields',\n",
       "  'print(v1._Source)',\n",
       "  'print(Point3D_nt._Source)',\n",
       "  'print(Point3D_nt._source)',\n",
       "  'print(Point2D._source)',\n",
       "  \"Point3D_nt = namedtuple('Point3D','x y z')\",\n",
       "  'Point3D_nt._source',\n",
       "  'print(getattr(Point3D_nt, \"_source\", \"Attribute not found\"))',\n",
       "  'from collections import namedtuple\\n\\nPoint2D = namedtuple(\"Point2D\", [\"x\", \"y\"])\\n\\nprint(Point2D._source)  # This should work if _source exists',\n",
       "  'print(dir(Point2D))  # Check if _source is present',\n",
       "  'Point3D_nt._asdict',\n",
       "  'Point3D_nt._asdict()',\n",
       "  'd = Point3D_nt._asdict\\nd',\n",
       "  'd = Point3D_nt._asdict()\\nd',\n",
       "  'd = Point3D_nt._asdict(self)\\nd',\n",
       "  'd = Point3D_nt._asdict()\\nd',\n",
       "  'v1',\n",
       "  'v1[1]',\n",
       "  'v1[1] = 200',\n",
       "  'Point3D',\n",
       "  'print(Point3D0',\n",
       "  'print(Point3D)',\n",
       "  'Point3D_nt',\n",
       "  'v1 = Point3D(a,b,c=300)',\n",
       "  'v1 = Point3D(a,b,c=300)\\nv1',\n",
       "  'Point2D',\n",
       "  'Point2D.a,Point2D.b',\n",
       "  'Point2D.x,Point2D.b',\n",
       "  'Point2D.x,Point2D.y',\n",
       "  'p2 = Point2D(x=100,y)',\n",
       "  'p2 = Point2D(x=100,y=200)',\n",
       "  'p2 = Point2D(x=100,y=200)\\np2',\n",
       "  'p1',\n",
       "  'id(p1)',\n",
       "  'p1 = Point2D(x=100,y=200)\\np1',\n",
       "  'id(p1)',\n",
       "  \"Stock = namedtuple('Stock', '''symbol\\n                               year month day\\n                               open high low close''')\",\n",
       "  \"djia = Stock('DJIA', 2018, 1, 25, 26_313, 26_458, 26_260, 26_393)\",\n",
       "  'djia._fields',\n",
       "  '*values,_ = djia ',\n",
       "  'djia',\n",
       "  '_',\n",
       "  'values',\n",
       "  'type(values)',\n",
       "  'values = djia[:7]',\n",
       "  'vaues',\n",
       "  'values',\n",
       "  'type(values)',\n",
       "  'djia',\n",
       "  'djia  = Stock(*values, year=2025,day=28)',\n",
       "  'djia  = Stock(*values, year=2025, day=28)',\n",
       "  'djia  = Stock( year=2025, day=28)',\n",
       "  'djia  = djia._replace( year=2025, day=28)',\n",
       "  'djia',\n",
       "  'help(djia)',\n",
       "  'djia.__doc__',\n",
       "  'djia.x.__doc__',\n",
       "  'djia.year.__doc__',\n",
       "  'data_dict = dict(key1=100,key2=200,k3=300)',\n",
       "  'data_dict.items()',\n",
       "  \"Data = namedtuple('Data', data_dict.keys())\",\n",
       "  'Data._fields)()',\n",
       "  'Data._fields',\n",
       "  'd1 = Data(**data_dict)',\n",
       "  'd1',\n",
       "  'd1',\n",
       "  'type(d1)',\n",
       "  'type(Data)',\n",
       "  \"Data = namedtuple('Data', data_dict.keys())\",\n",
       "  'type(Data)',\n",
       "  'type(Point2D)',\n",
       "  \"Point2D = namedtuple('point2d',('x','y'))\",\n",
       "  'type(Point2D)',\n",
       "  \"format(0.3,'.2f')\",\n",
       "  \"format(0.3,'.22f')\",\n",
       "  't = (1, 2, 3, 4, 5)\\nt(o)',\n",
       "  't = (1, 2, 3, 4, 5)\\nt(0)',\n",
       "  't = (1, 2, 3, 4, 5)\\nt(1)',\n",
       "  't = (1, 2, 3, 4, 5)',\n",
       "  't[1]',\n",
       "  't[-1]',\n",
       "  't[len(t)-1]',\n",
       "  't = ([1, 2], [3, 4])',\n",
       "  't[0]',\n",
       "  't[0][1]',\n",
       "  't[0][1] = 20\\nt',\n",
       "  'l = [1, 2, 3]',\n",
       "  't = tuple(l)\\ntype(t)',\n",
       "  'l',\n",
       "  't',\n",
       "  'l = list(t)\\nl',\n",
       "  \"s = 'Python rocks!'\",\n",
       "  's[-1]',\n",
       "  's[0] = d',\n",
       "  't = 1, 2, 3',\n",
       "  's = str(t)',\n",
       "  's = str(t)\\ns',\n",
       "  'type(str)',\n",
       "  \"s = 'Python'\\nt = tuple(s)\\ns\",\n",
       "  \"s = 'Python'\\nt = tuple(s)\\nt\",\n",
       "  \"s = 'Python'\\nt = tuple(s)\\nt\\nlen(t)\",\n",
       "  'l = list(s)',\n",
       "  'l = list(s)\\nl',\n",
       "  \"s = 'Python'\\nt = tuple(s)\\nt\\n# len(t)\",\n",
       "  \"l = list('abcdef')\",\n",
       "  \"l = list('abcdef')\\nl\",\n",
       "  \"s = '='*p\",\n",
       "  \"s = '='*10\",\n",
       "  \"s = '='*10\\ns\",\n",
       "  't = (1,2,3)*5\\nt',\n",
       "  'm = [\\n    [0, 0 ,0],\\n    [0, 0 ,0]\\n    [0, 0 ,0]\\n]',\n",
       "  'm = [\\n    [0, 0 ,0],\\n    [0, 0 ,0],\\n    [0, 0 ,0]\\n]',\n",
       "  'm = [\\n    [0, 0 ,0],\\n    [0, 0 ,0],\\n    [0, 0 ,0]\\n]\\nm',\n",
       "  'len(m)',\n",
       "  'm[0]',\n",
       "  'm[0][1]',\n",
       "  'm[0][1] = 100',\n",
       "  'm[0][1] = 100\\nm',\n",
       "  'm = [[0,0,0]] * 3',\n",
       "  'm = [[0,0,0]] * 3\\nm',\n",
       "  'm = [[0,0,0]] * 3\\nm.__sizeof__',\n",
       "  'm = [[0,0,0]] * 3\\nm.__sizeof__()',\n",
       "  'm = [[0,0,0]] * 3\\nm.__sizeof__()\\nm',\n",
       "  'len(m)',\n",
       "  'm[0][0]',\n",
       "  'm[0][3]',\n",
       "  'm[0][1]',\n",
       "  'm[0][1] = 200\\nm',\n",
       "  'm = [[0]*3 for i in range(3)]',\n",
       "  'm = [[0]*3 for i in range(3)]\\nm',\n",
       "  'm[0][1] = 200\\nm',\n",
       "  'm = [[0]*3 for _ in range(3)]\\nm',\n",
       "  'm[0][1] = 200\\nm',\n",
       "  \"s = 'Python rocks!'\\ns[0:5]\",\n",
       "  's[0:5+1]',\n",
       "  't = (1, 2, 3, 4, 5)\\nt[1:5]',\n",
       "  't = (1, 2, 3, 4, 5)\\nt[1:5+1]',\n",
       "  't = (1, 2, 3, 4, 5)\\nt[1:5+1]',\n",
       "  't = (1, 2, 3, 4, 5)\\nt[1:5]',\n",
       "  's[0:5+2]',\n",
       "  's[0:5+10]',\n",
       "  's[0:5+11]',\n",
       "  's[0:5+1]',\n",
       "  't = (1, 2, 3, 4, 5)\\nt[1:5]',\n",
       "  't',\n",
       "  'l = [[0, 0, 0], [1, 1, 1], [2, 2, 2]]\\ns = l[0:2]\\ns',\n",
       "  'l = [[0, 0, 0], [1, 1, 1], [2, 2, 2]]\\ns = l[0:2+1]\\ns',\n",
       "  'l = [[0, 0, 0], [1, 1, 1], [2, 2, 2]]\\ns = l[0:2]\\ns',\n",
       "  's[0][1]',\n",
       "  's[1][1]',\n",
       "  's[2][1]',\n",
       "  'l[2][1]',\n",
       "  'l[2]',\n",
       "  's[0] is l[0]',\n",
       "  's',\n",
       "  \"s = 'Python rocks!'\\ns[:6]\",\n",
       "  \"s = 'Python rocks!'\\ns[:6+1]\",\n",
       "  \"s = 'Python rocks!'\\ns[:6+1+1]\",\n",
       "  'l = [1, 2, 3, 4, 5]\\nl[:]',\n",
       "  'l = [1, 2, 3, 4, 5]\\nl[::]',\n",
       "  'l = [1, 2, 3, 4, 5]\\nl[:] is l[::]',\n",
       "  'l = [1, 2, 3, 4, 5]\\nl[:] is l[:]',\n",
       "  'l2 = l[:]\\nl2 is l',\n",
       "  's = [1, 2, 3, 4, 5, 6, 7, 8, 9, 10]\\ns[1:8:2]',\n",
       "  's[1::2]\\ns',\n",
       "  's[1::2]\\ns',\n",
       "  's[1::2]',\n",
       "  's[0::2]',\n",
       "  '[i for i in s if i%2!=1]',\n",
       "  '[i for i in s if i%2!=0]',\n",
       "  's[::2]',\n",
       "  \"s = 'abcdef'\\ns[-4:-1]\",\n",
       "  's[-1:4:-1]',\n",
       "  's[-1:-4:-1]',\n",
       "  's[-1:-3]',\n",
       "  's[-1:3]',\n",
       "  's[::-1]',\n",
       "  's[::1]',\n",
       "  's[-1:-4]',\n",
       "  's[-1:-4:1]',\n",
       "  's[-1:-4:0]',\n",
       "  's[-1:-4:2]',\n",
       "  's[-1:-4:1]',\n",
       "  's[-1:-4:-1]',\n",
       "  's[-4:-1]',\n",
       "  \"s = 'abcdef'\\ns[:-4:-1]\",\n",
       "  's[-4::]',\n",
       "  's[::-4]',\n",
       "  's[2::-1]',\n",
       "  's[2::1]',\n",
       "  's[2::-1]',\n",
       "  's[2::2]',\n",
       "  's[2::0]',\n",
       "  's[2::1]',\n",
       "  's[2::2]',\n",
       "  's[2::1]',\n",
       "  's[2:0:-1]',\n",
       "  's[2:0+1:-1]',\n",
       "  's[2:-1:-1]',\n",
       "  's[2:0:-1]',\n",
       "  \"s = 'abcdef'\\ns[-3::-1]\",\n",
       "  \"a = 'racecar'\\na1 = a[::-1]\\na is a1\",\n",
       "  \"a = 'racecar'\\na1 == a[::-1]\\na is a1\",\n",
       "  \"a = 'racecar'\\na[::-1]\\na is a[::-1]\",\n",
       "  \"a = 'racecar'\\n# a[::-1]\\na is a[::-1]\",\n",
       "  \"a = 'racecar'\\n# a[::-1]\\na == a[::-1]\",\n",
       "  'l = [1,2,3,4,5,6,7,8,9,10]',\n",
       "  'l[::1]',\n",
       "  'l[::2]',\n",
       "  'l[::3]',\n",
       "  'l[::6]',\n",
       "  'l[::7]',\n",
       "  'l[::8]',\n",
       "  'l[::9]',\n",
       "  'l[::2]',\n",
       "  'l = [1, 20, 30, 5, 6]\\nl[1:3]',\n",
       "  'l[1:3] = [100,200]\\nl',\n",
       "  \"l[1:3] = 'python'\\nl\",\n",
       "  'l[2::3]',\n",
       "  'l[2::3] = [222,888]\\nl',\n",
       "  'l[2::3] = [222,888,999]\\nl',\n",
       "  'l = [1, 2, 3, 4, 5, 6, 7, 8]\\nl[:-3:-1]',\n",
       "  'l = [1, 2, 3, 4, 5, 6, 7, 8]\\nl[0:-3:-1]',\n",
       "  'l = [1, 2, 3, 4, 5, 6, 7, 8]\\nl[-1:-3:-1]',\n",
       "  'l = [1, 2, 3, 4, 5, 6, 7, 8]\\nl[:-3:-1]',\n",
       "  'l = [1, 2, 3, 4, 5, 6, 7, 8]\\nl[:-3:1]',\n",
       "  'l = [1, 2, 3, 4, 5, 6, 7, 8]\\nl[:-3:-1]',\n",
       "  'l = [1, 2, 3, 4, 5, 6, 7, 8]\\nl[:-3:-1] = [200,300]\\nl',\n",
       "  'del l[:-2:-1]',\n",
       "  'del l[:-2:-1]\\nl',\n",
       "  'del l[:-2:-1]\\nl',\n",
       "  'l',\n",
       "  'l = [1, 2, 3, 4, 5, 6, 7, 8]\\nl[::2]',\n",
       "  'del l[::2]\\nl',\n",
       "  'l.append(5)\\nl',\n",
       "  'l.extend[6,7,8,9]\\nl',\n",
       "  'l.extend(6,7,8,9)\\nl',\n",
       "  'l.extend((6,7,8,9))\\nl',\n",
       "  \"l.extend('abc')\\nl\",\n",
       "  \"l.extend(('abc'))\\nl\",\n",
       "  \"l.insert(2,'aaa')\\nl\",\n",
       "  \"from timeit import timeit\\nget_ipython().run_line_magic('pinfo', 'timeit')\",\n",
       "  'l = [1, 2, 3]',\n",
       "  'l=[]',\n",
       "  \"timeit('l.append(1)',globals=globals(),number=100_000)\\nlen(l)\",\n",
       "  \"timeit('l.append(1)',globals=globals(),number=100_000)\\n# len(l)\",\n",
       "  'len(l)',\n",
       "  'l = []',\n",
       "  \"timeit('l.insert(1,0)',globals=globals(),number=100_000)\",\n",
       "  'l1 = [1, 2, 3]\\nl2 = l1[:]\\nl2',\n",
       "  'l1 is l2',\n",
       "  'l1 == l2',\n",
       "  'l3 = l1.copy()\\nl3',\n",
       "  \"get_ipython().run_line_magic('pinfo', 'l1.help')\",\n",
       "  'l1.help',\n",
       "  'l1.?',\n",
       "  'l1.help()',\n",
       "  'l1[1] = 100\\nl1',\n",
       "  'l2',\n",
       "  'm1 = [[1, 0, 0], [0, 1, 0], [0, 0, 1]]\\nm2 = m1.copy()\\nm2',\n",
       "  'm1 is m2',\n",
       "  'm1[0] is m2[0]',\n",
       "  'm1[0] = 100\\nm1',\n",
       "  'm2',\n",
       "  'm1[0].append()',\n",
       "  'm1[0].append()',\n",
       "  'm1[0].append(200)',\n",
       "  'm2[0].append(200)',\n",
       "  'm2',\n",
       "  'm1',\n",
       "  'm1 = [[1, 0, 0], [0, 1, 0], [0, 0, 1]]\\nm2 = m1.copy()',\n",
       "  'm1, m2',\n",
       "  'm1[0].append(100)\\nm1',\n",
       "  'm2',\n",
       "  'from copy import deepcopy',\n",
       "  'm1 = [[1, 0, 0], [0, 1, 0], [0, 0, 1]]',\n",
       "  'm2 = m1.deepcopy()',\n",
       "  'm2 = deepcopy(m1)',\n",
       "  'm1[0] is m2[0]',\n",
       "  'm1[0].append(100)',\n",
       "  'm1',\n",
       "  'm2',\n",
       "  \"t1 = (10, [1, 2], 'abc')\\nt2 = t1\\nt2\",\n",
       "  'id(t1), id(t2)',\n",
       "  'rate = 5.0, 5.12',\n",
       "  'apr, apy = rate',\n",
       "  'apr, apy',\n",
       "  \"s = 'abcdef'\\na,b,c = (1+1,s[::-1],3.14)\\na,b,c\",\n",
       "  'a = 100\\nb = 3.14\\na,b = b,a',\n",
       "  'a,b',\n",
       "  \"s = 'FfEeDdCcBbAa'\",\n",
       "  'from collections import upper',\n",
       "  'sU = lambda a:a[x] in a.upper()\\nsU',\n",
       "  'sU = lambda a:a[x] in a.upper()\\nprint(sU)',\n",
       "  'sU = lambda a:a[x] in a.upper()\\nlist(sU)',\n",
       "  'sU = lambda a:a[x] in a.upper()\\ntype(su)',\n",
       "  'sU = lambda a:a[x] in a.upper()\\ntype(sU)',\n",
       "  'su(s)',\n",
       "  'sU(s)',\n",
       "  \"s = 'FfEeDdCcBbAa'\",\n",
       "  'sU = lambda a:a[x] in a.upper()\\ntype(sU)',\n",
       "  'sU(s)',\n",
       "  'sU(list(s))',\n",
       "  \"s = 'soma'\\ns.upper()\",\n",
       "  'sU = [lambda a:a[x] in a.upper()]\\ntype(sU)',\n",
       "  'su',\n",
       "  'sU',\n",
       "  'for i in sU:\\n    print()i',\n",
       "  'for i in sU:\\n    print(i)',\n",
       "  'for i in sU:\\n    print(sU(i))',\n",
       "  'sU',\n",
       "  'sU[::]',\n",
       "  'sU[:]',\n",
       "  '[i for i in s.upper()]',\n",
       "  \"s = 'FfEeDdCcBbAa'\",\n",
       "  'sU = [i for i in s.upper()]\\nsU',\n",
       "  's',\n",
       "  'sU = [i for i in s if i in s]\\nsU',\n",
       "  'sU = [i for i in s if i in s.upper()]\\nsU',\n",
       "  'sl = [i for i in s if i in s.lower()]\\nsl',\n",
       "  't1 = 1, 2, 3, 4, 5, 6\\nt2 = 7, 8, 9, 10\\nt3 = 11, 12, 13, 14, 15, 16, 17',\n",
       "  't = t1+t2+t3\\nt',\n",
       "  '[i for i in (t1+t2+t3) if i%2==1]',\n",
       "  '[lambda x:x[i]=0, i for i in (t1+t2+t3) if i%2==1]',\n",
       "  '[lambda x:x[i]==0, i for i in (t1+t2+t3) if i%2==1]',\n",
       "  '[(lambda x:x[i]==0), i for i in (t1+t2+t3) if i%2==1]',\n",
       "  '[(lambda x:x[i]==0) if i==( i for i in (t1+t2+t3) if i%2==1)]',\n",
       "  '[(lambda x:x[i]==0) if i==( i for i in (t1+t2+t3) if i%2==1) else i]',\n",
       "  'T = [(lambda x:x[i]==0) if i==( i for i in (t1+t2+t3) if i%2==1) else i]\\nfor i in T:\\n    print(i)',\n",
       "  'T = [(lambda x:x[i]==0) if i==( i for i in (t1+t2+t3) if i%2==1) else i]\\nT(t1)',\n",
       "  'T = [(lambda x:x[i]==0) if i==( i for i in (t1+t2+t3) if i%2==1) else i]',\n",
       "  'T = [(lambda x:x[i]==0) if i=( i for i in (t1+t2+t3) if i%2==1) else i]',\n",
       "  'T = [(lambda x:x[i]==0) if i==( i for i in (t1+t2+t3) if i%2==1) else i]',\n",
       "  'T',\n",
       "  'type(T)',\n",
       "  'type(T)\\nfor i in T:\\n    print(i)',\n",
       "  'T = [i=0 if i==( i for i in (t1+t2+t3) if i%2==1) else i]',\n",
       "  'T = [i==0 if i==( i for i in (t1+t2+t3) if i%2==1) else i]',\n",
       "  'type(T)\\nfor i in T:\\n    print(i)',\n",
       "  'type(T)\\n# for i in T:\\n#     print(i)',\n",
       "  'type(T)\\n# for i in T:\\n#     print(i)\\nT[::]',\n",
       "  'type(T)\\n# for i in T:\\n#     print(i)',\n",
       "  'T = [i==0 if( i for i in (t1+t2+t3) if i%2==1) else i]',\n",
       "  'type(T)\\n# for i in T:\\n#     print(i)',\n",
       "  'type(T)\\n# for i in T:\\n#     print(i)',\n",
       "  'type(T)\\nfor i in T:\\n    print(i)',\n",
       "  'type(T)\\nfor i in T:\\n    print(i)',\n",
       "  'T = [0 if i%2=1 else i for i in (t1+t2+t3)]\\nT',\n",
       "  'T = [0 if i%2==1 else i for i in (t1+t2+t3)]\\nT',\n",
       "  'type(m)',\n",
       "  'm[0][0],m[1][1],m[2][2] = 1',\n",
       "  'm[0][0],m[1][1],m[2][2] == 1',\n",
       "  'm',\n",
       "  'm = [\\n    [0, 0, 0],\\n    [0, 0, 0],\\n    [0, 0, 0]\\n]',\n",
       "  'type(m)',\n",
       "  'm',\n",
       "  '[1 if i for i in m[0] else m]',\n",
       "  'm[0][0],m[1][1],m[2][2] = 1',\n",
       "  'm[0][0] = 1',\n",
       "  'm',\n",
       "  'm[0][0] = 1\\nm[1][1] =1\\nm[2][2]=1',\n",
       "  'm',\n",
       "  \"s = 'FfEeDdCcBbAa'\",\n",
       "  'reveresed_s = s[::-1]\\nreveresed_s',\n",
       "  'reveresed_s[::2]',\n",
       "  'reveresed_s[:1:2]',\n",
       "  'reveresed_s[1::2]',\n",
       "  'm = [\\n    [0, 0, 0],\\n    [0, 0, 0],\\n    [0, 0, 0]\\n]',\n",
       "  'm[0][0]=1\\nm[1][1]=1\\nm[2][2]=1',\n",
       "  'm[0][0]=1\\nm[1][1]=1\\nm[2][2]=1\\nm',\n",
       "  'm = [\\n    [0, 0, 0],\\n    [0, 0, 0],\\n    [0, 0, 0]\\n]',\n",
       "  'result = m.copy()',\n",
       "  'result = m.copy()\\nresult',\n",
       "  'result[0][0]=1\\nresult[1][1]=1\\nresult[2][2]=1',\n",
       "  'result[0][0]=1\\nresult[1][1]=1\\nresult[2][2]=1\\nresult',\n",
       "  'm',\n",
       "  'from copy import deepcopy',\n",
       "  'from copy import deepcopy\\n\\nm = [\\n    [0, 0, 0],\\n    [0, 0, 0],\\n    [0, 0, 0]\\n]',\n",
       "  'result = m.deepcopy()',\n",
       "  'result = deepcopy(m)',\n",
       "  'result = deepcopy(m)\\nresult',\n",
       "  'result[0][0]=1\\nresult[1][1]=1\\nresult[2][2]=1\\nresult',\n",
       "  'm',\n",
       "  \"data = [\\n    (100, 'USD', 'EUR', 0.83),\\n    (100, 'USD', 'CAD', 1.27),\\n    (100, 'CAD', 'EUR', 0.65)\\n]\",\n",
       "  'row = 0\\n\\namount,currency,targ_cur,exch_rate = row[0]',\n",
       "  'row = 0\\n\\namount,currency,targ_cur,exch_rate = data[row]',\n",
       "  'type(date)',\n",
       "  'type(data)',\n",
       "  \"row = 0\\n\\namount,currency,targ_cur,exch_rate = data[row]\\namount*exch_rate = conv\\nprint(amount,currency,'='conv,sep=' ')\",\n",
       "  \"row = 0\\n\\namount,currency,targ_cur,exch_rate = data[row]\\namount*exch_rate = conv\\nprint(amount,currency,'=='conv,sep=' ')\",\n",
       "  \"row = 0\\n\\namount,currency,targ_cur,exch_rate = data[row]\\namount*exch_rate = converted\\nprint(amount,currency,'=',converted,targ_cursep=' ')\",\n",
       "  \"row = 0\\n\\namount,currency,targ_cur,exch_rate = data[row]\\nconverted = amount*exch_rate \\nprint(amount,currency,'=',converted,targ_cursep=' ')\",\n",
       "  \"row = 0\\n\\namount,currency,targ_cur,exch_rate = data[row]\\nconverted = amount*exch_rate \\nprint(amount,currency,'=',converted,targ_cur, sep=' ')\",\n",
       "  \"row = 1\\n\\namount,currency,targ_cur,exch_rate = data[row]\\nconverted = amount*exch_rate \\nprint(amount,currency,'=',converted,targ_cur, sep=' ')\",\n",
       "  \"row = 3\\n\\namount,currency,targ_cur,exch_rate = data[row]\\nconverted = amount*exch_rate \\nprint(amount,currency,'=',converted,targ_cur, sep=' ')\",\n",
       "  \"row = 2\\n\\namount,currency,targ_cur,exch_rate = data[row]\\nconverted = amount*exch_rate \\nprint(amount,currency,'=',converted,targ_cur, sep=' ')\",\n",
       "  'var = \"\\\\N{Latin Capital Letter A}lways look on the bright side of life.\"',\n",
       "  'var',\n",
       "  'var = \"Always look on the bright side of life.\"\\nvar',\n",
       "  'var = \"\\\\N{Grinning face}\"\\nvar',\n",
       "  'var = \"\\\\N{jrinning face}\"\\nvar',\n",
       "  'var = \"\\\\N{Grinning face}\"\\nvar',\n",
       "  \"message = 'The definitive guide to Python'\\nmessage.title()\",\n",
       "  \"name = 'Peter '\\nname.rstrip()\",\n",
       "  \"name = '\\\\t Peter\\\\tJones\\\\t'\\nprint(name)\",\n",
       "  \"s = 'ababPYTHONabab'\\ns.strip('ab')\",\n",
       "  \"data = 'Jones,Peter'\\ndata.split(',')\",\n",
       "  \"f,l = data.split(',')\\nf,l\",\n",
       "  \"data = ['item 1', 'item 2', 'item 3']\\n','.join(data)\",\n",
       "  \"','.join('abcd')\",\n",
       "  \"get_ipython().run_line_magic('pinfo', 'join')\",\n",
       "  \"get_ipython().run_line_magic('pinfo', 'join')\",\n",
       "  'help(join)',\n",
       "  \"help('join')\",\n",
       "  \"'soma' in 'somashekar'\",\n",
       "  \"'Soma'.casefold() in 'somashekar'.casefold()\",\n",
       "  \"'Soma' in 'somashekar'\",\n",
       "  \"'soma' in 'somashekar'\",\n",
       "  \"'soma shekar'.startswith('soma')\",\n",
       "  \"'soma shekar'.endswith('shekar')\",\n",
       "  \"message = 'To every action there is always an equal and opposite reaction.'\\nmessage.index('always')\",\n",
       "  \"try:\\n    if message.index('soma'):\\nexcept e:\\n    print()e\",\n",
       "  \"try:\\n    if message.index('soma'):\\n        print(index)\\nexcept e:\\n    print()e\",\n",
       "  \"try:\\n    if message.index('soma'):\\n        print(index)\\nexcept e:\\n    print(e)\",\n",
       "  \"try:\\n    if message.index('soma'):\\n        print(index)\\nexcept:e\\n    print(e)\",\n",
       "  \"try:\\n    if message.index('soma'):\\n        print(index)\\nexcept:\\n    print('not found')\",\n",
       "  \"try:\\n    if message.index('alwats'):\\n        print(index)\\nexcept:\\n    print('not found')\",\n",
       "  \"try:\\n    if message.index('always'):\\n        print(index)\\nexcept:\\n    print('not found')\",\n",
       "  \"message = 'To every action there is always an equal and opposite reaction.'\\nmessage.index('always')\",\n",
       "  \"try:\\n    if message.index('always'):\\n        print(index)\\nexcept:\\n    print('not found')\",\n",
       "  \"try:\\n    for idx in  message.index('always'):\\n        print(idx)\\nexcept:\\n    print('not found')\",\n",
       "  \"message = 'To every action there is an equal and opposite reaction.'\\ntry:\\n    idx = message.index('always')  # This will raise ValueError\\n    print(idx)\\nexcept ValueError:\\n    print('not found')\",\n",
       "  \"message = 'To every action there is always an equal and opposite reaction.'\\ntry:\\n    idx = message.index('always')  # Returns the index of 'always' (integer)\\n    print(idx)  # Print the found index\\nexcept ValueError:  # Catch only specific exception\\n    print('not found')\",\n",
       "  \"message = 'To every action there is always an equal and opposite reaction.'\\ntry:\\n    idx = message.index('soma')  # Returns the index of 'always' (integer)\\n    print(idx)  # Print the found index\\nexcept ValueError:  # Catch only specific exception\\n    print('not found')\",\n",
       "  \"message = 'To every action there is always an equal and opposite reaction.'\\ntry:\\n    idx = message.index('always')  # Returns the index of 'always' (integer)\\n    print(idx)  # Print the found index\\nexcept ValueError:  # Catch only specific exception\\n    print('not found')\",\n",
       "  \"get_ipython().run_line_magic('pinfo', 'join')\",\n",
       "  \"get_ipython().run_line_magic('pinfo', 'join.')\",\n",
       "  \"get_ipython().run_line_magic('pinfo', 'str.index')\",\n",
       "  \"message.index('action')\",\n",
       "  \"message.index('action') + len('action')\",\n",
       "  \"st_idx = message.index('action') + len('action')\",\n",
       "  \"st_idx = message.index('action') + len('action')\\nst_idx\",\n",
       "  \"message.index('action',st_idx)\",\n",
       "  \"message.index('reaction',st_idx)\",\n",
       "  \"message.index('saction',st_idx)\",\n",
       "  \"message.index('action',st_idx)\",\n",
       "  \"message.index('Newton')\",\n",
       "  \"message.find('action',st_idx)\",\n",
       "  \"message.index('action',st_idx)\",\n",
       "  \"message.find('Newton')\",\n",
       "  \"strt = message.find('Newton')\\nif strt == -1:\\n    print('do something')\",\n",
       "  \"timeit('message.find('ein)',globals = globals(), number=1000_00)\",\n",
       "  \"timeit('message.find('ein')',globals = globals(), number=1000_00)\",\n",
       "  'timeit(\"message.find(\\'ein\\')\",globals = globals(), number=1000_00)',\n",
       "  'timeit(\"\\'ein\\' in message\",globals=globals(), number=1000_00)',\n",
       "  \"'{}:open, hign:{}'.format(100,200)\",\n",
       "  'bid = 1.5760\\nask = 1.5763\\n\"bid:{bid},ask:{ask}, spread:{spread}\".format(bid=bid,ask=ask, spread=(bid-ask))',\n",
       "  'bid = 1.5760\\nask = 1.5763\\n\"bid:{bid},ask:{ask}, spread:{spread}\".format(bid=(bid,.2f),ask=ask, spread=(bid-ask))',\n",
       "  'bid = 1.5760\\nask = 1.5763\\n\"bid:{bid},ask:{ask}, spread:{spread}\".format(bid=format(bid,.2f),ask=ask, spread=(bid-ask))',\n",
       "  'bid = 1.5760\\nask = 1.5763\\n\"bid:{bid:{.2f}},ask:{ask}, spread:{spread}\".format(bid=format(bid),ask=ask, spread=(bid-ask))',\n",
       "  'bid = 1.5760\\nask = 1.5763\\n\"bid:{:.2f}},ask:{ask}, spread:{spread}\".format(bid=format(bid),ask=ask, spread=(bid-ask))',\n",
       "  'bid = 1.5760\\nask = 1.5763\\n\"bid:{:.2f}},ask:{ask}, spread:{spread}\".format(bid=bid,ask=ask, spread=(bid-ask))',\n",
       "  'bid = 1.5760\\nask = 1.5763\\n\"bid:{:.2f}, ask:{:.2f}, spread:{:.2f}\".format(bid, ask, bid - ask)',\n",
       "  'bid = 1.5760\\nask = 1.5763\\n\"bid:{:.2f}, ask:{ask}, spread:{:.2f}\".format(bid, ask, bid - ask)',\n",
       "  'bid = 1.5760\\nask = 1.5763\\n\"bid:{:.2f}, ask:{:.2f}, spread:{:.2f}\".format(bid, ask, bid - ask)',\n",
       "  '\"bid:{:.4f}, ask:{:.4f}, spread:{:,4f}\".format(spread=spread,bid=bid,ask=ask)',\n",
       "  '\"bid:{:.4f}, ask:{:.4f}, spread:{:,4f}\".format(spread=spread,bid=bid,ask=ask)',\n",
       "  '\"bid:{:.4f}, ask:{:.4f}, spread:{:,4f}\".format(spread=bid-ask,bid=bid,ask=ask)',\n",
       "  '\"bid:{:.4f}, ask:{:.4f}, spread:{:,4f}\".format(spread=(bid-ask),bid=bid,ask=ask)',\n",
       "  '\"bid:{bid:.4f}, ask:{ask:.4f}, spread:{spread:,4f}\".format(spread=(bid-ask),bid=bid,ask=ask)',\n",
       "  '\"bid:{bid:.4f}, ask:{ask:.4f}, spread:{spread:.4f}\".format(spread=(bid-ask),bid=bid,ask=ask)',\n",
       "  \"'{a}+{b}={b}+{a}'.format(a=10,b=20)\",\n",
       "  \"a = 10\\nb = 20\\nf'{a}+{b} = {b}+{a}'\",\n",
       "  \"f'{a}+{b} ={a+b}'\",\n",
       "  \"f'open={open}'\",\n",
       "  \"open=10.2\\nf'open={open}'\",\n",
       "  \"f'ask={ask},spread={ask-bid}'\",\n",
       "  \"f'ask={ask:.4f},spread={(ask-bid):.4f}'\",\n",
       "  'range(10)',\n",
       "  'type(range(10))',\n",
       "  'a = range(10)\\na',\n",
       "  'tuple(range(10))',\n",
       "  'list(range(10))',\n",
       "  'list(range(10,2))',\n",
       "  'list(range(2,10))',\n",
       "  'len(range(2,10))',\n",
       "  'range(2,10)',\n",
       "  'list(range(2,10))',\n",
       "  'list(range(2,10,2))',\n",
       "  'list(range(2,11,2))',\n",
       "  'list(range(2,11,-2))',\n",
       "  'list(range(2,11,2))',\n",
       "  'list(range(2,11,-1))',\n",
       "  'list(range(10,2,-1))',\n",
       "  'list(range(10,2,-2))',\n",
       "  'list(range(10,2))',\n",
       "  'list(range(10,2,-1))',\n",
       "  'list(range(10,3,-1))',\n",
       "  'list(range(10,1,-1))',\n",
       "  \"suits = ['Spades', 'Hearts', 'Diamonds', 'Clubs']\\nfor siut in suits:\\n    print(suit.upper)\",\n",
       "  \"suits = ['Spades', 'Hearts', 'Diamonds', 'Clubs']\\nfor siut in suits:\\n    print(suit.upper())\",\n",
       "  \"suits = ['Spades', 'Hearts', 'Diamonds', 'Clubs']\\nfor siut in suits:\\n    print(siut.upper())\",\n",
       "  \"for suit in suits:\\n    print(f'{suit[0].upper()} = {suit}')\",\n",
       "  \"for i in range(3):\\n    for j in range(3):\\n        print(f'i={i},j={j}')\",\n",
       "  \"for i in range(3):\\n    for j in range(3):\\n        print(f'i={i},j={j}')\\n    print('-'*10)\",\n",
       "  '[for i in range(3)] in for j in range(3)',\n",
       "  '([for i in range(3)] in for j in range(3))',\n",
       "  'for i in range(3):\\n    for j in range(3):\\n        print(i,j)',\n",
       "  \"for i in range(3):\\n    for j in range(3):\\n        print(i,j)\\n    print('-'*10)\",\n",
       "  'for i in range(3):\\n    print(i)',\n",
       "  'm = [\\n    [1, 2, 3],\\n    [4, 5, 6],\\n    [7, 8, 9]\\n]',\n",
       "  \"for i in range(3):\\n    for j in range(3):\\n        print(f'[{i},{j}] = m[i,j]')\",\n",
       "  \"for i in range(3):\\n    for j in range(3):\\n        print(f'[{i},{j}] = m[i],[j]')\",\n",
       "  \"for i in range(3):\\n    for j in range(3):\\n        print(f'[{i},{j}] = m[{i}],[{j}]')\",\n",
       "  \"for i in range(3):\\n    for j in range(3):\\n        print(f'[{i},{j}] = {m[{i}],[{j}]}')\",\n",
       "  \"for i in range(3):\\n    for j in range(3):\\n        print(f'[{i},{j}] = m[{i}],[{j}]')\",\n",
       "  \"for i in range(3):\\n    for j in range(3):\\n        print(f'[{i},{j}] = {m[i],[j]}')\",\n",
       "  \"for i in range(3):\\n    for j in range(3):\\n        print(f'[{i},{j}] = {m[i][j]}')\",\n",
       "  \"for i in range(len(m)):\\n    for j in range(len(i)):\\n        print(f'[{i},{j}] = {m[i][j]}')\",\n",
       "  \"for i in range(len(m)):\\n    for j in range(len(m[i])):\\n        print(f'[{i},{j}] = {m[i][j]}')\",\n",
       "  \"for i in range(len(m)):\\n    for j in range(len(m)):\\n        print(f'[{i},{j}] = {m[i][j]}')\",\n",
       "  \"for i in range(len(m)):\\n    for j in range(len(m)):\\n        print(f'[{i},{j}] = {m[i][j]}')\",\n",
       "  \"for i in range(len(m)):\\n    for j in range(len(m[i])):\\n        print(f'[{i},{j}] = {m[i][j]}')\",\n",
       "  'm = [\\n    [0, 1],\\n    [2, 3, 4, 5, 6],\\n    [7, 8, 9],\\n    [10]\\n]',\n",
       "  \"for i in range(len(m)):\\n    for j in range(len(m[i])):\\n        print(f'[{i},{j}] = {m[i][j]}')\",\n",
       "  \"for i in range(len(m)):\\n    for j in range(len(m)):\\n        print(f'[{i},{j}] = {m[i][j]}')\",\n",
       "  \"for i in range(len(m)):\\n    for j in range(len(m[i])):\\n        print(f'[{i},{j}] = {m[i][j]}')\",\n",
       "  'm = [\\n    [1, 0, 0],\\n    [0, 1, 0],\\n    [0, 0, 1]\\n]',\n",
       "  \"for i in range(len(m)):\\n    for j in range(len(m[i])):\\n        print(f'[{i},{j}] = {m[i][j]}')\",\n",
       "  'n = 3\\nmatrix = []\\nfor i in range(n):\\n    row = []\\n    for j in range(n):\\n        if i=j:\\n            row.append(1)\\n        else:\\n            row.append(0)\\n    matrix.append(row)',\n",
       "  'n = 3\\nmatrix = []\\nfor i in range(n):\\n    row = []\\n    for j in range(n):\\n        if i==j:\\n            row.append(1)\\n        else:\\n            row.append(0)\\n    matrix.append(row)',\n",
       "  'matrix',\n",
       "  'data = [10, 20, 30]\\nlist(enumerate.data)',\n",
       "  'data = [10, 20, 30]\\nlist(enumerate(data))',\n",
       "  \"get_ipython().run_line_magic('pinfo', 'enumerate')\",\n",
       "  'data = [10, 20, 30]\\nlist(enumerate(data, start=0))',\n",
       "  'data = [10, 20, 30]\\nlist(enumerate(data, start=1))',\n",
       "  'for i in enumerate(data):\\n    print(i)',\n",
       "  'for i, v in enumerate(data):\\n    print(i:v)',\n",
       "  'for i, v in enumerate(data):\\n    print({i}:{v})',\n",
       "  \"for i, v in enumerate(data):\\n    print(f'{i}:{v}')\",\n",
       "  \"for i, v in enumerate(data):\\n    print(f'({i}:{v})')\",\n",
       "  'm = [\\n    [0, 1],\\n    [2, 3, 4, 5, 6],\\n    [7, 8, 9],\\n    [10]\\n]\\n\\nfor row in m:\\n    for ele in row:\\n        print(ele)',\n",
       "  \"for rid, row in enumerate(m):\\n    for colid, ele in enumerate(row):\\n        print(f'[{rid}],[{colid}]=m[{rid}][{colid}]')\",\n",
       "  \"for rid, row in enumerate(m):\\n    for colid, ele in enumerate(row):\\n        print(f'[{rid,colid}]=m[{rid}][{colid}]')\",\n",
       "  \"for rid, row in enumerate(m):\\n    for colid, ele in enumerate(row):\\n        print(f'{rid,colid}=m[{rid}][{colid}]')\",\n",
       "  \"for rid, row in enumerate(m):\\n    for colid, ele in enumerate(row):\\n        print(f'[{rid,colid}]=m[{rid}][{colid}]')\",\n",
       "  \"for rid, row in enumerate(m):\\n    for colid, ele in enumerate(row):\\n        print(f'[{rid},{colid}]=m[{ele}]')\",\n",
       "  \"for rid, row in enumerate(m):\\n    for colid, ele in enumerate(row):\\n        print(f'[{rid},{colid}]=m{ele}')\",\n",
       "  \"for rid, row in enumerate(m):\\n    for colid, ele in enumerate(row):\\n        print(f'[{rid},{colid}]=m({ele})')\",\n",
       "  \"for rid, row in enumerate(m):\\n    for colid, ele in enumerate(row):\\n        print(f'[{rid},{colid}]=({ele})')\",\n",
       "  \"for rid, row in enumerate(m):\\n    for colid, ele in enumerate(row):\\n        print(f'[{rid},{colid}]={ele}')\",\n",
       "  \"for rid in range(m):\\n    for cid in range(m):\\n        print(f'[{rid},{cid}]'='m[rid][cid]')\",\n",
       "  \"for rid in range(m):\\n    for cid in range(m):\\n        print(f'[{rid},{cid}]'=='m[rid][cid]')\",\n",
       "  \"m = [\\n    [1, 2, 3],\\n    [4, 5, 6],\\n    [7, 8, 9]\\n]\\nfor rid in range(m):\\n    for cid in range(m):\\n        print(f'[{rid},{cid}]'=='m[rid][cid]')\",\n",
       "  \"m = [\\n    [1, 2, 3],\\n    [4, 5, 6],\\n    [7, 8, 9]\\n]\\nfor rid in len(range(m)):\\n    for cid in len(range(m)):\\n        print(f'[{rid},{cid}]'=='m[rid][cid]')\",\n",
       "  \"m = [\\n    [1, 2, 3],\\n    [4, 5, 6],\\n    [7, 8, 9]\\n]\\nfor rid in len(range(m)):\\n    for cid in len(range(m)):\\n        print(f'[{rid},{cid}]'=='m[rid][cid]')\",\n",
       "  \"m = [\\n    [1, 2, 3],\\n    [4, 5, 6],\\n    [7, 8, 9]\\n]\\nfor rid in range(len(m)):\\n    for cid in range(len(m)):\\n        print(f'[{rid},{cid}]'=='m[rid][cid]')\",\n",
       "  \"m = [\\n    [1, 2, 3],\\n    [4, 5, 6],\\n    [7, 8, 9]\\n]\\nfor rid in range(len(m)):\\n    for cid in range(len(m)):\\n        print(f'[{rid},{cid}] = m[rid][cid]')\",\n",
       "  \"m = [\\n    [1, 2, 3],\\n    [4, 5, 6],\\n    [7, 8, 9]\\n]\\nfor rid in range(len(m)):\\n    for cid in range(len(m)):\\n        print(f'[{rid},{cid}] = m[{rid}][{cid}]')\",\n",
       "  \"m = [\\n    [1, 2, 3],\\n    [4, 5, 6],\\n    [7, 8, 9]\\n]\\nfor rid in range(len(m)):\\n    for cid in range(len(m)):\\n        print(f'[{rid},{cid}] = {m[rid][cid]}')\",\n",
       "  \"m = [\\n    [0, 1],\\n    [2, 3, 4, 5, 6],\\n    [7, 8, 9],\\n    [10]\\n]\\nfor rid in range(len(m)):\\n    for cid in range(len(m)):\\n        print(f'[{rid},{cid}] = {m[rid][cid]}')\",\n",
       "  \"m = [\\n    [0, 1],\\n    [2, 3, 4, 5, 6],\\n    [7, 8, 9],\\n    [10]\\n]\\nfor rid in range(len(m)):\\n    for cid in range(len(rid[rid])):\\n        print(f'[{rid},{cid}] = {m[rid][cid]}')\",\n",
       "  \"m = [\\n    [0, 1],\\n    [2, 3, 4, 5, 6],\\n    [7, 8, 9],\\n    [10]\\n]\\nfor rid in range(len(m)):\\n    for cid in range(len(m[rid])):\\n        print(f'[{rid},{cid}] = {m[rid][cid]}')\",\n",
       "  'n = 5\\nmatrix = []\\n\\nfor rid in range(n):\\n    row=[]\\n    for cid in range(n):\\n        if rid == cid:\\n            row.append(1)\\n        else 0',\n",
       "  'n = 5\\nmatrix = []\\n\\nfor rid in range(n):\\n    row=[]\\n    for cid in range(n):\\n        if rid == cid:\\n            row.append(1)\\n        else row.append(0)\\nmatrix.append(row)',\n",
       "  'n = 5\\nmatrix = []\\n\\nfor rid in range(n):\\n    row=[]\\n    for cid in range(n):\\n        if rid == cid:\\n            row.append(1)\\n        else:\\n            row.append(0)\\nmatrix.append(row)',\n",
       "  'matrix',\n",
       "  'n = 5\\nmatrix = []\\n\\nfor rid in range(n):\\n    row=[]\\n    for cid in range(n):\\n        if rid == cid:\\n            row.append(1)\\n        else:\\n            row.append(0)\\nmatrix.append(row)',\n",
       "  'matrix',\n",
       "  'n = 5\\nmatrix = []\\n\\nfor rid in range(n):\\n    row=[]\\n    for cid in range(n):\\n        if rid == cid:\\n            row.append(1)\\n        else:\\n            row.append(0)\\n    matrix.append(row)',\n",
       "  'matrix',\n",
       "  '[for rid in range(n)] for cid in range(n)',\n",
       "  '[lambda x:i for i in x[rid] in range(n)] for cid in range(n)',\n",
       "  '[lambda x:i for i in x[rid] in range(n)]',\n",
       "  'm',\n",
       "  'for row in m:\\n    for ele in row:\\n        print(ele)',\n",
       "  'm',\n",
       "  \"for rid,row in enumerate(m):\\n    for cid,ele in enumerate(row):\\n        print(f'[{rid},{cid}]=m[rid][cid]') \",\n",
       "  \"for rid,row in enumerate(m):\\n    for cid,ele in enumerate(row):\\n        print(f'[{rid},{cid}]={m[rid][cid]}') \",\n",
       "  'for rid,row in enumerate(m)',\n",
       "  'rid,row in enumerate(m)',\n",
       "  'for rid,row in enumerate(m):\\n    print(rid,row)',\n",
       "  'for rid,row in enumerate(m):\\n    print(rid,row)\\n    for cid,ele in enumerate(row):\\n        print(cid,ele)',\n",
       "  'for rid,row in enumerate(m):\\n    print(rid,row)\\n    # for cid,ele in enumerate(row):\\n    #     print(cid,ele)',\n",
       "  'for rid,row in enumerate(m):\\n    print(rid,row)\\n    for cid,ele in enumerate(row):\\n        print(cid,ele)',\n",
       "  'data = [10.5, 11.2, 9.8, None, 11.5, None]',\n",
       "  'count=0\\ntot =0\\n\\nfor val in data:\\n    if val is not None:\\n        count+=1\\n        tot+=1\\n        avg = count/tot\\n        print(avg)',\n",
       "  'count=0\\ntot =0\\n\\nfor val in data:\\n    if val is not None:\\n        count = val+1\\n        tot+=1\\n        avg = count/tot\\n        print(avg)',\n",
       "  'count=0\\ntot =0\\n\\nfor val in data:\\n    if val is not None:\\n        count += 1\\n        tot += val\\n        avg = count/tot\\n        print(avg)',\n",
       "  'count=0\\ntot =0\\n\\nfor val in data:\\n    if val is not None:\\n        count += 1\\n        tot += val\\n        avg = count/tot\\nprint(avg)',\n",
       "  'count=0\\ntot =0\\n\\nfor val in data:\\n    if val is not None:\\n        count += 1\\n        tot += val\\navg = count/tot\\nprint(avg)',\n",
       "  'count=0\\ntot =0\\n\\nfor val in data:\\n    if val is not None:\\n        count += 1\\n        tot += val\\navg = count/tot\\nprint(avg)',\n",
       "  'data = [10.5, 11.2, 9.8, None, 11.5, None]',\n",
       "  'count=0\\ntot =0\\n\\nfor val in data:\\n    if val is not None:\\n        count += 1\\n        tot += val\\navg = count/tot\\nprint(avg)',\n",
       "  'count=0\\ntot =0\\n\\nfor val in data:\\n    if val is not None:\\n        count += 1\\n        tot += val\\navg = tot/count\\nprint(avg)',\n",
       "  'for val in data:\\n    if val is None:\\n        val == avg\\n        print(data)',\n",
       "  'for val in data:\\n    if val is None:\\n        val == avg\\n    print(data)',\n",
       "  'for val in data:\\n    if val is None:\\n        val == avg\\nprint(data)',\n",
       "  'for val in data:\\n    if val is None:\\n        val == avg\\n    print(data)',\n",
       "  'for val in data:\\n    if val is None:\\n        val = avg\\n    print(data)',\n",
       "  'for val in data:\\n    if val is None:\\n        val = avg\\nprint(data)',\n",
       "  'data = [10.5, 11.2, 9.8, None, 11.5, None]\\nfor val in data:\\n    if val is None:\\n        val = avg\\nprint(data)',\n",
       "  'data = [10.5, 11.2, 9.8, None, 11.5, None]\\nfor i in range(len(data)):\\n    if data[i] is None:\\n        data[i] = avg\\nprint(data)',\n",
       "  'for val in data:\\n    print(val)',\n",
       "  'for i, val in enumerate(data):\\n    if val is None:\\n        val = avg\\nprint(data)',\n",
       "  'for i, val in enumerate(data):\\n    if val is None:\\n        data[i] = avg\\nprint(data)',\n",
       "  'for val in data:\\n    if val is None:\\n        val = avg\\nprint(data)',\n",
       "  'data = [10.5, 11.2, 9.8, None, 11.5, None]\\nfor val in data:\\n    if val is None:\\n        val = avg\\nprint(data)',\n",
       "  'for i, v in data:\\n    print(i,v)',\n",
       "  'for i, v in enumerate(data):\\n    print(i,v)',\n",
       "  'type(data)',\n",
       "  'data[0] = 1000\\ndata',\n",
       "  'data = [10.5, 11.2, 9.8, None, 11.5, None]\\ncount = sum(1 for val in data if val is None)\\ntot = sum(val for val in data if val is not None)\\navg = tot/count\\ndata = [val for val in data if val is None then avg else val]\\ndata',\n",
       "  'data = [10.5, 11.2, 9.8, None, 11.5, None]\\ncount = sum(1 for val in data if val is None)\\ntot = sum(val for val in data if val is not None)\\navg = tot/count\\ndata = [val if val in data is not None else None]\\ndata',\n",
       "  'data = [10.5, 11.2, 9.8, None, 11.5, None]\\ncount = sum(1 for val in data if val is None)\\ntot = sum(val for val in data if val is not None)\\navg = tot/count\\ndata = [val if val in data is not None else avg for val in data]\\ndata',\n",
       "  \"price = 100\\nwhile price<90:\\n    print(f'Price:{price}, waiting')\\n    price-=1\\nprint(f'Price:{price}, buying')\",\n",
       "  \"price = 100\\nwhile price<90:\\n    print(f'Price:{price}, waiting')\\n    price-=1\\n    print(f'Price:{price}, buying')\",\n",
       "  \"price = 100\\nwhile price<90:\\n    print(f'Price:{price}, waiting')\\n    price-=1\\nprint(f'Price:{price}, buying')\",\n",
       "  \"price = 100\\nwhile price>90:\\n    print(f'Price:{price}, waiting')\\n    price-=1\\nprint(f'Price:{price}, buying')\",\n",
       "  \"price = 100\\nwhile price>=90:\\n    print(f'Price:{price}, waiting')\\n    price-=1\\nprint(f'Price:{price}, buying')\",\n",
       "  \"price = 100\\nwhile price>=90:\\n    print(f'Price:{price}, waiting')\\n    price-=1\\nprint(f'Price:{price}, buying')\",\n",
       "  \"price = 100\\nwhile price>=90:\\n    print(f'Price:{price}, waiting')\\n    price-=1\\nprint(f'Price:{price}, buying')\",\n",
       "  \"price = 100\\nwhile price>=90:\\n    print(f'Price:{price}, waiting')\\n    price-=1\\nprint(f'Price:{price}, buying')\",\n",
       "  \"price = 100\\nwhile price>=90:\\n    print(f'Price:{price}, waiting')\\n    price-=1\\nprint(f'Price:{price}, buying')\",\n",
       "  \"price = 100\\nwhile price>=90:\\n    print(f'Price:{price}, waiting')\\n    price-=1\\nprint(f'Price:{price}, buying')\",\n",
       "  \"price = 100\\nwhile price>=90:\\n    print(f'Price:{price}, waiting')\\n    price-=1\\nprint(f'Price:{price}, buying')\",\n",
       "  \"price = 100\\nwhile price>=90:\\n    print(f'Price:{price}, waiting')\\n    price-=1\\nprint(f'Price:{price}, buying')\",\n",
       "  'data = [10,20,30,-40,50,-60]\\n\\nfor idx,ele in enumerate(data):\\n    if ele<0:\\n        ele=0\\n    else:\\n        ele\\n    print(data)',\n",
       "  'data = [10,20,30,-40,50,-60]\\n\\nfor idx,ele in enumerate(data):\\n    if ele<0:\\n        ele=0\\n    else:\\n        ele\\nprint(data)',\n",
       "  'data = [10,20,30,-40,50,-60]\\n\\nfor idx,ele in enumerate(data):\\n    if ele<0:\\n        id[ele]=0\\n    else:\\n        ele\\nprint(data)',\n",
       "  'data = [10,20,30,-40,50,-60]\\n\\nfor idx,ele in enumerate(data):\\n    if ele<0:\\n        id[ele]==0\\n    else:\\n        ele\\nprint(data)',\n",
       "  'data = [10,20,30,-40,50,-60]\\n\\nfor idx,ele in enumerate(data):\\n    if ele<0:\\n        data[idx]=0\\n    else:\\n        ele\\nprint(data)',\n",
       "  '[i for i in range(2,11,2)]',\n",
       "  \"for i in range(3):\\n    for j in range(3):\\n        print(f'i={i},j={j}')\",\n",
       "  \"for i in range(3):\\n    for j in range(3):\\n        print(f'i={i},j={j}')\\n    print('-'*10)\",\n",
       "  'm = [\\n    [0, 1],\\n    [2, 3, 4, 5, 6],\\n    [7, 8, 9],\\n    [10]\\n]\\n\\nfor idx,ele in enumerate(m):\\n    print(idx,ele)',\n",
       "  'm = [\\n    [0, 1],\\n    [2, 3, 4, 5, 6],\\n    [7, 8, 9],\\n    [10]\\n]\\n\\nfor idx,ele in enumerate(m):\\n    # print(idx,ele)\\n    for idc in enumerate(ele):\\n        print(idc)',\n",
       "  \"m = [\\n    [0, 1],\\n    [2, 3, 4, 5, 6],\\n    [7, 8, 9],\\n    [10]\\n]\\n\\nfor idx,ele in enumerate(m):\\n    # print(idx,ele)\\n    for idc in enumerate(ele):\\n        # print(idc)\\n        print(f'({idx},{idc}) = {m{ele}}')\",\n",
       "  \"m = [\\n    [0, 1],\\n    [2, 3, 4, 5, 6],\\n    [7, 8, 9],\\n    [10]\\n]\\n\\nfor idx,ele in enumerate(m):\\n    # print(idx,ele)\\n    for idc in enumerate(ele):\\n        # print(idc)\\n        print(f'({idx} {idc}) = {m{ele}}')\",\n",
       "  \"m = [\\n    [0, 1],\\n    [2, 3, 4, 5, 6],\\n    [7, 8, 9],\\n    [10]\\n]\\n\\nfor idx,ele in enumerate(m):\\n    # print(idx,ele)\\n    for idc in enumerate(ele):\\n        # print(idc)\\n        print(f'({idx}, {idc}) = {ele}')\",\n",
       "  \"m = [\\n    [0, 1],\\n    [2, 3, 4, 5, 6],\\n    [7, 8, 9],\\n    [10]\\n]\\n\\nfor idx,ele in enumerate(m):\\n    # print(idx,ele)\\n    for idc,ele in enumerate(ele):\\n        # print(idc)\\n        print(f'({idx}, {idc}) = {ele}')\",\n",
       "  'data = [10.5, 11.2, 9.8, None, 11.5, None]\\ncount = sum(1 for i in data if i is not None else i) \\ncount',\n",
       "  'data = [10.5, 11.2, 9.8, None, 11.5, None]\\ncount = sum(1 for i in data if i is not None) \\ncount',\n",
       "  'data = [10.5, 11.2, 9.8, None, 11.5, None]\\ncount = sum(1 for i in data if i is not None) \\ntot = sum(i for i in data if i is not None)\\ntot',\n",
       "  'data = [10.5, 11.2, 9.8, None, 11.5, None]\\ncount = sum(1 for i in data if i is not None) \\ntot = sum(i for i in data if i is not None)\\ntot\\navg = tot/count',\n",
       "  'data = [10.5, 11.2, 9.8, None, 11.5, None]\\ncount = sum(1 for i in data if i is not None) \\ntot = sum(i for i in data if i is not None)\\ntot\\navg = tot/count\\navg',\n",
       "  'data = [10.5, 11.2, 9.8, None, 11.5, None]\\ncount = sum(1 for i in data if i is not None) \\ntot = sum(i for i in data if i is not None)\\ntot\\navg = tot/count\\navg\\ndata = [val for val in data if val is None then Avg]\\ndata',\n",
       "  'data = [10.5, 11.2, 9.8, None, 11.5, None]\\ncount = sum(1 for i in data if i is not None) \\ntot = sum(i for i in data if i is not None)\\ntot\\navg = tot/count\\navg\\ndata = [val=avg for val in data if val is None]\\ndata',\n",
       "  'data = [10.5, 11.2, 9.8, None, 11.5, None]\\ncount = sum(1 for i in data if i is not None) \\ntot = sum(i for i in data if i is not None)\\ntot\\navg = tot/count\\navg\\ndata = [val==avg for val in data if val is None]\\ndata',\n",
       "  'data = [10.5, 11.2, 9.8, None, 11.5, None]\\ncount = sum(1 for i in data if i is not None) \\ntot = sum(i for i in data if i is not None)\\ntot\\navg = tot/count\\navg\\ndata = [val if val in data is not None else avg for val in data]\\ndata',\n",
       "  'data = [10.5, 11.2, 9.8, None, 11.5, None]\\ncount = sum(1 for i in data if i is not None) \\ntot = sum(i for i in data if i is not None)\\ntot\\navg = tot/count\\navg\\ndata = [val if val is not None else avg for val in data]\\ndata',\n",
       "  'data = [10.5, 11.2, 9.8, None, 11.5, None]\\ncount = sum(1 for i in data if i is not None) \\ntot = sum(i for i in data if i is not None)\\ntot\\navg = tot/count\\navg\\ndata = [val if val in data is not None else avg for val in data]\\ndata',\n",
       "  'data = [10.5, 11.2, 9.8, None, 11.5, None]\\ncount = sum(1 for i in data if i is not None) \\ntot = sum(i for i in data if i is not None)\\ntot\\navg = tot/count\\navg\\ndata = [val if val is not None else avg for val in data]\\ndata',\n",
       "  'data = [100, 200, 300, 400, 500]',\n",
       "  \"while i<range(len(data)):\\n    data.pop()\\n    print(f'pricessing element:{i}')\",\n",
       "  \"while i=<range(len(data)):\\n    data.pop()\\n    print(f'pricessing element:{i}')\",\n",
       "  \"while i in range(len(data)):\\n    data.pop()\\n    print(f'pricessing element:{i}')\",\n",
       "  \"while i in range(len(data)):\\n    data.pop(i)\\n    print(f'pricessing element:{i}')\",\n",
       "  'data',\n",
       "  \"while i in range(len(data)):\\n    data.pop(i)\\n    print(f'pricessing element:{i}')\",\n",
       "  'data',\n",
       "  \"while i in range(len(data)):\\n    data.pop(i)\\n    print(f'pricessing element:{i}')\",\n",
       "  'data',\n",
       "  \"while i in range(len(data)):\\n    element  = data.pop(i)\\n    print(f'pricessing element:{element}')\",\n",
       "  'data',\n",
       "  \"while i in range(len(data)):\\n    element  = data.pop(i)\\n    print(f'pricessing element:{element}')\",\n",
       "  'data',\n",
       "  'data = [100, 200, 300, 400, 500]',\n",
       "  'data',\n",
       "  \"while i in range(len(data)):\\n    element  = data.pop(i)\\n    print(f'pricessing element:{element}')\",\n",
       "  'data',\n",
       "  \"while i in range(len(data)):\\n    element  = data.pop(i)\\n    print(f'pricessing element:{element}')\",\n",
       "  'data',\n",
       "  'data = [100, 200, 300, 400, 500]',\n",
       "  \"while i in range(len(data)):\\n    element  = data.pop(i)\\n    print(f'pricessing element:{element}')\",\n",
       "  'data',\n",
       "  \"while i in range(len(data)):\\n    element  = data.pop(i)\\n    print(f'pricessing element:{element}')\",\n",
       "  'data',\n",
       "  'data = [100, 200, 300, 400, 500]',\n",
       "  'data = [100, 200, 300, 400, 500]',\n",
       "  \"while i in len(data)>0:\\n    element  = data.pop(i)\\n    print(f'pricessing element:{element}')\",\n",
       "  \"while len(data)>0:\\n    element  = data.pop()\\n    print(f'pricessing element:{element}')\",\n",
       "  'data',\n",
       "  \"while len(data)>0:\\n    element  = data.pop()\\n    print(f'pricessing element:{element}')\",\n",
       "  'data',\n",
       "  'data = [100, 200, 300, 400, 500]',\n",
       "  \"while len(data)==0:\\n    element  = data.pop()\\n    print(f'pricessing element:{element}')\",\n",
       "  'data',\n",
       "  'data = [100, 200, 300, 400, 500]',\n",
       "  \"while len(data)==0:\\n    element  = data.pop()\\n    print(f'pricessing element:{element}')\",\n",
       "  'data',\n",
       "  \"while len(data)>0:\\n    element  = data.pop()\\n    print(f'pricessing element:{element}')\",\n",
       "  'data',\n",
       "  'data = [100, 200, 300, 400, 500]',\n",
       "  'for i in range(len(data)):\\n    data.pop()',\n",
       "  'data = [100, 200, 300, 400, 500]',\n",
       "  'for i in range(len(data)):\\n    data.pop()',\n",
       "  'data = [100, 200, 300, 400, 500]',\n",
       "  'for i in range(len(data)):\\n    data.pop(i)',\n",
       "  'data = [100, 200, 300, 400, 500]',\n",
       "  \"for i in range(len(data)):\\n    print(f'pricessing ele:{i}')\\n    data.pop(i)\",\n",
       "  \"for i in range(100):\\n    print(i)\\n    if i>=5:\\n        print('breaking out')\\n        break\\n    print(i)\",\n",
       "  \"for i in range(100):\\n    print(i)\\n    if i>=5:\\n        print('breaking out')\\n        break\\nprint('done')\",\n",
       "  'for i in range(1,11):\\n    if i%2==1:\\n        continue',\n",
       "  'for i in range(1,11):\\n    if i%2==1:\\n        continue\\n    print(i)',\n",
       "  'for i in range(1,11):\\n    if i%2==1:\\n        continue\\nprint(i)',\n",
       "  'for i in range(1,11):\\n    if i%2==1:\\n        continue\\n    print(i)',\n",
       "  'for i in range(1,11):\\n    if i%2==1:\\n        break\\n    print(i)',\n",
       "  'for i in range(1,11):\\n    if i%2==0:\\n        break\\n    print(i)',\n",
       "  'for i in range(1,11):\\n    if i%2==0:\\n        break\\nprint(i)',\n",
       "  'for i in range(1,11):\\n    if i%2==0:\\n        break\\nprint(i)',\n",
       "  'for i in range(1,11):\\n    if i%2==0:\\n        break\\nprint(i)',\n",
       "  'for i in range(1,11):\\n    if i%2==0:\\n        break\\nprint(i)',\n",
       "  'for i in range(1,11):\\n    if i%2==1:\\n        break\\n    print(i)',\n",
       "  'print(i)',\n",
       "  \"for i in range(100):\\n    print(i)\\n    if i>=5:\\n        print('breaking out')\\n        break\\nprint('done')\",\n",
       "  'print(i)',\n",
       "  'print(i)',\n",
       "  'if i in range(1,11):\\n    if i%2==0:\\n        print(i)',\n",
       "  'if i in range(1,11):\\n    if i%2==0:\\n        print(i)',\n",
       "  'if i in range(1,11):\\n    if i%2==0:\\n    print(i)',\n",
       "  'if i in range(1,11):\\n    if i%2==0:\\nprint(i)',\n",
       "  'if i in range(1,11):\\n    if i%2==0:\\n        print(i)',\n",
       "  'print(i)',\n",
       "  'if i in range(1,11):\\n    if i%2==0:\\n        print(i)',\n",
       "  'print(i)',\n",
       "  'if i in range(1,11):\\n    if i%2==1:\\n        print(i)',\n",
       "  'print(i)',\n",
       "  'if i in range(1,11):\\n    if i%2==0:\\n        print(i)',\n",
       "  'print(i)',\n",
       "  'for i in range(1, 11):\\n    if i % 2 == 0:\\n        # even number\\n        print(i)',\n",
       "  'if i in range(1,11):\\n    if i%2 == 0:\\n        print(i)',\n",
       "  'if i in range(1,11):\\n    if i%2 == 0:\\n        print(i)',\n",
       "  'if i in range(1,11):\\n    if i%2 == 0:\\n        print(i)',\n",
       "  'if i in range(1,11):\\n    if i%2 == 0:\\n        print(i)',\n",
       "  'if i in range(1,11):\\n    if i%2 == 0:\\n        print(i)',\n",
       "  'if i in range(1,11):\\n    if i%2 == 0:\\n        print(i)',\n",
       "  'if i in range(1,11):\\n    if i%2 == 0:\\n        print(i)',\n",
       "  'for i in range(1, 11):\\n    if i % 2 == 0:\\n        # even number\\n        print(i)',\n",
       "  'for i in range(1, 11):\\n    if i % 2 == 0:\\n        # even number\\n        print(i)',\n",
       "  'for i in range(1, 11):\\n    if i % 2 == 0:\\n        # even number\\n        print(i)',\n",
       "  'for i in range(1, 11):\\n    if i % 2 == 0:\\n        # even number\\n        print(i)',\n",
       "  \"for i in range(1,5):\\n    for j in range(1,5):\\n\\n        if i+j == 1:\\n            print(f'skipping as {i}+{j} is odd')\\n            continue\\n        print(f'adding nums: {i}+{j}')\\n    print('*'*10)\",\n",
       "  \"for i in range(1,5):\\n    for j in range(1,5):\\n\\n        if i+j == 1:\\n            print(f'skipping as {i}+{j} is odd')\\n            continue\\n            print(f'adding nums: {i}+{j}')\\n    print('*'*10)\",\n",
       "  \"for i in range(1,5):\\n    for j in range(1,5):\\n\\n        if i+j == 1:\\n            print(f'skipping as {i}+{j} is odd')\\n            continue\\n        print(f'adding nums: {i}+{j}')\\n    print('*'*10)\",\n",
       "  \"for i in range(1,5):\\n    for j in range(1,5):\\n\\n        if (i+j)%2 == 1:\\n            print(f'skipping as {i}+{j} is odd')\\n            continue\\n        print(f'adding nums: {i}+{j}')\\n    print('*'*10)\",\n",
       "  \"for i in range(1,5):\\n    for j in range(1,5):\\n\\n        if (i+j)%2 == 1:\\n            print(f'skipping as {i}+{j} is odd')\\n            continue\\n        print(f'adding nums: {i}+{j} = {i+j}')\\n    print('*'*10)\",\n",
       "  \"for i in range(1,5):\\n    for j in range(1,5):\\n\\n        if (i+j)%2 == 1:\\n            print(f'skipping as {i}+{j} = {i+j} is odd')\\n            continue\\n        print(f'adding nums: {i}+{j} = {i+j}')\\n    print('*'*10)\",\n",
       "  \"for i in range(1,5):\\n    for j in range(1,5):\\n\\n        if (i+j)%2 == 1:\\n            print(f'skipping as {i}+{j} = {i+j} is odd')\\n            break\\n        print(f'adding nums: {i}+{j} = {i+j}')\\n    print('*'*10)\",\n",
       "  'i = 0\\nwhile True:\\n    i+=1\\n    if i>5:\\n        break\\n    print(i)',\n",
       "  'data = [1,2,3,-4,5,6]\\nall_positive = True\\n\\nfor ele in data:\\n    if ele <=0:\\n        all_positive = False\\n        break\\n    print(ele)',\n",
       "  'data = [1,2,3,-4,5,6]\\nall_positive = True\\n\\nfor ele in data:\\n    if ele <=0:\\n        all_positive = False\\n        continue\\n    print(ele)',\n",
       "  'data = [1,2,3,-4,5,6]\\nall_positive = True\\n\\nfor ele in data:\\n    if ele <=0:\\n        all_positive = False\\n        continue\\n    print(ele)',\n",
       "  'data = [1,2,3,-4,5,6]\\nall_positive = True\\n\\nfor ele in data:\\n    if ele <=0:\\n        all_positive = False\\n        continue\\n    print(ele)',\n",
       "  'data = [1,2,3,-4,5,6]\\nall_positive = True\\n\\nfor ele in data:\\n    if ele <=0:\\n        all_positive = False\\n        continue\\n    print(ele)',\n",
       "  'data = [1,2,3,-4,5,6]\\nall_positive = True\\n\\nfor ele in data:\\n    if ele <=0:\\n        all_positive = False\\n        break\\n    print(ele)',\n",
       "  'data = [1,2,3,4,5,6]\\nall_positive = True\\n\\nfor ele in data:\\n    if ele <=0:\\n        all_positive = False\\n        break\\n    print(ele)',\n",
       "  'data = [1,2,3,4,5,6]\\nall_positive = True\\n\\nfor ele in data:\\n    if ele <=0:\\n        all_positive = False\\n        break\\n    print(ele)',\n",
       "  'data = [1,2,3,-4,5,6]\\nall_positive = True\\n\\nfor ele in data:\\n    if ele <=0:\\n        all_positive = False\\n        break\\n    print(ele)',\n",
       "  'data = [1,2,3,-4,5,6]\\nall_positive = True\\n\\nfor ele in data:\\n    if ele <=0:\\n        all_positive = False\\n        continue\\n    print(ele)',\n",
       "  'data = [1,2,3,-4,5,6]\\nall_positive = True\\n\\nfor ele in data:\\n    if ele <=0:\\n        all_positive = False\\n        continue\\nprint(ele)',\n",
       "  'data = [1,2,3,-4,5,6]\\nall_positive = True\\n\\nfor ele in data:\\n    if ele <=0:\\n        all_positive = False\\n        continue\\n    print(ele)',\n",
       "  'all_positive',\n",
       "  'data = [1,2,3,-4,5,6]\\nall_positive = True\\n\\nfor ele in data:\\n    if ele <=0:\\n        all_positive = False\\n        break\\n    print(ele)',\n",
       "  'all_positive',\n",
       "  'data = [1,2,3,-4,5,6]\\nall_positive = True\\n\\nfor ele in data:\\n    if ele <=0:\\n        all_positive = False\\n        continue\\n    print(ele)',\n",
       "  'data = [1,2,3,-4,5,6]\\nall_positive = True\\n\\nfor ele in data:\\n    if ele <=0:\\n        all_positive = False\\n        # continue\\n    print(ele)',\n",
       "  'data = [1,2,3,-4,5,6]\\nall_positive = True\\n\\nfor ele in data:\\n    if ele <=0:\\n        all_positive = False\\n        continue\\n    print(ele)',\n",
       "  'data = [1,2,3,-4,5,6]\\nall_positive = True\\n\\nfor ele in data:\\n    if ele <=0:\\n        all_positive = False\\n        break\\n    print(ele)',\n",
       "  \"data = [1,2,3,-4,5,6]\\nfor ele in data:\\n    if ele<0:\\n        break\\n    else:\\n        print('prcoessing all the ele')\",\n",
       "  \"data = [1,2,3,-4,5,6]\\nfor ele in data:\\n    if ele<0:\\n        continue\\n    else:\\n        print('prcoessing all the ele')\",\n",
       "  \"data = [1,2,3,-4,5,6]\\nfor ele in data:\\n    if ele<0:\\n        break\\n    else:\\n        print('prcoessing all the ele')\",\n",
       "  'ele',\n",
       "  \"data = [1,2,3,-4,5,6]\\nfor ele in data:\\n    if ele<0:\\n        break\\nelse:\\n    print('prcoessing all the ele')\",\n",
       "  'ele',\n",
       "  \"data = [1,2,3,4,5,6]\\nfor ele in data:\\n    if ele<0:\\n        break\\nelse:\\n    print('prcoessing all the ele')\",\n",
       "  \"data = [1,2,3,4,5,6]\\nfor ele in data:\\n    if ele<0:\\n        break\\nelse:\\n    print('prcoessing all the ele')\",\n",
       "  'ele',\n",
       "  \"data = [1,2,3,-4,5,6]\\nfor ele in data:\\n    if ele<0:\\n        break\\nelse:\\n    print('prcoessing all the ele')\",\n",
       "  \"data = [1,2,3,-4,5,6]\\nfor ele in data:\\n    if ele<0:\\n        break\\nelse:\\n    print('prcoessing all the ele')\",\n",
       "  'ele',\n",
       "  \"data = [1,2,3,-4,5,6]\\nfor ele in data:\\n    if ele<0:\\n        break\\n    else:\\n        print('prcoessing all the ele')\",\n",
       "  \"data = [1,2,3,-4,5,6]\\nfor ele in data:\\n    if ele<0:\\n        break\\nelse:\\n    print('prcoessing all the ele')\",\n",
       "  'ele',\n",
       "  \"data = [1,2,3,-4,5,6]\\nfor ele in data:\\n    if ele<0:\\n        break\\nelse:\\n    print('prcoessing all the ele')\",\n",
       "  \"data = [1,2,3,4,5,6]\\nfor ele in data:\\n    if ele<0:\\n        break\\nelse:\\n    print('prcoessing all the ele')\",\n",
       "  \"data = [1,2,3,4,5,6]\\nfor ele in data:\\n    if ele<0:\\n        break\\nelse:\\n    print('prcoessing all the ele')\",\n",
       "  \"data = [1,2,3,4,5,6]\\nfor ele in data:\\n    if ele<0:\\n        break\\nelse:\\n    print('prcoessing all the ele')\",\n",
       "  \"data = [1,2,3,4,5,6]\\nfor ele in data:\\n    if ele<0:\\n        break\\nelse:\\n    print('prcoessing all the ele')\",\n",
       "  'ele',\n",
       "  \"l = [1,2,3]\\nd = {l:'test'}\",\n",
       "  'hash(100)',\n",
       "  'hash(3.14)',\n",
       "  'hash(l)',\n",
       "  't = (1,2,3)\\nhash(t)',\n",
       "  't = ([1,2],2,3,4,)\\nhash(t)',\n",
       "  'd = {\\n    (0,0):\"orin\",\\n    (1,0):\"test\",\\n    (1,0):\"test2\"\\n}',\n",
       "  'hash(d)',\n",
       "  'd',\n",
       "  'd[(0,0)]',\n",
       "  \"d[(1,1):'test3']\",\n",
       "  \"d[(1,1)]='test3'\",\n",
       "  'd',\n",
       "  'del d[(1,1)]]',\n",
       "  'del d[(1,1)]',\n",
       "  'd',\n",
       "  'globals()'],\n",
       " 'Out': {3: __main__.point2d,\n",
       "  7: point2d(x=10, y=20),\n",
       "  10: __main__.point2d,\n",
       "  11: point2d(x=30, y=40),\n",
       "  12: 30,\n",
       "  16: True,\n",
       "  20: <__main__.Point3D at 0x2841e165c50>,\n",
       "  22: 10,\n",
       "  23: (10, 20),\n",
       "  24: False,\n",
       "  26: False,\n",
       "  27: True,\n",
       "  29: False,\n",
       "  30: (False, False),\n",
       "  33: Point3D(a=10, b=20, c=30 ),\n",
       "  36: Point3D(a=10, b=20, c=30 ),\n",
       "  37: False,\n",
       "  38: False,\n",
       "  40: Point3D(a=10, b=20, c=30 ),\n",
       "  42: False,\n",
       "  44: Point3D(a=10, b=20, c=30 ),\n",
       "  46: False,\n",
       "  47: Point3D(a=100, b=200, c=300 ),\n",
       "  48: Point3D(a=10, b=20, c=30 ),\n",
       "  49: True,\n",
       "  50: point2d(x=10, y=20),\n",
       "  51: 20,\n",
       "  53: 'a',\n",
       "  56: <zip at 0x2841f27f0c0>,\n",
       "  57: [(1, 3), (2, 4)],\n",
       "  58: 11,\n",
       "  60: 11,\n",
       "  61: 18,\n",
       "  64: 1400,\n",
       "  65: Point3D(x=10, y=20, z=30),\n",
       "  67: (10, 20, 30),\n",
       "  68: ('x', 'y', 'z'),\n",
       "  78: <function collections.Point3D._asdict(self)>,\n",
       "  80: <function collections.Point3D._asdict(self)>,\n",
       "  84: Point3D(x=10, y=20, z=30),\n",
       "  85: 20,\n",
       "  87: __main__.Point3D,\n",
       "  90: __main__.Point3D,\n",
       "  92: Point3D(a=(1, 2), b=(3, 4), c=300 ),\n",
       "  93: __main__.Point2D,\n",
       "  96: (_tuplegetter(0, 'Alias for field number 0'),\n",
       "   _tuplegetter(1, 'Alias for field number 1')),\n",
       "  99: Point2D(x=100, y=200),\n",
       "  100: point2d(x=2, y=3),\n",
       "  101: 2766463592576,\n",
       "  102: Point2D(x=100, y=200),\n",
       "  103: 2766463263744,\n",
       "  106: ('symbol', 'year', 'month', 'day', 'open', 'high', 'low', 'close'),\n",
       "  108: Stock(symbol='DJIA', year=2018, month=1, day=25, open=26313, high=26458, low=26260, close=26393),\n",
       "  109: 26393,\n",
       "  110: ['DJIA', 2018, 1, 25, 26313, 26458, 26260],\n",
       "  111: list,\n",
       "  114: ('DJIA', 2018, 1, 25, 26313, 26458, 26260),\n",
       "  115: tuple,\n",
       "  116: Stock(symbol='DJIA', year=2018, month=1, day=25, open=26313, high=26458, low=26260, close=26393),\n",
       "  121: Stock(symbol='DJIA', year=2025, month=1, day=28, open=26313, high=26458, low=26260, close=26393),\n",
       "  123: 'Stock(symbol, year, month, day, open, high, low, close)',\n",
       "  125: \"int([x]) -> integer\\nint(x, base=10) -> integer\\n\\nConvert a number or string to an integer, or return 0 if no arguments\\nare given.  If x is a number, return x.__int__().  For floating point\\nnumbers, this truncates towards zero.\\n\\nIf x is not a number or if base is given, then x must be a string,\\nbytes, or bytearray instance representing an integer literal in the\\ngiven base.  The literal can be preceded by '+' or '-' and be surrounded\\nby whitespace.  The base defaults to 10.  Valid bases are 0 and 2-36.\\nBase 0 means to interpret the base from the string as an integer literal.\\n>>> int('0b100', base=0)\\n4\",\n",
       "  127: dict_items([('key1', 100), ('key2', 200), ('k3', 300)]),\n",
       "  130: ('key1', 'key2', 'k3'),\n",
       "  132: Data(key1=100, key2=200, k3=300),\n",
       "  133: Data(key1=100, key2=200, k3=300),\n",
       "  134: __main__.Data,\n",
       "  135: type,\n",
       "  137: type,\n",
       "  138: type,\n",
       "  140: type,\n",
       "  141: '0.30',\n",
       "  142: '0.2999999999999999888978',\n",
       "  147: 2,\n",
       "  148: 5,\n",
       "  149: 5,\n",
       "  151: [1, 20],\n",
       "  152: 2,\n",
       "  153: ([1, 20], [3, 4]),\n",
       "  155: tuple,\n",
       "  156: [1, 2, 3],\n",
       "  157: (1, 2, 3),\n",
       "  158: [1, 2, 3],\n",
       "  160: '!',\n",
       "  164: '(1, 2, 3)',\n",
       "  165: type,\n",
       "  166: 'Python',\n",
       "  167: ('P', 'y', 't', 'h', 'o', 'n'),\n",
       "  168: 6,\n",
       "  170: ['P', 'y', 't', 'h', 'o', 'n'],\n",
       "  171: ('P', 'y', 't', 'h', 'o', 'n'),\n",
       "  173: ['a', 'b', 'c', 'd', 'e', 'f'],\n",
       "  176: '==========',\n",
       "  177: (1, 2, 3, 1, 2, 3, 1, 2, 3, 1, 2, 3, 1, 2, 3),\n",
       "  180: [[0, 100, 0], [0, 0, 0], [0, 0, 0]],\n",
       "  181: 3,\n",
       "  182: [0, 100, 0],\n",
       "  183: 0,\n",
       "  185: [[0, 100, 0], [0, 0, 0], [0, 0, 0]],\n",
       "  187: [[0, 0, 0], [0, 0, 0], [0, 0, 0]],\n",
       "  188: <function list.__sizeof__()>,\n",
       "  189: 64,\n",
       "  190: [[0, 200, 0], [0, 200, 0], [0, 200, 0]],\n",
       "  191: 3,\n",
       "  192: 0,\n",
       "  194: 0,\n",
       "  195: [[0, 200, 0], [0, 200, 0], [0, 200, 0]],\n",
       "  197: [[0, 200, 0], [0, 0, 0], [0, 0, 0]],\n",
       "  198: [[0, 200, 0], [0, 0, 0], [0, 0, 0]],\n",
       "  199: [[0, 200, 0], [0, 0, 0], [0, 0, 0]],\n",
       "  200: [[0, 200, 0], [0, 0, 0], [0, 0, 0]],\n",
       "  201: 'Pytho',\n",
       "  202: 'Python',\n",
       "  203: (2, 3, 4, 5),\n",
       "  204: (2, 3, 4, 5),\n",
       "  205: (2, 3, 4, 5),\n",
       "  206: (2, 3, 4, 5),\n",
       "  207: 'Python ',\n",
       "  208: 'Python rocks!',\n",
       "  209: 'Python rocks!',\n",
       "  210: 'Python',\n",
       "  211: (2, 3, 4, 5),\n",
       "  212: (1, 2, 3, 4, 5),\n",
       "  213: [[0, 0, 0], [1, 1, 1]],\n",
       "  214: [[0, 0, 0], [1, 1, 1], [2, 2, 2]],\n",
       "  215: [[0, 0, 0], [1, 1, 1]],\n",
       "  216: 0,\n",
       "  217: 1,\n",
       "  219: 2,\n",
       "  220: [2, 2, 2],\n",
       "  221: True,\n",
       "  222: [[0, 0, 0], [1, 1, 1]],\n",
       "  223: 'Python',\n",
       "  224: 'Python ',\n",
       "  225: 'Python r',\n",
       "  226: [1, 2, 3, 4, 5],\n",
       "  227: [1, 2, 3, 4, 5],\n",
       "  228: False,\n",
       "  229: False,\n",
       "  230: False,\n",
       "  231: [2, 4, 6, 8],\n",
       "  232: [1, 2, 3, 4, 5, 6, 7, 8, 9, 10],\n",
       "  233: [1, 2, 3, 4, 5, 6, 7, 8, 9, 10],\n",
       "  234: [2, 4, 6, 8, 10],\n",
       "  235: [1, 3, 5, 7, 9],\n",
       "  236: [2, 4, 6, 8, 10],\n",
       "  237: [1, 3, 5, 7, 9],\n",
       "  238: [1, 3, 5, 7, 9],\n",
       "  239: 'cde',\n",
       "  240: 'f',\n",
       "  241: 'fed',\n",
       "  242: '',\n",
       "  243: '',\n",
       "  244: 'fedcba',\n",
       "  245: 'abcdef',\n",
       "  246: '',\n",
       "  247: '',\n",
       "  249: '',\n",
       "  250: '',\n",
       "  251: 'fed',\n",
       "  252: 'cde',\n",
       "  253: 'fed',\n",
       "  254: 'cdef',\n",
       "  255: 'fb',\n",
       "  256: 'cba',\n",
       "  257: 'cdef',\n",
       "  258: 'cba',\n",
       "  259: 'ce',\n",
       "  261: 'cdef',\n",
       "  262: 'ce',\n",
       "  263: 'cdef',\n",
       "  264: 'cb',\n",
       "  265: 'c',\n",
       "  266: '',\n",
       "  267: 'cb',\n",
       "  268: 'dcba',\n",
       "  269: False,\n",
       "  270: False,\n",
       "  271: False,\n",
       "  272: False,\n",
       "  273: True,\n",
       "  275: [1, 2, 3, 4, 5, 6, 7, 8, 9, 10],\n",
       "  276: [1, 3, 5, 7, 9],\n",
       "  277: [1, 4, 7, 10],\n",
       "  278: [1, 7],\n",
       "  279: [1, 8],\n",
       "  280: [1, 9],\n",
       "  281: [1, 10],\n",
       "  282: [1, 3, 5, 7, 9],\n",
       "  283: [20, 30],\n",
       "  284: [1, 'p', 222, 't', 'h', 888, 'n', 5, 999],\n",
       "  285: [1, 'p', 222, 't', 'h', 888, 'n', 5, 999],\n",
       "  286: ['y', 'o', 6],\n",
       "  288: [1, 'p', 222, 't', 'h', 888, 'n', 5, 999],\n",
       "  289: [8, 7],\n",
       "  290: [],\n",
       "  291: [8, 7],\n",
       "  292: [8, 7],\n",
       "  293: [1, 2, 3, 4, 5],\n",
       "  294: [8, 7],\n",
       "  295: [1, 2, 3, 4, 5],\n",
       "  297: [1, 2, 3, 4, 5],\n",
       "  298: [1, 2, 3, 4, 5],\n",
       "  299: [1, 2, 3, 4, 5],\n",
       "  300: [1, 3, 5, 7],\n",
       "  301: [2, 4, 'aaa', 6, 8, 5, 6, 7, 8, 9, 'a', 'b', 'c', 'a', 'b', 'c'],\n",
       "  302: [2, 4, 'aaa', 6, 8, 5, 6, 7, 8, 9, 'a', 'b', 'c', 'a', 'b', 'c'],\n",
       "  305: [2, 4, 'aaa', 6, 8, 5, 6, 7, 8, 9, 'a', 'b', 'c', 'a', 'b', 'c'],\n",
       "  306: [2, 4, 'aaa', 6, 8, 5, 6, 7, 8, 9, 'a', 'b', 'c', 'a', 'b', 'c'],\n",
       "  307: [2, 4, 'aaa', 6, 8, 5, 6, 7, 8, 9, 'a', 'b', 'c', 'a', 'b', 'c'],\n",
       "  308: [2, 4, 'aaa', 6, 8, 5, 6, 7, 8, 9, 'a', 'b', 'c', 'a', 'b', 'c'],\n",
       "  312: 100000,\n",
       "  313: 0.003491900017252192,\n",
       "  314: 200000,\n",
       "  316: 0.9892556999984663,\n",
       "  317: [1, 2, 3],\n",
       "  318: False,\n",
       "  319: True,\n",
       "  320: [1, 2, 3],\n",
       "  325: [1, 100, 3],\n",
       "  326: [1, 2, 3],\n",
       "  327: [[1, 0, 0, 200], [0, 1, 0], [0, 0, 1]],\n",
       "  328: False,\n",
       "  329: True,\n",
       "  330: [100, [0, 1, 0], [0, 0, 1]],\n",
       "  331: [[1, 0, 0, 200], [0, 1, 0], [0, 0, 1]],\n",
       "  336: [[1, 0, 0, 200], [0, 1, 0], [0, 0, 1]],\n",
       "  337: [100, [0, 1, 0], [0, 0, 1]],\n",
       "  339: ([[1, 0, 0, 100], [0, 1, 0], [0, 0, 1]],\n",
       "   [[1, 0, 0, 100], [0, 1, 0], [0, 0, 1]]),\n",
       "  340: [[1, 0, 0, 100], [0, 1, 0], [0, 0, 1]],\n",
       "  341: [[1, 0, 0, 100], [0, 1, 0], [0, 0, 1]],\n",
       "  346: False,\n",
       "  348: [[1, 0, 0, 100], [0, 1, 0], [0, 0, 1]],\n",
       "  349: [[1, 0, 0], [0, 1, 0], [0, 0, 1]],\n",
       "  350: (10, [1, 2], 'abc'),\n",
       "  351: (2766486401664, 2766486401664),\n",
       "  354: (5.0, 5.12),\n",
       "  355: (2, 'fedcba', 3.14),\n",
       "  357: (3.14, 100),\n",
       "  360: <function __main__.<lambda>(a)>,\n",
       "  364: function,\n",
       "  366: True,\n",
       "  368: function,\n",
       "  369: True,\n",
       "  371: 'SOMA',\n",
       "  372: list,\n",
       "  374: [<function __main__.<lambda>(a)>],\n",
       "  378: [<function __main__.<lambda>(a)>],\n",
       "  379: [<function __main__.<lambda>(a)>],\n",
       "  380: [<function __main__.<lambda>(a)>],\n",
       "  381: ['S', 'O', 'M', 'A'],\n",
       "  383: ['F', 'F', 'E', 'E', 'D', 'D', 'C', 'C', 'B', 'B', 'A', 'A'],\n",
       "  384: 'FfEeDdCcBbAa',\n",
       "  385: ['F', 'f', 'E', 'e', 'D', 'd', 'C', 'c', 'B', 'b', 'A', 'a'],\n",
       "  386: ['F', 'E', 'D', 'C', 'B', 'A'],\n",
       "  387: ['f', 'e', 'd', 'c', 'b', 'a'],\n",
       "  389: (1, 2, 3, 4, 5, 6, 7, 8, 9, 10, 11, 12, 13, 14, 15, 16, 17),\n",
       "  390: [1, 3, 5, 7, 9, 11, 13, 15, 17],\n",
       "  395: [<function __main__.<lambda>(a)>],\n",
       "  401: [<function __main__.<lambda>(a)>],\n",
       "  402: list,\n",
       "  407: list,\n",
       "  408: [<function __main__.<lambda>(a)>],\n",
       "  409: list,\n",
       "  411: list,\n",
       "  412: list,\n",
       "  416: [0, 2, 0, 4, 0, 6, 0, 8, 0, 10, 0, 12, 0, 14, 0, 16, 0],\n",
       "  417: list,\n",
       "  419: (0, 0, False),\n",
       "  420: [[0, 200, 0], [0, 0, 0], [0, 0, 0]],\n",
       "  422: list,\n",
       "  423: [[1, 0, 0], [0, 1, 0], [0, 0, 1]],\n",
       "  427: [[1, 0, 0], [0, 1, 0], [0, 0, 1]],\n",
       "  429: [[1, 0, 0], [0, 1, 0], [0, 0, 1]],\n",
       "  431: 'aAbBcCdDeEfF',\n",
       "  432: 'abcdef',\n",
       "  433: 'a',\n",
       "  434: 'ABCDEF',\n",
       "  437: [[1, 0, 0], [0, 1, 0], [0, 0, 1]],\n",
       "  440: [[1, 0, 0], [0, 1, 0], [0, 0, 1]],\n",
       "  442: [[1, 0, 0], [0, 1, 0], [0, 0, 1]],\n",
       "  443: [[1, 0, 0], [0, 1, 0], [0, 0, 1]],\n",
       "  448: [[1, 0, 0], [0, 1, 0], [0, 0, 1]],\n",
       "  449: [[1, 0, 0], [0, 1, 0], [0, 0, 1]],\n",
       "  450: [[0, 0, 0], [0, 0, 0], [0, 0, 0]],\n",
       "  455: list,\n",
       "  465: 'Always look on the bright side of life.',\n",
       "  466: 'Always look on the bright side of life.',\n",
       "  467: '😀',\n",
       "  469: '😀',\n",
       "  470: 'The Definitive Guide To Python',\n",
       "  471: 'Peter',\n",
       "  473: 'PYTHON',\n",
       "  474: ['Jones', 'Peter'],\n",
       "  475: ('Jones', 'Peter'),\n",
       "  476: 'item 1,item 2,item 3',\n",
       "  477: 'a,b,c,d',\n",
       "  482: True,\n",
       "  483: True,\n",
       "  484: False,\n",
       "  485: True,\n",
       "  486: True,\n",
       "  487: True,\n",
       "  488: 25,\n",
       "  496: 25,\n",
       "  506: 9,\n",
       "  507: 15,\n",
       "  509: 15,\n",
       "  510: 56,\n",
       "  511: 54,\n",
       "  513: 56,\n",
       "  515: 56,\n",
       "  516: 56,\n",
       "  517: -1,\n",
       "  521: 0.012059500033501536,\n",
       "  522: 0.002888699993491173,\n",
       "  523: '100:open, hign:200',\n",
       "  524: 'bid:1.576,ask:1.5763, spread:-0.00029999999999996696',\n",
       "  530: 'bid:1.58, ask:1.58, spread:-0.00',\n",
       "  532: 'bid:1.58, ask:1.58, spread:-0.00',\n",
       "  538: 'bid:1.5760, ask:1.5763, spread:-0.0003',\n",
       "  539: '10+20=20+10',\n",
       "  540: '10+20 = 20+10',\n",
       "  541: '10+20 =30',\n",
       "  542: 'open=<function open at 0x000002841B928900>',\n",
       "  543: 'open=10.2',\n",
       "  544: 'ask=1.5763,spread=0.00029999999999996696',\n",
       "  545: 'ask=1.5763,spread=0.0003',\n",
       "  546: range(0, 10),\n",
       "  547: range,\n",
       "  548: range(0, 10),\n",
       "  549: (0, 1, 2, 3, 4, 5, 6, 7, 8, 9),\n",
       "  550: [0, 1, 2, 3, 4, 5, 6, 7, 8, 9],\n",
       "  551: [],\n",
       "  552: [2, 3, 4, 5, 6, 7, 8, 9],\n",
       "  553: 8,\n",
       "  554: range(2, 10),\n",
       "  555: [2, 3, 4, 5, 6, 7, 8, 9],\n",
       "  556: [2, 4, 6, 8],\n",
       "  557: [2, 4, 6, 8, 10],\n",
       "  558: [],\n",
       "  559: [2, 4, 6, 8, 10],\n",
       "  560: [],\n",
       "  561: [10, 9, 8, 7, 6, 5, 4, 3],\n",
       "  562: [10, 8, 6, 4],\n",
       "  563: [],\n",
       "  564: [10, 9, 8, 7, 6, 5, 4, 3],\n",
       "  565: [10, 9, 8, 7, 6, 5, 4],\n",
       "  566: [10, 9, 8, 7, 6, 5, 4, 3, 2],\n",
       "  599: [[1, 0, 0], [0, 1, 0], [0, 0, 1]],\n",
       "  601: [(0, 10), (1, 20), (2, 30)],\n",
       "  603: [(0, 10), (1, 20), (2, 30)],\n",
       "  604: [(1, 10), (2, 20), (3, 30)],\n",
       "  635: [[0, 0, 0, 0, 1]],\n",
       "  637: [[0, 0, 0, 0, 1]],\n",
       "  639: [[1, 0, 0, 0, 0],\n",
       "   [0, 1, 0, 0, 0],\n",
       "   [0, 0, 1, 0, 0],\n",
       "   [0, 0, 0, 1, 0],\n",
       "   [0, 0, 0, 0, 1]],\n",
       "  643: [[0, 1], [2, 3, 4, 5, 6], [7, 8, 9], [10]],\n",
       "  645: [[0, 1], [2, 3, 4, 5, 6], [7, 8, 9], [10]],\n",
       "  649: (3, False),\n",
       "  679: list,\n",
       "  680: [1000, 11.2, 9.8, None, 11.5, None],\n",
       "  682: [None],\n",
       "  683: [10.5, 11.2, 9.8, None, 11.5, None],\n",
       "  701: [2, 4, 6, 8, 10],\n",
       "  711: 4,\n",
       "  712: 43.0,\n",
       "  714: 10.75,\n",
       "  717: [False, False],\n",
       "  718: [10.5, 11.2, 9.8, None, 11.5, None],\n",
       "  719: [10.5, 11.2, 9.8, 10.75, 11.5, 10.75],\n",
       "  720: [10.5, 11.2, 9.8, None, 11.5, None],\n",
       "  721: [10.5, 11.2, 9.8, 10.75, 11.5, 10.75],\n",
       "  727: [100, 200],\n",
       "  729: [100, 200],\n",
       "  731: [100, 200],\n",
       "  733: [100, 200],\n",
       "  735: [100, 200],\n",
       "  737: [100, 200],\n",
       "  739: [100, 200],\n",
       "  741: [100, 200],\n",
       "  744: [100, 200],\n",
       "  746: [100, 200],\n",
       "  751: [],\n",
       "  753: [],\n",
       "  756: [100, 200, 300, 400, 500],\n",
       "  759: [],\n",
       "  761: [],\n",
       "  831: False,\n",
       "  833: False,\n",
       "  841: -4,\n",
       "  843: -4,\n",
       "  846: 6,\n",
       "  849: -4,\n",
       "  852: -4,\n",
       "  858: 6,\n",
       "  860: 100,\n",
       "  861: 322818021289917443,\n",
       "  863: 529344067295497451,\n",
       "  867: {(0, 0): 'orin', (1, 0): 'test2'},\n",
       "  868: 'orin',\n",
       "  871: {(0, 0): 'orin', (1, 0): 'test2'},\n",
       "  874: {(0, 0): 'orin', (1, 0): 'test2'}},\n",
       " 'get_ipython': <bound method InteractiveShell.get_ipython of <ipykernel.zmqshell.ZMQInteractiveShell object at 0x000002841E0C1350>>,\n",
       " 'exit': <IPython.core.autocall.ZMQExitAutocall at 0x2841e0d5790>,\n",
       " 'quit': <IPython.core.autocall.ZMQExitAutocall at 0x2841e0d5790>,\n",
       " 'open': 10.2,\n",
       " '_': 26393,\n",
       " '__': 2766463263744,\n",
       " '___': Point2D(x=100, y=200),\n",
       " '__vsc_ipynb_file__': 'Untitled-1.ipynb',\n",
       " '_i': 'd',\n",
       " '_ii': 'del d[(1,1)]',\n",
       " '_iii': 'del d[(1,1)]]',\n",
       " '_i1': 'from collections import namedtuple',\n",
       " 'namedtuple': <function collections.namedtuple(typename, field_names, *, rename=False, defaults=None, module=None)>,\n",
       " '_i2': \"Point2D = namedtuple('point2d',('x','y'))\",\n",
       " 'Point2D': __main__.point2d,\n",
       " '_i3': 'Point2D',\n",
       " '_3': __main__.point2d,\n",
       " '_i4': 'Point2D()',\n",
       " '_i5': \"Point2D = namedtuple('point2d',(x,y))\",\n",
       " '_i6': \"Point2D = namedtuple('point2d',('x','y'))\",\n",
       " '_i7': 'Point2D(10,20)',\n",
       " '_7': point2d(x=10, y=20),\n",
       " '_i8': 'a = Point2D()',\n",
       " '_i9': 'a = Point2D(30,40)',\n",
       " 'a': range(0, 10),\n",
       " '_i10': 'type(a)',\n",
       " '_10': __main__.point2d,\n",
       " '_i11': 'a',\n",
       " '_11': point2d(x=30, y=40),\n",
       " '_i12': 'a.x',\n",
       " '_12': 30,\n",
       " '_i13': 'p.__dict__',\n",
       " '_i14': 'a.__dict__',\n",
       " '_i15': 'a.__dict__()',\n",
       " '_i16': 'isinstance(a, tuple)',\n",
       " '_16': True,\n",
       " '_i17': 'class Point3D:\\n    def __init__(self,a,b,c):\\n        self.a = a\\n        self.b = b\\n        self.c = c',\n",
       " 'Point3D': __main__.Point3D,\n",
       " '_i18': 'p_3d = Point3D()',\n",
       " '_i19': 'p_3d = Point3D(10,20,30)',\n",
       " 'p_3d': <__main__.Point3D at 0x2841e165c50>,\n",
       " '_i20': 'p_3d',\n",
       " '_20': <__main__.Point3D at 0x2841e165c50>,\n",
       " '_i21': 'p_3d.x',\n",
       " '_i22': 'p_3d.a',\n",
       " '_22': 10,\n",
       " '_i23': 'p_3d.a, p_3d.b',\n",
       " '_23': (10, 20),\n",
       " '_i24': 'isinstance(p_3d,tuple)',\n",
       " '_24': False,\n",
       " '_i25': 'p1 = Point2D(10,20)\\np2 = Point2D(10,20)',\n",
       " 'p1': Point2D(x=100, y=200),\n",
       " 'p2': Point2D(x=100, y=200),\n",
       " '_i26': 'p1 is p2',\n",
       " '_26': False,\n",
       " '_i27': 'p1 == p2',\n",
       " '_27': True,\n",
       " '_i28': 'pt1 = Point3D(10,20,30)\\npt2 = Point3D(10,20,30)',\n",
       " 'pt1': <__main__.Point3D at 0x2841f22ee90>,\n",
       " 'pt2': <__main__.Point3D at 0x2841f241590>,\n",
       " '_i29': 'pt1 is pt2',\n",
       " '_29': False,\n",
       " '_i30': 'pt1 is pt2, pt1 == pt2, ',\n",
       " '_30': (False, False),\n",
       " '_i31': \"class Point3D:\\n    def __init__(self,a,b,c):\\n        self.a = a\\n        self.b = b\\n        self.c = c\\n\\n    def __repr__(self):\\n        return f'{self.__class__.__name__}(a={self.a}, b={self.b}, c={self.c} )'\",\n",
       " '_i32': 'pt_3d = Point3D(10,20,30)',\n",
       " 'pt_3d': Point3D(a=10, b=20, c=30 ),\n",
       " '_i33': 'pt_3d = Point3D(10,20,30)\\npt_3d',\n",
       " '_33': Point3D(a=10, b=20, c=30 ),\n",
       " '_i34': \"class Point3D:\\n    def __init__(self,a,b,c):\\n        self.a = a\\n        self.b = b\\n        self.c = c\\n\\n    def __repr__(self):\\n        return f'{self.__class__.__name__}(a={self.a}, b={self.b}, c={self.c} )'\\n    \\n    def __eq__(self,other):\\n        if isinstance(other, Point3D):\\n            return self.a == other.a and self.b == other.b and self.c == other.c\\n        else:\\n            return False\",\n",
       " '_i35': 'pt_3d1 = Point3D(100,200,300)',\n",
       " 'pt_3d1': Point3D(a=10, b=20, c=30 ),\n",
       " '_i36': 'pt_3d = Point3D(10,20,30)\\npt_3d',\n",
       " '_36': Point3D(a=10, b=20, c=30 ),\n",
       " '_i37': 'pt_3d is pt_3d1',\n",
       " '_37': False,\n",
       " '_i38': 'pt_3d == pt_3d1',\n",
       " '_38': False,\n",
       " '_i39': \"class Point3D:\\n    def __init__(self,a,b,c):\\n        self.a = a\\n        self.b = b\\n        self.c = c\\n\\n    def __repr__(self):\\n        return f'{self.__class__.__name__}(a={self.a}, b={self.b}, c={self.c} )'\\n    \\n    def __eq__(self,other):\\n        if isinstance(other, Point3D):\\n            return self.a == other.a and self.b == other.b and self.c == other.c\\n        else:\\n            return False\",\n",
       " '_i40': 'pt_3d = Point3D(10,20,30)\\npt_3d',\n",
       " '_40': Point3D(a=10, b=20, c=30 ),\n",
       " '_i41': 'pt_3d1 = Point3D(100,200,300)',\n",
       " '_i42': 'pt_3d == pt_3d1',\n",
       " '_42': False,\n",
       " '_i43': \"class Point3D:\\n    def __init__(self,a,b,c):\\n        self.a = a\\n        self.b = b\\n        self.c = c\\n\\n    def __repr__(self):\\n        return f'{self.__class__.__name__}(a={self.a}, b={self.b}, c={self.c} )'\\n    \\n    def __eq__(self,other):\\n        if isinstance(other, Point3D):\\n            return self.a == other.a and self.b == other.b and self.c == other.c\\n        else:\\n            return False\",\n",
       " '_i44': 'pt_3d = Point3D(10,20,30)\\npt_3d',\n",
       " '_44': Point3D(a=10, b=20, c=30 ),\n",
       " '_i45': 'pt_3d1 = Point3D(100,200,300)',\n",
       " '_i46': 'pt_3d == pt_3d1',\n",
       " '_46': False,\n",
       " '_i47': 'pt_3d1 = Point3D(100,200,300)\\npt_3d1',\n",
       " '_47': Point3D(a=100, b=200, c=300 ),\n",
       " '_i48': 'pt_3d1 = Point3D(10,20,30)\\npt_3d1',\n",
       " '_48': Point3D(a=10, b=20, c=30 ),\n",
       " '_i49': 'pt_3d == pt_3d1',\n",
       " '_49': True,\n",
       " '_i50': 'p1',\n",
       " '_50': point2d(x=10, y=20),\n",
       " '_i51': 'max(p1)',\n",
       " '_51': 20,\n",
       " '_i52': 'max(pt_3d)',\n",
       " '_i53': \"'a'\",\n",
       " '_53': 'a',\n",
       " '_i54': '`a`',\n",
       " '_i55': 'a = (1,2)\\nb = (3,4)',\n",
       " 'b': 20,\n",
       " '_i56': 'zip(a,b)',\n",
       " '_56': <zip at 0x2841f27f0c0>,\n",
       " '_i57': 'list(zip(a,b))',\n",
       " '_57': [(1, 3), (2, 4)],\n",
       " '_i58': 'sum(e[0]*e[1] for e in zip(a,b))',\n",
       " '_58': 11,\n",
       " '_i59': 'def dot_prd(a,b):\\n    return sum(e[0]*e[1] for e in zip(a,b))',\n",
       " 'dot_prd': <function __main__.dot_prd(a, b)>,\n",
       " '_i60': 'dot_prd(a,b)',\n",
       " '_60': 11,\n",
       " '_i61': 'p1 = Point2D(2,3)\\np2 = Point2D(3,4)\\ndot_prd(p1,p2)',\n",
       " '_61': 18,\n",
       " '_i62': \"pt1_3d = namedtuple('Point3D','x y z')\",\n",
       " 'pt1_3d': __main__.Point3D,\n",
       " '_i63': \"Point3D_nt = namedtuple('Point3D','x y z')\",\n",
       " 'Point3D_nt': __main__.Point3D,\n",
       " '_i64': 'v1 = Point3D_nt(10,20,30)\\nv2 = Point3D_nt(10,20,30)\\ndot_prd(v1,v2)',\n",
       " 'v1': Point3D(a=(1, 2), b=(3, 4), c=300 ),\n",
       " 'v2': Point3D(x=10, y=20, z=30),\n",
       " '_64': 1400,\n",
       " '_i65': 'v1',\n",
       " '_65': Point3D(x=10, y=20, z=30),\n",
       " '_i66': 'x,y,z = v1',\n",
       " 'x': 10,\n",
       " 'y': 20,\n",
       " 'z': 30,\n",
       " '_i67': 'x,y,z = v1\\nx,y,z',\n",
       " '_67': (10, 20, 30),\n",
       " '_i68': 'v1._fields',\n",
       " '_68': ('x', 'y', 'z'),\n",
       " '_i69': 'print(v1._Source)',\n",
       " '_i70': 'print(Point3D_nt._Source)',\n",
       " '_i71': 'print(Point3D_nt._source)',\n",
       " '_i72': 'print(Point2D._source)',\n",
       " '_i73': \"Point3D_nt = namedtuple('Point3D','x y z')\",\n",
       " '_i74': 'Point3D_nt._source',\n",
       " '_i75': 'print(getattr(Point3D_nt, \"_source\", \"Attribute not found\"))',\n",
       " '_i76': 'from collections import namedtuple\\n\\nPoint2D = namedtuple(\"Point2D\", [\"x\", \"y\"])\\n\\nprint(Point2D._source)  # This should work if _source exists',\n",
       " '_i77': 'print(dir(Point2D))  # Check if _source is present',\n",
       " '_i78': 'Point3D_nt._asdict',\n",
       " '_78': <function collections.Point3D._asdict(self)>,\n",
       " '_i79': 'Point3D_nt._asdict()',\n",
       " '_i80': 'd = Point3D_nt._asdict\\nd',\n",
       " 'd': {(0, 0): 'orin', (1, 0): 'test2'},\n",
       " '_80': <function collections.Point3D._asdict(self)>,\n",
       " '_i81': 'd = Point3D_nt._asdict()\\nd',\n",
       " '_i82': 'd = Point3D_nt._asdict(self)\\nd',\n",
       " '_i83': 'd = Point3D_nt._asdict()\\nd',\n",
       " '_i84': 'v1',\n",
       " '_84': Point3D(x=10, y=20, z=30),\n",
       " '_i85': 'v1[1]',\n",
       " '_85': 20,\n",
       " '_i86': 'v1[1] = 200',\n",
       " '_i87': 'Point3D',\n",
       " '_87': __main__.Point3D,\n",
       " '_i88': 'print(Point3D0',\n",
       " '_i89': 'print(Point3D)',\n",
       " '_i90': 'Point3D_nt',\n",
       " '_90': __main__.Point3D,\n",
       " '_i91': 'v1 = Point3D(a,b,c=300)',\n",
       " '_i92': 'v1 = Point3D(a,b,c=300)\\nv1',\n",
       " '_92': Point3D(a=(1, 2), b=(3, 4), c=300 ),\n",
       " '_i93': 'Point2D',\n",
       " '_93': __main__.Point2D,\n",
       " '_i94': 'Point2D.a,Point2D.b',\n",
       " '_i95': 'Point2D.x,Point2D.b',\n",
       " '_i96': 'Point2D.x,Point2D.y',\n",
       " '_96': (_tuplegetter(0, 'Alias for field number 0'),\n",
       "  _tuplegetter(1, 'Alias for field number 1')),\n",
       " '_i97': 'p2 = Point2D(x=100,y)',\n",
       " '_i98': 'p2 = Point2D(x=100,y=200)',\n",
       " '_i99': 'p2 = Point2D(x=100,y=200)\\np2',\n",
       " '_99': Point2D(x=100, y=200),\n",
       " '_i100': 'p1',\n",
       " '_100': point2d(x=2, y=3),\n",
       " '_i101': 'id(p1)',\n",
       " '_101': 2766463592576,\n",
       " '_i102': 'p1 = Point2D(x=100,y=200)\\np1',\n",
       " '_102': Point2D(x=100, y=200),\n",
       " '_i103': 'id(p1)',\n",
       " '_103': 2766463263744,\n",
       " '_i104': \"Stock = namedtuple('Stock', '''symbol\\n                               year month day\\n                               open high low close''')\",\n",
       " 'Stock': __main__.Stock,\n",
       " '_i105': \"djia = Stock('DJIA', 2018, 1, 25, 26_313, 26_458, 26_260, 26_393)\",\n",
       " 'djia': Stock(symbol='DJIA', year=2025, month=1, day=28, open=26313, high=26458, low=26260, close=26393),\n",
       " '_i106': 'djia._fields',\n",
       " '_106': ('symbol', 'year', 'month', 'day', 'open', 'high', 'low', 'close'),\n",
       " '_i107': '*values,_ = djia ',\n",
       " 'values': ('DJIA', 2018, 1, 25, 26313, 26458, 26260),\n",
       " '_i108': 'djia',\n",
       " '_108': Stock(symbol='DJIA', year=2018, month=1, day=25, open=26313, high=26458, low=26260, close=26393),\n",
       " '_i109': '_',\n",
       " '_109': 26393,\n",
       " '_i110': 'values',\n",
       " '_110': ['DJIA', 2018, 1, 25, 26313, 26458, 26260],\n",
       " '_i111': 'type(values)',\n",
       " '_111': list,\n",
       " '_i112': 'values = djia[:7]',\n",
       " '_i113': 'vaues',\n",
       " '_i114': 'values',\n",
       " '_114': ('DJIA', 2018, 1, 25, 26313, 26458, 26260),\n",
       " '_i115': 'type(values)',\n",
       " '_115': tuple,\n",
       " '_i116': 'djia',\n",
       " '_116': Stock(symbol='DJIA', year=2018, month=1, day=25, open=26313, high=26458, low=26260, close=26393),\n",
       " '_i117': 'djia  = Stock(*values, year=2025,day=28)',\n",
       " '_i118': 'djia  = Stock(*values, year=2025, day=28)',\n",
       " '_i119': 'djia  = Stock( year=2025, day=28)',\n",
       " '_i120': 'djia  = djia._replace( year=2025, day=28)',\n",
       " '_i121': 'djia',\n",
       " '_121': Stock(symbol='DJIA', year=2025, month=1, day=28, open=26313, high=26458, low=26260, close=26393),\n",
       " '_i122': 'help(djia)',\n",
       " '_i123': 'djia.__doc__',\n",
       " '_123': 'Stock(symbol, year, month, day, open, high, low, close)',\n",
       " '_i124': 'djia.x.__doc__',\n",
       " '_i125': 'djia.year.__doc__',\n",
       " '_125': \"int([x]) -> integer\\nint(x, base=10) -> integer\\n\\nConvert a number or string to an integer, or return 0 if no arguments\\nare given.  If x is a number, return x.__int__().  For floating point\\nnumbers, this truncates towards zero.\\n\\nIf x is not a number or if base is given, then x must be a string,\\nbytes, or bytearray instance representing an integer literal in the\\ngiven base.  The literal can be preceded by '+' or '-' and be surrounded\\nby whitespace.  The base defaults to 10.  Valid bases are 0 and 2-36.\\nBase 0 means to interpret the base from the string as an integer literal.\\n>>> int('0b100', base=0)\\n4\",\n",
       " '_i126': 'data_dict = dict(key1=100,key2=200,k3=300)',\n",
       " 'data_dict': {'key1': 100, 'key2': 200, 'k3': 300},\n",
       " '_i127': 'data_dict.items()',\n",
       " '_127': dict_items([('key1', 100), ('key2', 200), ('k3', 300)]),\n",
       " '_i128': \"Data = namedtuple('Data', data_dict.keys())\",\n",
       " 'Data': __main__.Data,\n",
       " '_i129': 'Data._fields)()',\n",
       " '_i130': 'Data._fields',\n",
       " '_130': ('key1', 'key2', 'k3'),\n",
       " '_i131': 'd1 = Data(**data_dict)',\n",
       " 'd1': Data(key1=100, key2=200, k3=300),\n",
       " '_i132': 'd1',\n",
       " '_132': Data(key1=100, key2=200, k3=300),\n",
       " '_i133': 'd1',\n",
       " '_133': Data(key1=100, key2=200, k3=300),\n",
       " '_i134': 'type(d1)',\n",
       " '_134': __main__.Data,\n",
       " '_i135': 'type(Data)',\n",
       " '_135': type,\n",
       " '_i136': \"Data = namedtuple('Data', data_dict.keys())\",\n",
       " '_i137': 'type(Data)',\n",
       " '_137': type,\n",
       " '_i138': 'type(Point2D)',\n",
       " '_138': type,\n",
       " '_i139': \"Point2D = namedtuple('point2d',('x','y'))\",\n",
       " '_i140': 'type(Point2D)',\n",
       " '_140': type,\n",
       " '_i141': \"format(0.3,'.2f')\",\n",
       " '_141': '0.30',\n",
       " '_i142': \"format(0.3,'.22f')\",\n",
       " '_142': '0.2999999999999999888978',\n",
       " '_i143': 't = (1, 2, 3, 4, 5)\\nt(o)',\n",
       " 't': ([1, 2], 2, 3, 4),\n",
       " '_i144': 't = (1, 2, 3, 4, 5)\\nt(0)',\n",
       " '_i145': 't = (1, 2, 3, 4, 5)\\nt(1)',\n",
       " '_i146': 't = (1, 2, 3, 4, 5)',\n",
       " '_i147': 't[1]',\n",
       " '_147': 2,\n",
       " '_i148': 't[-1]',\n",
       " '_148': 5,\n",
       " '_i149': 't[len(t)-1]',\n",
       " '_149': 5,\n",
       " '_i150': 't = ([1, 2], [3, 4])',\n",
       " '_i151': 't[0]',\n",
       " '_151': [1, 20],\n",
       " '_i152': 't[0][1]',\n",
       " '_152': 2,\n",
       " '_i153': 't[0][1] = 20\\nt',\n",
       " '_153': ([1, 20], [3, 4]),\n",
       " '_i154': 'l = [1, 2, 3]',\n",
       " 'l': [1, 2, 3],\n",
       " '_i155': 't = tuple(l)\\ntype(t)',\n",
       " '_155': tuple,\n",
       " '_i156': 'l',\n",
       " '_156': [1, 2, 3],\n",
       " '_i157': 't',\n",
       " '_157': (1, 2, 3),\n",
       " '_i158': 'l = list(t)\\nl',\n",
       " '_158': [1, 2, 3],\n",
       " '_i159': \"s = 'Python rocks!'\",\n",
       " 's': 'ababPYTHONabab',\n",
       " '_i160': 's[-1]',\n",
       " '_160': '!',\n",
       " '_i161': 's[0] = d',\n",
       " '_i162': 't = 1, 2, 3',\n",
       " '_i163': 's = str(t)',\n",
       " '_i164': 's = str(t)\\ns',\n",
       " '_164': '(1, 2, 3)',\n",
       " '_i165': 'type(str)',\n",
       " '_165': type,\n",
       " '_i166': \"s = 'Python'\\nt = tuple(s)\\ns\",\n",
       " '_166': 'Python',\n",
       " '_i167': \"s = 'Python'\\nt = tuple(s)\\nt\",\n",
       " '_167': ('P', 'y', 't', 'h', 'o', 'n'),\n",
       " '_i168': \"s = 'Python'\\nt = tuple(s)\\nt\\nlen(t)\",\n",
       " '_168': 6,\n",
       " '_i169': 'l = list(s)',\n",
       " '_i170': 'l = list(s)\\nl',\n",
       " '_170': ['P', 'y', 't', 'h', 'o', 'n'],\n",
       " '_i171': \"s = 'Python'\\nt = tuple(s)\\nt\\n# len(t)\",\n",
       " '_171': ('P', 'y', 't', 'h', 'o', 'n'),\n",
       " '_i172': \"l = list('abcdef')\",\n",
       " '_i173': \"l = list('abcdef')\\nl\",\n",
       " '_173': ['a', 'b', 'c', 'd', 'e', 'f'],\n",
       " '_i174': \"s = '='*p\",\n",
       " '_i175': \"s = '='*10\",\n",
       " '_i176': \"s = '='*10\\ns\",\n",
       " '_176': '==========',\n",
       " '_i177': 't = (1,2,3)*5\\nt',\n",
       " '_177': (1, 2, 3, 1, 2, 3, 1, 2, 3, 1, 2, 3, 1, 2, 3),\n",
       " '_i178': 'm = [\\n    [0, 0 ,0],\\n    [0, 0 ,0]\\n    [0, 0 ,0]\\n]',\n",
       " '_i179': 'm = [\\n    [0, 0 ,0],\\n    [0, 0 ,0],\\n    [0, 0 ,0]\\n]',\n",
       " 'm': [[0, 1], [2, 3, 4, 5, 6], [7, 8, 9], [10]],\n",
       " '_i180': 'm = [\\n    [0, 0 ,0],\\n    [0, 0 ,0],\\n    [0, 0 ,0]\\n]\\nm',\n",
       " '_180': [[0, 100, 0], [0, 0, 0], [0, 0, 0]],\n",
       " '_i181': 'len(m)',\n",
       " '_181': 3,\n",
       " '_i182': 'm[0]',\n",
       " '_182': [0, 100, 0],\n",
       " '_i183': 'm[0][1]',\n",
       " '_183': 0,\n",
       " '_i184': 'm[0][1] = 100',\n",
       " '_i185': 'm[0][1] = 100\\nm',\n",
       " '_185': [[0, 100, 0], [0, 0, 0], [0, 0, 0]],\n",
       " '_i186': 'm = [[0,0,0]] * 3',\n",
       " '_i187': 'm = [[0,0,0]] * 3\\nm',\n",
       " '_187': [[0, 0, 0], [0, 0, 0], [0, 0, 0]],\n",
       " '_i188': 'm = [[0,0,0]] * 3\\nm.__sizeof__',\n",
       " '_188': <function list.__sizeof__()>,\n",
       " '_i189': 'm = [[0,0,0]] * 3\\nm.__sizeof__()',\n",
       " '_189': 64,\n",
       " '_i190': 'm = [[0,0,0]] * 3\\nm.__sizeof__()\\nm',\n",
       " '_190': [[0, 200, 0], [0, 200, 0], [0, 200, 0]],\n",
       " '_i191': 'len(m)',\n",
       " '_191': 3,\n",
       " '_i192': 'm[0][0]',\n",
       " '_192': 0,\n",
       " '_i193': 'm[0][3]',\n",
       " '_i194': 'm[0][1]',\n",
       " '_194': 0,\n",
       " '_i195': 'm[0][1] = 200\\nm',\n",
       " '_195': [[0, 200, 0], [0, 200, 0], [0, 200, 0]],\n",
       " '_i196': 'm = [[0]*3 for i in range(3)]',\n",
       " '_i197': 'm = [[0]*3 for i in range(3)]\\nm',\n",
       " '_197': [[0, 200, 0], [0, 0, 0], [0, 0, 0]],\n",
       " '_i198': 'm[0][1] = 200\\nm',\n",
       " '_198': [[0, 200, 0], [0, 0, 0], [0, 0, 0]],\n",
       " '_i199': 'm = [[0]*3 for _ in range(3)]\\nm',\n",
       " '_199': [[0, 200, 0], [0, 0, 0], [0, 0, 0]],\n",
       " '_i200': 'm[0][1] = 200\\nm',\n",
       " '_200': [[0, 200, 0], [0, 0, 0], [0, 0, 0]],\n",
       " '_i201': \"s = 'Python rocks!'\\ns[0:5]\",\n",
       " '_201': 'Pytho',\n",
       " '_i202': 's[0:5+1]',\n",
       " '_202': 'Python',\n",
       " '_i203': 't = (1, 2, 3, 4, 5)\\nt[1:5]',\n",
       " '_203': (2, 3, 4, 5),\n",
       " '_i204': 't = (1, 2, 3, 4, 5)\\nt[1:5+1]',\n",
       " '_204': (2, 3, 4, 5),\n",
       " '_i205': 't = (1, 2, 3, 4, 5)\\nt[1:5+1]',\n",
       " '_205': (2, 3, 4, 5),\n",
       " '_i206': 't = (1, 2, 3, 4, 5)\\nt[1:5]',\n",
       " '_206': (2, 3, 4, 5),\n",
       " '_i207': 's[0:5+2]',\n",
       " '_207': 'Python ',\n",
       " '_i208': 's[0:5+10]',\n",
       " '_208': 'Python rocks!',\n",
       " '_i209': 's[0:5+11]',\n",
       " '_209': 'Python rocks!',\n",
       " '_i210': 's[0:5+1]',\n",
       " '_210': 'Python',\n",
       " '_i211': 't = (1, 2, 3, 4, 5)\\nt[1:5]',\n",
       " '_211': (2, 3, 4, 5),\n",
       " '_i212': 't',\n",
       " '_212': (1, 2, 3, 4, 5),\n",
       " '_i213': 'l = [[0, 0, 0], [1, 1, 1], [2, 2, 2]]\\ns = l[0:2]\\ns',\n",
       " '_213': [[0, 0, 0], [1, 1, 1]],\n",
       " '_i214': 'l = [[0, 0, 0], [1, 1, 1], [2, 2, 2]]\\ns = l[0:2+1]\\ns',\n",
       " '_214': [[0, 0, 0], [1, 1, 1], [2, 2, 2]],\n",
       " '_i215': 'l = [[0, 0, 0], [1, 1, 1], [2, 2, 2]]\\ns = l[0:2]\\ns',\n",
       " '_215': [[0, 0, 0], [1, 1, 1]],\n",
       " '_i216': 's[0][1]',\n",
       " '_216': 0,\n",
       " '_i217': 's[1][1]',\n",
       " '_217': 1,\n",
       " '_i218': 's[2][1]',\n",
       " '_i219': 'l[2][1]',\n",
       " '_219': 2,\n",
       " '_i220': 'l[2]',\n",
       " '_220': [2, 2, 2],\n",
       " '_i221': 's[0] is l[0]',\n",
       " '_221': True,\n",
       " '_i222': 's',\n",
       " '_222': [[0, 0, 0], [1, 1, 1]],\n",
       " '_i223': \"s = 'Python rocks!'\\ns[:6]\",\n",
       " '_223': 'Python',\n",
       " '_i224': \"s = 'Python rocks!'\\ns[:6+1]\",\n",
       " '_224': 'Python ',\n",
       " '_i225': \"s = 'Python rocks!'\\ns[:6+1+1]\",\n",
       " '_225': 'Python r',\n",
       " '_i226': 'l = [1, 2, 3, 4, 5]\\nl[:]',\n",
       " '_226': [1, 2, 3, 4, 5],\n",
       " '_i227': 'l = [1, 2, 3, 4, 5]\\nl[::]',\n",
       " '_227': [1, 2, 3, 4, 5],\n",
       " '_i228': 'l = [1, 2, 3, 4, 5]\\nl[:] is l[::]',\n",
       " '_228': False,\n",
       " '_i229': 'l = [1, 2, 3, 4, 5]\\nl[:] is l[:]',\n",
       " '_229': False,\n",
       " '_i230': 'l2 = l[:]\\nl2 is l',\n",
       " 'l2': [1, 2, 3],\n",
       " '_230': False,\n",
       " '_i231': 's = [1, 2, 3, 4, 5, 6, 7, 8, 9, 10]\\ns[1:8:2]',\n",
       " '_231': [2, 4, 6, 8],\n",
       " '_i232': 's[1::2]\\ns',\n",
       " '_232': [1, 2, 3, 4, 5, 6, 7, 8, 9, 10],\n",
       " '_i233': 's[1::2]\\ns',\n",
       " '_233': [1, 2, 3, 4, 5, 6, 7, 8, 9, 10],\n",
       " '_i234': 's[1::2]',\n",
       " '_234': [2, 4, 6, 8, 10],\n",
       " '_i235': 's[0::2]',\n",
       " '_235': [1, 3, 5, 7, 9],\n",
       " '_i236': '[i for i in s if i%2!=1]',\n",
       " '_236': [2, 4, 6, 8, 10],\n",
       " '_i237': '[i for i in s if i%2!=0]',\n",
       " '_237': [1, 3, 5, 7, 9],\n",
       " '_i238': 's[::2]',\n",
       " '_238': [1, 3, 5, 7, 9],\n",
       " '_i239': \"s = 'abcdef'\\ns[-4:-1]\",\n",
       " '_239': 'cde',\n",
       " '_i240': 's[-1:4:-1]',\n",
       " '_240': 'f',\n",
       " '_i241': 's[-1:-4:-1]',\n",
       " '_241': 'fed',\n",
       " '_i242': 's[-1:-3]',\n",
       " '_242': '',\n",
       " '_i243': 's[-1:3]',\n",
       " '_243': '',\n",
       " '_i244': 's[::-1]',\n",
       " '_244': 'fedcba',\n",
       " '_i245': 's[::1]',\n",
       " '_245': 'abcdef',\n",
       " '_i246': 's[-1:-4]',\n",
       " '_246': '',\n",
       " '_i247': 's[-1:-4:1]',\n",
       " '_247': '',\n",
       " '_i248': 's[-1:-4:0]',\n",
       " '_i249': 's[-1:-4:2]',\n",
       " '_249': '',\n",
       " '_i250': 's[-1:-4:1]',\n",
       " '_250': '',\n",
       " '_i251': 's[-1:-4:-1]',\n",
       " '_251': 'fed',\n",
       " '_i252': 's[-4:-1]',\n",
       " '_252': 'cde',\n",
       " '_i253': \"s = 'abcdef'\\ns[:-4:-1]\",\n",
       " '_253': 'fed',\n",
       " '_i254': 's[-4::]',\n",
       " '_254': 'cdef',\n",
       " '_i255': 's[::-4]',\n",
       " '_255': 'fb',\n",
       " '_i256': 's[2::-1]',\n",
       " '_256': 'cba',\n",
       " '_i257': 's[2::1]',\n",
       " '_257': 'cdef',\n",
       " '_i258': 's[2::-1]',\n",
       " '_258': 'cba',\n",
       " '_i259': 's[2::2]',\n",
       " '_259': 'ce',\n",
       " '_i260': 's[2::0]',\n",
       " '_i261': 's[2::1]',\n",
       " '_261': 'cdef',\n",
       " '_i262': 's[2::2]',\n",
       " '_262': 'ce',\n",
       " '_i263': 's[2::1]',\n",
       " '_263': 'cdef',\n",
       " '_i264': 's[2:0:-1]',\n",
       " '_264': 'cb',\n",
       " '_i265': 's[2:0+1:-1]',\n",
       " '_265': 'c',\n",
       " '_i266': 's[2:-1:-1]',\n",
       " '_266': '',\n",
       " '_i267': 's[2:0:-1]',\n",
       " '_267': 'cb',\n",
       " '_i268': \"s = 'abcdef'\\ns[-3::-1]\",\n",
       " '_268': 'dcba',\n",
       " '_i269': \"a = 'racecar'\\na1 = a[::-1]\\na is a1\",\n",
       " 'a1': 'racecar',\n",
       " '_269': False,\n",
       " '_i270': \"a = 'racecar'\\na1 == a[::-1]\\na is a1\",\n",
       " '_270': False,\n",
       " '_i271': \"a = 'racecar'\\na[::-1]\\na is a[::-1]\",\n",
       " '_271': False,\n",
       " '_i272': \"a = 'racecar'\\n# a[::-1]\\na is a[::-1]\",\n",
       " '_272': False,\n",
       " '_i273': \"a = 'racecar'\\n# a[::-1]\\na == a[::-1]\",\n",
       " '_273': True,\n",
       " '_i274': 'l = [1,2,3,4,5,6,7,8,9,10]',\n",
       " '_i275': 'l[::1]',\n",
       " '_275': [1, 2, 3, 4, 5, 6, 7, 8, 9, 10],\n",
       " '_i276': 'l[::2]',\n",
       " '_276': [1, 3, 5, 7, 9],\n",
       " '_i277': 'l[::3]',\n",
       " '_277': [1, 4, 7, 10],\n",
       " '_i278': 'l[::6]',\n",
       " '_278': [1, 7],\n",
       " '_i279': 'l[::7]',\n",
       " '_279': [1, 8],\n",
       " '_i280': 'l[::8]',\n",
       " '_280': [1, 9],\n",
       " '_i281': 'l[::9]',\n",
       " '_281': [1, 10],\n",
       " '_i282': 'l[::2]',\n",
       " '_282': [1, 3, 5, 7, 9],\n",
       " '_i283': 'l = [1, 20, 30, 5, 6]\\nl[1:3]',\n",
       " '_283': [20, 30],\n",
       " '_i284': 'l[1:3] = [100,200]\\nl',\n",
       " '_284': [1, 'p', 222, 't', 'h', 888, 'n', 5, 999],\n",
       " '_i285': \"l[1:3] = 'python'\\nl\",\n",
       " '_285': [1, 'p', 222, 't', 'h', 888, 'n', 5, 999],\n",
       " '_i286': 'l[2::3]',\n",
       " '_286': ['y', 'o', 6],\n",
       " '_i287': 'l[2::3] = [222,888]\\nl',\n",
       " '_i288': 'l[2::3] = [222,888,999]\\nl',\n",
       " '_288': [1, 'p', 222, 't', 'h', 888, 'n', 5, 999],\n",
       " '_i289': 'l = [1, 2, 3, 4, 5, 6, 7, 8]\\nl[:-3:-1]',\n",
       " '_289': [8, 7],\n",
       " '_i290': 'l = [1, 2, 3, 4, 5, 6, 7, 8]\\nl[0:-3:-1]',\n",
       " '_290': [],\n",
       " '_i291': 'l = [1, 2, 3, 4, 5, 6, 7, 8]\\nl[-1:-3:-1]',\n",
       " '_291': [8, 7],\n",
       " '_i292': 'l = [1, 2, 3, 4, 5, 6, 7, 8]\\nl[:-3:-1]',\n",
       " '_292': [8, 7],\n",
       " '_i293': 'l = [1, 2, 3, 4, 5, 6, 7, 8]\\nl[:-3:1]',\n",
       " '_293': [1, 2, 3, 4, 5],\n",
       " '_i294': 'l = [1, 2, 3, 4, 5, 6, 7, 8]\\nl[:-3:-1]',\n",
       " '_294': [8, 7],\n",
       " '_i295': 'l = [1, 2, 3, 4, 5, 6, 7, 8]\\nl[:-3:-1] = [200,300]\\nl',\n",
       " '_295': [1, 2, 3, 4, 5],\n",
       " '_i296': 'del l[:-2:-1]',\n",
       " '_i297': 'del l[:-2:-1]\\nl',\n",
       " '_297': [1, 2, 3, 4, 5],\n",
       " '_i298': 'del l[:-2:-1]\\nl',\n",
       " '_298': [1, 2, 3, 4, 5],\n",
       " '_i299': 'l',\n",
       " '_299': [1, 2, 3, 4, 5],\n",
       " '_i300': 'l = [1, 2, 3, 4, 5, 6, 7, 8]\\nl[::2]',\n",
       " '_300': [1, 3, 5, 7],\n",
       " '_i301': 'del l[::2]\\nl',\n",
       " '_301': [2, 4, 'aaa', 6, 8, 5, 6, 7, 8, 9, 'a', 'b', 'c', 'a', 'b', 'c'],\n",
       " '_i302': 'l.append(5)\\nl',\n",
       " '_302': [2, 4, 'aaa', 6, 8, 5, 6, 7, 8, 9, 'a', 'b', 'c', 'a', 'b', 'c'],\n",
       " '_i303': 'l.extend[6,7,8,9]\\nl',\n",
       " '_i304': 'l.extend(6,7,8,9)\\nl',\n",
       " '_i305': 'l.extend((6,7,8,9))\\nl',\n",
       " '_305': [2, 4, 'aaa', 6, 8, 5, 6, 7, 8, 9, 'a', 'b', 'c', 'a', 'b', 'c'],\n",
       " '_i306': \"l.extend('abc')\\nl\",\n",
       " '_306': [2, 4, 'aaa', 6, 8, 5, 6, 7, 8, 9, 'a', 'b', 'c', 'a', 'b', 'c'],\n",
       " '_i307': \"l.extend(('abc'))\\nl\",\n",
       " '_307': [2, 4, 'aaa', 6, 8, 5, 6, 7, 8, 9, 'a', 'b', 'c', 'a', 'b', 'c'],\n",
       " '_i308': \"l.insert(2,'aaa')\\nl\",\n",
       " '_308': [2, 4, 'aaa', 6, 8, 5, 6, 7, 8, 9, 'a', 'b', 'c', 'a', 'b', 'c'],\n",
       " '_i309': 'from timeit import timeit\\ntimeit?',\n",
       " 'timeit': <function timeit.timeit(stmt='pass', setup='pass', timer=<built-in function perf_counter>, number=1000000, globals=None)>,\n",
       " '_i310': 'l = [1, 2, 3]',\n",
       " '_i311': 'l=[]',\n",
       " '_i312': \"timeit('l.append(1)',globals=globals(),number=100_000)\\nlen(l)\",\n",
       " '_312': 100000,\n",
       " '_i313': \"timeit('l.append(1)',globals=globals(),number=100_000)\\n# len(l)\",\n",
       " '_313': 0.003491900017252192,\n",
       " '_i314': 'len(l)',\n",
       " '_314': 200000,\n",
       " '_i315': 'l = []',\n",
       " '_i316': \"timeit('l.insert(1,0)',globals=globals(),number=100_000)\",\n",
       " '_316': 0.9892556999984663,\n",
       " '_i317': 'l1 = [1, 2, 3]\\nl2 = l1[:]\\nl2',\n",
       " 'l1': [1, 100, 3],\n",
       " '_317': [1, 2, 3],\n",
       " '_i318': 'l1 is l2',\n",
       " '_318': False,\n",
       " '_i319': 'l1 == l2',\n",
       " '_319': True,\n",
       " '_i320': 'l3 = l1.copy()\\nl3',\n",
       " 'l3': [1, 2, 3],\n",
       " '_320': [1, 2, 3],\n",
       " '_i321': 'l1.help?',\n",
       " '_i322': 'l1.help',\n",
       " '_i323': 'l1.?',\n",
       " '_i324': 'l1.help()',\n",
       " '_i325': 'l1[1] = 100\\nl1',\n",
       " '_325': [1, 100, 3],\n",
       " '_i326': 'l2',\n",
       " '_326': [1, 2, 3],\n",
       " '_i327': 'm1 = [[1, 0, 0], [0, 1, 0], [0, 0, 1]]\\nm2 = m1.copy()\\nm2',\n",
       " 'm1': [[1, 0, 0, 100], [0, 1, 0], [0, 0, 1]],\n",
       " 'm2': [[1, 0, 0], [0, 1, 0], [0, 0, 1]],\n",
       " '_327': [[1, 0, 0, 200], [0, 1, 0], [0, 0, 1]],\n",
       " '_i328': 'm1 is m2',\n",
       " '_328': False,\n",
       " '_i329': 'm1[0] is m2[0]',\n",
       " '_329': True,\n",
       " '_i330': 'm1[0] = 100\\nm1',\n",
       " '_330': [100, [0, 1, 0], [0, 0, 1]],\n",
       " '_i331': 'm2',\n",
       " '_331': [[1, 0, 0, 200], [0, 1, 0], [0, 0, 1]],\n",
       " '_i332': 'm1[0].append()',\n",
       " '_i333': 'm1[0].append()',\n",
       " '_i334': 'm1[0].append(200)',\n",
       " '_i335': 'm2[0].append(200)',\n",
       " '_i336': 'm2',\n",
       " '_336': [[1, 0, 0, 200], [0, 1, 0], [0, 0, 1]],\n",
       " '_i337': 'm1',\n",
       " '_337': [100, [0, 1, 0], [0, 0, 1]],\n",
       " '_i338': 'm1 = [[1, 0, 0], [0, 1, 0], [0, 0, 1]]\\nm2 = m1.copy()',\n",
       " '_i339': 'm1, m2',\n",
       " '_339': ([[1, 0, 0, 100], [0, 1, 0], [0, 0, 1]],\n",
       "  [[1, 0, 0, 100], [0, 1, 0], [0, 0, 1]]),\n",
       " '_i340': 'm1[0].append(100)\\nm1',\n",
       " '_340': [[1, 0, 0, 100], [0, 1, 0], [0, 0, 1]],\n",
       " '_i341': 'm2',\n",
       " '_341': [[1, 0, 0, 100], [0, 1, 0], [0, 0, 1]],\n",
       " '_i342': 'from copy import deepcopy',\n",
       " 'deepcopy': <function copy.deepcopy(x, memo=None, _nil=[])>,\n",
       " '_i343': 'm1 = [[1, 0, 0], [0, 1, 0], [0, 0, 1]]',\n",
       " '_i344': 'm2 = m1.deepcopy()',\n",
       " '_i345': 'm2 = deepcopy(m1)',\n",
       " '_i346': 'm1[0] is m2[0]',\n",
       " '_346': False,\n",
       " '_i347': 'm1[0].append(100)',\n",
       " '_i348': 'm1',\n",
       " '_348': [[1, 0, 0, 100], [0, 1, 0], [0, 0, 1]],\n",
       " '_i349': 'm2',\n",
       " '_349': [[1, 0, 0], [0, 1, 0], [0, 0, 1]],\n",
       " '_i350': \"t1 = (10, [1, 2], 'abc')\\nt2 = t1\\nt2\",\n",
       " 't1': (1, 2, 3, 4, 5, 6),\n",
       " 't2': (7, 8, 9, 10),\n",
       " '_350': (10, [1, 2], 'abc'),\n",
       " '_i351': 'id(t1), id(t2)',\n",
       " '_351': (2766486401664, 2766486401664),\n",
       " '_i352': 'rate = 5.0, 5.12',\n",
       " 'rate': (5.0, 5.12),\n",
       " '_i353': 'apr, apy = rate',\n",
       " 'apr': 5.0,\n",
       " 'apy': 5.12,\n",
       " '_i354': 'apr, apy',\n",
       " '_354': (5.0, 5.12),\n",
       " '_i355': \"s = 'abcdef'\\na,b,c = (1+1,s[::-1],3.14)\\na,b,c\",\n",
       " 'c': 3.14,\n",
       " '_355': (2, 'fedcba', 3.14),\n",
       " '_i356': 'a = 100\\nb = 3.14\\na,b = b,a',\n",
       " '_i357': 'a,b',\n",
       " '_357': (3.14, 100),\n",
       " '_i358': \"s = 'FfEeDdCcBbAa'\",\n",
       " '_i359': 'from collections import upper',\n",
       " '_i360': 'sU = lambda a:a[x] in a.upper()\\nsU',\n",
       " 'sU': ['F', 'E', 'D', 'C', 'B', 'A'],\n",
       " '_360': <function __main__.<lambda>(a)>,\n",
       " '_i361': 'sU = lambda a:a[x] in a.upper()\\nprint(sU)',\n",
       " '_i362': 'sU = lambda a:a[x] in a.upper()\\nlist(sU)',\n",
       " '_i363': 'sU = lambda a:a[x] in a.upper()\\ntype(su)',\n",
       " '_i364': 'sU = lambda a:a[x] in a.upper()\\ntype(sU)',\n",
       " '_364': function,\n",
       " '_i365': 'su(s)',\n",
       " '_i366': 'sU(s)',\n",
       " '_366': True,\n",
       " '_i367': \"s = 'FfEeDdCcBbAa'\",\n",
       " '_i368': 'sU = lambda a:a[x] in a.upper()\\ntype(sU)',\n",
       " '_368': function,\n",
       " '_i369': 'sU(s)',\n",
       " '_369': True,\n",
       " '_i370': 'sU(list(s))',\n",
       " '_i371': \"s = 'soma'\\ns.upper()\",\n",
       " '_371': 'SOMA',\n",
       " '_i372': 'sU = [lambda a:a[x] in a.upper()]\\ntype(sU)',\n",
       " '_372': list,\n",
       " '_i373': 'su',\n",
       " '_i374': 'sU',\n",
       " '_374': [<function __main__.<lambda>(a)>],\n",
       " '_i375': 'for i in sU:\\n    print()i',\n",
       " '_i376': 'for i in sU:\\n    print(i)',\n",
       " 'i': 6,\n",
       " '_i377': 'for i in sU:\\n    print(sU(i))',\n",
       " '_i378': 'sU',\n",
       " '_378': [<function __main__.<lambda>(a)>],\n",
       " '_i379': 'sU[::]',\n",
       " '_379': [<function __main__.<lambda>(a)>],\n",
       " '_i380': 'sU[:]',\n",
       " '_380': [<function __main__.<lambda>(a)>],\n",
       " '_i381': '[i for i in s.upper()]',\n",
       " '_381': ['S', 'O', 'M', 'A'],\n",
       " '_i382': \"s = 'FfEeDdCcBbAa'\",\n",
       " '_i383': 'sU = [i for i in s.upper()]\\nsU',\n",
       " '_383': ['F', 'F', 'E', 'E', 'D', 'D', 'C', 'C', 'B', 'B', 'A', 'A'],\n",
       " '_i384': 's',\n",
       " '_384': 'FfEeDdCcBbAa',\n",
       " '_i385': 'sU = [i for i in s if i in s]\\nsU',\n",
       " '_385': ['F', 'f', 'E', 'e', 'D', 'd', 'C', 'c', 'B', 'b', 'A', 'a'],\n",
       " '_i386': 'sU = [i for i in s if i in s.upper()]\\nsU',\n",
       " '_386': ['F', 'E', 'D', 'C', 'B', 'A'],\n",
       " '_i387': 'sl = [i for i in s if i in s.lower()]\\nsl',\n",
       " 'sl': ['f', 'e', 'd', 'c', 'b', 'a'],\n",
       " '_387': ['f', 'e', 'd', 'c', 'b', 'a'],\n",
       " '_i388': 't1 = 1, 2, 3, 4, 5, 6\\nt2 = 7, 8, 9, 10\\nt3 = 11, 12, 13, 14, 15, 16, 17',\n",
       " 't3': (11, 12, 13, 14, 15, 16, 17),\n",
       " '_i389': 't = t1+t2+t3\\nt',\n",
       " '_389': (1, 2, 3, 4, 5, 6, 7, 8, 9, 10, 11, 12, 13, 14, 15, 16, 17),\n",
       " '_i390': '[i for i in (t1+t2+t3) if i%2==1]',\n",
       " '_390': [1, 3, 5, 7, 9, 11, 13, 15, 17],\n",
       " '_i391': '[lambda x:x[i]=0, i for i in (t1+t2+t3) if i%2==1]',\n",
       " '_i392': '[lambda x:x[i]==0, i for i in (t1+t2+t3) if i%2==1]',\n",
       " '_i393': '[(lambda x:x[i]==0), i for i in (t1+t2+t3) if i%2==1]',\n",
       " '_i394': '[(lambda x:x[i]==0) if i==( i for i in (t1+t2+t3) if i%2==1)]',\n",
       " '_i395': '[(lambda x:x[i]==0) if i==( i for i in (t1+t2+t3) if i%2==1) else i]',\n",
       " '_395': [<function __main__.<lambda>(a)>],\n",
       " '_i396': 'T = [(lambda x:x[i]==0) if i==( i for i in (t1+t2+t3) if i%2==1) else i]\\nfor i in T:\\n    print(i)',\n",
       " 'T': [0, 2, 0, 4, 0, 6, 0, 8, 0, 10, 0, 12, 0, 14, 0, 16, 0],\n",
       " '_i397': 'T = [(lambda x:x[i]==0) if i==( i for i in (t1+t2+t3) if i%2==1) else i]\\nT(t1)',\n",
       " '_i398': 'T = [(lambda x:x[i]==0) if i==( i for i in (t1+t2+t3) if i%2==1) else i]',\n",
       " '_i399': 'T = [(lambda x:x[i]==0) if i=( i for i in (t1+t2+t3) if i%2==1) else i]',\n",
       " '_i400': 'T = [(lambda x:x[i]==0) if i==( i for i in (t1+t2+t3) if i%2==1) else i]',\n",
       " '_i401': 'T',\n",
       " '_401': [<function __main__.<lambda>(a)>],\n",
       " '_i402': 'type(T)',\n",
       " '_402': list,\n",
       " '_i403': 'type(T)\\nfor i in T:\\n    print(i)',\n",
       " '_i404': 'T = [i=0 if i==( i for i in (t1+t2+t3) if i%2==1) else i]',\n",
       " '_i405': 'T = [i==0 if i==( i for i in (t1+t2+t3) if i%2==1) else i]',\n",
       " '_i406': 'type(T)\\nfor i in T:\\n    print(i)',\n",
       " '_i407': 'type(T)\\n# for i in T:\\n#     print(i)',\n",
       " '_407': list,\n",
       " '_i408': 'type(T)\\n# for i in T:\\n#     print(i)\\nT[::]',\n",
       " '_408': [<function __main__.<lambda>(a)>],\n",
       " '_i409': 'type(T)\\n# for i in T:\\n#     print(i)',\n",
       " '_409': list,\n",
       " '_i410': 'T = [i==0 if( i for i in (t1+t2+t3) if i%2==1) else i]',\n",
       " '_i411': 'type(T)\\n# for i in T:\\n#     print(i)',\n",
       " '_411': list,\n",
       " '_i412': 'type(T)\\n# for i in T:\\n#     print(i)',\n",
       " '_412': list,\n",
       " '_i413': 'type(T)\\nfor i in T:\\n    print(i)',\n",
       " '_i414': 'type(T)\\nfor i in T:\\n    print(i)',\n",
       " '_i415': 'T = [0 if i%2=1 else i for i in (t1+t2+t3)]\\nT',\n",
       " '_i416': 'T = [0 if i%2==1 else i for i in (t1+t2+t3)]\\nT',\n",
       " '_416': [0, 2, 0, 4, 0, 6, 0, 8, 0, 10, 0, 12, 0, 14, 0, 16, 0],\n",
       " '_i417': 'type(m)',\n",
       " '_417': list,\n",
       " '_i418': 'm[0][0],m[1][1],m[2][2] = 1',\n",
       " '_i419': 'm[0][0],m[1][1],m[2][2] == 1',\n",
       " '_419': (0, 0, False),\n",
       " '_i420': 'm',\n",
       " '_420': [[0, 200, 0], [0, 0, 0], [0, 0, 0]],\n",
       " '_i421': 'm = [\\n    [0, 0, 0],\\n    [0, 0, 0],\\n    [0, 0, 0]\\n]',\n",
       " '_i422': 'type(m)',\n",
       " '_422': list,\n",
       " '_i423': 'm',\n",
       " '_423': [[1, 0, 0], [0, 1, 0], [0, 0, 1]],\n",
       " '_i424': '[1 if i for i in m[0] else m]',\n",
       " '_i425': 'm[0][0],m[1][1],m[2][2] = 1',\n",
       " '_i426': 'm[0][0] = 1',\n",
       " '_i427': 'm',\n",
       " '_427': [[1, 0, 0], [0, 1, 0], [0, 0, 1]],\n",
       " '_i428': 'm[0][0] = 1\\nm[1][1] =1\\nm[2][2]=1',\n",
       " '_i429': 'm',\n",
       " '_429': [[1, 0, 0], [0, 1, 0], [0, 0, 1]],\n",
       " '_i430': \"s = 'FfEeDdCcBbAa'\",\n",
       " '_i431': 'reveresed_s = s[::-1]\\nreveresed_s',\n",
       " 'reveresed_s': 'aAbBcCdDeEfF',\n",
       " '_431': 'aAbBcCdDeEfF',\n",
       " '_i432': 'reveresed_s[::2]',\n",
       " '_432': 'abcdef',\n",
       " '_i433': 'reveresed_s[:1:2]',\n",
       " '_433': 'a',\n",
       " '_i434': 'reveresed_s[1::2]',\n",
       " '_434': 'ABCDEF',\n",
       " '_i435': 'm = [\\n    [0, 0, 0],\\n    [0, 0, 0],\\n    [0, 0, 0]\\n]',\n",
       " '_i436': 'm[0][0]=1\\nm[1][1]=1\\nm[2][2]=1',\n",
       " '_i437': 'm[0][0]=1\\nm[1][1]=1\\nm[2][2]=1\\nm',\n",
       " '_437': [[1, 0, 0], [0, 1, 0], [0, 0, 1]],\n",
       " '_i438': 'm = [\\n    [0, 0, 0],\\n    [0, 0, 0],\\n    [0, 0, 0]\\n]',\n",
       " '_i439': 'result = m.copy()',\n",
       " 'result': [[1, 0, 0], [0, 1, 0], [0, 0, 1]],\n",
       " '_i440': 'result = m.copy()\\nresult',\n",
       " '_440': [[1, 0, 0], [0, 1, 0], [0, 0, 1]],\n",
       " '_i441': 'result[0][0]=1\\nresult[1][1]=1\\nresult[2][2]=1',\n",
       " '_i442': 'result[0][0]=1\\nresult[1][1]=1\\nresult[2][2]=1\\nresult',\n",
       " '_442': [[1, 0, 0], [0, 1, 0], [0, 0, 1]],\n",
       " '_i443': 'm',\n",
       " '_443': [[1, 0, 0], [0, 1, 0], [0, 0, 1]],\n",
       " '_i444': 'from copy import deepcopy',\n",
       " '_i445': 'from copy import deepcopy\\n\\nm = [\\n    [0, 0, 0],\\n    [0, 0, 0],\\n    [0, 0, 0]\\n]',\n",
       " '_i446': 'result = m.deepcopy()',\n",
       " '_i447': 'result = deepcopy(m)',\n",
       " '_i448': 'result = deepcopy(m)\\nresult',\n",
       " '_448': [[1, 0, 0], [0, 1, 0], [0, 0, 1]],\n",
       " '_i449': 'result[0][0]=1\\nresult[1][1]=1\\nresult[2][2]=1\\nresult',\n",
       " '_449': [[1, 0, 0], [0, 1, 0], [0, 0, 1]],\n",
       " '_i450': 'm',\n",
       " '_450': [[0, 0, 0], [0, 0, 0], [0, 0, 0]],\n",
       " '_i451': \"data = [\\n    (100, 'USD', 'EUR', 0.83),\\n    (100, 'USD', 'CAD', 1.27),\\n    (100, 'CAD', 'EUR', 0.65)\\n]\",\n",
       " 'data': [1, 2, 3, 4, 5, 6],\n",
       " '_i452': 'row = 0\\n\\namount,currency,targ_cur,exch_rate = row[0]',\n",
       " 'row': [10],\n",
       " '_i453': 'row = 0\\n\\namount,currency,targ_cur,exch_rate = data[row]',\n",
       " 'amount': 100,\n",
       " 'currency': 'CAD',\n",
       " 'targ_cur': 'EUR',\n",
       " 'exch_rate': 0.65,\n",
       " '_i454': 'type(date)',\n",
       " '_i455': 'type(data)',\n",
       " '_455': list,\n",
       " '_i456': \"row = 0\\n\\namount,currency,targ_cur,exch_rate = data[row]\\namount*exch_rate = conv\\nprint(amount,currency,'='conv,sep=' ')\",\n",
       " '_i457': \"row = 0\\n\\namount,currency,targ_cur,exch_rate = data[row]\\namount*exch_rate = conv\\nprint(amount,currency,'=='conv,sep=' ')\",\n",
       " '_i458': \"row = 0\\n\\namount,currency,targ_cur,exch_rate = data[row]\\namount*exch_rate = converted\\nprint(amount,currency,'=',converted,targ_cursep=' ')\",\n",
       " '_i459': \"row = 0\\n\\namount,currency,targ_cur,exch_rate = data[row]\\nconverted = amount*exch_rate \\nprint(amount,currency,'=',converted,targ_cursep=' ')\",\n",
       " 'converted': 65.0,\n",
       " '_i460': \"row = 0\\n\\namount,currency,targ_cur,exch_rate = data[row]\\nconverted = amount*exch_rate \\nprint(amount,currency,'=',converted,targ_cur, sep=' ')\",\n",
       " '_i461': \"row = 1\\n\\namount,currency,targ_cur,exch_rate = data[row]\\nconverted = amount*exch_rate \\nprint(amount,currency,'=',converted,targ_cur, sep=' ')\",\n",
       " '_i462': \"row = 3\\n\\namount,currency,targ_cur,exch_rate = data[row]\\nconverted = amount*exch_rate \\nprint(amount,currency,'=',converted,targ_cur, sep=' ')\",\n",
       " '_i463': \"row = 2\\n\\namount,currency,targ_cur,exch_rate = data[row]\\nconverted = amount*exch_rate \\nprint(amount,currency,'=',converted,targ_cur, sep=' ')\",\n",
       " '_i464': 'var = \"\\\\N{Latin Capital Letter A}lways look on the bright side of life.\"',\n",
       " 'var': '😀',\n",
       " '_i465': 'var',\n",
       " '_465': 'Always look on the bright side of life.',\n",
       " '_i466': 'var = \"Always look on the bright side of life.\"\\nvar',\n",
       " '_466': 'Always look on the bright side of life.',\n",
       " '_i467': 'var = \"\\\\N{Grinning face}\"\\nvar',\n",
       " '_467': '😀',\n",
       " '_i468': 'var = \"\\\\N{jrinning face}\"\\nvar',\n",
       " '_i469': 'var = \"\\\\N{Grinning face}\"\\nvar',\n",
       " '_469': '😀',\n",
       " '_i470': \"message = 'The definitive guide to Python'\\nmessage.title()\",\n",
       " 'message': 'To every action there is always an equal and opposite reaction.',\n",
       " '_470': 'The Definitive Guide To Python',\n",
       " '_i471': \"name = 'Peter '\\nname.rstrip()\",\n",
       " 'name': '\\t Peter\\tJones\\t',\n",
       " '_471': 'Peter',\n",
       " '_i472': \"name = '\\\\t Peter\\\\tJones\\\\t'\\nprint(name)\",\n",
       " '_i473': \"s = 'ababPYTHONabab'\\ns.strip('ab')\",\n",
       " '_473': 'PYTHON',\n",
       " '_i474': \"data = 'Jones,Peter'\\ndata.split(',')\",\n",
       " '_474': ['Jones', 'Peter'],\n",
       " '_i475': \"f,l = data.split(',')\\nf,l\",\n",
       " 'f': 'Jones',\n",
       " '_475': ('Jones', 'Peter'),\n",
       " '_i476': \"data = ['item 1', 'item 2', 'item 3']\\n','.join(data)\",\n",
       " '_476': 'item 1,item 2,item 3',\n",
       " '_i477': \"','.join('abcd')\",\n",
       " '_477': 'a,b,c,d',\n",
       " '_i478': 'join?',\n",
       " '_i479': '.join?',\n",
       " '_i480': 'help(join)',\n",
       " '_i481': \"help('join')\",\n",
       " '_i482': \"'soma' in 'somashekar'\",\n",
       " '_482': True,\n",
       " '_i483': \"'Soma'.casefold() in 'somashekar'.casefold()\",\n",
       " '_483': True,\n",
       " '_i484': \"'Soma' in 'somashekar'\",\n",
       " '_484': False,\n",
       " '_i485': \"'soma' in 'somashekar'\",\n",
       " '_485': True,\n",
       " '_i486': \"'soma shekar'.startswith('soma')\",\n",
       " '_486': True,\n",
       " '_i487': \"'soma shekar'.endswith('shekar')\",\n",
       " '_487': True,\n",
       " '_i488': \"message = 'To every action there is always an equal and opposite reaction.'\\nmessage.index('always')\",\n",
       " '_488': 25,\n",
       " '_i489': \"try:\\n    if message.index('soma'):\\nexcept e:\\n    print()e\",\n",
       " '_i490': \"try:\\n    if message.index('soma'):\\n        print(index)\\nexcept e:\\n    print()e\",\n",
       " '_i491': \"try:\\n    if message.index('soma'):\\n        print(index)\\nexcept e:\\n    print(e)\",\n",
       " '_i492': \"try:\\n    if message.index('soma'):\\n        print(index)\\nexcept:e\\n    print(e)\",\n",
       " '_i493': \"try:\\n    if message.index('soma'):\\n        print(index)\\nexcept:\\n    print('not found')\",\n",
       " '_i494': \"try:\\n    if message.index('alwats'):\\n        print(index)\\nexcept:\\n    print('not found')\",\n",
       " '_i495': \"try:\\n    if message.index('always'):\\n        print(index)\\nexcept:\\n    print('not found')\",\n",
       " '_i496': \"message = 'To every action there is always an equal and opposite reaction.'\\nmessage.index('always')\",\n",
       " '_496': 25,\n",
       " '_i497': \"try:\\n    if message.index('always'):\\n        print(index)\\nexcept:\\n    print('not found')\",\n",
       " '_i498': \"try:\\n    for idx in  message.index('always'):\\n        print(idx)\\nexcept:\\n    print('not found')\",\n",
       " '_i499': \"message = 'To every action there is an equal and opposite reaction.'\\ntry:\\n    idx = message.index('always')  # This will raise ValueError\\n    print(idx)\\nexcept ValueError:\\n    print('not found')\",\n",
       " '_i500': \"message = 'To every action there is always an equal and opposite reaction.'\\ntry:\\n    idx = message.index('always')  # Returns the index of 'always' (integer)\\n    print(idx)  # Print the found index\\nexcept ValueError:  # Catch only specific exception\\n    print('not found')\",\n",
       " 'idx': 3,\n",
       " '_i501': \"message = 'To every action there is always an equal and opposite reaction.'\\ntry:\\n    idx = message.index('soma')  # Returns the index of 'always' (integer)\\n    print(idx)  # Print the found index\\nexcept ValueError:  # Catch only specific exception\\n    print('not found')\",\n",
       " '_i502': \"message = 'To every action there is always an equal and opposite reaction.'\\ntry:\\n    idx = message.index('always')  # Returns the index of 'always' (integer)\\n    print(idx)  # Print the found index\\nexcept ValueError:  # Catch only specific exception\\n    print('not found')\",\n",
       " '_i503': '?join',\n",
       " '_i504': '?join.',\n",
       " '_i505': '?str.index',\n",
       " '_i506': \"message.index('action')\",\n",
       " '_506': 9,\n",
       " '_i507': \"message.index('action') + len('action')\",\n",
       " '_507': 15,\n",
       " '_i508': \"st_idx = message.index('action') + len('action')\",\n",
       " 'st_idx': 15,\n",
       " '_i509': \"st_idx = message.index('action') + len('action')\\nst_idx\",\n",
       " '_509': 15,\n",
       " '_i510': \"message.index('action',st_idx)\",\n",
       " '_510': 56,\n",
       " '_i511': \"message.index('reaction',st_idx)\",\n",
       " '_511': 54,\n",
       " '_i512': \"message.index('saction',st_idx)\",\n",
       " '_i513': \"message.index('action',st_idx)\",\n",
       " '_513': 56,\n",
       " '_i514': \"message.index('Newton')\",\n",
       " '_i515': \"message.find('action',st_idx)\",\n",
       " '_515': 56,\n",
       " '_i516': \"message.index('action',st_idx)\",\n",
       " '_516': 56,\n",
       " '_i517': \"message.find('Newton')\",\n",
       " '_517': -1,\n",
       " '_i518': \"strt = message.find('Newton')\\nif strt == -1:\\n    print('do something')\",\n",
       " 'strt': -1,\n",
       " '_i519': \"timeit('message.find('ein)',globals = globals(), number=1000_00)\",\n",
       " '_i520': \"timeit('message.find('ein')',globals = globals(), number=1000_00)\",\n",
       " '_i521': 'timeit(\"message.find(\\'ein\\')\",globals = globals(), number=1000_00)',\n",
       " '_521': 0.012059500033501536,\n",
       " '_i522': 'timeit(\"\\'ein\\' in message\",globals=globals(), number=1000_00)',\n",
       " '_522': 0.002888699993491173,\n",
       " '_i523': \"'{}:open, hign:{}'.format(100,200)\",\n",
       " '_523': '100:open, hign:200',\n",
       " '_i524': 'bid = 1.5760\\nask = 1.5763\\n\"bid:{bid},ask:{ask}, spread:{spread}\".format(bid=bid,ask=ask, spread=(bid-ask))',\n",
       " 'bid': 1.576,\n",
       " 'ask': 1.5763,\n",
       " '_524': 'bid:1.576,ask:1.5763, spread:-0.00029999999999996696',\n",
       " '_i525': 'bid = 1.5760\\nask = 1.5763\\n\"bid:{bid},ask:{ask}, spread:{spread}\".format(bid=(bid,.2f),ask=ask, spread=(bid-ask))',\n",
       " '_i526': 'bid = 1.5760\\nask = 1.5763\\n\"bid:{bid},ask:{ask}, spread:{spread}\".format(bid=format(bid,.2f),ask=ask, spread=(bid-ask))',\n",
       " '_i527': 'bid = 1.5760\\nask = 1.5763\\n\"bid:{bid:{.2f}},ask:{ask}, spread:{spread}\".format(bid=format(bid),ask=ask, spread=(bid-ask))',\n",
       " '_i528': 'bid = 1.5760\\nask = 1.5763\\n\"bid:{:.2f}},ask:{ask}, spread:{spread}\".format(bid=format(bid),ask=ask, spread=(bid-ask))',\n",
       " '_i529': 'bid = 1.5760\\nask = 1.5763\\n\"bid:{:.2f}},ask:{ask}, spread:{spread}\".format(bid=bid,ask=ask, spread=(bid-ask))',\n",
       " '_i530': 'bid = 1.5760\\nask = 1.5763\\n\"bid:{:.2f}, ask:{:.2f}, spread:{:.2f}\".format(bid, ask, bid - ask)',\n",
       " '_530': 'bid:1.58, ask:1.58, spread:-0.00',\n",
       " '_i531': 'bid = 1.5760\\nask = 1.5763\\n\"bid:{:.2f}, ask:{ask}, spread:{:.2f}\".format(bid, ask, bid - ask)',\n",
       " '_i532': 'bid = 1.5760\\nask = 1.5763\\n\"bid:{:.2f}, ask:{:.2f}, spread:{:.2f}\".format(bid, ask, bid - ask)',\n",
       " '_532': 'bid:1.58, ask:1.58, spread:-0.00',\n",
       " '_i533': '\"bid:{:.4f}, ask:{:.4f}, spread:{:,4f}\".format(spread=spread,bid=bid,ask=ask)',\n",
       " '_i534': '\"bid:{:.4f}, ask:{:.4f}, spread:{:,4f}\".format(spread=spread,bid=bid,ask=ask)',\n",
       " '_i535': '\"bid:{:.4f}, ask:{:.4f}, spread:{:,4f}\".format(spread=bid-ask,bid=bid,ask=ask)',\n",
       " '_i536': '\"bid:{:.4f}, ask:{:.4f}, spread:{:,4f}\".format(spread=(bid-ask),bid=bid,ask=ask)',\n",
       " '_i537': '\"bid:{bid:.4f}, ask:{ask:.4f}, spread:{spread:,4f}\".format(spread=(bid-ask),bid=bid,ask=ask)',\n",
       " '_i538': '\"bid:{bid:.4f}, ask:{ask:.4f}, spread:{spread:.4f}\".format(spread=(bid-ask),bid=bid,ask=ask)',\n",
       " '_538': 'bid:1.5760, ask:1.5763, spread:-0.0003',\n",
       " '_i539': \"'{a}+{b}={b}+{a}'.format(a=10,b=20)\",\n",
       " '_539': '10+20=20+10',\n",
       " '_i540': \"a = 10\\nb = 20\\nf'{a}+{b} = {b}+{a}'\",\n",
       " '_540': '10+20 = 20+10',\n",
       " '_i541': \"f'{a}+{b} ={a+b}'\",\n",
       " '_541': '10+20 =30',\n",
       " '_i542': \"f'open={open}'\",\n",
       " '_542': 'open=<function open at 0x000002841B928900>',\n",
       " '_i543': \"open=10.2\\nf'open={open}'\",\n",
       " '_543': 'open=10.2',\n",
       " '_i544': \"f'ask={ask},spread={ask-bid}'\",\n",
       " '_544': 'ask=1.5763,spread=0.00029999999999996696',\n",
       " '_i545': \"f'ask={ask:.4f},spread={(ask-bid):.4f}'\",\n",
       " '_545': 'ask=1.5763,spread=0.0003',\n",
       " '_i546': 'range(10)',\n",
       " '_546': range(0, 10),\n",
       " '_i547': 'type(range(10))',\n",
       " '_547': range,\n",
       " '_i548': 'a = range(10)\\na',\n",
       " '_548': range(0, 10),\n",
       " '_i549': 'tuple(range(10))',\n",
       " '_549': (0, 1, 2, 3, 4, 5, 6, 7, 8, 9),\n",
       " '_i550': 'list(range(10))',\n",
       " '_550': [0, 1, 2, 3, 4, 5, 6, 7, 8, 9],\n",
       " '_i551': 'list(range(10,2))',\n",
       " '_551': [],\n",
       " '_i552': 'list(range(2,10))',\n",
       " '_552': [2, 3, 4, 5, 6, 7, 8, 9],\n",
       " '_i553': 'len(range(2,10))',\n",
       " '_553': 8,\n",
       " '_i554': 'range(2,10)',\n",
       " '_554': range(2, 10),\n",
       " '_i555': 'list(range(2,10))',\n",
       " '_555': [2, 3, 4, 5, 6, 7, 8, 9],\n",
       " '_i556': 'list(range(2,10,2))',\n",
       " '_556': [2, 4, 6, 8],\n",
       " '_i557': 'list(range(2,11,2))',\n",
       " '_557': [2, 4, 6, 8, 10],\n",
       " '_i558': 'list(range(2,11,-2))',\n",
       " '_558': [],\n",
       " '_i559': 'list(range(2,11,2))',\n",
       " '_559': [2, 4, 6, 8, 10],\n",
       " '_i560': 'list(range(2,11,-1))',\n",
       " '_560': [],\n",
       " '_i561': 'list(range(10,2,-1))',\n",
       " '_561': [10, 9, 8, 7, 6, 5, 4, 3],\n",
       " '_i562': 'list(range(10,2,-2))',\n",
       " '_562': [10, 8, 6, 4],\n",
       " '_i563': 'list(range(10,2))',\n",
       " '_563': [],\n",
       " ...}"
      ]
     },
     "execution_count": 875,
     "metadata": {},
     "output_type": "execute_result"
    }
   ],
   "source": [
    "globals()"
   ]
  },
  {
   "cell_type": "code",
   "execution_count": 878,
   "metadata": {},
   "outputs": [
    {
     "data": {
      "text/plain": [
       "{(0, 0): 'orin', (1, 0): 'test2'}"
      ]
     },
     "execution_count": 878,
     "metadata": {},
     "output_type": "execute_result"
    }
   ],
   "source": [
    "globals()['d']"
   ]
  },
  {
   "cell_type": "code",
   "execution_count": 880,
   "metadata": {},
   "outputs": [
    {
     "data": {
      "text/plain": [
       "dict"
      ]
     },
     "execution_count": 880,
     "metadata": {},
     "output_type": "execute_result"
    }
   ],
   "source": [
    "type(globals())"
   ]
  },
  {
   "cell_type": "code",
   "execution_count": 883,
   "metadata": {},
   "outputs": [
    {
     "data": {
      "text/plain": [
       "([1, 2], 2, 3, 4)"
      ]
     },
     "execution_count": 883,
     "metadata": {},
     "output_type": "execute_result"
    }
   ],
   "source": [
    "globals()['t']"
   ]
  },
  {
   "cell_type": "code",
   "execution_count": 884,
   "metadata": {},
   "outputs": [],
   "source": [
    "d = {\n",
    "    'key 1': 1,\n",
    "    'key 2': 2,\n",
    "    3.14: 'pi'\n",
    "}"
   ]
  },
  {
   "cell_type": "code",
   "execution_count": 886,
   "metadata": {},
   "outputs": [
    {
     "data": {
      "text/plain": [
       "1"
      ]
     },
     "execution_count": 886,
     "metadata": {},
     "output_type": "execute_result"
    }
   ],
   "source": [
    "d['key 1']"
   ]
  },
  {
   "cell_type": "code",
   "execution_count": 887,
   "metadata": {},
   "outputs": [
    {
     "name": "stdout",
     "output_type": "stream",
     "text": [
      "key 1\n",
      "key 2\n",
      "3.14\n"
     ]
    }
   ],
   "source": [
    "for k in d:\n",
    "    print(k)"
   ]
  },
  {
   "cell_type": "code",
   "execution_count": 890,
   "metadata": {},
   "outputs": [
    {
     "name": "stdout",
     "output_type": "stream",
     "text": [
      "d[key 1] = 1\n",
      "d[key 2] = 2\n",
      "d[3.14] = pi\n"
     ]
    }
   ],
   "source": [
    "for k in d:\n",
    "    print(f'd[{k}] = {d[k]}')"
   ]
  },
  {
   "cell_type": "code",
   "execution_count": 892,
   "metadata": {},
   "outputs": [
    {
     "name": "stdout",
     "output_type": "stream",
     "text": [
      "1\n",
      "2\n",
      "pi\n"
     ]
    }
   ],
   "source": [
    "for v in d.values():\n",
    "    print(v)"
   ]
  },
  {
   "cell_type": "code",
   "execution_count": 893,
   "metadata": {},
   "outputs": [
    {
     "data": {
      "text/plain": [
       "dict_items([('key 1', 1), ('key 2', 2), (3.14, 'pi')])"
      ]
     },
     "execution_count": 893,
     "metadata": {},
     "output_type": "execute_result"
    }
   ],
   "source": [
    "d.items()"
   ]
  },
  {
   "cell_type": "code",
   "execution_count": 894,
   "metadata": {},
   "outputs": [
    {
     "data": {
      "text/plain": [
       "dict_values([1, 2, 'pi'])"
      ]
     },
     "execution_count": 894,
     "metadata": {},
     "output_type": "execute_result"
    }
   ],
   "source": [
    "d.values()"
   ]
  },
  {
   "cell_type": "code",
   "execution_count": 895,
   "metadata": {},
   "outputs": [
    {
     "data": {
      "text/plain": [
       "dict_keys(['key 1', 'key 2', 3.14])"
      ]
     },
     "execution_count": 895,
     "metadata": {},
     "output_type": "execute_result"
    }
   ],
   "source": [
    "d.keys()"
   ]
  },
  {
   "cell_type": "code",
   "execution_count": 897,
   "metadata": {},
   "outputs": [
    {
     "name": "stdout",
     "output_type": "stream",
     "text": [
      "('key 1', 1)\n",
      "('key 2', 2)\n",
      "(3.14, 'pi')\n"
     ]
    }
   ],
   "source": [
    "for k,v in d.items():\n",
    "    print((k,v))"
   ]
  },
  {
   "cell_type": "code",
   "execution_count": 898,
   "metadata": {},
   "outputs": [
    {
     "data": {
      "text/plain": [
       "{'key 1': 1, 'key 2': 2, 3.14: 'pi', 'x': 100}"
      ]
     },
     "execution_count": 898,
     "metadata": {},
     "output_type": "execute_result"
    }
   ],
   "source": [
    "d['x'] = 100\n",
    "d"
   ]
  },
  {
   "cell_type": "code",
   "execution_count": 899,
   "metadata": {},
   "outputs": [
    {
     "data": {
      "text/plain": [
       "{'key 1': 222, 'key 2': 2, 3.14: 'pi', 'x': 100}"
      ]
     },
     "execution_count": 899,
     "metadata": {},
     "output_type": "execute_result"
    }
   ],
   "source": [
    "d['key 1'] = 222\n",
    "d"
   ]
  },
  {
   "cell_type": "code",
   "execution_count": 908,
   "metadata": {},
   "outputs": [],
   "source": [
    "data = {\n",
    "    'open': 100,\n",
    "    'high': 110,\n",
    "    'low': 95,\n",
    "    'close': 110\n",
    "}"
   ]
  },
  {
   "cell_type": "code",
   "execution_count": 901,
   "metadata": {},
   "outputs": [
    {
     "data": {
      "text/plain": [
       "{'open': 100, 'high': 110, 'low': 95, 'close': 110}"
      ]
     },
     "execution_count": 901,
     "metadata": {},
     "output_type": "execute_result"
    }
   ],
   "source": [
    "data"
   ]
  },
  {
   "cell_type": "code",
   "execution_count": 902,
   "metadata": {},
   "outputs": [
    {
     "data": {
      "text/plain": [
       "100"
      ]
     },
     "execution_count": 902,
     "metadata": {},
     "output_type": "execute_result"
    }
   ],
   "source": [
    "data['open']"
   ]
  },
  {
   "cell_type": "code",
   "execution_count": 904,
   "metadata": {},
   "outputs": [
    {
     "data": {
      "text/plain": [
       "True"
      ]
     },
     "execution_count": 904,
     "metadata": {},
     "output_type": "execute_result"
    }
   ],
   "source": [
    "'open' in data"
   ]
  },
  {
   "cell_type": "code",
   "execution_count": 905,
   "metadata": {},
   "outputs": [
    {
     "data": {
      "text/plain": [
       "False"
      ]
     },
     "execution_count": 905,
     "metadata": {},
     "output_type": "execute_result"
    }
   ],
   "source": [
    "'open' not in data"
   ]
  },
  {
   "cell_type": "code",
   "execution_count": 906,
   "metadata": {},
   "outputs": [],
   "source": [
    "data.clear()"
   ]
  },
  {
   "cell_type": "code",
   "execution_count": 907,
   "metadata": {},
   "outputs": [
    {
     "data": {
      "text/plain": [
       "{}"
      ]
     },
     "execution_count": 907,
     "metadata": {},
     "output_type": "execute_result"
    }
   ],
   "source": [
    "data"
   ]
  },
  {
   "cell_type": "code",
   "execution_count": 909,
   "metadata": {},
   "outputs": [
    {
     "data": {
      "text/plain": [
       "4"
      ]
     },
     "execution_count": 909,
     "metadata": {},
     "output_type": "execute_result"
    }
   ],
   "source": [
    "len(data)"
   ]
  },
  {
   "cell_type": "code",
   "execution_count": 910,
   "metadata": {},
   "outputs": [],
   "source": [
    "data_cp = data.copy()"
   ]
  },
  {
   "cell_type": "code",
   "execution_count": 911,
   "metadata": {},
   "outputs": [
    {
     "data": {
      "text/plain": [
       "{'open': 100, 'high': 110, 'low': 95, 'close': 110}"
      ]
     },
     "execution_count": 911,
     "metadata": {},
     "output_type": "execute_result"
    }
   ],
   "source": [
    "data_cp"
   ]
  },
  {
   "cell_type": "code",
   "execution_count": 912,
   "metadata": {},
   "outputs": [],
   "source": [
    "data['xx'] = 100"
   ]
  },
  {
   "cell_type": "code",
   "execution_count": 913,
   "metadata": {},
   "outputs": [
    {
     "data": {
      "text/plain": [
       "{'open': 100, 'high': 110, 'low': 95, 'close': 110, 'xx': 100}"
      ]
     },
     "execution_count": 913,
     "metadata": {},
     "output_type": "execute_result"
    }
   ],
   "source": [
    "data"
   ]
  },
  {
   "cell_type": "code",
   "execution_count": 914,
   "metadata": {},
   "outputs": [
    {
     "data": {
      "text/plain": [
       "{'open': 100, 'high': 110, 'low': 95, 'close': 110}"
      ]
     },
     "execution_count": 914,
     "metadata": {},
     "output_type": "execute_result"
    }
   ],
   "source": [
    "data_cp"
   ]
  },
  {
   "cell_type": "code",
   "execution_count": 915,
   "metadata": {},
   "outputs": [],
   "source": [
    "from copy import deepcopy"
   ]
  },
  {
   "cell_type": "code",
   "execution_count": 918,
   "metadata": {},
   "outputs": [],
   "source": [
    "data_dcp = deepcopy(data)"
   ]
  },
  {
   "cell_type": "code",
   "execution_count": 919,
   "metadata": {},
   "outputs": [
    {
     "data": {
      "text/plain": [
       "{'open': 100, 'high': 110, 'low': 95, 'close': 110, 'xx': 100}"
      ]
     },
     "execution_count": 919,
     "metadata": {},
     "output_type": "execute_result"
    }
   ],
   "source": [
    "data_dcp"
   ]
  },
  {
   "cell_type": "code",
   "execution_count": 920,
   "metadata": {},
   "outputs": [
    {
     "data": {
      "text/plain": [
       "{'open': 100, 'high': 110, 'low': 95, 'close': 110, 'xx': 100, 'yy': 333}"
      ]
     },
     "execution_count": 920,
     "metadata": {},
     "output_type": "execute_result"
    }
   ],
   "source": [
    "data['yy'] = 333\n",
    "data"
   ]
  },
  {
   "cell_type": "code",
   "execution_count": 921,
   "metadata": {},
   "outputs": [
    {
     "data": {
      "text/plain": [
       "{'open': 100, 'high': 110, 'low': 95, 'close': 110, 'xx': 100}"
      ]
     },
     "execution_count": 921,
     "metadata": {},
     "output_type": "execute_result"
    }
   ],
   "source": [
    "data_dcp"
   ]
  },
  {
   "cell_type": "code",
   "execution_count": 922,
   "metadata": {},
   "outputs": [
    {
     "data": {
      "text/plain": [
       "False"
      ]
     },
     "execution_count": 922,
     "metadata": {},
     "output_type": "execute_result"
    }
   ],
   "source": [
    "data is data_cp"
   ]
  },
  {
   "cell_type": "code",
   "execution_count": 923,
   "metadata": {},
   "outputs": [
    {
     "data": {
      "text/plain": [
       "False"
      ]
     },
     "execution_count": 923,
     "metadata": {},
     "output_type": "execute_result"
    }
   ],
   "source": [
    "data is data_dcp"
   ]
  },
  {
   "cell_type": "code",
   "execution_count": 924,
   "metadata": {},
   "outputs": [
    {
     "data": {
      "text/plain": [
       "{'open': 100, 'high': 110, 'low': 95, 'close': 110, 'xx': 100, 'yy': 333}"
      ]
     },
     "execution_count": 924,
     "metadata": {},
     "output_type": "execute_result"
    }
   ],
   "source": [
    "data"
   ]
  },
  {
   "cell_type": "code",
   "execution_count": 925,
   "metadata": {},
   "outputs": [
    {
     "data": {
      "text/plain": [
       "{'open': 100, 'high': 110, 'low': 95, 'close': 110, 'xx': 100}"
      ]
     },
     "execution_count": 925,
     "metadata": {},
     "output_type": "execute_result"
    }
   ],
   "source": [
    "data_dcp"
   ]
  },
  {
   "cell_type": "code",
   "execution_count": 926,
   "metadata": {},
   "outputs": [
    {
     "data": {
      "text/plain": [
       "{'open': 100, 'high': 110, 'low': 95, 'close': 110}"
      ]
     },
     "execution_count": 926,
     "metadata": {},
     "output_type": "execute_result"
    }
   ],
   "source": [
    "data_cp"
   ]
  },
  {
   "cell_type": "code",
   "execution_count": 927,
   "metadata": {},
   "outputs": [],
   "source": [
    "data['test'] = 999"
   ]
  },
  {
   "cell_type": "code",
   "execution_count": 929,
   "metadata": {},
   "outputs": [
    {
     "data": {
      "text/plain": [
       "{'open': 100,\n",
       " 'high': 110,\n",
       " 'low': 95,\n",
       " 'close': 110,\n",
       " 'xx': 100,\n",
       " 'yy': 333,\n",
       " 'test': 999}"
      ]
     },
     "execution_count": 929,
     "metadata": {},
     "output_type": "execute_result"
    }
   ],
   "source": [
    "data"
   ]
  },
  {
   "cell_type": "code",
   "execution_count": 928,
   "metadata": {},
   "outputs": [
    {
     "data": {
      "text/plain": [
       "{'open': 100, 'high': 110, 'low': 95, 'close': 110}"
      ]
     },
     "execution_count": 928,
     "metadata": {},
     "output_type": "execute_result"
    }
   ],
   "source": [
    "data_cp"
   ]
  },
  {
   "cell_type": "code",
   "execution_count": 930,
   "metadata": {},
   "outputs": [
    {
     "data": {
      "text/plain": [
       "{'open': 100, 'high': 110, 'low': 95, 'close': 110, 'xx': 100}"
      ]
     },
     "execution_count": 930,
     "metadata": {},
     "output_type": "execute_result"
    }
   ],
   "source": [
    "data_dcp"
   ]
  },
  {
   "cell_type": "code",
   "execution_count": 931,
   "metadata": {},
   "outputs": [],
   "source": [
    "data['test2'] = 999_1"
   ]
  },
  {
   "cell_type": "code",
   "execution_count": 932,
   "metadata": {},
   "outputs": [
    {
     "data": {
      "text/plain": [
       "{'open': 100, 'high': 110, 'low': 95, 'close': 110, 'xx': 100}"
      ]
     },
     "execution_count": 932,
     "metadata": {},
     "output_type": "execute_result"
    }
   ],
   "source": [
    "data_dcp"
   ]
  },
  {
   "cell_type": "code",
   "execution_count": 936,
   "metadata": {},
   "outputs": [],
   "source": [
    "data_cp = data.copy()"
   ]
  },
  {
   "cell_type": "code",
   "execution_count": 941,
   "metadata": {},
   "outputs": [
    {
     "data": {
      "text/plain": [
       "{'open': 100,\n",
       " 'high': 110,\n",
       " 'low': 95,\n",
       " 'close': 110,\n",
       " 'xx': 100,\n",
       " 'yy': 333,\n",
       " 'test': 999,\n",
       " 'test2': 9991}"
      ]
     },
     "execution_count": 941,
     "metadata": {},
     "output_type": "execute_result"
    }
   ],
   "source": [
    "data_cp"
   ]
  },
  {
   "cell_type": "code",
   "execution_count": 942,
   "metadata": {},
   "outputs": [],
   "source": [
    "data['test3'] = 999_1_2"
   ]
  },
  {
   "cell_type": "code",
   "execution_count": 943,
   "metadata": {},
   "outputs": [
    {
     "data": {
      "text/plain": [
       "{'open': 100,\n",
       " 'high': 110,\n",
       " 'low': 95,\n",
       " 'close': 110,\n",
       " 'xx': 100,\n",
       " 'yy': 333,\n",
       " 'test': 999,\n",
       " 'test2': 9991,\n",
       " 'test3': 99912}"
      ]
     },
     "execution_count": 943,
     "metadata": {},
     "output_type": "execute_result"
    }
   ],
   "source": [
    "data"
   ]
  },
  {
   "cell_type": "code",
   "execution_count": 945,
   "metadata": {},
   "outputs": [
    {
     "data": {
      "text/plain": [
       "{'open': 100,\n",
       " 'high': 110,\n",
       " 'low': 95,\n",
       " 'close': 110,\n",
       " 'xx': 100,\n",
       " 'yy': 333,\n",
       " 'test': 999,\n",
       " 'test2': 9991}"
      ]
     },
     "execution_count": 945,
     "metadata": {},
     "output_type": "execute_result"
    }
   ],
   "source": [
    "data_cp"
   ]
  },
  {
   "cell_type": "code",
   "execution_count": 947,
   "metadata": {},
   "outputs": [],
   "source": [
    "data_dcp = deepcopy(data)"
   ]
  },
  {
   "cell_type": "code",
   "execution_count": 948,
   "metadata": {},
   "outputs": [
    {
     "data": {
      "text/plain": [
       "{'open': 100,\n",
       " 'high': 110,\n",
       " 'low': 95,\n",
       " 'close': 110,\n",
       " 'xx': 100,\n",
       " 'yy': 333,\n",
       " 'test': 999,\n",
       " 'test2': 9991,\n",
       " 'test3': 99912}"
      ]
     },
     "execution_count": 948,
     "metadata": {},
     "output_type": "execute_result"
    }
   ],
   "source": [
    "data_dcp"
   ]
  },
  {
   "cell_type": "code",
   "execution_count": 949,
   "metadata": {},
   "outputs": [],
   "source": [
    "data['test4'] = 888"
   ]
  },
  {
   "cell_type": "code",
   "execution_count": 950,
   "metadata": {},
   "outputs": [
    {
     "data": {
      "text/plain": [
       "{'open': 100,\n",
       " 'high': 110,\n",
       " 'low': 95,\n",
       " 'close': 110,\n",
       " 'xx': 100,\n",
       " 'yy': 333,\n",
       " 'test': 999,\n",
       " 'test2': 9991,\n",
       " 'test3': 99912,\n",
       " 'test4': 888}"
      ]
     },
     "execution_count": 950,
     "metadata": {},
     "output_type": "execute_result"
    }
   ],
   "source": [
    "data"
   ]
  },
  {
   "cell_type": "code",
   "execution_count": 951,
   "metadata": {},
   "outputs": [
    {
     "data": {
      "text/plain": [
       "{'open': 100,\n",
       " 'high': 110,\n",
       " 'low': 95,\n",
       " 'close': 110,\n",
       " 'xx': 100,\n",
       " 'yy': 333,\n",
       " 'test': 999,\n",
       " 'test2': 9991,\n",
       " 'test3': 99912}"
      ]
     },
     "execution_count": 951,
     "metadata": {},
     "output_type": "execute_result"
    }
   ],
   "source": [
    "data_dcp"
   ]
  },
  {
   "cell_type": "code",
   "execution_count": 953,
   "metadata": {},
   "outputs": [
    {
     "data": {
      "text/plain": [
       "False"
      ]
     },
     "execution_count": 953,
     "metadata": {},
     "output_type": "execute_result"
    }
   ],
   "source": [
    "data_cp is data"
   ]
  },
  {
   "cell_type": "code",
   "execution_count": 954,
   "metadata": {},
   "outputs": [
    {
     "data": {
      "text/plain": [
       "{'a': 1, 'b': 2}"
      ]
     },
     "execution_count": 954,
     "metadata": {},
     "output_type": "execute_result"
    }
   ],
   "source": [
    "d = dict(a=1,b=2)\n",
    "d"
   ]
  },
  {
   "cell_type": "code",
   "execution_count": 955,
   "metadata": {},
   "outputs": [
    {
     "ename": "SyntaxError",
     "evalue": "expression cannot contain assignment, perhaps you meant \"==\"? (2850104239.py, line 1)",
     "output_type": "error",
     "traceback": [
      "\u001b[1;36m  Cell \u001b[1;32mIn[955], line 1\u001b[1;36m\u001b[0m\n\u001b[1;33m    d = dict(3='odd')\u001b[0m\n\u001b[1;37m             ^\u001b[0m\n\u001b[1;31mSyntaxError\u001b[0m\u001b[1;31m:\u001b[0m expression cannot contain assignment, perhaps you meant \"==\"?\n"
     ]
    }
   ],
   "source": [
    "d = dict(3='odd')"
   ]
  },
  {
   "cell_type": "code",
   "execution_count": 956,
   "metadata": {},
   "outputs": [],
   "source": [
    "d[3] = 'odd'"
   ]
  },
  {
   "cell_type": "code",
   "execution_count": 957,
   "metadata": {},
   "outputs": [
    {
     "data": {
      "text/plain": [
       "{'a': 1, 'b': 2, 3: 'odd'}"
      ]
     },
     "execution_count": 957,
     "metadata": {},
     "output_type": "execute_result"
    }
   ],
   "source": [
    "d"
   ]
  },
  {
   "cell_type": "code",
   "execution_count": 958,
   "metadata": {},
   "outputs": [
    {
     "data": {
      "text/plain": [
       "dict_keys(['a', 'b', 3])"
      ]
     },
     "execution_count": 958,
     "metadata": {},
     "output_type": "execute_result"
    }
   ],
   "source": [
    "d.keys()"
   ]
  },
  {
   "cell_type": "code",
   "execution_count": 959,
   "metadata": {},
   "outputs": [],
   "source": [
    "d.clear()"
   ]
  },
  {
   "cell_type": "code",
   "execution_count": 960,
   "metadata": {},
   "outputs": [
    {
     "data": {
      "text/plain": [
       "{}"
      ]
     },
     "execution_count": 960,
     "metadata": {},
     "output_type": "execute_result"
    }
   ],
   "source": [
    "d"
   ]
  },
  {
   "cell_type": "code",
   "execution_count": 961,
   "metadata": {},
   "outputs": [
    {
     "data": {
      "text/plain": [
       "{'open': 100,\n",
       " 'high': 110,\n",
       " 'low': 95,\n",
       " 'close': 110,\n",
       " 'xx': 100,\n",
       " 'yy': 333,\n",
       " 'test': 999,\n",
       " 'test2': 9991,\n",
       " 'test3': 99912,\n",
       " 'test4': 888}"
      ]
     },
     "execution_count": 961,
     "metadata": {},
     "output_type": "execute_result"
    }
   ],
   "source": [
    "data"
   ]
  },
  {
   "cell_type": "code",
   "execution_count": 962,
   "metadata": {},
   "outputs": [
    {
     "data": {
      "text/plain": [
       "{'open': 0, 'close': 0, 'test': 0}"
      ]
     },
     "execution_count": 962,
     "metadata": {},
     "output_type": "execute_result"
    }
   ],
   "source": [
    "d = dict.fromkeys(['open','close','test'],0)\n",
    "d"
   ]
  },
  {
   "cell_type": "code",
   "execution_count": 971,
   "metadata": {},
   "outputs": [
    {
     "data": {
      "text/plain": [
       "{'p': 10, 'y': 10, 't': 10, 'h': 10, 'o': 10, 'n': 10, ' ': 10, '1': 10}"
      ]
     },
     "execution_count": 971,
     "metadata": {},
     "output_type": "execute_result"
    }
   ],
   "source": [
    "d = dict.fromkeys('python 1',10)\n",
    "d"
   ]
  },
  {
   "cell_type": "code",
   "execution_count": 969,
   "metadata": {},
   "outputs": [
    {
     "data": {
      "text/plain": [
       "{'a': 100}"
      ]
     },
     "execution_count": 969,
     "metadata": {},
     "output_type": "execute_result"
    }
   ],
   "source": [
    "d = dict.fromkeys(['a','a'],100)\n",
    "d"
   ]
  },
  {
   "cell_type": "code",
   "execution_count": 975,
   "metadata": {},
   "outputs": [
    {
     "data": {
      "text/plain": [
       "['p', 'y', 't', 'h', 'o', 'n', ' ', '1']"
      ]
     },
     "execution_count": 975,
     "metadata": {},
     "output_type": "execute_result"
    }
   ],
   "source": [
    "a = list(d)\n",
    "type(a)\n",
    "a"
   ]
  },
  {
   "cell_type": "code",
   "execution_count": 976,
   "metadata": {},
   "outputs": [
    {
     "data": {
      "text/plain": [
       "dict_keys(['p', 'y', 't', 'h', 'o', 'n', ' ', '1'])"
      ]
     },
     "execution_count": 976,
     "metadata": {},
     "output_type": "execute_result"
    }
   ],
   "source": [
    "d.keys()"
   ]
  },
  {
   "cell_type": "code",
   "execution_count": 978,
   "metadata": {},
   "outputs": [
    {
     "data": {
      "text/plain": [
       "{'soma': 20, 'shekar': 20, 'vah': 20}"
      ]
     },
     "execution_count": 978,
     "metadata": {},
     "output_type": "execute_result"
    }
   ],
   "source": [
    "l = ['soma','shekar','vah']\n",
    "d = dict.fromkeys(l,20)\n",
    "d"
   ]
  },
  {
   "cell_type": "code",
   "execution_count": 979,
   "metadata": {},
   "outputs": [
    {
     "data": {
      "text/plain": [
       "['soma', 'shekar', 'vah']"
      ]
     },
     "execution_count": 979,
     "metadata": {},
     "output_type": "execute_result"
    }
   ],
   "source": [
    "list(d)"
   ]
  },
  {
   "cell_type": "code",
   "execution_count": 982,
   "metadata": {},
   "outputs": [
    {
     "data": {
      "text/plain": [
       "({}, {})"
      ]
     },
     "execution_count": 982,
     "metadata": {},
     "output_type": "execute_result"
    }
   ],
   "source": [
    "d1 = {}\n",
    "d2 = dict()\n",
    "d1, d2"
   ]
  },
  {
   "cell_type": "code",
   "execution_count": 983,
   "metadata": {},
   "outputs": [
    {
     "data": {
      "text/plain": [
       "{'p': 100,\n",
       " 'y': 100,\n",
       " 't': 100,\n",
       " 'h': 100,\n",
       " 'o': 100,\n",
       " 'n': 100,\n",
       " ' ': 100,\n",
       " 'i': 100,\n",
       " 's': 100,\n",
       " 'a': 100,\n",
       " 'w': 100,\n",
       " 'm': 100,\n",
       " 'e': 100}"
      ]
     },
     "execution_count": 983,
     "metadata": {},
     "output_type": "execute_result"
    }
   ],
   "source": [
    "d = dict.fromkeys('python is awsome',100)\n",
    "d"
   ]
  },
  {
   "cell_type": "code",
   "execution_count": 984,
   "metadata": {},
   "outputs": [
    {
     "data": {
      "text/plain": [
       "100"
      ]
     },
     "execution_count": 984,
     "metadata": {},
     "output_type": "execute_result"
    }
   ],
   "source": [
    "d[' ']"
   ]
  },
  {
   "cell_type": "code",
   "execution_count": 986,
   "metadata": {},
   "outputs": [
    {
     "data": {
      "text/plain": [
       "100"
      ]
     },
     "execution_count": 986,
     "metadata": {},
     "output_type": "execute_result"
    }
   ],
   "source": [
    "d.get('a',1000)"
   ]
  },
  {
   "cell_type": "code",
   "execution_count": 987,
   "metadata": {},
   "outputs": [
    {
     "data": {
      "text/plain": [
       "1000"
      ]
     },
     "execution_count": 987,
     "metadata": {},
     "output_type": "execute_result"
    }
   ],
   "source": [
    "d.get('z',1000)"
   ]
  },
  {
   "cell_type": "code",
   "execution_count": 985,
   "metadata": {},
   "outputs": [],
   "source": [
    "transactions = [\n",
    "    {'item': 'widget', 'trans_type': 'sale', 'quantity': 10},\n",
    "    {'item': 'widget', 'trans_type': 'sale', 'quantity': 5},\n",
    "    {'item': 'widget', 'trans_type': 'refund', 'quantity': 2},\n",
    "    {'item': 'license', 'trans_type': 'sale', 'quantity': 1},\n",
    "    {'item': 'license', 'trans_type': 'sale', 'quantity': 1},\n",
    "    {'item': 'license', 'trans_type': 'refund', 'quantity': 1},\n",
    "]"
   ]
  },
  {
   "cell_type": "code",
   "execution_count": 993,
   "metadata": {},
   "outputs": [
    {
     "data": {
      "text/plain": [
       "{'widget': 15, 'license': 2}"
      ]
     },
     "execution_count": 993,
     "metadata": {},
     "output_type": "execute_result"
    }
   ],
   "source": [
    "tot_sold = {}\n",
    "for transaction in transactions:\n",
    "    item = transaction['item']\n",
    "    is_sale = True if transaction['trans_type'] == 'sale' else False\n",
    "    qty = transaction['quantity']\n",
    "\n",
    "    if is_sale:\n",
    "        if item in tot_sold:\n",
    "            tot_sold[item] = tot_sold[item]+qty \n",
    "        else:\n",
    "            tot_sold[item] = qty\n",
    "\n",
    "tot_sold\n"
   ]
  },
  {
   "cell_type": "code",
   "execution_count": 996,
   "metadata": {},
   "outputs": [
    {
     "data": {
      "text/plain": [
       "{'widget': 15, 'license': 2}"
      ]
     },
     "execution_count": 996,
     "metadata": {},
     "output_type": "execute_result"
    }
   ],
   "source": [
    "tot_sold = {}\n",
    "for transaction in transactions:\n",
    "    item = transaction['item']\n",
    "    is_sale = True if transaction['trans_type'] == 'sale' else False\n",
    "    qty = transaction['quantity']\n",
    "\n",
    "    if is_sale:\n",
    "        tot_sold[item] = tot_sold.get(item,0) + qty\n",
    "\n",
    "tot_sold"
   ]
  },
  {
   "cell_type": "code",
   "execution_count": 998,
   "metadata": {},
   "outputs": [],
   "source": [
    "d = dict(a=1,b=2)"
   ]
  },
  {
   "cell_type": "code",
   "execution_count": 1000,
   "metadata": {},
   "outputs": [
    {
     "data": {
      "text/plain": [
       "{'a': 1, 'b': 2}"
      ]
     },
     "execution_count": 1000,
     "metadata": {},
     "output_type": "execute_result"
    }
   ],
   "source": [
    "d"
   ]
  },
  {
   "cell_type": "code",
   "execution_count": 999,
   "metadata": {},
   "outputs": [
    {
     "data": {
      "text/plain": [
       "1"
      ]
     },
     "execution_count": 999,
     "metadata": {},
     "output_type": "execute_result"
    }
   ],
   "source": [
    "d.get('a')"
   ]
  },
  {
   "cell_type": "code",
   "execution_count": 1001,
   "metadata": {},
   "outputs": [],
   "source": [
    "d1 = {'a': 1, 'b': 2}\n",
    "d2 = {'c': 3, 'd': 4}"
   ]
  },
  {
   "cell_type": "code",
   "execution_count": 1002,
   "metadata": {},
   "outputs": [],
   "source": [
    "d1.update(d2)"
   ]
  },
  {
   "cell_type": "code",
   "execution_count": 1005,
   "metadata": {},
   "outputs": [
    {
     "name": "stdout",
     "output_type": "stream",
     "text": [
      "\u001b[1;31mDocstring:\u001b[0m\n",
      "D.update([E, ]**F) -> None.  Update D from dict/iterable E and F.\n",
      "If E is present and has a .keys() method, then does:  for k in E: D[k] = E[k]\n",
      "If E is present and lacks a .keys() method, then does:  for k, v in E: D[k] = v\n",
      "In either case, this is followed by: for k in F:  D[k] = F[k]\n",
      "\u001b[1;31mType:\u001b[0m      builtin_function_or_method"
     ]
    }
   ],
   "source": [
    "d1.update?"
   ]
  },
  {
   "cell_type": "code",
   "execution_count": 1003,
   "metadata": {},
   "outputs": [
    {
     "data": {
      "text/plain": [
       "{'c': 3, 'd': 4}"
      ]
     },
     "execution_count": 1003,
     "metadata": {},
     "output_type": "execute_result"
    }
   ],
   "source": [
    "d2"
   ]
  },
  {
   "cell_type": "code",
   "execution_count": 1004,
   "metadata": {},
   "outputs": [
    {
     "data": {
      "text/plain": [
       "{'a': 1, 'b': 2, 'c': 3, 'd': 4}"
      ]
     },
     "execution_count": 1004,
     "metadata": {},
     "output_type": "execute_result"
    }
   ],
   "source": [
    "d1"
   ]
  },
  {
   "cell_type": "code",
   "execution_count": 1006,
   "metadata": {},
   "outputs": [],
   "source": [
    "d = {'a':1,'b':2}\n",
    "d.update({'b':200,'c':300})"
   ]
  },
  {
   "cell_type": "code",
   "execution_count": 1007,
   "metadata": {},
   "outputs": [
    {
     "data": {
      "text/plain": [
       "{'a': 1, 'b': 200, 'c': 300}"
      ]
     },
     "execution_count": 1007,
     "metadata": {},
     "output_type": "execute_result"
    }
   ],
   "source": [
    "d"
   ]
  },
  {
   "cell_type": "code",
   "execution_count": 1008,
   "metadata": {},
   "outputs": [],
   "source": [
    "s = {'a','b','c'}"
   ]
  },
  {
   "cell_type": "code",
   "execution_count": 1009,
   "metadata": {},
   "outputs": [
    {
     "data": {
      "text/plain": [
       "set"
      ]
     },
     "execution_count": 1009,
     "metadata": {},
     "output_type": "execute_result"
    }
   ],
   "source": [
    "type(s)"
   ]
  },
  {
   "cell_type": "code",
   "execution_count": 1010,
   "metadata": {},
   "outputs": [],
   "source": [
    "keys = 'open', 'high', 'low', 'close'"
   ]
  },
  {
   "cell_type": "code",
   "execution_count": 1011,
   "metadata": {},
   "outputs": [],
   "source": [
    "d = dict.fromkeys(keys,0)"
   ]
  },
  {
   "cell_type": "code",
   "execution_count": 1012,
   "metadata": {},
   "outputs": [
    {
     "data": {
      "text/plain": [
       "{'open': 0, 'high': 0, 'low': 0, 'close': 0}"
      ]
     },
     "execution_count": 1012,
     "metadata": {},
     "output_type": "execute_result"
    }
   ],
   "source": [
    "d"
   ]
  },
  {
   "cell_type": "code",
   "execution_count": 1013,
   "metadata": {},
   "outputs": [
    {
     "data": {
      "text/plain": [
       "{'a': 0, 'b': 0, 'c': 0}"
      ]
     },
     "execution_count": 1013,
     "metadata": {},
     "output_type": "execute_result"
    }
   ],
   "source": [
    "d1 = dict.fromkeys('abc',0) \n",
    "d1"
   ]
  },
  {
   "cell_type": "code",
   "execution_count": 1016,
   "metadata": {},
   "outputs": [
    {
     "data": {
      "text/plain": [
       "1000"
      ]
     },
     "execution_count": 1016,
     "metadata": {},
     "output_type": "execute_result"
    }
   ],
   "source": [
    "d.get('open',100)\n",
    "d.get('x',1000)"
   ]
  },
  {
   "cell_type": "code",
   "execution_count": 1017,
   "metadata": {},
   "outputs": [
    {
     "data": {
      "text/plain": [
       "{'open': 0, 'high': 0, 'low': 0, 'close': 0}"
      ]
     },
     "execution_count": 1017,
     "metadata": {},
     "output_type": "execute_result"
    }
   ],
   "source": [
    "d"
   ]
  },
  {
   "cell_type": "code",
   "execution_count": 1020,
   "metadata": {},
   "outputs": [
    {
     "data": {
      "text/plain": [
       "{'a', 'b', 'c'}"
      ]
     },
     "execution_count": 1020,
     "metadata": {},
     "output_type": "execute_result"
    }
   ],
   "source": [
    "s = set('abc')\n",
    "s"
   ]
  },
  {
   "cell_type": "code",
   "execution_count": 1025,
   "metadata": {},
   "outputs": [
    {
     "data": {
      "text/plain": [
       "{'h', 'n', 'o', 'p', 't', 'y'}"
      ]
     },
     "execution_count": 1025,
     "metadata": {},
     "output_type": "execute_result"
    }
   ],
   "source": [
    "s = set('python')\n",
    "s"
   ]
  },
  {
   "cell_type": "code",
   "execution_count": 1032,
   "metadata": {},
   "outputs": [
    {
     "data": {
      "text/plain": [
       "{'h', 'n', 'o', 'p', 't', 'y'}"
      ]
     },
     "execution_count": 1032,
     "metadata": {},
     "output_type": "execute_result"
    }
   ],
   "source": [
    "s"
   ]
  },
  {
   "cell_type": "code",
   "execution_count": 1035,
   "metadata": {},
   "outputs": [
    {
     "data": {
      "text/plain": [
       "{'a', 'b', 'n'}"
      ]
     },
     "execution_count": 1035,
     "metadata": {},
     "output_type": "execute_result"
    }
   ],
   "source": [
    "s = set('banana')\n",
    "s"
   ]
  },
  {
   "cell_type": "code",
   "execution_count": 1036,
   "metadata": {},
   "outputs": [
    {
     "data": {
      "text/plain": [
       "dict"
      ]
     },
     "execution_count": 1036,
     "metadata": {},
     "output_type": "execute_result"
    }
   ],
   "source": [
    "s = {}\n",
    "type(s)"
   ]
  },
  {
   "cell_type": "code",
   "execution_count": 1037,
   "metadata": {},
   "outputs": [
    {
     "data": {
      "text/plain": [
       "set"
      ]
     },
     "execution_count": 1037,
     "metadata": {},
     "output_type": "execute_result"
    }
   ],
   "source": [
    "s = set()\n",
    "type(s)"
   ]
  },
  {
   "cell_type": "code",
   "execution_count": 1038,
   "metadata": {},
   "outputs": [
    {
     "data": {
      "text/plain": [
       "(True, False)"
      ]
     },
     "execution_count": 1038,
     "metadata": {},
     "output_type": "execute_result"
    }
   ],
   "source": [
    "s = set('python')\n",
    "'p' in s, 'j' in s"
   ]
  },
  {
   "cell_type": "code",
   "execution_count": 1042,
   "metadata": {},
   "outputs": [
    {
     "name": "stdout",
     "output_type": "stream",
     "text": [
      "p y h n o t "
     ]
    }
   ],
   "source": [
    "for i in s:\n",
    "    print(i,end=' ')"
   ]
  },
  {
   "cell_type": "code",
   "execution_count": 1047,
   "metadata": {},
   "outputs": [],
   "source": [
    "s1 = {'a', 'b', 'c'}\n",
    "s2 = {True, False}\n",
    "s3 = {'a', 100, 200}"
   ]
  },
  {
   "cell_type": "code",
   "execution_count": 1046,
   "metadata": {},
   "outputs": [
    {
     "data": {
      "text/plain": [
       "False"
      ]
     },
     "execution_count": 1046,
     "metadata": {},
     "output_type": "execute_result"
    }
   ],
   "source": [
    "s1.isdisjoint(s2)"
   ]
  },
  {
   "cell_type": "code",
   "execution_count": 1050,
   "metadata": {},
   "outputs": [
    {
     "data": {
      "text/plain": [
       "False"
      ]
     },
     "execution_count": 1050,
     "metadata": {},
     "output_type": "execute_result"
    }
   ],
   "source": [
    "s3.isdisjoint(s1)"
   ]
  },
  {
   "cell_type": "code",
   "execution_count": 1052,
   "metadata": {},
   "outputs": [
    {
     "data": {
      "text/plain": [
       "{100}"
      ]
     },
     "execution_count": 1052,
     "metadata": {},
     "output_type": "execute_result"
    }
   ],
   "source": [
    "s = set()\n",
    "s.add(100)\n",
    "s"
   ]
  },
  {
   "cell_type": "code",
   "execution_count": 1054,
   "metadata": {},
   "outputs": [
    {
     "data": {
      "text/plain": [
       "{100}"
      ]
     },
     "execution_count": 1054,
     "metadata": {},
     "output_type": "execute_result"
    }
   ],
   "source": [
    "s.add(100)\n",
    "s"
   ]
  },
  {
   "cell_type": "code",
   "execution_count": 1060,
   "metadata": {},
   "outputs": [
    {
     "data": {
      "text/plain": [
       "{'a', 'b', 'c'}"
      ]
     },
     "execution_count": 1060,
     "metadata": {},
     "output_type": "execute_result"
    }
   ],
   "source": [
    "s = set('abc')\n",
    "s"
   ]
  },
  {
   "cell_type": "code",
   "execution_count": 1058,
   "metadata": {},
   "outputs": [
    {
     "data": {
      "text/plain": [
       "{'c'}"
      ]
     },
     "execution_count": 1058,
     "metadata": {},
     "output_type": "execute_result"
    }
   ],
   "source": [
    "s.remove('b')\n",
    "s"
   ]
  },
  {
   "cell_type": "code",
   "execution_count": 1059,
   "metadata": {},
   "outputs": [
    {
     "data": {
      "text/plain": [
       "{'c'}"
      ]
     },
     "execution_count": 1059,
     "metadata": {},
     "output_type": "execute_result"
    }
   ],
   "source": [
    "s"
   ]
  },
  {
   "cell_type": "code",
   "execution_count": 1061,
   "metadata": {},
   "outputs": [],
   "source": [
    "s.discard('a')"
   ]
  },
  {
   "cell_type": "code",
   "execution_count": 1063,
   "metadata": {},
   "outputs": [
    {
     "data": {
      "text/plain": [
       "{'b', 'c'}"
      ]
     },
     "execution_count": 1063,
     "metadata": {},
     "output_type": "execute_result"
    }
   ],
   "source": [
    "s"
   ]
  },
  {
   "cell_type": "code",
   "execution_count": 1065,
   "metadata": {},
   "outputs": [
    {
     "data": {
      "text/plain": [
       "{'b', 'c'}"
      ]
     },
     "execution_count": 1065,
     "metadata": {},
     "output_type": "execute_result"
    }
   ],
   "source": [
    "s.discard('x')\n",
    "s"
   ]
  },
  {
   "cell_type": "code",
   "execution_count": 1066,
   "metadata": {},
   "outputs": [
    {
     "ename": "KeyError",
     "evalue": "'x'",
     "output_type": "error",
     "traceback": [
      "\u001b[1;31m---------------------------------------------------------------------------\u001b[0m",
      "\u001b[1;31mKeyError\u001b[0m                                  Traceback (most recent call last)",
      "Cell \u001b[1;32mIn[1066], line 1\u001b[0m\n\u001b[1;32m----> 1\u001b[0m \u001b[43ms\u001b[49m\u001b[38;5;241;43m.\u001b[39;49m\u001b[43mremove\u001b[49m\u001b[43m(\u001b[49m\u001b[38;5;124;43m'\u001b[39;49m\u001b[38;5;124;43mx\u001b[39;49m\u001b[38;5;124;43m'\u001b[39;49m\u001b[43m)\u001b[49m\n\u001b[0;32m      2\u001b[0m s\n",
      "\u001b[1;31mKeyError\u001b[0m: 'x'"
     ]
    }
   ],
   "source": [
    "s.remove('x')\n",
    "s"
   ]
  },
  {
   "cell_type": "code",
   "execution_count": 1067,
   "metadata": {},
   "outputs": [],
   "source": [
    "s1 = set('abc')\n",
    "s2 = set('abcd')"
   ]
  },
  {
   "cell_type": "code",
   "execution_count": 1068,
   "metadata": {},
   "outputs": [
    {
     "data": {
      "text/plain": [
       "True"
      ]
     },
     "execution_count": 1068,
     "metadata": {},
     "output_type": "execute_result"
    }
   ],
   "source": [
    "s1<s2"
   ]
  },
  {
   "cell_type": "code",
   "execution_count": 1069,
   "metadata": {},
   "outputs": [
    {
     "data": {
      "text/plain": [
       "False"
      ]
     },
     "execution_count": 1069,
     "metadata": {},
     "output_type": "execute_result"
    }
   ],
   "source": [
    "s1>s2"
   ]
  },
  {
   "cell_type": "code",
   "execution_count": 1070,
   "metadata": {},
   "outputs": [
    {
     "data": {
      "text/plain": [
       "True"
      ]
     },
     "execution_count": 1070,
     "metadata": {},
     "output_type": "execute_result"
    }
   ],
   "source": [
    "s1<=s2"
   ]
  },
  {
   "cell_type": "code",
   "execution_count": 1071,
   "metadata": {},
   "outputs": [
    {
     "data": {
      "text/plain": [
       "{'a', 'b', 'c', 'd'}"
      ]
     },
     "execution_count": 1071,
     "metadata": {},
     "output_type": "execute_result"
    }
   ],
   "source": [
    "s1 | s2"
   ]
  },
  {
   "cell_type": "code",
   "execution_count": 1072,
   "metadata": {},
   "outputs": [
    {
     "data": {
      "text/plain": [
       "{'a', 'b', 'c'}"
      ]
     },
     "execution_count": 1072,
     "metadata": {},
     "output_type": "execute_result"
    }
   ],
   "source": [
    "s1 &s2"
   ]
  },
  {
   "cell_type": "code",
   "execution_count": 1073,
   "metadata": {},
   "outputs": [
    {
     "data": {
      "text/plain": [
       "set()"
      ]
     },
     "execution_count": 1073,
     "metadata": {},
     "output_type": "execute_result"
    }
   ],
   "source": [
    "s1 - s2"
   ]
  },
  {
   "cell_type": "code",
   "execution_count": 1074,
   "metadata": {},
   "outputs": [],
   "source": [
    "str_1 = 'python is an awesome language!'\n",
    "str_2 = 'a python is also a snake.'"
   ]
  },
  {
   "cell_type": "code",
   "execution_count": 1076,
   "metadata": {},
   "outputs": [
    {
     "data": {
      "text/plain": [
       "30"
      ]
     },
     "execution_count": 1076,
     "metadata": {},
     "output_type": "execute_result"
    }
   ],
   "source": [
    "len(str_1)"
   ]
  },
  {
   "cell_type": "code",
   "execution_count": 1077,
   "metadata": {},
   "outputs": [
    {
     "data": {
      "text/plain": [
       "17"
      ]
     },
     "execution_count": 1077,
     "metadata": {},
     "output_type": "execute_result"
    }
   ],
   "source": [
    "set_1 = set(str_1)\n",
    "len(set_1)"
   ]
  },
  {
   "cell_type": "code",
   "execution_count": 1078,
   "metadata": {},
   "outputs": [],
   "source": [
    "set_2 = set(str_2)"
   ]
  },
  {
   "cell_type": "code",
   "execution_count": 1079,
   "metadata": {},
   "outputs": [
    {
     "data": {
      "text/plain": [
       "{' ', 'a', 'e', 'h', 'i', 'l', 'n', 'o', 'p', 's', 't', 'y'}"
      ]
     },
     "execution_count": 1079,
     "metadata": {},
     "output_type": "execute_result"
    }
   ],
   "source": [
    "set_1 & set_2"
   ]
  },
  {
   "cell_type": "code",
   "execution_count": 1080,
   "metadata": {},
   "outputs": [
    {
     "data": {
      "text/plain": [
       "{' ',\n",
       " '!',\n",
       " '.',\n",
       " 'a',\n",
       " 'e',\n",
       " 'g',\n",
       " 'h',\n",
       " 'i',\n",
       " 'k',\n",
       " 'l',\n",
       " 'm',\n",
       " 'n',\n",
       " 'o',\n",
       " 'p',\n",
       " 's',\n",
       " 't',\n",
       " 'u',\n",
       " 'w',\n",
       " 'y'}"
      ]
     },
     "execution_count": 1080,
     "metadata": {},
     "output_type": "execute_result"
    }
   ],
   "source": [
    "set_1 | set_2"
   ]
  },
  {
   "cell_type": "code",
   "execution_count": 1081,
   "metadata": {},
   "outputs": [],
   "source": [
    "s1 = {'FB', 'AMZN', 'AAPL', 'NFLX', 'GOOG', 'MSFT'}\n",
    "s2 = {'BABA', 'WMT', 'COST'}\n",
    "s3 = {'TSLA', 'F', 'GM'}"
   ]
  },
  {
   "cell_type": "code",
   "execution_count": 1083,
   "metadata": {},
   "outputs": [
    {
     "data": {
      "text/plain": [
       "12"
      ]
     },
     "execution_count": 1083,
     "metadata": {},
     "output_type": "execute_result"
    }
   ],
   "source": [
    "len(s1|s2|s3)"
   ]
  },
  {
   "cell_type": "code",
   "execution_count": 1086,
   "metadata": {},
   "outputs": [
    {
     "data": {
      "text/plain": [
       "12"
      ]
     },
     "execution_count": 1086,
     "metadata": {},
     "output_type": "execute_result"
    }
   ],
   "source": [
    "len(list(s1|s2|s3))"
   ]
  },
  {
   "cell_type": "code",
   "execution_count": 1087,
   "metadata": {},
   "outputs": [],
   "source": [
    "text = 'The quick brown fox jumps over the lazy dog'"
   ]
  },
  {
   "cell_type": "code",
   "execution_count": 1088,
   "metadata": {},
   "outputs": [
    {
     "data": {
      "text/plain": [
       "{'A',\n",
       " 'B',\n",
       " 'C',\n",
       " 'D',\n",
       " 'E',\n",
       " 'F',\n",
       " 'G',\n",
       " 'H',\n",
       " 'I',\n",
       " 'J',\n",
       " 'K',\n",
       " 'L',\n",
       " 'M',\n",
       " 'N',\n",
       " 'O',\n",
       " 'P',\n",
       " 'Q',\n",
       " 'R',\n",
       " 'S',\n",
       " 'U',\n",
       " 'V',\n",
       " 'W',\n",
       " 'X',\n",
       " 'Y',\n",
       " 'Z'}"
      ]
     },
     "execution_count": 1088,
     "metadata": {},
     "output_type": "execute_result"
    }
   ],
   "source": [
    "import string\n",
    "set(string.ascii_letters)-set(text)"
   ]
  },
  {
   "cell_type": "code",
   "execution_count": 1092,
   "metadata": {},
   "outputs": [],
   "source": [
    "text = 'aBcDeFgHiJkKlLmMnNoOpPqQrRsStTuUvVwW'"
   ]
  },
  {
   "cell_type": "code",
   "execution_count": 1093,
   "metadata": {},
   "outputs": [
    {
     "data": {
      "text/plain": [
       "{'x', 'y', 'z'}"
      ]
     },
     "execution_count": 1093,
     "metadata": {},
     "output_type": "execute_result"
    }
   ],
   "source": [
    "set(string.ascii_letters.casefold()) - set(text.casefold())"
   ]
  },
  {
   "cell_type": "code",
   "execution_count": 1094,
   "metadata": {},
   "outputs": [],
   "source": [
    "l = [1,2,3,4,5,6,7,8,9,10]"
   ]
  },
  {
   "cell_type": "code",
   "execution_count": 1109,
   "metadata": {},
   "outputs": [
    {
     "data": {
      "text/plain": [
       "[2, 4, 6, 8, 10]"
      ]
     },
     "execution_count": 1109,
     "metadata": {},
     "output_type": "execute_result"
    }
   ],
   "source": [
    "l[1::2]"
   ]
  },
  {
   "cell_type": "code",
   "execution_count": 1117,
   "metadata": {},
   "outputs": [
    {
     "data": {
      "text/plain": [
       "[0.0, 1.0, 1.0, 1.4142135623730951]"
      ]
     },
     "execution_count": 1117,
     "metadata": {},
     "output_type": "execute_result"
    }
   ],
   "source": [
    "from math import sqrt \n",
    "vectors = [(0,0), (0,1), (1, 0), (1, 1)]\n",
    "[(sqrt(vector[0] ** 2 + vector[1] ** 2)) for vector in vectors]"
   ]
  },
  {
   "cell_type": "code",
   "execution_count": 1118,
   "metadata": {},
   "outputs": [
    {
     "data": {
      "text/plain": [
       "['Python', 'is', 'an', 'awesome', 'language']"
      ]
     },
     "execution_count": 1118,
     "metadata": {},
     "output_type": "execute_result"
    }
   ],
   "source": [
    "string =  'Python is an awesome language'.split( )\n",
    "string"
   ]
  },
  {
   "cell_type": "code",
   "execution_count": 1121,
   "metadata": {},
   "outputs": [
    {
     "data": {
      "text/plain": [
       "['Python', 'awesome', 'language']"
      ]
     },
     "execution_count": 1121,
     "metadata": {},
     "output_type": "execute_result"
    }
   ],
   "source": [
    "[s for s in string if len(s)>5]"
   ]
  },
  {
   "cell_type": "code",
   "execution_count": 1123,
   "metadata": {},
   "outputs": [
    {
     "name": "stdout",
     "output_type": "stream",
     "text": [
      "['Python', 'awesome', 'language']\n"
     ]
    }
   ],
   "source": [
    "str = []\n",
    "for s in string:\n",
    "    if len(s) > 5:\n",
    "        str.append(s)\n",
    "print(str)"
   ]
  },
  {
   "cell_type": "code",
   "execution_count": 1125,
   "metadata": {},
   "outputs": [
    {
     "data": {
      "text/plain": [
       "[2, 4, 6, 8, 10]"
      ]
     },
     "execution_count": 1125,
     "metadata": {},
     "output_type": "execute_result"
    }
   ],
   "source": [
    "l\n",
    "[i for i in l if i%2==0]"
   ]
  },
  {
   "cell_type": "code",
   "execution_count": 1126,
   "metadata": {},
   "outputs": [],
   "source": [
    "sales = {\n",
    "    'widget 1': 0,\n",
    "    'widget 2': 5,\n",
    "    'widget 3': 10,\n",
    "    'widget 4': 2\n",
    "}"
   ]
  },
  {
   "cell_type": "code",
   "execution_count": 1137,
   "metadata": {},
   "outputs": [
    {
     "name": "stdout",
     "output_type": "stream",
     "text": [
      "['widget 2', 'widget 3']\n"
     ]
    }
   ],
   "source": [
    "filwid = []\n",
    "for k,v in sales.items():\n",
    "    if v>=5:\n",
    "        filwid.append(k)\n",
    "print(filwid)\n"
   ]
  },
  {
   "cell_type": "code",
   "execution_count": 1145,
   "metadata": {},
   "outputs": [
    {
     "data": {
      "text/plain": [
       "['widget 2', 'widget 3']"
      ]
     },
     "execution_count": 1145,
     "metadata": {},
     "output_type": "execute_result"
    }
   ],
   "source": [
    "[k for (k,v) in sales.items() if v>=5]"
   ]
  },
  {
   "cell_type": "code",
   "execution_count": 1150,
   "metadata": {},
   "outputs": [
    {
     "data": {
      "text/plain": [
       "[[0, 0, 0], [0, 0, 0], [0, 0, 0]]"
      ]
     },
     "execution_count": 1150,
     "metadata": {},
     "output_type": "execute_result"
    }
   ],
   "source": [
    "m = [[0,0,0] for _ in range(3)]\n",
    "m"
   ]
  },
  {
   "cell_type": "code",
   "execution_count": 1151,
   "metadata": {},
   "outputs": [
    {
     "data": {
      "text/plain": [
       "False"
      ]
     },
     "execution_count": 1151,
     "metadata": {},
     "output_type": "execute_result"
    }
   ],
   "source": [
    "m[0] is  m[1]"
   ]
  },
  {
   "cell_type": "code",
   "execution_count": 1152,
   "metadata": {},
   "outputs": [
    {
     "data": {
      "text/plain": [
       "[[100, 0, 0], [0, 0, 0], [0, 0, 0]]"
      ]
     },
     "execution_count": 1152,
     "metadata": {},
     "output_type": "execute_result"
    }
   ],
   "source": [
    "m[0][0]=100\n",
    "m"
   ]
  },
  {
   "cell_type": "code",
   "execution_count": 1154,
   "metadata": {},
   "outputs": [
    {
     "data": {
      "text/plain": [
       "list"
      ]
     },
     "execution_count": 1154,
     "metadata": {},
     "output_type": "execute_result"
    }
   ],
   "source": [
    "type([0] *3)"
   ]
  },
  {
   "cell_type": "code",
   "execution_count": 1159,
   "metadata": {},
   "outputs": [
    {
     "ename": "SyntaxError",
     "evalue": "invalid syntax (848627073.py, line 1)",
     "output_type": "error",
     "traceback": [
      "\u001b[1;36m  Cell \u001b[1;32mIn[1159], line 1\u001b[1;36m\u001b[0m\n\u001b[1;33m    [i for i in range(3), j for j in range(3) if i==j]\u001b[0m\n\u001b[1;37m                        ^\u001b[0m\n\u001b[1;31mSyntaxError\u001b[0m\u001b[1;31m:\u001b[0m invalid syntax\n"
     ]
    }
   ],
   "source": [
    "[i for i in range(3) j for j in range(3) if i==j]"
   ]
  },
  {
   "cell_type": "code",
   "execution_count": 1160,
   "metadata": {},
   "outputs": [],
   "source": [
    "m = [[0]*3 for _ in range(3)]"
   ]
  },
  {
   "cell_type": "code",
   "execution_count": 1161,
   "metadata": {},
   "outputs": [
    {
     "name": "stdout",
     "output_type": "stream",
     "text": [
      "[[1, 0, 0], [0, 1, 0], [0, 0, 1]]\n"
     ]
    }
   ],
   "source": [
    "for i in range(3):\n",
    "    for j in range(3):\n",
    "        if i == j:\n",
    "            m[i][j]=1\n",
    "print(m)"
   ]
  },
  {
   "cell_type": "code",
   "execution_count": null,
   "metadata": {},
   "outputs": [
    {
     "ename": "TypeError",
     "evalue": "cannot unpack non-iterable int object",
     "output_type": "error",
     "traceback": [
      "\u001b[1;31m---------------------------------------------------------------------------\u001b[0m",
      "\u001b[1;31mTypeError\u001b[0m                                 Traceback (most recent call last)",
      "Cell \u001b[1;32mIn[1166], line 1\u001b[0m\n\u001b[1;32m----> 1\u001b[0m \u001b[43m[\u001b[49m\u001b[43m(\u001b[49m\u001b[43mi\u001b[49m\u001b[43m,\u001b[49m\u001b[43mj\u001b[49m\u001b[43m)\u001b[49m\u001b[43m \u001b[49m\u001b[38;5;28;43;01mfor\u001b[39;49;00m\u001b[43m \u001b[49m\u001b[43m(\u001b[49m\u001b[43mi\u001b[49m\u001b[43m,\u001b[49m\u001b[43mj\u001b[49m\u001b[43m)\u001b[49m\u001b[43m \u001b[49m\u001b[38;5;129;43;01min\u001b[39;49;00m\u001b[43m \u001b[49m\u001b[38;5;28;43mrange\u001b[39;49m\u001b[43m(\u001b[49m\u001b[38;5;241;43m3\u001b[39;49m\u001b[43m)\u001b[49m\u001b[43m \u001b[49m\u001b[38;5;28;43;01mif\u001b[39;49;00m\u001b[43m \u001b[49m\u001b[43mi\u001b[49m\u001b[38;5;241;43m==\u001b[39;49m\u001b[43mj\u001b[49m\u001b[43m]\u001b[49m\n",
      "Cell \u001b[1;32mIn[1166], line 1\u001b[0m, in \u001b[0;36m<listcomp>\u001b[1;34m(.0)\u001b[0m\n\u001b[1;32m----> 1\u001b[0m [(i,j) \u001b[38;5;28;01mfor\u001b[39;00m (i,j) \u001b[38;5;129;01min\u001b[39;00m \u001b[38;5;28mrange\u001b[39m(\u001b[38;5;241m3\u001b[39m) \u001b[38;5;28;01mif\u001b[39;00m i\u001b[38;5;241m==\u001b[39mj]\n",
      "\u001b[1;31mTypeError\u001b[0m: cannot unpack non-iterable int object"
     ]
    }
   ],
   "source": [
    "[(i,j) for (i,j) in range(3) if i==j ]"
   ]
  },
  {
   "cell_type": "code",
   "execution_count": 1171,
   "metadata": {},
   "outputs": [
    {
     "data": {
      "text/plain": [
       "[[1, 0, 0], [0, 1, 0], [0, 0, 1]]"
      ]
     },
     "execution_count": 1171,
     "metadata": {},
     "output_type": "execute_result"
    }
   ],
   "source": [
    "m = [[1 if i==j else 0 for j in range(3)] for i in range(3)]\n",
    "m"
   ]
  },
  {
   "cell_type": "code",
   "execution_count": 1172,
   "metadata": {},
   "outputs": [],
   "source": [
    "widget_sales = [\n",
    "    {'name': 'widget 1', 'sales': 10},\n",
    "    {'name': 'widget 2', 'sales': 5},\n",
    "    {'name': 'widget 3', 'sales': 0}\n",
    "]"
   ]
  },
  {
   "cell_type": "code",
   "execution_count": 1173,
   "metadata": {},
   "outputs": [
    {
     "data": {
      "text/plain": [
       "list"
      ]
     },
     "execution_count": 1173,
     "metadata": {},
     "output_type": "execute_result"
    }
   ],
   "source": [
    "type(widget_sales)"
   ]
  },
  {
   "cell_type": "code",
   "execution_count": 1174,
   "metadata": {},
   "outputs": [
    {
     "name": "stdout",
     "output_type": "stream",
     "text": [
      "{'widget 1': 10, 'widget 2': 5, 'widget 3': 0}\n"
     ]
    }
   ],
   "source": [
    "sales_wid = {}\n",
    "\n",
    "for d in widget_sales:\n",
    "    name = d['name']\n",
    "    sales = d['sales']\n",
    "    sales_wid[name] = sales\n",
    "print(sales_wid) \n",
    "\n"
   ]
  },
  {
   "cell_type": "code",
   "execution_count": 1175,
   "metadata": {},
   "outputs": [
    {
     "name": "stdout",
     "output_type": "stream",
     "text": [
      "{'widget 1': 10, 'widget 2': 5, 'widget 3': 0}\n"
     ]
    }
   ],
   "source": [
    "sales_wid = {}\n",
    "for d in widget_sales:\n",
    "    sales_wid[d['name']] = d['sales']\n",
    "\n",
    "print(sales_wid)\n"
   ]
  },
  {
   "cell_type": "code",
   "execution_count": 1180,
   "metadata": {},
   "outputs": [
    {
     "data": {
      "text/plain": [
       "{'widget 1': 10, 'widget 2': 5, 'widget 3': 0}"
      ]
     },
     "execution_count": 1180,
     "metadata": {},
     "output_type": "execute_result"
    }
   ],
   "source": [
    "{i['name']:i['sales'] for i in widget_sales}"
   ]
  },
  {
   "cell_type": "code",
   "execution_count": 1181,
   "metadata": {},
   "outputs": [
    {
     "data": {
      "text/plain": [
       "{'widget 1': 10, 'widget 2': 5}"
      ]
     },
     "execution_count": 1181,
     "metadata": {},
     "output_type": "execute_result"
    }
   ],
   "source": [
    "{i['name']:i['sales'] for i in widget_sales if i['sales'] >0}"
   ]
  },
  {
   "cell_type": "code",
   "execution_count": 1199,
   "metadata": {},
   "outputs": [],
   "source": [
    "paragraph = \"\"\"\n",
    "To be, or not to be--that is the question:\n",
    "Whether 'tis nobler in the mind to suffer\n",
    "The slings and arrows of outrageous fortune\n",
    "Or to take arms against a sea of troubles\n",
    "And by opposing end them. To die, to sleep--\n",
    "No more--and by a sleep to say we end\n",
    "The heartache, and the thousand natural shocks\n",
    "That flesh is heir to.\n",
    "\"\"\""
   ]
  },
  {
   "cell_type": "code",
   "execution_count": 1200,
   "metadata": {},
   "outputs": [
    {
     "data": {
      "text/plain": [
       "str"
      ]
     },
     "execution_count": 1200,
     "metadata": {},
     "output_type": "execute_result"
    }
   ],
   "source": [
    "type(paragraph)"
   ]
  },
  {
   "cell_type": "code",
   "execution_count": 1201,
   "metadata": {},
   "outputs": [],
   "source": [
    "punctuation = \",.!:-\\n\""
   ]
  },
  {
   "cell_type": "code",
   "execution_count": 1202,
   "metadata": {},
   "outputs": [],
   "source": [
    "for char in punctuation:\n",
    "    paragraph = paragraph.replace(char,' ')"
   ]
  },
  {
   "cell_type": "code",
   "execution_count": 1203,
   "metadata": {},
   "outputs": [
    {
     "data": {
      "text/plain": [
       "\" To be  or not to be  that is the question  Whether 'tis nobler in the mind to suffer The slings and arrows of outrageous fortune Or to take arms against a sea of troubles And by opposing end them  To die  to sleep   No more  and by a sleep to say we end The heartache  and the thousand natural shocks That flesh is heir to  \""
      ]
     },
     "execution_count": 1203,
     "metadata": {},
     "output_type": "execute_result"
    }
   ],
   "source": [
    "paragraph"
   ]
  },
  {
   "cell_type": "code",
   "execution_count": 1207,
   "metadata": {},
   "outputs": [],
   "source": [
    "all_words  = paragraph.split()"
   ]
  },
  {
   "cell_type": "code",
   "execution_count": 1208,
   "metadata": {},
   "outputs": [
    {
     "data": {
      "text/plain": [
       "['To',\n",
       " 'be',\n",
       " 'or',\n",
       " 'not',\n",
       " 'to',\n",
       " 'be',\n",
       " 'that',\n",
       " 'is',\n",
       " 'the',\n",
       " 'question',\n",
       " 'Whether',\n",
       " \"'tis\",\n",
       " 'nobler',\n",
       " 'in',\n",
       " 'the',\n",
       " 'mind',\n",
       " 'to',\n",
       " 'suffer',\n",
       " 'The',\n",
       " 'slings',\n",
       " 'and',\n",
       " 'arrows',\n",
       " 'of',\n",
       " 'outrageous',\n",
       " 'fortune',\n",
       " 'Or',\n",
       " 'to',\n",
       " 'take',\n",
       " 'arms',\n",
       " 'against',\n",
       " 'a',\n",
       " 'sea',\n",
       " 'of',\n",
       " 'troubles',\n",
       " 'And',\n",
       " 'by',\n",
       " 'opposing',\n",
       " 'end',\n",
       " 'them',\n",
       " 'To',\n",
       " 'die',\n",
       " 'to',\n",
       " 'sleep',\n",
       " 'No',\n",
       " 'more',\n",
       " 'and',\n",
       " 'by',\n",
       " 'a',\n",
       " 'sleep',\n",
       " 'to',\n",
       " 'say',\n",
       " 'we',\n",
       " 'end',\n",
       " 'The',\n",
       " 'heartache',\n",
       " 'and',\n",
       " 'the',\n",
       " 'thousand',\n",
       " 'natural',\n",
       " 'shocks',\n",
       " 'That',\n",
       " 'flesh',\n",
       " 'is',\n",
       " 'heir',\n",
       " 'to']"
      ]
     },
     "execution_count": 1208,
     "metadata": {},
     "output_type": "execute_result"
    }
   ],
   "source": [
    "all_words"
   ]
  },
  {
   "cell_type": "code",
   "execution_count": 1213,
   "metadata": {},
   "outputs": [
    {
     "data": {
      "text/plain": [
       "{'against',\n",
       " 'arrows',\n",
       " 'flesh',\n",
       " 'fortune',\n",
       " 'heartache',\n",
       " 'natural',\n",
       " 'nobler',\n",
       " 'opposing',\n",
       " 'outrageous',\n",
       " 'question',\n",
       " 'shocks',\n",
       " 'sleep',\n",
       " 'slings',\n",
       " 'suffer',\n",
       " 'thousand',\n",
       " 'troubles',\n",
       " 'whether'}"
      ]
     },
     "execution_count": 1213,
     "metadata": {},
     "output_type": "execute_result"
    }
   ],
   "source": [
    "words = {word.lower() for word in all_words if len(word)>=5}\n",
    "words"
   ]
  },
  {
   "cell_type": "code",
   "execution_count": 1214,
   "metadata": {},
   "outputs": [],
   "source": [
    "data = ['a', 'a', 'a', 'b', 'b', 'c', 'c', 'c', 'd']"
   ]
  },
  {
   "cell_type": "code",
   "execution_count": 1221,
   "metadata": {},
   "outputs": [
    {
     "name": "stdout",
     "output_type": "stream",
     "text": [
      "{'a': 3, 'b': 2, 'c': 3, 'd': 1}\n"
     ]
    }
   ],
   "source": [
    "freq = {}\n",
    "for ele in data:\n",
    "    count = len([char for char in data if char == ele])\n",
    "    freq[ele] = count\n",
    " \n",
    "print(freq)"
   ]
  },
  {
   "cell_type": "code",
   "execution_count": 1224,
   "metadata": {},
   "outputs": [
    {
     "data": {
      "text/plain": [
       "{'a': 3, 'c': 3, 'b': 2, 'd': 1}"
      ]
     },
     "execution_count": 1224,
     "metadata": {},
     "output_type": "execute_result"
    }
   ],
   "source": [
    "freq = {\n",
    "    ele:len([char for char in data if char == ele])\n",
    "    for ele in set(data)\n",
    "}\n",
    "freq"
   ]
  },
  {
   "cell_type": "code",
   "execution_count": 1231,
   "metadata": {},
   "outputs": [
    {
     "data": {
      "text/plain": [
       "collections.Counter"
      ]
     },
     "execution_count": 1231,
     "metadata": {},
     "output_type": "execute_result"
    }
   ],
   "source": [
    "from collections import Counter\n",
    "\n",
    "freq = Counter(data)\n",
    "type(freq)"
   ]
  },
  {
   "cell_type": "code",
   "execution_count": 1232,
   "metadata": {},
   "outputs": [
    {
     "data": {
      "text/plain": [
       "{'a': 3, 'b': 2, 'c': 3, 'd': 1}"
      ]
     },
     "execution_count": 1232,
     "metadata": {},
     "output_type": "execute_result"
    }
   ],
   "source": [
    "dict(freq)"
   ]
  },
  {
   "cell_type": "code",
   "execution_count": 1233,
   "metadata": {},
   "outputs": [],
   "source": [
    "paragraph = \"\"\"\n",
    "Lorem ipsum dolor sit amet, consectetur adipiscing elit, sed do eiusmod tempor \n",
    "incididunt ut labore et dolore magna aliqua. Ut enim ad minim veniam, quis nostrud \n",
    "exercitation ullamco laboris nisi ut aliquip ex ea commodo consequat. Duis aute irure \n",
    "dolor in reprehenderit in voluptate velit esse cillum dolore eu fugiat nulla pariatur. \n",
    "Excepteur sint occaecat cupidatat non proident, sunt in culpa qui officia deserunt\n",
    "mollit anim id est laborum.\"\"\""
   ]
  },
  {
   "cell_type": "code",
   "execution_count": 1234,
   "metadata": {},
   "outputs": [],
   "source": [
    "ignored = \" ,.\\n\""
   ]
  },
  {
   "cell_type": "code",
   "execution_count": 1244,
   "metadata": {},
   "outputs": [],
   "source": [
    "paragraph = Counter(paragraph)"
   ]
  },
  {
   "cell_type": "code",
   "execution_count": 1246,
   "metadata": {},
   "outputs": [
    {
     "data": {
      "text/plain": [
       "{'L': 1,\n",
       " 'o': 29,\n",
       " 'r': 22,\n",
       " 'e': 37,\n",
       " 'm': 17,\n",
       " 'i': 42,\n",
       " 'p': 11,\n",
       " 's': 18,\n",
       " 'u': 28,\n",
       " 'd': 18,\n",
       " 'l': 21,\n",
       " 't': 32,\n",
       " 'a': 29,\n",
       " 'c': 16,\n",
       " 'n': 24,\n",
       " 'g': 3,\n",
       " 'b': 3,\n",
       " 'q': 5,\n",
       " 'U': 1,\n",
       " 'v': 3,\n",
       " 'x': 3,\n",
       " 'D': 1,\n",
       " 'h': 1,\n",
       " 'f': 3,\n",
       " 'E': 1}"
      ]
     },
     "execution_count": 1246,
     "metadata": {},
     "output_type": "execute_result"
    }
   ],
   "source": [
    "freq = {k:v \n",
    "    for k, v in dict(Counter(paragraph)).items()\n",
    "    if k not in ignored\n",
    "}\n",
    "freq"
   ]
  },
  {
   "cell_type": "code",
   "execution_count": 1251,
   "metadata": {},
   "outputs": [],
   "source": [
    "data = [\n",
    "    {'symbol': 'ABCD', 'name': 'ABCD Company', 'ranking': 2, 'risk': 0.2},\n",
    "    {'symbol': 'BCDE', 'name': 'BCDE Company', 'ranking': 5, 'risk': 0.2},\n",
    "    {'symbol': 'CDEF', 'name': 'CDEF Company', 'ranking': 8, 'risk': 0.5},\n",
    "    {'symbol': 'DEFG', 'name': 'DEFG Company', 'ranking': 7, 'risk': 0.8},\n",
    "    {'symbol': 'EFGH', 'name': 'EFGH Company', 'ranking': 9, 'risk': 0.6},\n",
    "    {'symbol': 'FGHI', 'name': 'FGHI Company', 'ranking': 10, 'risk': 0.1},\n",
    "    {'symbol': 'GHIJ', 'name': 'GHIJ Company', 'ranking': 3, 'risk': 0.6},\n",
    "    {'symbol': 'HIJK', 'name': 'HIJK Company', 'ranking': 5, 'risk': 0.5},\n",
    "    {'symbol': 'IJKL', 'name': 'IJKL Company', 'ranking': 5, 'risk': 0.7},\n",
    "    {'symbol': 'JKLM', 'name': 'JKLM Company', 'ranking': 6, 'risk': 0.9},\n",
    "    {'symbol': 'KLMN', 'name': 'KLMN Company', 'ranking': 6, 'risk': 0.4},\n",
    "    {'symbol': 'LMNO', 'name': 'LMNO Company', 'ranking': 8, 'risk': 0.4},\n",
    "    {'symbol': 'MNOP', 'name': 'MNOP Company', 'ranking': 8, 'risk': 0.2},\n",
    "    {'symbol': 'NOPQ', 'name': 'NOPQ Company', 'ranking': 1, 'risk': 0.5},\n",
    "    {'symbol': 'OPQR', 'name': 'OPQR Company', 'ranking': 9, 'risk': 0.2},\n",
    "    {'symbol': 'PQRS', 'name': 'PQRS Company', 'ranking': 10, 'risk': 0.9},\n",
    "    {'symbol': 'QRST', 'name': 'QRST Company', 'ranking': 3, 'risk': 0.4},\n",
    "    {'symbol': 'RSTU', 'name': 'RSTU Company', 'ranking': 7, 'risk': 0.3},\n",
    "    {'symbol': 'STUV', 'name': 'STUV Company', 'ranking': 8, 'risk': 0.1},\n",
    "    {'symbol': 'TUVW', 'name': 'TUVW Company', 'ranking': 7, 'risk': 0.9}\n",
    "]"
   ]
  },
  {
   "cell_type": "code",
   "execution_count": 1252,
   "metadata": {},
   "outputs": [
    {
     "data": {
      "text/plain": [
       "list"
      ]
     },
     "execution_count": 1252,
     "metadata": {},
     "output_type": "execute_result"
    }
   ],
   "source": [
    "type(data)"
   ]
  },
  {
   "cell_type": "code",
   "execution_count": 1262,
   "metadata": {},
   "outputs": [
    {
     "data": {
      "text/plain": [
       "{5: 0.5, 8: 0.1, 10: 0.1, 6: 0.4, 9: 0.2, 7: 0.3}"
      ]
     },
     "execution_count": 1262,
     "metadata": {},
     "output_type": "execute_result"
    }
   ],
   "source": [
    "{d['ranking']:d['risk'] for d in data if d['ranking'] >=5 and d['risk'] < 0.6}"
   ]
  },
  {
   "cell_type": "code",
   "execution_count": 1263,
   "metadata": {},
   "outputs": [
    {
     "data": {
      "text/plain": [
       "[{'symbol': 'BCDE', 'name': 'BCDE Company', 'ranking': 5, 'risk': 0.2},\n",
       " {'symbol': 'CDEF', 'name': 'CDEF Company', 'ranking': 8, 'risk': 0.5},\n",
       " {'symbol': 'FGHI', 'name': 'FGHI Company', 'ranking': 10, 'risk': 0.1},\n",
       " {'symbol': 'HIJK', 'name': 'HIJK Company', 'ranking': 5, 'risk': 0.5},\n",
       " {'symbol': 'KLMN', 'name': 'KLMN Company', 'ranking': 6, 'risk': 0.4},\n",
       " {'symbol': 'LMNO', 'name': 'LMNO Company', 'ranking': 8, 'risk': 0.4},\n",
       " {'symbol': 'MNOP', 'name': 'MNOP Company', 'ranking': 8, 'risk': 0.2},\n",
       " {'symbol': 'OPQR', 'name': 'OPQR Company', 'ranking': 9, 'risk': 0.2},\n",
       " {'symbol': 'RSTU', 'name': 'RSTU Company', 'ranking': 7, 'risk': 0.3},\n",
       " {'symbol': 'STUV', 'name': 'STUV Company', 'ranking': 8, 'risk': 0.1}]"
      ]
     },
     "execution_count": 1263,
     "metadata": {},
     "output_type": "execute_result"
    }
   ],
   "source": [
    "[d for d in data if d['ranking']>=5 and d['risk'] < 0.6]"
   ]
  },
  {
   "cell_type": "code",
   "execution_count": 1265,
   "metadata": {},
   "outputs": [],
   "source": [
    "result = [\n",
    "    {\n",
    "        'symbol':d['symbol'],\n",
    "        'weighted':round(d['ranking']/d['risk'],2)\n",
    "    }\n",
    "    for d in data \n",
    "    if d['ranking']>=5 and d['risk'] < 0.6\n",
    "]"
   ]
  },
  {
   "cell_type": "code",
   "execution_count": 1266,
   "metadata": {},
   "outputs": [
    {
     "data": {
      "text/plain": [
       "[{'symbol': 'BCDE', 'weighted': 25.0},\n",
       " {'symbol': 'CDEF', 'weighted': 16.0},\n",
       " {'symbol': 'FGHI', 'weighted': 100.0},\n",
       " {'symbol': 'HIJK', 'weighted': 10.0},\n",
       " {'symbol': 'KLMN', 'weighted': 15.0},\n",
       " {'symbol': 'LMNO', 'weighted': 20.0},\n",
       " {'symbol': 'MNOP', 'weighted': 40.0},\n",
       " {'symbol': 'OPQR', 'weighted': 45.0},\n",
       " {'symbol': 'RSTU', 'weighted': 23.33},\n",
       " {'symbol': 'STUV', 'weighted': 80.0}]"
      ]
     },
     "execution_count": 1266,
     "metadata": {},
     "output_type": "execute_result"
    }
   ],
   "source": [
    "result"
   ]
  },
  {
   "cell_type": "code",
   "execution_count": 1267,
   "metadata": {},
   "outputs": [],
   "source": [
    "data = [\n",
    "    {'open': 100, 'high': 120, 'low': 90, 'close': 110},\n",
    "    {'open': 110, 'high': 130, 'low': 80, 'close': 120},\n",
    "    {'open': 120, 'high': 140, 'low': 70, 'close': 130},\n",
    "    {'open': 130, 'high': 150, 'low': 60, 'close': 140},\n",
    "]"
   ]
  },
  {
   "cell_type": "code",
   "execution_count": 1270,
   "metadata": {},
   "outputs": [
    {
     "data": {
      "text/plain": [
       "[30, 50, 70, 90]"
      ]
     },
     "execution_count": 1270,
     "metadata": {},
     "output_type": "execute_result"
    }
   ],
   "source": [
    "ranges = []\n",
    "for d in data:\n",
    "    ranges.append(d['high'] - d['low'])\n",
    "ranges  "
   ]
  },
  {
   "cell_type": "code",
   "execution_count": 1271,
   "metadata": {},
   "outputs": [
    {
     "data": {
      "text/plain": [
       "[30, 50, 70, 90]"
      ]
     },
     "execution_count": 1271,
     "metadata": {},
     "output_type": "execute_result"
    }
   ],
   "source": [
    "[\n",
    "    d['high'] - d['low']\n",
    "    for d in data \n",
    "]"
   ]
  },
  {
   "cell_type": "code",
   "execution_count": 1282,
   "metadata": {},
   "outputs": [
    {
     "ename": "TypeError",
     "evalue": "'range' object is not callable",
     "output_type": "error",
     "traceback": [
      "\u001b[1;31m---------------------------------------------------------------------------\u001b[0m",
      "\u001b[1;31mTypeError\u001b[0m                                 Traceback (most recent call last)",
      "Cell \u001b[1;32mIn[1282], line 1\u001b[0m\n\u001b[1;32m----> 1\u001b[0m result \u001b[38;5;241m=\u001b[39m [number \u001b[38;5;28;01mfor\u001b[39;00m number \u001b[38;5;129;01min\u001b[39;00m \u001b[38;5;28;43mrange\u001b[39;49m\u001b[43m(\u001b[49m\u001b[38;5;241;43m1\u001b[39;49m\u001b[43m,\u001b[49m\u001b[43m \u001b[49m\u001b[38;5;241;43m101\u001b[39;49m\u001b[43m)\u001b[49m \u001b[38;5;28;01mfor\u001b[39;00m n \u001b[38;5;129;01min\u001b[39;00m \u001b[38;5;28mrange\u001b[39m(\u001b[38;5;241m2\u001b[39m, \u001b[38;5;241m10\u001b[39m) \u001b[38;5;28;01mif\u001b[39;00m number \u001b[38;5;241m%\u001b[39m n \u001b[38;5;241m==\u001b[39m \u001b[38;5;241m0\u001b[39m]\n\u001b[0;32m      2\u001b[0m \u001b[38;5;28mprint\u001b[39m(result)\n",
      "\u001b[1;31mTypeError\u001b[0m: 'range' object is not callable"
     ]
    }
   ],
   "source": [
    "result = [number for number in range(1, 101) for n in range(2, 10) if number % n == 0]\n",
    "print(result)"
   ]
  }
 ],
 "metadata": {
  "kernelspec": {
   "display_name": "Python 3",
   "language": "python",
   "name": "python3"
  },
  "language_info": {
   "codemirror_mode": {
    "name": "ipython",
    "version": 3
   },
   "file_extension": ".py",
   "mimetype": "text/x-python",
   "name": "python",
   "nbconvert_exporter": "python",
   "pygments_lexer": "ipython3",
   "version": "3.11.9"
  }
 },
 "nbformat": 4,
 "nbformat_minor": 2
}
